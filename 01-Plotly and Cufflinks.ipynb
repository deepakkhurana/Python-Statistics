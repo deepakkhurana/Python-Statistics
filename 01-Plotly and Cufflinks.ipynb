{
 "cells": [
  {
   "cell_type": "markdown",
   "metadata": {},
   "source": [
    "___\n",
    "\n",
    "<a href='http://www.pieriandata.com'> <img src='../Pierian_Data_Logo.png' /></a>\n",
    "___\n",
    "# Plotly and Cufflinks"
   ]
  },
  {
   "cell_type": "markdown",
   "metadata": {},
   "source": [
    "Plotly is a library that allows you to create interactive plots that you can use in dashboards or websites (you can save them as html files or static images).\n",
    "\n",
    "## Installation\n",
    "\n",
    "In order for this all to work, you'll need to install plotly and cufflinks to call plots directly off of a pandas dataframe. These libraries are not currently available through **conda** but are available through **pip**. Install the libraries at your command line/terminal using:\n",
    "\n",
    "    pip install plotly\n",
    "    pip install cufflinks\n",
    "\n",
    "** NOTE: Make sure you only have one installation of Python on your computer when you do this, otherwise the installation may not work. **\n",
    "\n",
    "## Imports and Set-up"
   ]
  },
  {
   "cell_type": "code",
   "execution_count": 1,
   "metadata": {},
   "outputs": [],
   "source": [
    "import pandas as pd\n",
    "import numpy as np\n",
    "%matplotlib inline"
   ]
  },
  {
   "cell_type": "code",
   "execution_count": 2,
   "metadata": {},
   "outputs": [
    {
     "name": "stdout",
     "output_type": "stream",
     "text": [
      "4.8.2\n"
     ]
    }
   ],
   "source": [
    "import chart_studio.plotly as py\n",
    "from plotly import __version__\n",
    "from plotly.offline import download_plotlyjs, init_notebook_mode, plot, iplot\n",
    "\n",
    "print(__version__) # requires version >= 1.9.0"
   ]
  },
  {
   "cell_type": "code",
   "execution_count": 3,
   "metadata": {},
   "outputs": [],
   "source": [
    "import cufflinks as cf"
   ]
  },
  {
   "cell_type": "code",
   "execution_count": 4,
   "metadata": {},
   "outputs": [
    {
     "data": {
      "text/html": [
       "        <script type=\"text/javascript\">\n",
       "        window.PlotlyConfig = {MathJaxConfig: 'local'};\n",
       "        if (window.MathJax) {MathJax.Hub.Config({SVG: {font: \"STIX-Web\"}});}\n",
       "        if (typeof require !== 'undefined') {\n",
       "        require.undef(\"plotly\");\n",
       "        requirejs.config({\n",
       "            paths: {\n",
       "                'plotly': ['https://cdn.plot.ly/plotly-latest.min']\n",
       "            }\n",
       "        });\n",
       "        require(['plotly'], function(Plotly) {\n",
       "            window._Plotly = Plotly;\n",
       "        });\n",
       "        }\n",
       "        </script>\n",
       "        "
      ]
     },
     "metadata": {},
     "output_type": "display_data"
    }
   ],
   "source": [
    "# For Notebooks\n",
    "init_notebook_mode(connected=True)"
   ]
  },
  {
   "cell_type": "code",
   "execution_count": 5,
   "metadata": {},
   "outputs": [
    {
     "data": {
      "text/html": [
       "        <script type=\"text/javascript\">\n",
       "        window.PlotlyConfig = {MathJaxConfig: 'local'};\n",
       "        if (window.MathJax) {MathJax.Hub.Config({SVG: {font: \"STIX-Web\"}});}\n",
       "        if (typeof require !== 'undefined') {\n",
       "        require.undef(\"plotly\");\n",
       "        requirejs.config({\n",
       "            paths: {\n",
       "                'plotly': ['https://cdn.plot.ly/plotly-latest.min']\n",
       "            }\n",
       "        });\n",
       "        require(['plotly'], function(Plotly) {\n",
       "            window._Plotly = Plotly;\n",
       "        });\n",
       "        }\n",
       "        </script>\n",
       "        "
      ]
     },
     "metadata": {},
     "output_type": "display_data"
    }
   ],
   "source": [
    "# For offline use\n",
    "cf.go_offline()"
   ]
  },
  {
   "cell_type": "markdown",
   "metadata": {},
   "source": [
    "### Fake Data"
   ]
  },
  {
   "cell_type": "code",
   "execution_count": 6,
   "metadata": {},
   "outputs": [],
   "source": [
    "df = pd.DataFrame(np.random.randn(100,4),columns='A B C D'.split())"
   ]
  },
  {
   "cell_type": "code",
   "execution_count": 7,
   "metadata": {},
   "outputs": [
    {
     "data": {
      "text/html": [
       "<div>\n",
       "<style scoped>\n",
       "    .dataframe tbody tr th:only-of-type {\n",
       "        vertical-align: middle;\n",
       "    }\n",
       "\n",
       "    .dataframe tbody tr th {\n",
       "        vertical-align: top;\n",
       "    }\n",
       "\n",
       "    .dataframe thead th {\n",
       "        text-align: right;\n",
       "    }\n",
       "</style>\n",
       "<table border=\"1\" class=\"dataframe\">\n",
       "  <thead>\n",
       "    <tr style=\"text-align: right;\">\n",
       "      <th></th>\n",
       "      <th>A</th>\n",
       "      <th>B</th>\n",
       "      <th>C</th>\n",
       "      <th>D</th>\n",
       "    </tr>\n",
       "  </thead>\n",
       "  <tbody>\n",
       "    <tr>\n",
       "      <td>0</td>\n",
       "      <td>1.405717</td>\n",
       "      <td>1.380502</td>\n",
       "      <td>-1.131589</td>\n",
       "      <td>-0.075565</td>\n",
       "    </tr>\n",
       "    <tr>\n",
       "      <td>1</td>\n",
       "      <td>0.096351</td>\n",
       "      <td>0.687656</td>\n",
       "      <td>-1.043250</td>\n",
       "      <td>-0.818320</td>\n",
       "    </tr>\n",
       "    <tr>\n",
       "      <td>2</td>\n",
       "      <td>-0.807578</td>\n",
       "      <td>1.744426</td>\n",
       "      <td>-1.994853</td>\n",
       "      <td>1.033447</td>\n",
       "    </tr>\n",
       "    <tr>\n",
       "      <td>3</td>\n",
       "      <td>1.856719</td>\n",
       "      <td>1.348277</td>\n",
       "      <td>1.795001</td>\n",
       "      <td>-0.622703</td>\n",
       "    </tr>\n",
       "    <tr>\n",
       "      <td>4</td>\n",
       "      <td>1.356461</td>\n",
       "      <td>-0.634248</td>\n",
       "      <td>-0.643927</td>\n",
       "      <td>1.026945</td>\n",
       "    </tr>\n",
       "  </tbody>\n",
       "</table>\n",
       "</div>"
      ],
      "text/plain": [
       "          A         B         C         D\n",
       "0  1.405717  1.380502 -1.131589 -0.075565\n",
       "1  0.096351  0.687656 -1.043250 -0.818320\n",
       "2 -0.807578  1.744426 -1.994853  1.033447\n",
       "3  1.856719  1.348277  1.795001 -0.622703\n",
       "4  1.356461 -0.634248 -0.643927  1.026945"
      ]
     },
     "execution_count": 7,
     "metadata": {},
     "output_type": "execute_result"
    }
   ],
   "source": [
    "df.head()"
   ]
  },
  {
   "cell_type": "code",
   "execution_count": 8,
   "metadata": {},
   "outputs": [],
   "source": [
    "df2 = pd.DataFrame({'Category':['A','B','C'],'Values':[32,43,50]})"
   ]
  },
  {
   "cell_type": "code",
   "execution_count": 9,
   "metadata": {},
   "outputs": [
    {
     "data": {
      "text/html": [
       "<div>\n",
       "<style scoped>\n",
       "    .dataframe tbody tr th:only-of-type {\n",
       "        vertical-align: middle;\n",
       "    }\n",
       "\n",
       "    .dataframe tbody tr th {\n",
       "        vertical-align: top;\n",
       "    }\n",
       "\n",
       "    .dataframe thead th {\n",
       "        text-align: right;\n",
       "    }\n",
       "</style>\n",
       "<table border=\"1\" class=\"dataframe\">\n",
       "  <thead>\n",
       "    <tr style=\"text-align: right;\">\n",
       "      <th></th>\n",
       "      <th>Category</th>\n",
       "      <th>Values</th>\n",
       "    </tr>\n",
       "  </thead>\n",
       "  <tbody>\n",
       "    <tr>\n",
       "      <td>0</td>\n",
       "      <td>A</td>\n",
       "      <td>32</td>\n",
       "    </tr>\n",
       "    <tr>\n",
       "      <td>1</td>\n",
       "      <td>B</td>\n",
       "      <td>43</td>\n",
       "    </tr>\n",
       "    <tr>\n",
       "      <td>2</td>\n",
       "      <td>C</td>\n",
       "      <td>50</td>\n",
       "    </tr>\n",
       "  </tbody>\n",
       "</table>\n",
       "</div>"
      ],
      "text/plain": [
       "  Category  Values\n",
       "0        A      32\n",
       "1        B      43\n",
       "2        C      50"
      ]
     },
     "execution_count": 9,
     "metadata": {},
     "output_type": "execute_result"
    }
   ],
   "source": [
    "df2.head()"
   ]
  },
  {
   "cell_type": "markdown",
   "metadata": {},
   "source": [
    "## Using Cufflinks and iplot()\n",
    "\n",
    "* scatter\n",
    "* bar\n",
    "* box\n",
    "* spread\n",
    "* ratio\n",
    "* heatmap\n",
    "* surface\n",
    "* histogram\n",
    "* bubble"
   ]
  },
  {
   "cell_type": "markdown",
   "metadata": {},
   "source": [
    "## Scatter"
   ]
  },
  {
   "cell_type": "code",
   "execution_count": 10,
   "metadata": {},
   "outputs": [
    {
     "data": {
      "application/vnd.plotly.v1+json": {
       "config": {
        "linkText": "Export to plot.ly",
        "plotlyServerURL": "https://plot.ly",
        "showLink": true
       },
       "data": [
        {
         "line": {
          "color": "rgba(255, 153, 51, 1.0)",
          "dash": "solid",
          "shape": "linear",
          "width": 1.3
         },
         "marker": {
          "size": 10,
          "symbol": "circle"
         },
         "mode": "markers",
         "name": "B",
         "text": "",
         "type": "scatter",
         "x": [
          1.4057168758225187,
          0.09635109794516898,
          -0.8075775662482514,
          1.85671902279818,
          1.3564610889782882,
          -1.0665015699326987,
          -0.3215134793832769,
          2.2006939363165583,
          -0.0642731305817795,
          -0.06722249427021736,
          -0.7606245671921829,
          -0.011501944221071154,
          0.41632838029502583,
          0.08283379610948835,
          0.6973631246869717,
          1.3319206881954702,
          1.0618863974579766,
          -1.032164232081873,
          0.08631207258907114,
          -0.8749170327076585,
          0.9561424070698766,
          2.0812454986913953,
          0.013611597742900088,
          2.010755001659486,
          -0.3840367437614046,
          -0.48611375514496025,
          -1.0010787717614296,
          -0.7111060970108366,
          -0.88155225575621,
          -0.7912570519536614,
          -0.8482443659483541,
          0.009417046372797853,
          -0.6613874723923325,
          -0.43179805587229253,
          -1.1868260308228515,
          -1.3010165341303017,
          1.0793955367330281,
          -1.21888688132927,
          1.7860641751165047,
          0.799656633173967,
          -0.5334780327036241,
          -1.209424809475077,
          -1.1424053312617162,
          1.2579717508561836,
          -2.0605485025033214,
          0.13710078395039346,
          -0.5916349564207652,
          0.3029899541504856,
          -0.22663502770322,
          -0.5804854045400992,
          -1.9025506699911556,
          0.11876147332063057,
          0.9257965150343771,
          -0.18073318129062516,
          1.5055537662684682,
          -0.8089910678807307,
          -0.11721228265202219,
          -0.5997238871075966,
          -1.142021786149684,
          0.09936348427841284,
          1.4931562081498957,
          -1.5547024729001584,
          0.5910489953515512,
          -0.059929917251002024,
          1.0696616107968673,
          0.8021825757324219,
          1.439330784471317,
          -0.6110907124127478,
          1.0024882398083432,
          -1.7022888335987154,
          0.05188306699545878,
          1.7097829525296082,
          -1.5080847746237727,
          0.6911601517780541,
          -1.0036454775392192,
          0.8135518250358234,
          -0.9300649797636137,
          -0.21514900583841184,
          0.7078344365890838,
          0.04089091390206245,
          0.10570034421779602,
          2.615277534759449,
          -0.3407781816207968,
          -0.7062667539668542,
          0.7414974982831658,
          -0.9158253246310815,
          -0.4412896880881209,
          1.5879126191662924,
          0.0021807237198163483,
          0.4941846844869749,
          0.7951021730994977,
          -0.9137616880373952,
          -1.9780362146807235,
          -0.7076722808592804,
          -1.8884123353793303,
          0.7626559205689569,
          -1.6959998148682438,
          0.07953368201121154,
          0.7781058966122304,
          1.27600917408759
         ],
         "y": [
          1.3805021359727088,
          0.6876562345194515,
          1.744426205438441,
          1.3482770883045914,
          -0.634248067300063,
          -0.034294271166742524,
          0.08697205812033731,
          0.18165054261005958,
          -0.4947130519966682,
          1.1926577197445511,
          -0.20717482602811665,
          -2.5133130507450065,
          0.5849565071647904,
          -1.1419275913432483,
          -1.0989250107348194,
          -0.7187949424743807,
          -0.4925908219897006,
          -0.8053500686902227,
          1.3214954358061495,
          0.650458182102288,
          0.7831813622092171,
          0.07498582897569142,
          0.6523450877465203,
          -0.5783833322107474,
          0.31063691916746256,
          0.5339759772715772,
          -0.9341694521216017,
          0.1636579101222258,
          0.7914756036817695,
          0.14946115975322116,
          1.655598160883892,
          0.7246961444793382,
          -1.2954830292755444,
          0.9695475826517964,
          -0.2964187051363097,
          2.7033995079178443,
          -0.38178103307087197,
          1.1295086160797756,
          1.527880017753105,
          0.905536015852373,
          0.29805175373631065,
          -0.5754351908083993,
          0.29082064681038583,
          0.7586137695438394,
          1.1349899407660182,
          0.6717992725911085,
          -0.31428779368983534,
          -0.18220919871777175,
          2.1597698090177797,
          -1.419379997025609,
          -0.8461014276372388,
          0.41864875994912204,
          0.8148702380518698,
          0.019606695965507532,
          -1.1837488988129978,
          1.1806831481053504,
          -0.6107919824591864,
          -0.23111979494516535,
          -0.9367596799948575,
          -1.6339807125647547,
          -1.8372441832889166,
          2.5168011421762055,
          -1.5382411271982206,
          0.6254374573450555,
          -0.29144223018409665,
          0.25280094962187494,
          0.9341401560731483,
          0.4593226701114746,
          0.37090012110200604,
          2.5485602361509896,
          -0.2384223669142262,
          -1.4965726279770937,
          -0.9143776712501855,
          0.6240127588983286,
          0.9349261687864068,
          1.1302133290065983,
          -1.9122547142011879,
          2.1612111542650148,
          -1.170401489694811,
          1.4844344274345278,
          0.425068571796391,
          1.0836427308909355,
          -1.2092550831621383,
          -0.05373370286349067,
          -2.329782253481326,
          0.9931882640309181,
          -0.7440493223711631,
          -0.8690298054021338,
          -1.3870236796099518,
          -0.235118566464218,
          -0.804128615713205,
          -2.091537810580936,
          0.566865783198684,
          -1.511924883938343,
          -0.9600094189448816,
          -0.382769475864104,
          -0.43678813895890783,
          1.4503730185316464,
          -1.1598452079499255,
          0.0007072242767753852
         ]
        }
       ],
       "layout": {
        "legend": {
         "bgcolor": "#F5F6F9",
         "font": {
          "color": "#4D5663"
         }
        },
        "paper_bgcolor": "#F5F6F9",
        "plot_bgcolor": "#F5F6F9",
        "template": {
         "data": {
          "bar": [
           {
            "error_x": {
             "color": "#2a3f5f"
            },
            "error_y": {
             "color": "#2a3f5f"
            },
            "marker": {
             "line": {
              "color": "#E5ECF6",
              "width": 0.5
             }
            },
            "type": "bar"
           }
          ],
          "barpolar": [
           {
            "marker": {
             "line": {
              "color": "#E5ECF6",
              "width": 0.5
             }
            },
            "type": "barpolar"
           }
          ],
          "carpet": [
           {
            "aaxis": {
             "endlinecolor": "#2a3f5f",
             "gridcolor": "white",
             "linecolor": "white",
             "minorgridcolor": "white",
             "startlinecolor": "#2a3f5f"
            },
            "baxis": {
             "endlinecolor": "#2a3f5f",
             "gridcolor": "white",
             "linecolor": "white",
             "minorgridcolor": "white",
             "startlinecolor": "#2a3f5f"
            },
            "type": "carpet"
           }
          ],
          "choropleth": [
           {
            "colorbar": {
             "outlinewidth": 0,
             "ticks": ""
            },
            "type": "choropleth"
           }
          ],
          "contour": [
           {
            "colorbar": {
             "outlinewidth": 0,
             "ticks": ""
            },
            "colorscale": [
             [
              0,
              "#0d0887"
             ],
             [
              0.1111111111111111,
              "#46039f"
             ],
             [
              0.2222222222222222,
              "#7201a8"
             ],
             [
              0.3333333333333333,
              "#9c179e"
             ],
             [
              0.4444444444444444,
              "#bd3786"
             ],
             [
              0.5555555555555556,
              "#d8576b"
             ],
             [
              0.6666666666666666,
              "#ed7953"
             ],
             [
              0.7777777777777778,
              "#fb9f3a"
             ],
             [
              0.8888888888888888,
              "#fdca26"
             ],
             [
              1,
              "#f0f921"
             ]
            ],
            "type": "contour"
           }
          ],
          "contourcarpet": [
           {
            "colorbar": {
             "outlinewidth": 0,
             "ticks": ""
            },
            "type": "contourcarpet"
           }
          ],
          "heatmap": [
           {
            "colorbar": {
             "outlinewidth": 0,
             "ticks": ""
            },
            "colorscale": [
             [
              0,
              "#0d0887"
             ],
             [
              0.1111111111111111,
              "#46039f"
             ],
             [
              0.2222222222222222,
              "#7201a8"
             ],
             [
              0.3333333333333333,
              "#9c179e"
             ],
             [
              0.4444444444444444,
              "#bd3786"
             ],
             [
              0.5555555555555556,
              "#d8576b"
             ],
             [
              0.6666666666666666,
              "#ed7953"
             ],
             [
              0.7777777777777778,
              "#fb9f3a"
             ],
             [
              0.8888888888888888,
              "#fdca26"
             ],
             [
              1,
              "#f0f921"
             ]
            ],
            "type": "heatmap"
           }
          ],
          "heatmapgl": [
           {
            "colorbar": {
             "outlinewidth": 0,
             "ticks": ""
            },
            "colorscale": [
             [
              0,
              "#0d0887"
             ],
             [
              0.1111111111111111,
              "#46039f"
             ],
             [
              0.2222222222222222,
              "#7201a8"
             ],
             [
              0.3333333333333333,
              "#9c179e"
             ],
             [
              0.4444444444444444,
              "#bd3786"
             ],
             [
              0.5555555555555556,
              "#d8576b"
             ],
             [
              0.6666666666666666,
              "#ed7953"
             ],
             [
              0.7777777777777778,
              "#fb9f3a"
             ],
             [
              0.8888888888888888,
              "#fdca26"
             ],
             [
              1,
              "#f0f921"
             ]
            ],
            "type": "heatmapgl"
           }
          ],
          "histogram": [
           {
            "marker": {
             "colorbar": {
              "outlinewidth": 0,
              "ticks": ""
             }
            },
            "type": "histogram"
           }
          ],
          "histogram2d": [
           {
            "colorbar": {
             "outlinewidth": 0,
             "ticks": ""
            },
            "colorscale": [
             [
              0,
              "#0d0887"
             ],
             [
              0.1111111111111111,
              "#46039f"
             ],
             [
              0.2222222222222222,
              "#7201a8"
             ],
             [
              0.3333333333333333,
              "#9c179e"
             ],
             [
              0.4444444444444444,
              "#bd3786"
             ],
             [
              0.5555555555555556,
              "#d8576b"
             ],
             [
              0.6666666666666666,
              "#ed7953"
             ],
             [
              0.7777777777777778,
              "#fb9f3a"
             ],
             [
              0.8888888888888888,
              "#fdca26"
             ],
             [
              1,
              "#f0f921"
             ]
            ],
            "type": "histogram2d"
           }
          ],
          "histogram2dcontour": [
           {
            "colorbar": {
             "outlinewidth": 0,
             "ticks": ""
            },
            "colorscale": [
             [
              0,
              "#0d0887"
             ],
             [
              0.1111111111111111,
              "#46039f"
             ],
             [
              0.2222222222222222,
              "#7201a8"
             ],
             [
              0.3333333333333333,
              "#9c179e"
             ],
             [
              0.4444444444444444,
              "#bd3786"
             ],
             [
              0.5555555555555556,
              "#d8576b"
             ],
             [
              0.6666666666666666,
              "#ed7953"
             ],
             [
              0.7777777777777778,
              "#fb9f3a"
             ],
             [
              0.8888888888888888,
              "#fdca26"
             ],
             [
              1,
              "#f0f921"
             ]
            ],
            "type": "histogram2dcontour"
           }
          ],
          "mesh3d": [
           {
            "colorbar": {
             "outlinewidth": 0,
             "ticks": ""
            },
            "type": "mesh3d"
           }
          ],
          "parcoords": [
           {
            "line": {
             "colorbar": {
              "outlinewidth": 0,
              "ticks": ""
             }
            },
            "type": "parcoords"
           }
          ],
          "pie": [
           {
            "automargin": true,
            "type": "pie"
           }
          ],
          "scatter": [
           {
            "marker": {
             "colorbar": {
              "outlinewidth": 0,
              "ticks": ""
             }
            },
            "type": "scatter"
           }
          ],
          "scatter3d": [
           {
            "line": {
             "colorbar": {
              "outlinewidth": 0,
              "ticks": ""
             }
            },
            "marker": {
             "colorbar": {
              "outlinewidth": 0,
              "ticks": ""
             }
            },
            "type": "scatter3d"
           }
          ],
          "scattercarpet": [
           {
            "marker": {
             "colorbar": {
              "outlinewidth": 0,
              "ticks": ""
             }
            },
            "type": "scattercarpet"
           }
          ],
          "scattergeo": [
           {
            "marker": {
             "colorbar": {
              "outlinewidth": 0,
              "ticks": ""
             }
            },
            "type": "scattergeo"
           }
          ],
          "scattergl": [
           {
            "marker": {
             "colorbar": {
              "outlinewidth": 0,
              "ticks": ""
             }
            },
            "type": "scattergl"
           }
          ],
          "scattermapbox": [
           {
            "marker": {
             "colorbar": {
              "outlinewidth": 0,
              "ticks": ""
             }
            },
            "type": "scattermapbox"
           }
          ],
          "scatterpolar": [
           {
            "marker": {
             "colorbar": {
              "outlinewidth": 0,
              "ticks": ""
             }
            },
            "type": "scatterpolar"
           }
          ],
          "scatterpolargl": [
           {
            "marker": {
             "colorbar": {
              "outlinewidth": 0,
              "ticks": ""
             }
            },
            "type": "scatterpolargl"
           }
          ],
          "scatterternary": [
           {
            "marker": {
             "colorbar": {
              "outlinewidth": 0,
              "ticks": ""
             }
            },
            "type": "scatterternary"
           }
          ],
          "surface": [
           {
            "colorbar": {
             "outlinewidth": 0,
             "ticks": ""
            },
            "colorscale": [
             [
              0,
              "#0d0887"
             ],
             [
              0.1111111111111111,
              "#46039f"
             ],
             [
              0.2222222222222222,
              "#7201a8"
             ],
             [
              0.3333333333333333,
              "#9c179e"
             ],
             [
              0.4444444444444444,
              "#bd3786"
             ],
             [
              0.5555555555555556,
              "#d8576b"
             ],
             [
              0.6666666666666666,
              "#ed7953"
             ],
             [
              0.7777777777777778,
              "#fb9f3a"
             ],
             [
              0.8888888888888888,
              "#fdca26"
             ],
             [
              1,
              "#f0f921"
             ]
            ],
            "type": "surface"
           }
          ],
          "table": [
           {
            "cells": {
             "fill": {
              "color": "#EBF0F8"
             },
             "line": {
              "color": "white"
             }
            },
            "header": {
             "fill": {
              "color": "#C8D4E3"
             },
             "line": {
              "color": "white"
             }
            },
            "type": "table"
           }
          ]
         },
         "layout": {
          "annotationdefaults": {
           "arrowcolor": "#2a3f5f",
           "arrowhead": 0,
           "arrowwidth": 1
          },
          "coloraxis": {
           "colorbar": {
            "outlinewidth": 0,
            "ticks": ""
           }
          },
          "colorscale": {
           "diverging": [
            [
             0,
             "#8e0152"
            ],
            [
             0.1,
             "#c51b7d"
            ],
            [
             0.2,
             "#de77ae"
            ],
            [
             0.3,
             "#f1b6da"
            ],
            [
             0.4,
             "#fde0ef"
            ],
            [
             0.5,
             "#f7f7f7"
            ],
            [
             0.6,
             "#e6f5d0"
            ],
            [
             0.7,
             "#b8e186"
            ],
            [
             0.8,
             "#7fbc41"
            ],
            [
             0.9,
             "#4d9221"
            ],
            [
             1,
             "#276419"
            ]
           ],
           "sequential": [
            [
             0,
             "#0d0887"
            ],
            [
             0.1111111111111111,
             "#46039f"
            ],
            [
             0.2222222222222222,
             "#7201a8"
            ],
            [
             0.3333333333333333,
             "#9c179e"
            ],
            [
             0.4444444444444444,
             "#bd3786"
            ],
            [
             0.5555555555555556,
             "#d8576b"
            ],
            [
             0.6666666666666666,
             "#ed7953"
            ],
            [
             0.7777777777777778,
             "#fb9f3a"
            ],
            [
             0.8888888888888888,
             "#fdca26"
            ],
            [
             1,
             "#f0f921"
            ]
           ],
           "sequentialminus": [
            [
             0,
             "#0d0887"
            ],
            [
             0.1111111111111111,
             "#46039f"
            ],
            [
             0.2222222222222222,
             "#7201a8"
            ],
            [
             0.3333333333333333,
             "#9c179e"
            ],
            [
             0.4444444444444444,
             "#bd3786"
            ],
            [
             0.5555555555555556,
             "#d8576b"
            ],
            [
             0.6666666666666666,
             "#ed7953"
            ],
            [
             0.7777777777777778,
             "#fb9f3a"
            ],
            [
             0.8888888888888888,
             "#fdca26"
            ],
            [
             1,
             "#f0f921"
            ]
           ]
          },
          "colorway": [
           "#636efa",
           "#EF553B",
           "#00cc96",
           "#ab63fa",
           "#FFA15A",
           "#19d3f3",
           "#FF6692",
           "#B6E880",
           "#FF97FF",
           "#FECB52"
          ],
          "font": {
           "color": "#2a3f5f"
          },
          "geo": {
           "bgcolor": "white",
           "lakecolor": "white",
           "landcolor": "#E5ECF6",
           "showlakes": true,
           "showland": true,
           "subunitcolor": "white"
          },
          "hoverlabel": {
           "align": "left"
          },
          "hovermode": "closest",
          "mapbox": {
           "style": "light"
          },
          "paper_bgcolor": "white",
          "plot_bgcolor": "#E5ECF6",
          "polar": {
           "angularaxis": {
            "gridcolor": "white",
            "linecolor": "white",
            "ticks": ""
           },
           "bgcolor": "#E5ECF6",
           "radialaxis": {
            "gridcolor": "white",
            "linecolor": "white",
            "ticks": ""
           }
          },
          "scene": {
           "xaxis": {
            "backgroundcolor": "#E5ECF6",
            "gridcolor": "white",
            "gridwidth": 2,
            "linecolor": "white",
            "showbackground": true,
            "ticks": "",
            "zerolinecolor": "white"
           },
           "yaxis": {
            "backgroundcolor": "#E5ECF6",
            "gridcolor": "white",
            "gridwidth": 2,
            "linecolor": "white",
            "showbackground": true,
            "ticks": "",
            "zerolinecolor": "white"
           },
           "zaxis": {
            "backgroundcolor": "#E5ECF6",
            "gridcolor": "white",
            "gridwidth": 2,
            "linecolor": "white",
            "showbackground": true,
            "ticks": "",
            "zerolinecolor": "white"
           }
          },
          "shapedefaults": {
           "line": {
            "color": "#2a3f5f"
           }
          },
          "ternary": {
           "aaxis": {
            "gridcolor": "white",
            "linecolor": "white",
            "ticks": ""
           },
           "baxis": {
            "gridcolor": "white",
            "linecolor": "white",
            "ticks": ""
           },
           "bgcolor": "#E5ECF6",
           "caxis": {
            "gridcolor": "white",
            "linecolor": "white",
            "ticks": ""
           }
          },
          "title": {
           "x": 0.05
          },
          "xaxis": {
           "automargin": true,
           "gridcolor": "white",
           "linecolor": "white",
           "ticks": "",
           "title": {
            "standoff": 15
           },
           "zerolinecolor": "white",
           "zerolinewidth": 2
          },
          "yaxis": {
           "automargin": true,
           "gridcolor": "white",
           "linecolor": "white",
           "ticks": "",
           "title": {
            "standoff": 15
           },
           "zerolinecolor": "white",
           "zerolinewidth": 2
          }
         }
        },
        "title": {
         "font": {
          "color": "#4D5663"
         }
        },
        "xaxis": {
         "gridcolor": "#E1E5ED",
         "showgrid": true,
         "tickfont": {
          "color": "#4D5663"
         },
         "title": {
          "font": {
           "color": "#4D5663"
          },
          "text": ""
         },
         "zerolinecolor": "#E1E5ED"
        },
        "yaxis": {
         "gridcolor": "#E1E5ED",
         "showgrid": true,
         "tickfont": {
          "color": "#4D5663"
         },
         "title": {
          "font": {
           "color": "#4D5663"
          },
          "text": ""
         },
         "zerolinecolor": "#E1E5ED"
        }
       }
      },
      "text/html": [
       "<div>\n",
       "        \n",
       "        \n",
       "            <div id=\"e6a42787-6dca-4cad-9fa2-76de4d57d33b\" class=\"plotly-graph-div\" style=\"height:525px; width:100%;\"></div>\n",
       "            <script type=\"text/javascript\">\n",
       "                require([\"plotly\"], function(Plotly) {\n",
       "                    window.PLOTLYENV=window.PLOTLYENV || {};\n",
       "                    window.PLOTLYENV.BASE_URL='https://plot.ly';\n",
       "                    \n",
       "                if (document.getElementById(\"e6a42787-6dca-4cad-9fa2-76de4d57d33b\")) {\n",
       "                    Plotly.newPlot(\n",
       "                        'e6a42787-6dca-4cad-9fa2-76de4d57d33b',\n",
       "                        [{\"line\": {\"color\": \"rgba(255, 153, 51, 1.0)\", \"dash\": \"solid\", \"shape\": \"linear\", \"width\": 1.3}, \"marker\": {\"size\": 10, \"symbol\": \"circle\"}, \"mode\": \"markers\", \"name\": \"B\", \"text\": \"\", \"type\": \"scatter\", \"x\": [1.4057168758225187, 0.09635109794516898, -0.8075775662482514, 1.85671902279818, 1.3564610889782882, -1.0665015699326987, -0.3215134793832769, 2.2006939363165583, -0.0642731305817795, -0.06722249427021736, -0.7606245671921829, -0.011501944221071154, 0.41632838029502583, 0.08283379610948835, 0.6973631246869717, 1.3319206881954702, 1.0618863974579766, -1.032164232081873, 0.08631207258907114, -0.8749170327076585, 0.9561424070698766, 2.0812454986913953, 0.013611597742900088, 2.010755001659486, -0.3840367437614046, -0.48611375514496025, -1.0010787717614296, -0.7111060970108366, -0.88155225575621, -0.7912570519536614, -0.8482443659483541, 0.009417046372797853, -0.6613874723923325, -0.43179805587229253, -1.1868260308228515, -1.3010165341303017, 1.0793955367330281, -1.21888688132927, 1.7860641751165047, 0.799656633173967, -0.5334780327036241, -1.209424809475077, -1.1424053312617162, 1.2579717508561836, -2.0605485025033214, 0.13710078395039346, -0.5916349564207652, 0.3029899541504856, -0.22663502770322, -0.5804854045400992, -1.9025506699911556, 0.11876147332063057, 0.9257965150343771, -0.18073318129062516, 1.5055537662684682, -0.8089910678807307, -0.11721228265202219, -0.5997238871075966, -1.142021786149684, 0.09936348427841284, 1.4931562081498957, -1.5547024729001584, 0.5910489953515512, -0.059929917251002024, 1.0696616107968673, 0.8021825757324219, 1.439330784471317, -0.6110907124127478, 1.0024882398083432, -1.7022888335987154, 0.05188306699545878, 1.7097829525296082, -1.5080847746237727, 0.6911601517780541, -1.0036454775392192, 0.8135518250358234, -0.9300649797636137, -0.21514900583841184, 0.7078344365890838, 0.04089091390206245, 0.10570034421779602, 2.615277534759449, -0.3407781816207968, -0.7062667539668542, 0.7414974982831658, -0.9158253246310815, -0.4412896880881209, 1.5879126191662924, 0.0021807237198163483, 0.4941846844869749, 0.7951021730994977, -0.9137616880373952, -1.9780362146807235, -0.7076722808592804, -1.8884123353793303, 0.7626559205689569, -1.6959998148682438, 0.07953368201121154, 0.7781058966122304, 1.27600917408759], \"y\": [1.3805021359727088, 0.6876562345194515, 1.744426205438441, 1.3482770883045914, -0.634248067300063, -0.034294271166742524, 0.08697205812033731, 0.18165054261005958, -0.4947130519966682, 1.1926577197445511, -0.20717482602811665, -2.5133130507450065, 0.5849565071647904, -1.1419275913432483, -1.0989250107348194, -0.7187949424743807, -0.4925908219897006, -0.8053500686902227, 1.3214954358061495, 0.650458182102288, 0.7831813622092171, 0.07498582897569142, 0.6523450877465203, -0.5783833322107474, 0.31063691916746256, 0.5339759772715772, -0.9341694521216017, 0.1636579101222258, 0.7914756036817695, 0.14946115975322116, 1.655598160883892, 0.7246961444793382, -1.2954830292755444, 0.9695475826517964, -0.2964187051363097, 2.7033995079178443, -0.38178103307087197, 1.1295086160797756, 1.527880017753105, 0.905536015852373, 0.29805175373631065, -0.5754351908083993, 0.29082064681038583, 0.7586137695438394, 1.1349899407660182, 0.6717992725911085, -0.31428779368983534, -0.18220919871777175, 2.1597698090177797, -1.419379997025609, -0.8461014276372388, 0.41864875994912204, 0.8148702380518698, 0.019606695965507532, -1.1837488988129978, 1.1806831481053504, -0.6107919824591864, -0.23111979494516535, -0.9367596799948575, -1.6339807125647547, -1.8372441832889166, 2.5168011421762055, -1.5382411271982206, 0.6254374573450555, -0.29144223018409665, 0.25280094962187494, 0.9341401560731483, 0.4593226701114746, 0.37090012110200604, 2.5485602361509896, -0.2384223669142262, -1.4965726279770937, -0.9143776712501855, 0.6240127588983286, 0.9349261687864068, 1.1302133290065983, -1.9122547142011879, 2.1612111542650148, -1.170401489694811, 1.4844344274345278, 0.425068571796391, 1.0836427308909355, -1.2092550831621383, -0.05373370286349067, -2.329782253481326, 0.9931882640309181, -0.7440493223711631, -0.8690298054021338, -1.3870236796099518, -0.235118566464218, -0.804128615713205, -2.091537810580936, 0.566865783198684, -1.511924883938343, -0.9600094189448816, -0.382769475864104, -0.43678813895890783, 1.4503730185316464, -1.1598452079499255, 0.0007072242767753852]}],\n",
       "                        {\"legend\": {\"bgcolor\": \"#F5F6F9\", \"font\": {\"color\": \"#4D5663\"}}, \"paper_bgcolor\": \"#F5F6F9\", \"plot_bgcolor\": \"#F5F6F9\", \"template\": {\"data\": {\"bar\": [{\"error_x\": {\"color\": \"#2a3f5f\"}, \"error_y\": {\"color\": \"#2a3f5f\"}, \"marker\": {\"line\": {\"color\": \"#E5ECF6\", \"width\": 0.5}}, \"type\": \"bar\"}], \"barpolar\": [{\"marker\": {\"line\": {\"color\": \"#E5ECF6\", \"width\": 0.5}}, \"type\": \"barpolar\"}], \"carpet\": [{\"aaxis\": {\"endlinecolor\": \"#2a3f5f\", \"gridcolor\": \"white\", \"linecolor\": \"white\", \"minorgridcolor\": \"white\", \"startlinecolor\": \"#2a3f5f\"}, \"baxis\": {\"endlinecolor\": \"#2a3f5f\", \"gridcolor\": \"white\", \"linecolor\": \"white\", \"minorgridcolor\": \"white\", \"startlinecolor\": \"#2a3f5f\"}, \"type\": \"carpet\"}], \"choropleth\": [{\"colorbar\": {\"outlinewidth\": 0, \"ticks\": \"\"}, \"type\": \"choropleth\"}], \"contour\": [{\"colorbar\": {\"outlinewidth\": 0, \"ticks\": \"\"}, \"colorscale\": [[0.0, \"#0d0887\"], [0.1111111111111111, \"#46039f\"], [0.2222222222222222, \"#7201a8\"], [0.3333333333333333, \"#9c179e\"], [0.4444444444444444, \"#bd3786\"], [0.5555555555555556, \"#d8576b\"], [0.6666666666666666, \"#ed7953\"], [0.7777777777777778, \"#fb9f3a\"], [0.8888888888888888, \"#fdca26\"], [1.0, \"#f0f921\"]], \"type\": \"contour\"}], \"contourcarpet\": [{\"colorbar\": {\"outlinewidth\": 0, \"ticks\": \"\"}, \"type\": \"contourcarpet\"}], \"heatmap\": [{\"colorbar\": {\"outlinewidth\": 0, \"ticks\": \"\"}, \"colorscale\": [[0.0, \"#0d0887\"], [0.1111111111111111, \"#46039f\"], [0.2222222222222222, \"#7201a8\"], [0.3333333333333333, \"#9c179e\"], [0.4444444444444444, \"#bd3786\"], [0.5555555555555556, \"#d8576b\"], [0.6666666666666666, \"#ed7953\"], [0.7777777777777778, \"#fb9f3a\"], [0.8888888888888888, \"#fdca26\"], [1.0, \"#f0f921\"]], \"type\": \"heatmap\"}], \"heatmapgl\": [{\"colorbar\": {\"outlinewidth\": 0, \"ticks\": \"\"}, \"colorscale\": [[0.0, \"#0d0887\"], [0.1111111111111111, \"#46039f\"], [0.2222222222222222, \"#7201a8\"], [0.3333333333333333, \"#9c179e\"], [0.4444444444444444, \"#bd3786\"], [0.5555555555555556, \"#d8576b\"], [0.6666666666666666, \"#ed7953\"], [0.7777777777777778, \"#fb9f3a\"], [0.8888888888888888, \"#fdca26\"], [1.0, \"#f0f921\"]], \"type\": \"heatmapgl\"}], \"histogram\": [{\"marker\": {\"colorbar\": {\"outlinewidth\": 0, \"ticks\": \"\"}}, \"type\": \"histogram\"}], \"histogram2d\": [{\"colorbar\": {\"outlinewidth\": 0, \"ticks\": \"\"}, \"colorscale\": [[0.0, \"#0d0887\"], [0.1111111111111111, \"#46039f\"], [0.2222222222222222, \"#7201a8\"], [0.3333333333333333, \"#9c179e\"], [0.4444444444444444, \"#bd3786\"], [0.5555555555555556, \"#d8576b\"], [0.6666666666666666, \"#ed7953\"], [0.7777777777777778, \"#fb9f3a\"], [0.8888888888888888, \"#fdca26\"], [1.0, \"#f0f921\"]], \"type\": \"histogram2d\"}], \"histogram2dcontour\": [{\"colorbar\": {\"outlinewidth\": 0, \"ticks\": \"\"}, \"colorscale\": [[0.0, \"#0d0887\"], [0.1111111111111111, \"#46039f\"], [0.2222222222222222, \"#7201a8\"], [0.3333333333333333, \"#9c179e\"], [0.4444444444444444, \"#bd3786\"], [0.5555555555555556, \"#d8576b\"], [0.6666666666666666, \"#ed7953\"], [0.7777777777777778, \"#fb9f3a\"], [0.8888888888888888, \"#fdca26\"], [1.0, \"#f0f921\"]], \"type\": \"histogram2dcontour\"}], \"mesh3d\": [{\"colorbar\": {\"outlinewidth\": 0, \"ticks\": \"\"}, \"type\": \"mesh3d\"}], \"parcoords\": [{\"line\": {\"colorbar\": {\"outlinewidth\": 0, \"ticks\": \"\"}}, \"type\": \"parcoords\"}], \"pie\": [{\"automargin\": true, \"type\": \"pie\"}], \"scatter\": [{\"marker\": {\"colorbar\": {\"outlinewidth\": 0, \"ticks\": \"\"}}, \"type\": \"scatter\"}], \"scatter3d\": [{\"line\": {\"colorbar\": {\"outlinewidth\": 0, \"ticks\": \"\"}}, \"marker\": {\"colorbar\": {\"outlinewidth\": 0, \"ticks\": \"\"}}, \"type\": \"scatter3d\"}], \"scattercarpet\": [{\"marker\": {\"colorbar\": {\"outlinewidth\": 0, \"ticks\": \"\"}}, \"type\": \"scattercarpet\"}], \"scattergeo\": [{\"marker\": {\"colorbar\": {\"outlinewidth\": 0, \"ticks\": \"\"}}, \"type\": \"scattergeo\"}], \"scattergl\": [{\"marker\": {\"colorbar\": {\"outlinewidth\": 0, \"ticks\": \"\"}}, \"type\": \"scattergl\"}], \"scattermapbox\": [{\"marker\": {\"colorbar\": {\"outlinewidth\": 0, \"ticks\": \"\"}}, \"type\": \"scattermapbox\"}], \"scatterpolar\": [{\"marker\": {\"colorbar\": {\"outlinewidth\": 0, \"ticks\": \"\"}}, \"type\": \"scatterpolar\"}], \"scatterpolargl\": [{\"marker\": {\"colorbar\": {\"outlinewidth\": 0, \"ticks\": \"\"}}, \"type\": \"scatterpolargl\"}], \"scatterternary\": [{\"marker\": {\"colorbar\": {\"outlinewidth\": 0, \"ticks\": \"\"}}, \"type\": \"scatterternary\"}], \"surface\": [{\"colorbar\": {\"outlinewidth\": 0, \"ticks\": \"\"}, \"colorscale\": [[0.0, \"#0d0887\"], [0.1111111111111111, \"#46039f\"], [0.2222222222222222, \"#7201a8\"], [0.3333333333333333, \"#9c179e\"], [0.4444444444444444, \"#bd3786\"], [0.5555555555555556, \"#d8576b\"], [0.6666666666666666, \"#ed7953\"], [0.7777777777777778, \"#fb9f3a\"], [0.8888888888888888, \"#fdca26\"], [1.0, \"#f0f921\"]], \"type\": \"surface\"}], \"table\": [{\"cells\": {\"fill\": {\"color\": \"#EBF0F8\"}, \"line\": {\"color\": \"white\"}}, \"header\": {\"fill\": {\"color\": \"#C8D4E3\"}, \"line\": {\"color\": \"white\"}}, \"type\": \"table\"}]}, \"layout\": {\"annotationdefaults\": {\"arrowcolor\": \"#2a3f5f\", \"arrowhead\": 0, \"arrowwidth\": 1}, \"coloraxis\": {\"colorbar\": {\"outlinewidth\": 0, \"ticks\": \"\"}}, \"colorscale\": {\"diverging\": [[0, \"#8e0152\"], [0.1, \"#c51b7d\"], [0.2, \"#de77ae\"], [0.3, \"#f1b6da\"], [0.4, \"#fde0ef\"], [0.5, \"#f7f7f7\"], [0.6, \"#e6f5d0\"], [0.7, \"#b8e186\"], [0.8, \"#7fbc41\"], [0.9, \"#4d9221\"], [1, \"#276419\"]], \"sequential\": [[0.0, \"#0d0887\"], [0.1111111111111111, \"#46039f\"], [0.2222222222222222, \"#7201a8\"], [0.3333333333333333, \"#9c179e\"], [0.4444444444444444, \"#bd3786\"], [0.5555555555555556, \"#d8576b\"], [0.6666666666666666, \"#ed7953\"], [0.7777777777777778, \"#fb9f3a\"], [0.8888888888888888, \"#fdca26\"], [1.0, \"#f0f921\"]], \"sequentialminus\": [[0.0, \"#0d0887\"], [0.1111111111111111, \"#46039f\"], [0.2222222222222222, \"#7201a8\"], [0.3333333333333333, \"#9c179e\"], [0.4444444444444444, \"#bd3786\"], [0.5555555555555556, \"#d8576b\"], [0.6666666666666666, \"#ed7953\"], [0.7777777777777778, \"#fb9f3a\"], [0.8888888888888888, \"#fdca26\"], [1.0, \"#f0f921\"]]}, \"colorway\": [\"#636efa\", \"#EF553B\", \"#00cc96\", \"#ab63fa\", \"#FFA15A\", \"#19d3f3\", \"#FF6692\", \"#B6E880\", \"#FF97FF\", \"#FECB52\"], \"font\": {\"color\": \"#2a3f5f\"}, \"geo\": {\"bgcolor\": \"white\", \"lakecolor\": \"white\", \"landcolor\": \"#E5ECF6\", \"showlakes\": true, \"showland\": true, \"subunitcolor\": \"white\"}, \"hoverlabel\": {\"align\": \"left\"}, \"hovermode\": \"closest\", \"mapbox\": {\"style\": \"light\"}, \"paper_bgcolor\": \"white\", \"plot_bgcolor\": \"#E5ECF6\", \"polar\": {\"angularaxis\": {\"gridcolor\": \"white\", \"linecolor\": \"white\", \"ticks\": \"\"}, \"bgcolor\": \"#E5ECF6\", \"radialaxis\": {\"gridcolor\": \"white\", \"linecolor\": \"white\", \"ticks\": \"\"}}, \"scene\": {\"xaxis\": {\"backgroundcolor\": \"#E5ECF6\", \"gridcolor\": \"white\", \"gridwidth\": 2, \"linecolor\": \"white\", \"showbackground\": true, \"ticks\": \"\", \"zerolinecolor\": \"white\"}, \"yaxis\": {\"backgroundcolor\": \"#E5ECF6\", \"gridcolor\": \"white\", \"gridwidth\": 2, \"linecolor\": \"white\", \"showbackground\": true, \"ticks\": \"\", \"zerolinecolor\": \"white\"}, \"zaxis\": {\"backgroundcolor\": \"#E5ECF6\", \"gridcolor\": \"white\", \"gridwidth\": 2, \"linecolor\": \"white\", \"showbackground\": true, \"ticks\": \"\", \"zerolinecolor\": \"white\"}}, \"shapedefaults\": {\"line\": {\"color\": \"#2a3f5f\"}}, \"ternary\": {\"aaxis\": {\"gridcolor\": \"white\", \"linecolor\": \"white\", \"ticks\": \"\"}, \"baxis\": {\"gridcolor\": \"white\", \"linecolor\": \"white\", \"ticks\": \"\"}, \"bgcolor\": \"#E5ECF6\", \"caxis\": {\"gridcolor\": \"white\", \"linecolor\": \"white\", \"ticks\": \"\"}}, \"title\": {\"x\": 0.05}, \"xaxis\": {\"automargin\": true, \"gridcolor\": \"white\", \"linecolor\": \"white\", \"ticks\": \"\", \"title\": {\"standoff\": 15}, \"zerolinecolor\": \"white\", \"zerolinewidth\": 2}, \"yaxis\": {\"automargin\": true, \"gridcolor\": \"white\", \"linecolor\": \"white\", \"ticks\": \"\", \"title\": {\"standoff\": 15}, \"zerolinecolor\": \"white\", \"zerolinewidth\": 2}}}, \"title\": {\"font\": {\"color\": \"#4D5663\"}}, \"xaxis\": {\"gridcolor\": \"#E1E5ED\", \"showgrid\": true, \"tickfont\": {\"color\": \"#4D5663\"}, \"title\": {\"font\": {\"color\": \"#4D5663\"}, \"text\": \"\"}, \"zerolinecolor\": \"#E1E5ED\"}, \"yaxis\": {\"gridcolor\": \"#E1E5ED\", \"showgrid\": true, \"tickfont\": {\"color\": \"#4D5663\"}, \"title\": {\"font\": {\"color\": \"#4D5663\"}, \"text\": \"\"}, \"zerolinecolor\": \"#E1E5ED\"}},\n",
       "                        {\"showLink\": true, \"linkText\": \"Export to plot.ly\", \"plotlyServerURL\": \"https://plot.ly\", \"responsive\": true}\n",
       "                    ).then(function(){\n",
       "                            \n",
       "var gd = document.getElementById('e6a42787-6dca-4cad-9fa2-76de4d57d33b');\n",
       "var x = new MutationObserver(function (mutations, observer) {{\n",
       "        var display = window.getComputedStyle(gd).display;\n",
       "        if (!display || display === 'none') {{\n",
       "            console.log([gd, 'removed!']);\n",
       "            Plotly.purge(gd);\n",
       "            observer.disconnect();\n",
       "        }}\n",
       "}});\n",
       "\n",
       "// Listen for the removal of the full notebook cells\n",
       "var notebookContainer = gd.closest('#notebook-container');\n",
       "if (notebookContainer) {{\n",
       "    x.observe(notebookContainer, {childList: true});\n",
       "}}\n",
       "\n",
       "// Listen for the clearing of the current output cell\n",
       "var outputEl = gd.closest('.output');\n",
       "if (outputEl) {{\n",
       "    x.observe(outputEl, {childList: true});\n",
       "}}\n",
       "\n",
       "                        })\n",
       "                };\n",
       "                });\n",
       "            </script>\n",
       "        </div>"
      ]
     },
     "metadata": {},
     "output_type": "display_data"
    }
   ],
   "source": [
    "df.iplot(kind='scatter',x='A',y='B',mode='markers',size=10)"
   ]
  },
  {
   "cell_type": "code",
   "execution_count": 11,
   "metadata": {},
   "outputs": [
    {
     "data": {
      "application/vnd.plotly.v1+json": {
       "config": {
        "linkText": "Export to plot.ly",
        "plotlyServerURL": "https://plot.ly",
        "showLink": true
       },
       "data": [
        {
         "line": {
          "color": "rgba(255, 153, 51, 1.0)",
          "dash": "solid",
          "shape": "linear",
          "width": 1.3
         },
         "mode": "lines",
         "name": "A",
         "text": "",
         "type": "scatter",
         "x": [
          0,
          1,
          2,
          3,
          4,
          5,
          6,
          7,
          8,
          9,
          10,
          11,
          12,
          13,
          14,
          15,
          16,
          17,
          18,
          19,
          20,
          21,
          22,
          23,
          24,
          25,
          26,
          27,
          28,
          29,
          30,
          31,
          32,
          33,
          34,
          35,
          36,
          37,
          38,
          39,
          40,
          41,
          42,
          43,
          44,
          45,
          46,
          47,
          48,
          49,
          50,
          51,
          52,
          53,
          54,
          55,
          56,
          57,
          58,
          59,
          60,
          61,
          62,
          63,
          64,
          65,
          66,
          67,
          68,
          69,
          70,
          71,
          72,
          73,
          74,
          75,
          76,
          77,
          78,
          79,
          80,
          81,
          82,
          83,
          84,
          85,
          86,
          87,
          88,
          89,
          90,
          91,
          92,
          93,
          94,
          95,
          96,
          97,
          98,
          99
         ],
         "y": [
          1.4057168758225187,
          0.09635109794516898,
          -0.8075775662482514,
          1.85671902279818,
          1.3564610889782882,
          -1.0665015699326987,
          -0.3215134793832769,
          2.2006939363165583,
          -0.0642731305817795,
          -0.06722249427021736,
          -0.7606245671921829,
          -0.011501944221071154,
          0.41632838029502583,
          0.08283379610948835,
          0.6973631246869717,
          1.3319206881954702,
          1.0618863974579766,
          -1.032164232081873,
          0.08631207258907114,
          -0.8749170327076585,
          0.9561424070698766,
          2.0812454986913953,
          0.013611597742900088,
          2.010755001659486,
          -0.3840367437614046,
          -0.48611375514496025,
          -1.0010787717614296,
          -0.7111060970108366,
          -0.88155225575621,
          -0.7912570519536614,
          -0.8482443659483541,
          0.009417046372797853,
          -0.6613874723923325,
          -0.43179805587229253,
          -1.1868260308228515,
          -1.3010165341303017,
          1.0793955367330281,
          -1.21888688132927,
          1.7860641751165047,
          0.799656633173967,
          -0.5334780327036241,
          -1.209424809475077,
          -1.1424053312617162,
          1.2579717508561836,
          -2.0605485025033214,
          0.13710078395039346,
          -0.5916349564207652,
          0.3029899541504856,
          -0.22663502770322,
          -0.5804854045400992,
          -1.9025506699911556,
          0.11876147332063057,
          0.9257965150343771,
          -0.18073318129062516,
          1.5055537662684682,
          -0.8089910678807307,
          -0.11721228265202219,
          -0.5997238871075966,
          -1.142021786149684,
          0.09936348427841284,
          1.4931562081498957,
          -1.5547024729001584,
          0.5910489953515512,
          -0.059929917251002024,
          1.0696616107968673,
          0.8021825757324219,
          1.439330784471317,
          -0.6110907124127478,
          1.0024882398083432,
          -1.7022888335987154,
          0.05188306699545878,
          1.7097829525296082,
          -1.5080847746237727,
          0.6911601517780541,
          -1.0036454775392192,
          0.8135518250358234,
          -0.9300649797636137,
          -0.21514900583841184,
          0.7078344365890838,
          0.04089091390206245,
          0.10570034421779602,
          2.615277534759449,
          -0.3407781816207968,
          -0.7062667539668542,
          0.7414974982831658,
          -0.9158253246310815,
          -0.4412896880881209,
          1.5879126191662924,
          0.0021807237198163483,
          0.4941846844869749,
          0.7951021730994977,
          -0.9137616880373952,
          -1.9780362146807235,
          -0.7076722808592804,
          -1.8884123353793303,
          0.7626559205689569,
          -1.6959998148682438,
          0.07953368201121154,
          0.7781058966122304,
          1.27600917408759
         ]
        },
        {
         "line": {
          "color": "rgba(55, 128, 191, 1.0)",
          "dash": "solid",
          "shape": "linear",
          "width": 1.3
         },
         "mode": "lines",
         "name": "B",
         "text": "",
         "type": "scatter",
         "x": [
          0,
          1,
          2,
          3,
          4,
          5,
          6,
          7,
          8,
          9,
          10,
          11,
          12,
          13,
          14,
          15,
          16,
          17,
          18,
          19,
          20,
          21,
          22,
          23,
          24,
          25,
          26,
          27,
          28,
          29,
          30,
          31,
          32,
          33,
          34,
          35,
          36,
          37,
          38,
          39,
          40,
          41,
          42,
          43,
          44,
          45,
          46,
          47,
          48,
          49,
          50,
          51,
          52,
          53,
          54,
          55,
          56,
          57,
          58,
          59,
          60,
          61,
          62,
          63,
          64,
          65,
          66,
          67,
          68,
          69,
          70,
          71,
          72,
          73,
          74,
          75,
          76,
          77,
          78,
          79,
          80,
          81,
          82,
          83,
          84,
          85,
          86,
          87,
          88,
          89,
          90,
          91,
          92,
          93,
          94,
          95,
          96,
          97,
          98,
          99
         ],
         "y": [
          1.3805021359727088,
          0.6876562345194515,
          1.744426205438441,
          1.3482770883045914,
          -0.634248067300063,
          -0.034294271166742524,
          0.08697205812033731,
          0.18165054261005958,
          -0.4947130519966682,
          1.1926577197445511,
          -0.20717482602811665,
          -2.5133130507450065,
          0.5849565071647904,
          -1.1419275913432483,
          -1.0989250107348194,
          -0.7187949424743807,
          -0.4925908219897006,
          -0.8053500686902227,
          1.3214954358061495,
          0.650458182102288,
          0.7831813622092171,
          0.07498582897569142,
          0.6523450877465203,
          -0.5783833322107474,
          0.31063691916746256,
          0.5339759772715772,
          -0.9341694521216017,
          0.1636579101222258,
          0.7914756036817695,
          0.14946115975322116,
          1.655598160883892,
          0.7246961444793382,
          -1.2954830292755444,
          0.9695475826517964,
          -0.2964187051363097,
          2.7033995079178443,
          -0.38178103307087197,
          1.1295086160797756,
          1.527880017753105,
          0.905536015852373,
          0.29805175373631065,
          -0.5754351908083993,
          0.29082064681038583,
          0.7586137695438394,
          1.1349899407660182,
          0.6717992725911085,
          -0.31428779368983534,
          -0.18220919871777175,
          2.1597698090177797,
          -1.419379997025609,
          -0.8461014276372388,
          0.41864875994912204,
          0.8148702380518698,
          0.019606695965507532,
          -1.1837488988129978,
          1.1806831481053504,
          -0.6107919824591864,
          -0.23111979494516535,
          -0.9367596799948575,
          -1.6339807125647547,
          -1.8372441832889166,
          2.5168011421762055,
          -1.5382411271982206,
          0.6254374573450555,
          -0.29144223018409665,
          0.25280094962187494,
          0.9341401560731483,
          0.4593226701114746,
          0.37090012110200604,
          2.5485602361509896,
          -0.2384223669142262,
          -1.4965726279770937,
          -0.9143776712501855,
          0.6240127588983286,
          0.9349261687864068,
          1.1302133290065983,
          -1.9122547142011879,
          2.1612111542650148,
          -1.170401489694811,
          1.4844344274345278,
          0.425068571796391,
          1.0836427308909355,
          -1.2092550831621383,
          -0.05373370286349067,
          -2.329782253481326,
          0.9931882640309181,
          -0.7440493223711631,
          -0.8690298054021338,
          -1.3870236796099518,
          -0.235118566464218,
          -0.804128615713205,
          -2.091537810580936,
          0.566865783198684,
          -1.511924883938343,
          -0.9600094189448816,
          -0.382769475864104,
          -0.43678813895890783,
          1.4503730185316464,
          -1.1598452079499255,
          0.0007072242767753852
         ]
        },
        {
         "line": {
          "color": "rgba(50, 171, 96, 1.0)",
          "dash": "solid",
          "shape": "linear",
          "width": 1.3
         },
         "mode": "lines",
         "name": "C",
         "text": "",
         "type": "scatter",
         "x": [
          0,
          1,
          2,
          3,
          4,
          5,
          6,
          7,
          8,
          9,
          10,
          11,
          12,
          13,
          14,
          15,
          16,
          17,
          18,
          19,
          20,
          21,
          22,
          23,
          24,
          25,
          26,
          27,
          28,
          29,
          30,
          31,
          32,
          33,
          34,
          35,
          36,
          37,
          38,
          39,
          40,
          41,
          42,
          43,
          44,
          45,
          46,
          47,
          48,
          49,
          50,
          51,
          52,
          53,
          54,
          55,
          56,
          57,
          58,
          59,
          60,
          61,
          62,
          63,
          64,
          65,
          66,
          67,
          68,
          69,
          70,
          71,
          72,
          73,
          74,
          75,
          76,
          77,
          78,
          79,
          80,
          81,
          82,
          83,
          84,
          85,
          86,
          87,
          88,
          89,
          90,
          91,
          92,
          93,
          94,
          95,
          96,
          97,
          98,
          99
         ],
         "y": [
          -1.1315887482993132,
          -1.043249659417771,
          -1.9948531746772895,
          1.795000966257885,
          -0.6439270205764843,
          -0.07599144992076311,
          -0.8620731306430194,
          0.807821347431704,
          0.1645823525494116,
          -0.49705555090732095,
          0.11277695324474271,
          0.13768702694255086,
          -0.49497335135905357,
          -0.37055686394093956,
          0.3462421356520415,
          0.19217855501706763,
          0.6995582206408196,
          -0.37267108482119066,
          1.9162749789438134,
          1.7334988933452553,
          1.251182443212679,
          -1.0327078702757677,
          -1.8831806648318619,
          -0.1731389197012337,
          1.1906164559173318,
          -1.2376436879881365,
          0.5512247370706185,
          -0.7773953390281098,
          -0.2145414159475325,
          0.08160625235528286,
          -0.8013126367632013,
          -0.5169004564348985,
          0.114578057733446,
          0.2629355821748631,
          0.1499105407004821,
          -1.2797422511235341,
          -0.2185907991829561,
          1.5876256028774887,
          1.844734348839343,
          -0.22537037743304106,
          -0.3577178964433195,
          0.2852652075753454,
          -0.7957362488414707,
          0.152228318070937,
          -0.8332063901430532,
          -0.14906978759205242,
          2.033481598612253,
          0.8060825170977222,
          1.5810291360916122,
          1.07858888313611,
          0.2319701751978771,
          -0.1867491497701328,
          -0.7945408640583943,
          -0.9095698226185984,
          0.8251905215614825,
          -0.8567655124673546,
          0.18704912987968247,
          -0.15721637891871143,
          1.2721569476374628,
          -0.19037233012862115,
          -0.96458609763036,
          1.410741547617211,
          -1.451864911072176,
          -0.9675044690625731,
          -0.7917168423644747,
          -1.072796793830219,
          -1.0900923925783632,
          0.9391138095792427,
          1.1763217705881877,
          -0.28819859093464983,
          -0.5828980206044104,
          1.4744624076749038,
          0.03650023059250771,
          0.43319878637361814,
          -0.34457754693362536,
          0.19754823018576603,
          -0.26991096377234675,
          2.6272817860367486,
          0.634965451155606,
          1.7191188241692776,
          -0.3311344208925331,
          0.7573677922867134,
          1.5592178010488686,
          -1.9237045548603335,
          0.4273812145391577,
          -0.9038966093651511,
          1.0095634019675388,
          1.233815706015572,
          -0.5267712715038746,
          -2.1175558308537017,
          -0.6526419662081552,
          -0.4670849734778064,
          -0.7368599515217935,
          -0.6893478170257809,
          -0.20668010608459114,
          -2.405150714008861,
          0.7082636710161015,
          0.4311521595364321,
          -0.07251010714992599,
          -1.7006410114857302
         ]
        },
        {
         "line": {
          "color": "rgba(128, 0, 128, 1.0)",
          "dash": "solid",
          "shape": "linear",
          "width": 1.3
         },
         "mode": "lines",
         "name": "D",
         "text": "",
         "type": "scatter",
         "x": [
          0,
          1,
          2,
          3,
          4,
          5,
          6,
          7,
          8,
          9,
          10,
          11,
          12,
          13,
          14,
          15,
          16,
          17,
          18,
          19,
          20,
          21,
          22,
          23,
          24,
          25,
          26,
          27,
          28,
          29,
          30,
          31,
          32,
          33,
          34,
          35,
          36,
          37,
          38,
          39,
          40,
          41,
          42,
          43,
          44,
          45,
          46,
          47,
          48,
          49,
          50,
          51,
          52,
          53,
          54,
          55,
          56,
          57,
          58,
          59,
          60,
          61,
          62,
          63,
          64,
          65,
          66,
          67,
          68,
          69,
          70,
          71,
          72,
          73,
          74,
          75,
          76,
          77,
          78,
          79,
          80,
          81,
          82,
          83,
          84,
          85,
          86,
          87,
          88,
          89,
          90,
          91,
          92,
          93,
          94,
          95,
          96,
          97,
          98,
          99
         ],
         "y": [
          -0.07556542121134661,
          -0.8183199405961011,
          1.0334465082732396,
          -0.6227025938080888,
          1.0269451234814744,
          -1.4309440691028066,
          0.33382525333472135,
          -0.5136943526846811,
          -0.5726578044637678,
          -0.054700614757421294,
          0.39304570327098487,
          0.3450187319889111,
          0.37165748052730874,
          -1.8451143641223184,
          -0.4346916643049665,
          0.9695803086428616,
          -1.6238583650473877,
          0.2091847975870636,
          -0.8616799361749952,
          -0.10957913893920151,
          -0.12991941745315264,
          0.6850137018573873,
          1.622744931697246,
          1.5593626147438386,
          -1.723786366407721,
          0.7329715508939461,
          0.39831664748170265,
          0.6686707918578688,
          0.6765077152561568,
          -0.590645496453386,
          0.34677385573121666,
          0.4118791766192136,
          -0.918647297548565,
          -1.3039209080506904,
          0.521566084351569,
          -0.06386809916886285,
          0.1125454802321883,
          0.11329151851463924,
          1.0070843116474493,
          -0.7922136552618687,
          -1.3660056671284202,
          0.3919268139065681,
          -0.331535756662957,
          -0.8667660795218105,
          -1.0656226329031444,
          -1.1487653763192418,
          0.720370537591933,
          1.628532426776231,
          1.4659105244650705,
          0.4536789646423173,
          -0.3997028352902282,
          -0.4198680723019248,
          0.3529676122922959,
          1.3071481008776296,
          0.05960064396185711,
          0.5014756373675243,
          1.6521531412089567,
          -1.241677422272562,
          0.051155118852328846,
          0.08146363202689737,
          -0.5998295036990625,
          0.525297261397527,
          1.1376606438237558,
          0.49111046953841125,
          0.5367638826505009,
          -0.9820432115922464,
          -0.3380444743033437,
          -1.0959616364064138,
          0.14189700880993317,
          1.2256553734534632,
          -0.899445236677122,
          -0.499149874869314,
          -0.2784621153768592,
          -1.784376134711761,
          -0.4050614240095866,
          0.38175326989240105,
          0.1530187742495216,
          -1.8230955543230376,
          0.5210317367175072,
          0.33271912972225115,
          -0.6718359237286943,
          0.05927496248327188,
          -0.9979692802489852,
          -0.6366550887913068,
          -0.8977204330863173,
          -0.009478227360934864,
          1.877269962066179,
          0.10224615885828611,
          -1.10394498962729,
          0.43485342230923235,
          0.6471875563292759,
          -0.9417404984112272,
          1.0126111565103906,
          -0.5197970022115806,
          0.006351587203595149,
          -0.20772290117180742,
          0.9375634333957914,
          0.4581473343766965,
          -0.8169477360465902,
          1.408231237100532
         ]
        }
       ],
       "layout": {
        "legend": {
         "bgcolor": "#F5F6F9",
         "font": {
          "color": "#4D5663"
         }
        },
        "paper_bgcolor": "#F5F6F9",
        "plot_bgcolor": "#F5F6F9",
        "template": {
         "data": {
          "bar": [
           {
            "error_x": {
             "color": "#2a3f5f"
            },
            "error_y": {
             "color": "#2a3f5f"
            },
            "marker": {
             "line": {
              "color": "#E5ECF6",
              "width": 0.5
             }
            },
            "type": "bar"
           }
          ],
          "barpolar": [
           {
            "marker": {
             "line": {
              "color": "#E5ECF6",
              "width": 0.5
             }
            },
            "type": "barpolar"
           }
          ],
          "carpet": [
           {
            "aaxis": {
             "endlinecolor": "#2a3f5f",
             "gridcolor": "white",
             "linecolor": "white",
             "minorgridcolor": "white",
             "startlinecolor": "#2a3f5f"
            },
            "baxis": {
             "endlinecolor": "#2a3f5f",
             "gridcolor": "white",
             "linecolor": "white",
             "minorgridcolor": "white",
             "startlinecolor": "#2a3f5f"
            },
            "type": "carpet"
           }
          ],
          "choropleth": [
           {
            "colorbar": {
             "outlinewidth": 0,
             "ticks": ""
            },
            "type": "choropleth"
           }
          ],
          "contour": [
           {
            "colorbar": {
             "outlinewidth": 0,
             "ticks": ""
            },
            "colorscale": [
             [
              0,
              "#0d0887"
             ],
             [
              0.1111111111111111,
              "#46039f"
             ],
             [
              0.2222222222222222,
              "#7201a8"
             ],
             [
              0.3333333333333333,
              "#9c179e"
             ],
             [
              0.4444444444444444,
              "#bd3786"
             ],
             [
              0.5555555555555556,
              "#d8576b"
             ],
             [
              0.6666666666666666,
              "#ed7953"
             ],
             [
              0.7777777777777778,
              "#fb9f3a"
             ],
             [
              0.8888888888888888,
              "#fdca26"
             ],
             [
              1,
              "#f0f921"
             ]
            ],
            "type": "contour"
           }
          ],
          "contourcarpet": [
           {
            "colorbar": {
             "outlinewidth": 0,
             "ticks": ""
            },
            "type": "contourcarpet"
           }
          ],
          "heatmap": [
           {
            "colorbar": {
             "outlinewidth": 0,
             "ticks": ""
            },
            "colorscale": [
             [
              0,
              "#0d0887"
             ],
             [
              0.1111111111111111,
              "#46039f"
             ],
             [
              0.2222222222222222,
              "#7201a8"
             ],
             [
              0.3333333333333333,
              "#9c179e"
             ],
             [
              0.4444444444444444,
              "#bd3786"
             ],
             [
              0.5555555555555556,
              "#d8576b"
             ],
             [
              0.6666666666666666,
              "#ed7953"
             ],
             [
              0.7777777777777778,
              "#fb9f3a"
             ],
             [
              0.8888888888888888,
              "#fdca26"
             ],
             [
              1,
              "#f0f921"
             ]
            ],
            "type": "heatmap"
           }
          ],
          "heatmapgl": [
           {
            "colorbar": {
             "outlinewidth": 0,
             "ticks": ""
            },
            "colorscale": [
             [
              0,
              "#0d0887"
             ],
             [
              0.1111111111111111,
              "#46039f"
             ],
             [
              0.2222222222222222,
              "#7201a8"
             ],
             [
              0.3333333333333333,
              "#9c179e"
             ],
             [
              0.4444444444444444,
              "#bd3786"
             ],
             [
              0.5555555555555556,
              "#d8576b"
             ],
             [
              0.6666666666666666,
              "#ed7953"
             ],
             [
              0.7777777777777778,
              "#fb9f3a"
             ],
             [
              0.8888888888888888,
              "#fdca26"
             ],
             [
              1,
              "#f0f921"
             ]
            ],
            "type": "heatmapgl"
           }
          ],
          "histogram": [
           {
            "marker": {
             "colorbar": {
              "outlinewidth": 0,
              "ticks": ""
             }
            },
            "type": "histogram"
           }
          ],
          "histogram2d": [
           {
            "colorbar": {
             "outlinewidth": 0,
             "ticks": ""
            },
            "colorscale": [
             [
              0,
              "#0d0887"
             ],
             [
              0.1111111111111111,
              "#46039f"
             ],
             [
              0.2222222222222222,
              "#7201a8"
             ],
             [
              0.3333333333333333,
              "#9c179e"
             ],
             [
              0.4444444444444444,
              "#bd3786"
             ],
             [
              0.5555555555555556,
              "#d8576b"
             ],
             [
              0.6666666666666666,
              "#ed7953"
             ],
             [
              0.7777777777777778,
              "#fb9f3a"
             ],
             [
              0.8888888888888888,
              "#fdca26"
             ],
             [
              1,
              "#f0f921"
             ]
            ],
            "type": "histogram2d"
           }
          ],
          "histogram2dcontour": [
           {
            "colorbar": {
             "outlinewidth": 0,
             "ticks": ""
            },
            "colorscale": [
             [
              0,
              "#0d0887"
             ],
             [
              0.1111111111111111,
              "#46039f"
             ],
             [
              0.2222222222222222,
              "#7201a8"
             ],
             [
              0.3333333333333333,
              "#9c179e"
             ],
             [
              0.4444444444444444,
              "#bd3786"
             ],
             [
              0.5555555555555556,
              "#d8576b"
             ],
             [
              0.6666666666666666,
              "#ed7953"
             ],
             [
              0.7777777777777778,
              "#fb9f3a"
             ],
             [
              0.8888888888888888,
              "#fdca26"
             ],
             [
              1,
              "#f0f921"
             ]
            ],
            "type": "histogram2dcontour"
           }
          ],
          "mesh3d": [
           {
            "colorbar": {
             "outlinewidth": 0,
             "ticks": ""
            },
            "type": "mesh3d"
           }
          ],
          "parcoords": [
           {
            "line": {
             "colorbar": {
              "outlinewidth": 0,
              "ticks": ""
             }
            },
            "type": "parcoords"
           }
          ],
          "pie": [
           {
            "automargin": true,
            "type": "pie"
           }
          ],
          "scatter": [
           {
            "marker": {
             "colorbar": {
              "outlinewidth": 0,
              "ticks": ""
             }
            },
            "type": "scatter"
           }
          ],
          "scatter3d": [
           {
            "line": {
             "colorbar": {
              "outlinewidth": 0,
              "ticks": ""
             }
            },
            "marker": {
             "colorbar": {
              "outlinewidth": 0,
              "ticks": ""
             }
            },
            "type": "scatter3d"
           }
          ],
          "scattercarpet": [
           {
            "marker": {
             "colorbar": {
              "outlinewidth": 0,
              "ticks": ""
             }
            },
            "type": "scattercarpet"
           }
          ],
          "scattergeo": [
           {
            "marker": {
             "colorbar": {
              "outlinewidth": 0,
              "ticks": ""
             }
            },
            "type": "scattergeo"
           }
          ],
          "scattergl": [
           {
            "marker": {
             "colorbar": {
              "outlinewidth": 0,
              "ticks": ""
             }
            },
            "type": "scattergl"
           }
          ],
          "scattermapbox": [
           {
            "marker": {
             "colorbar": {
              "outlinewidth": 0,
              "ticks": ""
             }
            },
            "type": "scattermapbox"
           }
          ],
          "scatterpolar": [
           {
            "marker": {
             "colorbar": {
              "outlinewidth": 0,
              "ticks": ""
             }
            },
            "type": "scatterpolar"
           }
          ],
          "scatterpolargl": [
           {
            "marker": {
             "colorbar": {
              "outlinewidth": 0,
              "ticks": ""
             }
            },
            "type": "scatterpolargl"
           }
          ],
          "scatterternary": [
           {
            "marker": {
             "colorbar": {
              "outlinewidth": 0,
              "ticks": ""
             }
            },
            "type": "scatterternary"
           }
          ],
          "surface": [
           {
            "colorbar": {
             "outlinewidth": 0,
             "ticks": ""
            },
            "colorscale": [
             [
              0,
              "#0d0887"
             ],
             [
              0.1111111111111111,
              "#46039f"
             ],
             [
              0.2222222222222222,
              "#7201a8"
             ],
             [
              0.3333333333333333,
              "#9c179e"
             ],
             [
              0.4444444444444444,
              "#bd3786"
             ],
             [
              0.5555555555555556,
              "#d8576b"
             ],
             [
              0.6666666666666666,
              "#ed7953"
             ],
             [
              0.7777777777777778,
              "#fb9f3a"
             ],
             [
              0.8888888888888888,
              "#fdca26"
             ],
             [
              1,
              "#f0f921"
             ]
            ],
            "type": "surface"
           }
          ],
          "table": [
           {
            "cells": {
             "fill": {
              "color": "#EBF0F8"
             },
             "line": {
              "color": "white"
             }
            },
            "header": {
             "fill": {
              "color": "#C8D4E3"
             },
             "line": {
              "color": "white"
             }
            },
            "type": "table"
           }
          ]
         },
         "layout": {
          "annotationdefaults": {
           "arrowcolor": "#2a3f5f",
           "arrowhead": 0,
           "arrowwidth": 1
          },
          "coloraxis": {
           "colorbar": {
            "outlinewidth": 0,
            "ticks": ""
           }
          },
          "colorscale": {
           "diverging": [
            [
             0,
             "#8e0152"
            ],
            [
             0.1,
             "#c51b7d"
            ],
            [
             0.2,
             "#de77ae"
            ],
            [
             0.3,
             "#f1b6da"
            ],
            [
             0.4,
             "#fde0ef"
            ],
            [
             0.5,
             "#f7f7f7"
            ],
            [
             0.6,
             "#e6f5d0"
            ],
            [
             0.7,
             "#b8e186"
            ],
            [
             0.8,
             "#7fbc41"
            ],
            [
             0.9,
             "#4d9221"
            ],
            [
             1,
             "#276419"
            ]
           ],
           "sequential": [
            [
             0,
             "#0d0887"
            ],
            [
             0.1111111111111111,
             "#46039f"
            ],
            [
             0.2222222222222222,
             "#7201a8"
            ],
            [
             0.3333333333333333,
             "#9c179e"
            ],
            [
             0.4444444444444444,
             "#bd3786"
            ],
            [
             0.5555555555555556,
             "#d8576b"
            ],
            [
             0.6666666666666666,
             "#ed7953"
            ],
            [
             0.7777777777777778,
             "#fb9f3a"
            ],
            [
             0.8888888888888888,
             "#fdca26"
            ],
            [
             1,
             "#f0f921"
            ]
           ],
           "sequentialminus": [
            [
             0,
             "#0d0887"
            ],
            [
             0.1111111111111111,
             "#46039f"
            ],
            [
             0.2222222222222222,
             "#7201a8"
            ],
            [
             0.3333333333333333,
             "#9c179e"
            ],
            [
             0.4444444444444444,
             "#bd3786"
            ],
            [
             0.5555555555555556,
             "#d8576b"
            ],
            [
             0.6666666666666666,
             "#ed7953"
            ],
            [
             0.7777777777777778,
             "#fb9f3a"
            ],
            [
             0.8888888888888888,
             "#fdca26"
            ],
            [
             1,
             "#f0f921"
            ]
           ]
          },
          "colorway": [
           "#636efa",
           "#EF553B",
           "#00cc96",
           "#ab63fa",
           "#FFA15A",
           "#19d3f3",
           "#FF6692",
           "#B6E880",
           "#FF97FF",
           "#FECB52"
          ],
          "font": {
           "color": "#2a3f5f"
          },
          "geo": {
           "bgcolor": "white",
           "lakecolor": "white",
           "landcolor": "#E5ECF6",
           "showlakes": true,
           "showland": true,
           "subunitcolor": "white"
          },
          "hoverlabel": {
           "align": "left"
          },
          "hovermode": "closest",
          "mapbox": {
           "style": "light"
          },
          "paper_bgcolor": "white",
          "plot_bgcolor": "#E5ECF6",
          "polar": {
           "angularaxis": {
            "gridcolor": "white",
            "linecolor": "white",
            "ticks": ""
           },
           "bgcolor": "#E5ECF6",
           "radialaxis": {
            "gridcolor": "white",
            "linecolor": "white",
            "ticks": ""
           }
          },
          "scene": {
           "xaxis": {
            "backgroundcolor": "#E5ECF6",
            "gridcolor": "white",
            "gridwidth": 2,
            "linecolor": "white",
            "showbackground": true,
            "ticks": "",
            "zerolinecolor": "white"
           },
           "yaxis": {
            "backgroundcolor": "#E5ECF6",
            "gridcolor": "white",
            "gridwidth": 2,
            "linecolor": "white",
            "showbackground": true,
            "ticks": "",
            "zerolinecolor": "white"
           },
           "zaxis": {
            "backgroundcolor": "#E5ECF6",
            "gridcolor": "white",
            "gridwidth": 2,
            "linecolor": "white",
            "showbackground": true,
            "ticks": "",
            "zerolinecolor": "white"
           }
          },
          "shapedefaults": {
           "line": {
            "color": "#2a3f5f"
           }
          },
          "ternary": {
           "aaxis": {
            "gridcolor": "white",
            "linecolor": "white",
            "ticks": ""
           },
           "baxis": {
            "gridcolor": "white",
            "linecolor": "white",
            "ticks": ""
           },
           "bgcolor": "#E5ECF6",
           "caxis": {
            "gridcolor": "white",
            "linecolor": "white",
            "ticks": ""
           }
          },
          "title": {
           "x": 0.05
          },
          "xaxis": {
           "automargin": true,
           "gridcolor": "white",
           "linecolor": "white",
           "ticks": "",
           "title": {
            "standoff": 15
           },
           "zerolinecolor": "white",
           "zerolinewidth": 2
          },
          "yaxis": {
           "automargin": true,
           "gridcolor": "white",
           "linecolor": "white",
           "ticks": "",
           "title": {
            "standoff": 15
           },
           "zerolinecolor": "white",
           "zerolinewidth": 2
          }
         }
        },
        "title": {
         "font": {
          "color": "#4D5663"
         }
        },
        "xaxis": {
         "gridcolor": "#E1E5ED",
         "showgrid": true,
         "tickfont": {
          "color": "#4D5663"
         },
         "title": {
          "font": {
           "color": "#4D5663"
          },
          "text": ""
         },
         "zerolinecolor": "#E1E5ED"
        },
        "yaxis": {
         "gridcolor": "#E1E5ED",
         "showgrid": true,
         "tickfont": {
          "color": "#4D5663"
         },
         "title": {
          "font": {
           "color": "#4D5663"
          },
          "text": ""
         },
         "zerolinecolor": "#E1E5ED"
        }
       }
      },
      "text/html": [
       "<div>\n",
       "        \n",
       "        \n",
       "            <div id=\"059ce684-d513-4c62-8ae0-11582f138997\" class=\"plotly-graph-div\" style=\"height:525px; width:100%;\"></div>\n",
       "            <script type=\"text/javascript\">\n",
       "                require([\"plotly\"], function(Plotly) {\n",
       "                    window.PLOTLYENV=window.PLOTLYENV || {};\n",
       "                    window.PLOTLYENV.BASE_URL='https://plot.ly';\n",
       "                    \n",
       "                if (document.getElementById(\"059ce684-d513-4c62-8ae0-11582f138997\")) {\n",
       "                    Plotly.newPlot(\n",
       "                        '059ce684-d513-4c62-8ae0-11582f138997',\n",
       "                        [{\"line\": {\"color\": \"rgba(255, 153, 51, 1.0)\", \"dash\": \"solid\", \"shape\": \"linear\", \"width\": 1.3}, \"mode\": \"lines\", \"name\": \"A\", \"text\": \"\", \"type\": \"scatter\", \"x\": [0, 1, 2, 3, 4, 5, 6, 7, 8, 9, 10, 11, 12, 13, 14, 15, 16, 17, 18, 19, 20, 21, 22, 23, 24, 25, 26, 27, 28, 29, 30, 31, 32, 33, 34, 35, 36, 37, 38, 39, 40, 41, 42, 43, 44, 45, 46, 47, 48, 49, 50, 51, 52, 53, 54, 55, 56, 57, 58, 59, 60, 61, 62, 63, 64, 65, 66, 67, 68, 69, 70, 71, 72, 73, 74, 75, 76, 77, 78, 79, 80, 81, 82, 83, 84, 85, 86, 87, 88, 89, 90, 91, 92, 93, 94, 95, 96, 97, 98, 99], \"y\": [1.4057168758225187, 0.09635109794516898, -0.8075775662482514, 1.85671902279818, 1.3564610889782882, -1.0665015699326987, -0.3215134793832769, 2.2006939363165583, -0.0642731305817795, -0.06722249427021736, -0.7606245671921829, -0.011501944221071154, 0.41632838029502583, 0.08283379610948835, 0.6973631246869717, 1.3319206881954702, 1.0618863974579766, -1.032164232081873, 0.08631207258907114, -0.8749170327076585, 0.9561424070698766, 2.0812454986913953, 0.013611597742900088, 2.010755001659486, -0.3840367437614046, -0.48611375514496025, -1.0010787717614296, -0.7111060970108366, -0.88155225575621, -0.7912570519536614, -0.8482443659483541, 0.009417046372797853, -0.6613874723923325, -0.43179805587229253, -1.1868260308228515, -1.3010165341303017, 1.0793955367330281, -1.21888688132927, 1.7860641751165047, 0.799656633173967, -0.5334780327036241, -1.209424809475077, -1.1424053312617162, 1.2579717508561836, -2.0605485025033214, 0.13710078395039346, -0.5916349564207652, 0.3029899541504856, -0.22663502770322, -0.5804854045400992, -1.9025506699911556, 0.11876147332063057, 0.9257965150343771, -0.18073318129062516, 1.5055537662684682, -0.8089910678807307, -0.11721228265202219, -0.5997238871075966, -1.142021786149684, 0.09936348427841284, 1.4931562081498957, -1.5547024729001584, 0.5910489953515512, -0.059929917251002024, 1.0696616107968673, 0.8021825757324219, 1.439330784471317, -0.6110907124127478, 1.0024882398083432, -1.7022888335987154, 0.05188306699545878, 1.7097829525296082, -1.5080847746237727, 0.6911601517780541, -1.0036454775392192, 0.8135518250358234, -0.9300649797636137, -0.21514900583841184, 0.7078344365890838, 0.04089091390206245, 0.10570034421779602, 2.615277534759449, -0.3407781816207968, -0.7062667539668542, 0.7414974982831658, -0.9158253246310815, -0.4412896880881209, 1.5879126191662924, 0.0021807237198163483, 0.4941846844869749, 0.7951021730994977, -0.9137616880373952, -1.9780362146807235, -0.7076722808592804, -1.8884123353793303, 0.7626559205689569, -1.6959998148682438, 0.07953368201121154, 0.7781058966122304, 1.27600917408759]}, {\"line\": {\"color\": \"rgba(55, 128, 191, 1.0)\", \"dash\": \"solid\", \"shape\": \"linear\", \"width\": 1.3}, \"mode\": \"lines\", \"name\": \"B\", \"text\": \"\", \"type\": \"scatter\", \"x\": [0, 1, 2, 3, 4, 5, 6, 7, 8, 9, 10, 11, 12, 13, 14, 15, 16, 17, 18, 19, 20, 21, 22, 23, 24, 25, 26, 27, 28, 29, 30, 31, 32, 33, 34, 35, 36, 37, 38, 39, 40, 41, 42, 43, 44, 45, 46, 47, 48, 49, 50, 51, 52, 53, 54, 55, 56, 57, 58, 59, 60, 61, 62, 63, 64, 65, 66, 67, 68, 69, 70, 71, 72, 73, 74, 75, 76, 77, 78, 79, 80, 81, 82, 83, 84, 85, 86, 87, 88, 89, 90, 91, 92, 93, 94, 95, 96, 97, 98, 99], \"y\": [1.3805021359727088, 0.6876562345194515, 1.744426205438441, 1.3482770883045914, -0.634248067300063, -0.034294271166742524, 0.08697205812033731, 0.18165054261005958, -0.4947130519966682, 1.1926577197445511, -0.20717482602811665, -2.5133130507450065, 0.5849565071647904, -1.1419275913432483, -1.0989250107348194, -0.7187949424743807, -0.4925908219897006, -0.8053500686902227, 1.3214954358061495, 0.650458182102288, 0.7831813622092171, 0.07498582897569142, 0.6523450877465203, -0.5783833322107474, 0.31063691916746256, 0.5339759772715772, -0.9341694521216017, 0.1636579101222258, 0.7914756036817695, 0.14946115975322116, 1.655598160883892, 0.7246961444793382, -1.2954830292755444, 0.9695475826517964, -0.2964187051363097, 2.7033995079178443, -0.38178103307087197, 1.1295086160797756, 1.527880017753105, 0.905536015852373, 0.29805175373631065, -0.5754351908083993, 0.29082064681038583, 0.7586137695438394, 1.1349899407660182, 0.6717992725911085, -0.31428779368983534, -0.18220919871777175, 2.1597698090177797, -1.419379997025609, -0.8461014276372388, 0.41864875994912204, 0.8148702380518698, 0.019606695965507532, -1.1837488988129978, 1.1806831481053504, -0.6107919824591864, -0.23111979494516535, -0.9367596799948575, -1.6339807125647547, -1.8372441832889166, 2.5168011421762055, -1.5382411271982206, 0.6254374573450555, -0.29144223018409665, 0.25280094962187494, 0.9341401560731483, 0.4593226701114746, 0.37090012110200604, 2.5485602361509896, -0.2384223669142262, -1.4965726279770937, -0.9143776712501855, 0.6240127588983286, 0.9349261687864068, 1.1302133290065983, -1.9122547142011879, 2.1612111542650148, -1.170401489694811, 1.4844344274345278, 0.425068571796391, 1.0836427308909355, -1.2092550831621383, -0.05373370286349067, -2.329782253481326, 0.9931882640309181, -0.7440493223711631, -0.8690298054021338, -1.3870236796099518, -0.235118566464218, -0.804128615713205, -2.091537810580936, 0.566865783198684, -1.511924883938343, -0.9600094189448816, -0.382769475864104, -0.43678813895890783, 1.4503730185316464, -1.1598452079499255, 0.0007072242767753852]}, {\"line\": {\"color\": \"rgba(50, 171, 96, 1.0)\", \"dash\": \"solid\", \"shape\": \"linear\", \"width\": 1.3}, \"mode\": \"lines\", \"name\": \"C\", \"text\": \"\", \"type\": \"scatter\", \"x\": [0, 1, 2, 3, 4, 5, 6, 7, 8, 9, 10, 11, 12, 13, 14, 15, 16, 17, 18, 19, 20, 21, 22, 23, 24, 25, 26, 27, 28, 29, 30, 31, 32, 33, 34, 35, 36, 37, 38, 39, 40, 41, 42, 43, 44, 45, 46, 47, 48, 49, 50, 51, 52, 53, 54, 55, 56, 57, 58, 59, 60, 61, 62, 63, 64, 65, 66, 67, 68, 69, 70, 71, 72, 73, 74, 75, 76, 77, 78, 79, 80, 81, 82, 83, 84, 85, 86, 87, 88, 89, 90, 91, 92, 93, 94, 95, 96, 97, 98, 99], \"y\": [-1.1315887482993132, -1.043249659417771, -1.9948531746772895, 1.795000966257885, -0.6439270205764843, -0.07599144992076311, -0.8620731306430194, 0.807821347431704, 0.1645823525494116, -0.49705555090732095, 0.11277695324474271, 0.13768702694255086, -0.49497335135905357, -0.37055686394093956, 0.3462421356520415, 0.19217855501706763, 0.6995582206408196, -0.37267108482119066, 1.9162749789438134, 1.7334988933452553, 1.251182443212679, -1.0327078702757677, -1.8831806648318619, -0.1731389197012337, 1.1906164559173318, -1.2376436879881365, 0.5512247370706185, -0.7773953390281098, -0.2145414159475325, 0.08160625235528286, -0.8013126367632013, -0.5169004564348985, 0.114578057733446, 0.2629355821748631, 0.1499105407004821, -1.2797422511235341, -0.2185907991829561, 1.5876256028774887, 1.844734348839343, -0.22537037743304106, -0.3577178964433195, 0.2852652075753454, -0.7957362488414707, 0.152228318070937, -0.8332063901430532, -0.14906978759205242, 2.033481598612253, 0.8060825170977222, 1.5810291360916122, 1.07858888313611, 0.2319701751978771, -0.1867491497701328, -0.7945408640583943, -0.9095698226185984, 0.8251905215614825, -0.8567655124673546, 0.18704912987968247, -0.15721637891871143, 1.2721569476374628, -0.19037233012862115, -0.96458609763036, 1.410741547617211, -1.451864911072176, -0.9675044690625731, -0.7917168423644747, -1.072796793830219, -1.0900923925783632, 0.9391138095792427, 1.1763217705881877, -0.28819859093464983, -0.5828980206044104, 1.4744624076749038, 0.03650023059250771, 0.43319878637361814, -0.34457754693362536, 0.19754823018576603, -0.26991096377234675, 2.6272817860367486, 0.634965451155606, 1.7191188241692776, -0.3311344208925331, 0.7573677922867134, 1.5592178010488686, -1.9237045548603335, 0.4273812145391577, -0.9038966093651511, 1.0095634019675388, 1.233815706015572, -0.5267712715038746, -2.1175558308537017, -0.6526419662081552, -0.4670849734778064, -0.7368599515217935, -0.6893478170257809, -0.20668010608459114, -2.405150714008861, 0.7082636710161015, 0.4311521595364321, -0.07251010714992599, -1.7006410114857302]}, {\"line\": {\"color\": \"rgba(128, 0, 128, 1.0)\", \"dash\": \"solid\", \"shape\": \"linear\", \"width\": 1.3}, \"mode\": \"lines\", \"name\": \"D\", \"text\": \"\", \"type\": \"scatter\", \"x\": [0, 1, 2, 3, 4, 5, 6, 7, 8, 9, 10, 11, 12, 13, 14, 15, 16, 17, 18, 19, 20, 21, 22, 23, 24, 25, 26, 27, 28, 29, 30, 31, 32, 33, 34, 35, 36, 37, 38, 39, 40, 41, 42, 43, 44, 45, 46, 47, 48, 49, 50, 51, 52, 53, 54, 55, 56, 57, 58, 59, 60, 61, 62, 63, 64, 65, 66, 67, 68, 69, 70, 71, 72, 73, 74, 75, 76, 77, 78, 79, 80, 81, 82, 83, 84, 85, 86, 87, 88, 89, 90, 91, 92, 93, 94, 95, 96, 97, 98, 99], \"y\": [-0.07556542121134661, -0.8183199405961011, 1.0334465082732396, -0.6227025938080888, 1.0269451234814744, -1.4309440691028066, 0.33382525333472135, -0.5136943526846811, -0.5726578044637678, -0.054700614757421294, 0.39304570327098487, 0.3450187319889111, 0.37165748052730874, -1.8451143641223184, -0.4346916643049665, 0.9695803086428616, -1.6238583650473877, 0.2091847975870636, -0.8616799361749952, -0.10957913893920151, -0.12991941745315264, 0.6850137018573873, 1.622744931697246, 1.5593626147438386, -1.723786366407721, 0.7329715508939461, 0.39831664748170265, 0.6686707918578688, 0.6765077152561568, -0.590645496453386, 0.34677385573121666, 0.4118791766192136, -0.918647297548565, -1.3039209080506904, 0.521566084351569, -0.06386809916886285, 0.1125454802321883, 0.11329151851463924, 1.0070843116474493, -0.7922136552618687, -1.3660056671284202, 0.3919268139065681, -0.331535756662957, -0.8667660795218105, -1.0656226329031444, -1.1487653763192418, 0.720370537591933, 1.628532426776231, 1.4659105244650705, 0.4536789646423173, -0.3997028352902282, -0.4198680723019248, 0.3529676122922959, 1.3071481008776296, 0.05960064396185711, 0.5014756373675243, 1.6521531412089567, -1.241677422272562, 0.051155118852328846, 0.08146363202689737, -0.5998295036990625, 0.525297261397527, 1.1376606438237558, 0.49111046953841125, 0.5367638826505009, -0.9820432115922464, -0.3380444743033437, -1.0959616364064138, 0.14189700880993317, 1.2256553734534632, -0.899445236677122, -0.499149874869314, -0.2784621153768592, -1.784376134711761, -0.4050614240095866, 0.38175326989240105, 0.1530187742495216, -1.8230955543230376, 0.5210317367175072, 0.33271912972225115, -0.6718359237286943, 0.05927496248327188, -0.9979692802489852, -0.6366550887913068, -0.8977204330863173, -0.009478227360934864, 1.877269962066179, 0.10224615885828611, -1.10394498962729, 0.43485342230923235, 0.6471875563292759, -0.9417404984112272, 1.0126111565103906, -0.5197970022115806, 0.006351587203595149, -0.20772290117180742, 0.9375634333957914, 0.4581473343766965, -0.8169477360465902, 1.408231237100532]}],\n",
       "                        {\"legend\": {\"bgcolor\": \"#F5F6F9\", \"font\": {\"color\": \"#4D5663\"}}, \"paper_bgcolor\": \"#F5F6F9\", \"plot_bgcolor\": \"#F5F6F9\", \"template\": {\"data\": {\"bar\": [{\"error_x\": {\"color\": \"#2a3f5f\"}, \"error_y\": {\"color\": \"#2a3f5f\"}, \"marker\": {\"line\": {\"color\": \"#E5ECF6\", \"width\": 0.5}}, \"type\": \"bar\"}], \"barpolar\": [{\"marker\": {\"line\": {\"color\": \"#E5ECF6\", \"width\": 0.5}}, \"type\": \"barpolar\"}], \"carpet\": [{\"aaxis\": {\"endlinecolor\": \"#2a3f5f\", \"gridcolor\": \"white\", \"linecolor\": \"white\", \"minorgridcolor\": \"white\", \"startlinecolor\": \"#2a3f5f\"}, \"baxis\": {\"endlinecolor\": \"#2a3f5f\", \"gridcolor\": \"white\", \"linecolor\": \"white\", \"minorgridcolor\": \"white\", \"startlinecolor\": \"#2a3f5f\"}, \"type\": \"carpet\"}], \"choropleth\": [{\"colorbar\": {\"outlinewidth\": 0, \"ticks\": \"\"}, \"type\": \"choropleth\"}], \"contour\": [{\"colorbar\": {\"outlinewidth\": 0, \"ticks\": \"\"}, \"colorscale\": [[0.0, \"#0d0887\"], [0.1111111111111111, \"#46039f\"], [0.2222222222222222, \"#7201a8\"], [0.3333333333333333, \"#9c179e\"], [0.4444444444444444, \"#bd3786\"], [0.5555555555555556, \"#d8576b\"], [0.6666666666666666, \"#ed7953\"], [0.7777777777777778, \"#fb9f3a\"], [0.8888888888888888, \"#fdca26\"], [1.0, \"#f0f921\"]], \"type\": \"contour\"}], \"contourcarpet\": [{\"colorbar\": {\"outlinewidth\": 0, \"ticks\": \"\"}, \"type\": \"contourcarpet\"}], \"heatmap\": [{\"colorbar\": {\"outlinewidth\": 0, \"ticks\": \"\"}, \"colorscale\": [[0.0, \"#0d0887\"], [0.1111111111111111, \"#46039f\"], [0.2222222222222222, \"#7201a8\"], [0.3333333333333333, \"#9c179e\"], [0.4444444444444444, \"#bd3786\"], [0.5555555555555556, \"#d8576b\"], [0.6666666666666666, \"#ed7953\"], [0.7777777777777778, \"#fb9f3a\"], [0.8888888888888888, \"#fdca26\"], [1.0, \"#f0f921\"]], \"type\": \"heatmap\"}], \"heatmapgl\": [{\"colorbar\": {\"outlinewidth\": 0, \"ticks\": \"\"}, \"colorscale\": [[0.0, \"#0d0887\"], [0.1111111111111111, \"#46039f\"], [0.2222222222222222, \"#7201a8\"], [0.3333333333333333, \"#9c179e\"], [0.4444444444444444, \"#bd3786\"], [0.5555555555555556, \"#d8576b\"], [0.6666666666666666, \"#ed7953\"], [0.7777777777777778, \"#fb9f3a\"], [0.8888888888888888, \"#fdca26\"], [1.0, \"#f0f921\"]], \"type\": \"heatmapgl\"}], \"histogram\": [{\"marker\": {\"colorbar\": {\"outlinewidth\": 0, \"ticks\": \"\"}}, \"type\": \"histogram\"}], \"histogram2d\": [{\"colorbar\": {\"outlinewidth\": 0, \"ticks\": \"\"}, \"colorscale\": [[0.0, \"#0d0887\"], [0.1111111111111111, \"#46039f\"], [0.2222222222222222, \"#7201a8\"], [0.3333333333333333, \"#9c179e\"], [0.4444444444444444, \"#bd3786\"], [0.5555555555555556, \"#d8576b\"], [0.6666666666666666, \"#ed7953\"], [0.7777777777777778, \"#fb9f3a\"], [0.8888888888888888, \"#fdca26\"], [1.0, \"#f0f921\"]], \"type\": \"histogram2d\"}], \"histogram2dcontour\": [{\"colorbar\": {\"outlinewidth\": 0, \"ticks\": \"\"}, \"colorscale\": [[0.0, \"#0d0887\"], [0.1111111111111111, \"#46039f\"], [0.2222222222222222, \"#7201a8\"], [0.3333333333333333, \"#9c179e\"], [0.4444444444444444, \"#bd3786\"], [0.5555555555555556, \"#d8576b\"], [0.6666666666666666, \"#ed7953\"], [0.7777777777777778, \"#fb9f3a\"], [0.8888888888888888, \"#fdca26\"], [1.0, \"#f0f921\"]], \"type\": \"histogram2dcontour\"}], \"mesh3d\": [{\"colorbar\": {\"outlinewidth\": 0, \"ticks\": \"\"}, \"type\": \"mesh3d\"}], \"parcoords\": [{\"line\": {\"colorbar\": {\"outlinewidth\": 0, \"ticks\": \"\"}}, \"type\": \"parcoords\"}], \"pie\": [{\"automargin\": true, \"type\": \"pie\"}], \"scatter\": [{\"marker\": {\"colorbar\": {\"outlinewidth\": 0, \"ticks\": \"\"}}, \"type\": \"scatter\"}], \"scatter3d\": [{\"line\": {\"colorbar\": {\"outlinewidth\": 0, \"ticks\": \"\"}}, \"marker\": {\"colorbar\": {\"outlinewidth\": 0, \"ticks\": \"\"}}, \"type\": \"scatter3d\"}], \"scattercarpet\": [{\"marker\": {\"colorbar\": {\"outlinewidth\": 0, \"ticks\": \"\"}}, \"type\": \"scattercarpet\"}], \"scattergeo\": [{\"marker\": {\"colorbar\": {\"outlinewidth\": 0, \"ticks\": \"\"}}, \"type\": \"scattergeo\"}], \"scattergl\": [{\"marker\": {\"colorbar\": {\"outlinewidth\": 0, \"ticks\": \"\"}}, \"type\": \"scattergl\"}], \"scattermapbox\": [{\"marker\": {\"colorbar\": {\"outlinewidth\": 0, \"ticks\": \"\"}}, \"type\": \"scattermapbox\"}], \"scatterpolar\": [{\"marker\": {\"colorbar\": {\"outlinewidth\": 0, \"ticks\": \"\"}}, \"type\": \"scatterpolar\"}], \"scatterpolargl\": [{\"marker\": {\"colorbar\": {\"outlinewidth\": 0, \"ticks\": \"\"}}, \"type\": \"scatterpolargl\"}], \"scatterternary\": [{\"marker\": {\"colorbar\": {\"outlinewidth\": 0, \"ticks\": \"\"}}, \"type\": \"scatterternary\"}], \"surface\": [{\"colorbar\": {\"outlinewidth\": 0, \"ticks\": \"\"}, \"colorscale\": [[0.0, \"#0d0887\"], [0.1111111111111111, \"#46039f\"], [0.2222222222222222, \"#7201a8\"], [0.3333333333333333, \"#9c179e\"], [0.4444444444444444, \"#bd3786\"], [0.5555555555555556, \"#d8576b\"], [0.6666666666666666, \"#ed7953\"], [0.7777777777777778, \"#fb9f3a\"], [0.8888888888888888, \"#fdca26\"], [1.0, \"#f0f921\"]], \"type\": \"surface\"}], \"table\": [{\"cells\": {\"fill\": {\"color\": \"#EBF0F8\"}, \"line\": {\"color\": \"white\"}}, \"header\": {\"fill\": {\"color\": \"#C8D4E3\"}, \"line\": {\"color\": \"white\"}}, \"type\": \"table\"}]}, \"layout\": {\"annotationdefaults\": {\"arrowcolor\": \"#2a3f5f\", \"arrowhead\": 0, \"arrowwidth\": 1}, \"coloraxis\": {\"colorbar\": {\"outlinewidth\": 0, \"ticks\": \"\"}}, \"colorscale\": {\"diverging\": [[0, \"#8e0152\"], [0.1, \"#c51b7d\"], [0.2, \"#de77ae\"], [0.3, \"#f1b6da\"], [0.4, \"#fde0ef\"], [0.5, \"#f7f7f7\"], [0.6, \"#e6f5d0\"], [0.7, \"#b8e186\"], [0.8, \"#7fbc41\"], [0.9, \"#4d9221\"], [1, \"#276419\"]], \"sequential\": [[0.0, \"#0d0887\"], [0.1111111111111111, \"#46039f\"], [0.2222222222222222, \"#7201a8\"], [0.3333333333333333, \"#9c179e\"], [0.4444444444444444, \"#bd3786\"], [0.5555555555555556, \"#d8576b\"], [0.6666666666666666, \"#ed7953\"], [0.7777777777777778, \"#fb9f3a\"], [0.8888888888888888, \"#fdca26\"], [1.0, \"#f0f921\"]], \"sequentialminus\": [[0.0, \"#0d0887\"], [0.1111111111111111, \"#46039f\"], [0.2222222222222222, \"#7201a8\"], [0.3333333333333333, \"#9c179e\"], [0.4444444444444444, \"#bd3786\"], [0.5555555555555556, \"#d8576b\"], [0.6666666666666666, \"#ed7953\"], [0.7777777777777778, \"#fb9f3a\"], [0.8888888888888888, \"#fdca26\"], [1.0, \"#f0f921\"]]}, \"colorway\": [\"#636efa\", \"#EF553B\", \"#00cc96\", \"#ab63fa\", \"#FFA15A\", \"#19d3f3\", \"#FF6692\", \"#B6E880\", \"#FF97FF\", \"#FECB52\"], \"font\": {\"color\": \"#2a3f5f\"}, \"geo\": {\"bgcolor\": \"white\", \"lakecolor\": \"white\", \"landcolor\": \"#E5ECF6\", \"showlakes\": true, \"showland\": true, \"subunitcolor\": \"white\"}, \"hoverlabel\": {\"align\": \"left\"}, \"hovermode\": \"closest\", \"mapbox\": {\"style\": \"light\"}, \"paper_bgcolor\": \"white\", \"plot_bgcolor\": \"#E5ECF6\", \"polar\": {\"angularaxis\": {\"gridcolor\": \"white\", \"linecolor\": \"white\", \"ticks\": \"\"}, \"bgcolor\": \"#E5ECF6\", \"radialaxis\": {\"gridcolor\": \"white\", \"linecolor\": \"white\", \"ticks\": \"\"}}, \"scene\": {\"xaxis\": {\"backgroundcolor\": \"#E5ECF6\", \"gridcolor\": \"white\", \"gridwidth\": 2, \"linecolor\": \"white\", \"showbackground\": true, \"ticks\": \"\", \"zerolinecolor\": \"white\"}, \"yaxis\": {\"backgroundcolor\": \"#E5ECF6\", \"gridcolor\": \"white\", \"gridwidth\": 2, \"linecolor\": \"white\", \"showbackground\": true, \"ticks\": \"\", \"zerolinecolor\": \"white\"}, \"zaxis\": {\"backgroundcolor\": \"#E5ECF6\", \"gridcolor\": \"white\", \"gridwidth\": 2, \"linecolor\": \"white\", \"showbackground\": true, \"ticks\": \"\", \"zerolinecolor\": \"white\"}}, \"shapedefaults\": {\"line\": {\"color\": \"#2a3f5f\"}}, \"ternary\": {\"aaxis\": {\"gridcolor\": \"white\", \"linecolor\": \"white\", \"ticks\": \"\"}, \"baxis\": {\"gridcolor\": \"white\", \"linecolor\": \"white\", \"ticks\": \"\"}, \"bgcolor\": \"#E5ECF6\", \"caxis\": {\"gridcolor\": \"white\", \"linecolor\": \"white\", \"ticks\": \"\"}}, \"title\": {\"x\": 0.05}, \"xaxis\": {\"automargin\": true, \"gridcolor\": \"white\", \"linecolor\": \"white\", \"ticks\": \"\", \"title\": {\"standoff\": 15}, \"zerolinecolor\": \"white\", \"zerolinewidth\": 2}, \"yaxis\": {\"automargin\": true, \"gridcolor\": \"white\", \"linecolor\": \"white\", \"ticks\": \"\", \"title\": {\"standoff\": 15}, \"zerolinecolor\": \"white\", \"zerolinewidth\": 2}}}, \"title\": {\"font\": {\"color\": \"#4D5663\"}}, \"xaxis\": {\"gridcolor\": \"#E1E5ED\", \"showgrid\": true, \"tickfont\": {\"color\": \"#4D5663\"}, \"title\": {\"font\": {\"color\": \"#4D5663\"}, \"text\": \"\"}, \"zerolinecolor\": \"#E1E5ED\"}, \"yaxis\": {\"gridcolor\": \"#E1E5ED\", \"showgrid\": true, \"tickfont\": {\"color\": \"#4D5663\"}, \"title\": {\"font\": {\"color\": \"#4D5663\"}, \"text\": \"\"}, \"zerolinecolor\": \"#E1E5ED\"}},\n",
       "                        {\"showLink\": true, \"linkText\": \"Export to plot.ly\", \"plotlyServerURL\": \"https://plot.ly\", \"responsive\": true}\n",
       "                    ).then(function(){\n",
       "                            \n",
       "var gd = document.getElementById('059ce684-d513-4c62-8ae0-11582f138997');\n",
       "var x = new MutationObserver(function (mutations, observer) {{\n",
       "        var display = window.getComputedStyle(gd).display;\n",
       "        if (!display || display === 'none') {{\n",
       "            console.log([gd, 'removed!']);\n",
       "            Plotly.purge(gd);\n",
       "            observer.disconnect();\n",
       "        }}\n",
       "}});\n",
       "\n",
       "// Listen for the removal of the full notebook cells\n",
       "var notebookContainer = gd.closest('#notebook-container');\n",
       "if (notebookContainer) {{\n",
       "    x.observe(notebookContainer, {childList: true});\n",
       "}}\n",
       "\n",
       "// Listen for the clearing of the current output cell\n",
       "var outputEl = gd.closest('.output');\n",
       "if (outputEl) {{\n",
       "    x.observe(outputEl, {childList: true});\n",
       "}}\n",
       "\n",
       "                        })\n",
       "                };\n",
       "                });\n",
       "            </script>\n",
       "        </div>"
      ]
     },
     "metadata": {},
     "output_type": "display_data"
    }
   ],
   "source": [
    "df.iplot()"
   ]
  },
  {
   "cell_type": "markdown",
   "metadata": {},
   "source": [
    "## Bar Plots"
   ]
  },
  {
   "cell_type": "code",
   "execution_count": 12,
   "metadata": {},
   "outputs": [
    {
     "data": {
      "application/vnd.plotly.v1+json": {
       "config": {
        "linkText": "Export to plot.ly",
        "plotlyServerURL": "https://plot.ly",
        "showLink": true
       },
       "data": [
        {
         "marker": {
          "color": "rgba(255, 153, 51, 0.6)",
          "line": {
           "color": "rgba(255, 153, 51, 1.0)",
           "width": 1
          }
         },
         "name": "Values",
         "orientation": "v",
         "text": "",
         "type": "bar",
         "x": [
          "A",
          "B",
          "C"
         ],
         "y": [
          32,
          43,
          50
         ]
        }
       ],
       "layout": {
        "legend": {
         "bgcolor": "#F5F6F9",
         "font": {
          "color": "#4D5663"
         }
        },
        "paper_bgcolor": "#F5F6F9",
        "plot_bgcolor": "#F5F6F9",
        "template": {
         "data": {
          "bar": [
           {
            "error_x": {
             "color": "#2a3f5f"
            },
            "error_y": {
             "color": "#2a3f5f"
            },
            "marker": {
             "line": {
              "color": "#E5ECF6",
              "width": 0.5
             }
            },
            "type": "bar"
           }
          ],
          "barpolar": [
           {
            "marker": {
             "line": {
              "color": "#E5ECF6",
              "width": 0.5
             }
            },
            "type": "barpolar"
           }
          ],
          "carpet": [
           {
            "aaxis": {
             "endlinecolor": "#2a3f5f",
             "gridcolor": "white",
             "linecolor": "white",
             "minorgridcolor": "white",
             "startlinecolor": "#2a3f5f"
            },
            "baxis": {
             "endlinecolor": "#2a3f5f",
             "gridcolor": "white",
             "linecolor": "white",
             "minorgridcolor": "white",
             "startlinecolor": "#2a3f5f"
            },
            "type": "carpet"
           }
          ],
          "choropleth": [
           {
            "colorbar": {
             "outlinewidth": 0,
             "ticks": ""
            },
            "type": "choropleth"
           }
          ],
          "contour": [
           {
            "colorbar": {
             "outlinewidth": 0,
             "ticks": ""
            },
            "colorscale": [
             [
              0,
              "#0d0887"
             ],
             [
              0.1111111111111111,
              "#46039f"
             ],
             [
              0.2222222222222222,
              "#7201a8"
             ],
             [
              0.3333333333333333,
              "#9c179e"
             ],
             [
              0.4444444444444444,
              "#bd3786"
             ],
             [
              0.5555555555555556,
              "#d8576b"
             ],
             [
              0.6666666666666666,
              "#ed7953"
             ],
             [
              0.7777777777777778,
              "#fb9f3a"
             ],
             [
              0.8888888888888888,
              "#fdca26"
             ],
             [
              1,
              "#f0f921"
             ]
            ],
            "type": "contour"
           }
          ],
          "contourcarpet": [
           {
            "colorbar": {
             "outlinewidth": 0,
             "ticks": ""
            },
            "type": "contourcarpet"
           }
          ],
          "heatmap": [
           {
            "colorbar": {
             "outlinewidth": 0,
             "ticks": ""
            },
            "colorscale": [
             [
              0,
              "#0d0887"
             ],
             [
              0.1111111111111111,
              "#46039f"
             ],
             [
              0.2222222222222222,
              "#7201a8"
             ],
             [
              0.3333333333333333,
              "#9c179e"
             ],
             [
              0.4444444444444444,
              "#bd3786"
             ],
             [
              0.5555555555555556,
              "#d8576b"
             ],
             [
              0.6666666666666666,
              "#ed7953"
             ],
             [
              0.7777777777777778,
              "#fb9f3a"
             ],
             [
              0.8888888888888888,
              "#fdca26"
             ],
             [
              1,
              "#f0f921"
             ]
            ],
            "type": "heatmap"
           }
          ],
          "heatmapgl": [
           {
            "colorbar": {
             "outlinewidth": 0,
             "ticks": ""
            },
            "colorscale": [
             [
              0,
              "#0d0887"
             ],
             [
              0.1111111111111111,
              "#46039f"
             ],
             [
              0.2222222222222222,
              "#7201a8"
             ],
             [
              0.3333333333333333,
              "#9c179e"
             ],
             [
              0.4444444444444444,
              "#bd3786"
             ],
             [
              0.5555555555555556,
              "#d8576b"
             ],
             [
              0.6666666666666666,
              "#ed7953"
             ],
             [
              0.7777777777777778,
              "#fb9f3a"
             ],
             [
              0.8888888888888888,
              "#fdca26"
             ],
             [
              1,
              "#f0f921"
             ]
            ],
            "type": "heatmapgl"
           }
          ],
          "histogram": [
           {
            "marker": {
             "colorbar": {
              "outlinewidth": 0,
              "ticks": ""
             }
            },
            "type": "histogram"
           }
          ],
          "histogram2d": [
           {
            "colorbar": {
             "outlinewidth": 0,
             "ticks": ""
            },
            "colorscale": [
             [
              0,
              "#0d0887"
             ],
             [
              0.1111111111111111,
              "#46039f"
             ],
             [
              0.2222222222222222,
              "#7201a8"
             ],
             [
              0.3333333333333333,
              "#9c179e"
             ],
             [
              0.4444444444444444,
              "#bd3786"
             ],
             [
              0.5555555555555556,
              "#d8576b"
             ],
             [
              0.6666666666666666,
              "#ed7953"
             ],
             [
              0.7777777777777778,
              "#fb9f3a"
             ],
             [
              0.8888888888888888,
              "#fdca26"
             ],
             [
              1,
              "#f0f921"
             ]
            ],
            "type": "histogram2d"
           }
          ],
          "histogram2dcontour": [
           {
            "colorbar": {
             "outlinewidth": 0,
             "ticks": ""
            },
            "colorscale": [
             [
              0,
              "#0d0887"
             ],
             [
              0.1111111111111111,
              "#46039f"
             ],
             [
              0.2222222222222222,
              "#7201a8"
             ],
             [
              0.3333333333333333,
              "#9c179e"
             ],
             [
              0.4444444444444444,
              "#bd3786"
             ],
             [
              0.5555555555555556,
              "#d8576b"
             ],
             [
              0.6666666666666666,
              "#ed7953"
             ],
             [
              0.7777777777777778,
              "#fb9f3a"
             ],
             [
              0.8888888888888888,
              "#fdca26"
             ],
             [
              1,
              "#f0f921"
             ]
            ],
            "type": "histogram2dcontour"
           }
          ],
          "mesh3d": [
           {
            "colorbar": {
             "outlinewidth": 0,
             "ticks": ""
            },
            "type": "mesh3d"
           }
          ],
          "parcoords": [
           {
            "line": {
             "colorbar": {
              "outlinewidth": 0,
              "ticks": ""
             }
            },
            "type": "parcoords"
           }
          ],
          "pie": [
           {
            "automargin": true,
            "type": "pie"
           }
          ],
          "scatter": [
           {
            "marker": {
             "colorbar": {
              "outlinewidth": 0,
              "ticks": ""
             }
            },
            "type": "scatter"
           }
          ],
          "scatter3d": [
           {
            "line": {
             "colorbar": {
              "outlinewidth": 0,
              "ticks": ""
             }
            },
            "marker": {
             "colorbar": {
              "outlinewidth": 0,
              "ticks": ""
             }
            },
            "type": "scatter3d"
           }
          ],
          "scattercarpet": [
           {
            "marker": {
             "colorbar": {
              "outlinewidth": 0,
              "ticks": ""
             }
            },
            "type": "scattercarpet"
           }
          ],
          "scattergeo": [
           {
            "marker": {
             "colorbar": {
              "outlinewidth": 0,
              "ticks": ""
             }
            },
            "type": "scattergeo"
           }
          ],
          "scattergl": [
           {
            "marker": {
             "colorbar": {
              "outlinewidth": 0,
              "ticks": ""
             }
            },
            "type": "scattergl"
           }
          ],
          "scattermapbox": [
           {
            "marker": {
             "colorbar": {
              "outlinewidth": 0,
              "ticks": ""
             }
            },
            "type": "scattermapbox"
           }
          ],
          "scatterpolar": [
           {
            "marker": {
             "colorbar": {
              "outlinewidth": 0,
              "ticks": ""
             }
            },
            "type": "scatterpolar"
           }
          ],
          "scatterpolargl": [
           {
            "marker": {
             "colorbar": {
              "outlinewidth": 0,
              "ticks": ""
             }
            },
            "type": "scatterpolargl"
           }
          ],
          "scatterternary": [
           {
            "marker": {
             "colorbar": {
              "outlinewidth": 0,
              "ticks": ""
             }
            },
            "type": "scatterternary"
           }
          ],
          "surface": [
           {
            "colorbar": {
             "outlinewidth": 0,
             "ticks": ""
            },
            "colorscale": [
             [
              0,
              "#0d0887"
             ],
             [
              0.1111111111111111,
              "#46039f"
             ],
             [
              0.2222222222222222,
              "#7201a8"
             ],
             [
              0.3333333333333333,
              "#9c179e"
             ],
             [
              0.4444444444444444,
              "#bd3786"
             ],
             [
              0.5555555555555556,
              "#d8576b"
             ],
             [
              0.6666666666666666,
              "#ed7953"
             ],
             [
              0.7777777777777778,
              "#fb9f3a"
             ],
             [
              0.8888888888888888,
              "#fdca26"
             ],
             [
              1,
              "#f0f921"
             ]
            ],
            "type": "surface"
           }
          ],
          "table": [
           {
            "cells": {
             "fill": {
              "color": "#EBF0F8"
             },
             "line": {
              "color": "white"
             }
            },
            "header": {
             "fill": {
              "color": "#C8D4E3"
             },
             "line": {
              "color": "white"
             }
            },
            "type": "table"
           }
          ]
         },
         "layout": {
          "annotationdefaults": {
           "arrowcolor": "#2a3f5f",
           "arrowhead": 0,
           "arrowwidth": 1
          },
          "coloraxis": {
           "colorbar": {
            "outlinewidth": 0,
            "ticks": ""
           }
          },
          "colorscale": {
           "diverging": [
            [
             0,
             "#8e0152"
            ],
            [
             0.1,
             "#c51b7d"
            ],
            [
             0.2,
             "#de77ae"
            ],
            [
             0.3,
             "#f1b6da"
            ],
            [
             0.4,
             "#fde0ef"
            ],
            [
             0.5,
             "#f7f7f7"
            ],
            [
             0.6,
             "#e6f5d0"
            ],
            [
             0.7,
             "#b8e186"
            ],
            [
             0.8,
             "#7fbc41"
            ],
            [
             0.9,
             "#4d9221"
            ],
            [
             1,
             "#276419"
            ]
           ],
           "sequential": [
            [
             0,
             "#0d0887"
            ],
            [
             0.1111111111111111,
             "#46039f"
            ],
            [
             0.2222222222222222,
             "#7201a8"
            ],
            [
             0.3333333333333333,
             "#9c179e"
            ],
            [
             0.4444444444444444,
             "#bd3786"
            ],
            [
             0.5555555555555556,
             "#d8576b"
            ],
            [
             0.6666666666666666,
             "#ed7953"
            ],
            [
             0.7777777777777778,
             "#fb9f3a"
            ],
            [
             0.8888888888888888,
             "#fdca26"
            ],
            [
             1,
             "#f0f921"
            ]
           ],
           "sequentialminus": [
            [
             0,
             "#0d0887"
            ],
            [
             0.1111111111111111,
             "#46039f"
            ],
            [
             0.2222222222222222,
             "#7201a8"
            ],
            [
             0.3333333333333333,
             "#9c179e"
            ],
            [
             0.4444444444444444,
             "#bd3786"
            ],
            [
             0.5555555555555556,
             "#d8576b"
            ],
            [
             0.6666666666666666,
             "#ed7953"
            ],
            [
             0.7777777777777778,
             "#fb9f3a"
            ],
            [
             0.8888888888888888,
             "#fdca26"
            ],
            [
             1,
             "#f0f921"
            ]
           ]
          },
          "colorway": [
           "#636efa",
           "#EF553B",
           "#00cc96",
           "#ab63fa",
           "#FFA15A",
           "#19d3f3",
           "#FF6692",
           "#B6E880",
           "#FF97FF",
           "#FECB52"
          ],
          "font": {
           "color": "#2a3f5f"
          },
          "geo": {
           "bgcolor": "white",
           "lakecolor": "white",
           "landcolor": "#E5ECF6",
           "showlakes": true,
           "showland": true,
           "subunitcolor": "white"
          },
          "hoverlabel": {
           "align": "left"
          },
          "hovermode": "closest",
          "mapbox": {
           "style": "light"
          },
          "paper_bgcolor": "white",
          "plot_bgcolor": "#E5ECF6",
          "polar": {
           "angularaxis": {
            "gridcolor": "white",
            "linecolor": "white",
            "ticks": ""
           },
           "bgcolor": "#E5ECF6",
           "radialaxis": {
            "gridcolor": "white",
            "linecolor": "white",
            "ticks": ""
           }
          },
          "scene": {
           "xaxis": {
            "backgroundcolor": "#E5ECF6",
            "gridcolor": "white",
            "gridwidth": 2,
            "linecolor": "white",
            "showbackground": true,
            "ticks": "",
            "zerolinecolor": "white"
           },
           "yaxis": {
            "backgroundcolor": "#E5ECF6",
            "gridcolor": "white",
            "gridwidth": 2,
            "linecolor": "white",
            "showbackground": true,
            "ticks": "",
            "zerolinecolor": "white"
           },
           "zaxis": {
            "backgroundcolor": "#E5ECF6",
            "gridcolor": "white",
            "gridwidth": 2,
            "linecolor": "white",
            "showbackground": true,
            "ticks": "",
            "zerolinecolor": "white"
           }
          },
          "shapedefaults": {
           "line": {
            "color": "#2a3f5f"
           }
          },
          "ternary": {
           "aaxis": {
            "gridcolor": "white",
            "linecolor": "white",
            "ticks": ""
           },
           "baxis": {
            "gridcolor": "white",
            "linecolor": "white",
            "ticks": ""
           },
           "bgcolor": "#E5ECF6",
           "caxis": {
            "gridcolor": "white",
            "linecolor": "white",
            "ticks": ""
           }
          },
          "title": {
           "x": 0.05
          },
          "xaxis": {
           "automargin": true,
           "gridcolor": "white",
           "linecolor": "white",
           "ticks": "",
           "title": {
            "standoff": 15
           },
           "zerolinecolor": "white",
           "zerolinewidth": 2
          },
          "yaxis": {
           "automargin": true,
           "gridcolor": "white",
           "linecolor": "white",
           "ticks": "",
           "title": {
            "standoff": 15
           },
           "zerolinecolor": "white",
           "zerolinewidth": 2
          }
         }
        },
        "title": {
         "font": {
          "color": "#4D5663"
         }
        },
        "xaxis": {
         "gridcolor": "#E1E5ED",
         "showgrid": true,
         "tickfont": {
          "color": "#4D5663"
         },
         "title": {
          "font": {
           "color": "#4D5663"
          },
          "text": ""
         },
         "zerolinecolor": "#E1E5ED"
        },
        "yaxis": {
         "gridcolor": "#E1E5ED",
         "showgrid": true,
         "tickfont": {
          "color": "#4D5663"
         },
         "title": {
          "font": {
           "color": "#4D5663"
          },
          "text": ""
         },
         "zerolinecolor": "#E1E5ED"
        }
       }
      },
      "text/html": [
       "<div>\n",
       "        \n",
       "        \n",
       "            <div id=\"7a3055ad-3bf0-45b7-a7e5-0a28cdd2c2b6\" class=\"plotly-graph-div\" style=\"height:525px; width:100%;\"></div>\n",
       "            <script type=\"text/javascript\">\n",
       "                require([\"plotly\"], function(Plotly) {\n",
       "                    window.PLOTLYENV=window.PLOTLYENV || {};\n",
       "                    window.PLOTLYENV.BASE_URL='https://plot.ly';\n",
       "                    \n",
       "                if (document.getElementById(\"7a3055ad-3bf0-45b7-a7e5-0a28cdd2c2b6\")) {\n",
       "                    Plotly.newPlot(\n",
       "                        '7a3055ad-3bf0-45b7-a7e5-0a28cdd2c2b6',\n",
       "                        [{\"marker\": {\"color\": \"rgba(255, 153, 51, 0.6)\", \"line\": {\"color\": \"rgba(255, 153, 51, 1.0)\", \"width\": 1}}, \"name\": \"Values\", \"orientation\": \"v\", \"text\": \"\", \"type\": \"bar\", \"x\": [\"A\", \"B\", \"C\"], \"y\": [32, 43, 50]}],\n",
       "                        {\"legend\": {\"bgcolor\": \"#F5F6F9\", \"font\": {\"color\": \"#4D5663\"}}, \"paper_bgcolor\": \"#F5F6F9\", \"plot_bgcolor\": \"#F5F6F9\", \"template\": {\"data\": {\"bar\": [{\"error_x\": {\"color\": \"#2a3f5f\"}, \"error_y\": {\"color\": \"#2a3f5f\"}, \"marker\": {\"line\": {\"color\": \"#E5ECF6\", \"width\": 0.5}}, \"type\": \"bar\"}], \"barpolar\": [{\"marker\": {\"line\": {\"color\": \"#E5ECF6\", \"width\": 0.5}}, \"type\": \"barpolar\"}], \"carpet\": [{\"aaxis\": {\"endlinecolor\": \"#2a3f5f\", \"gridcolor\": \"white\", \"linecolor\": \"white\", \"minorgridcolor\": \"white\", \"startlinecolor\": \"#2a3f5f\"}, \"baxis\": {\"endlinecolor\": \"#2a3f5f\", \"gridcolor\": \"white\", \"linecolor\": \"white\", \"minorgridcolor\": \"white\", \"startlinecolor\": \"#2a3f5f\"}, \"type\": \"carpet\"}], \"choropleth\": [{\"colorbar\": {\"outlinewidth\": 0, \"ticks\": \"\"}, \"type\": \"choropleth\"}], \"contour\": [{\"colorbar\": {\"outlinewidth\": 0, \"ticks\": \"\"}, \"colorscale\": [[0.0, \"#0d0887\"], [0.1111111111111111, \"#46039f\"], [0.2222222222222222, \"#7201a8\"], [0.3333333333333333, \"#9c179e\"], [0.4444444444444444, \"#bd3786\"], [0.5555555555555556, \"#d8576b\"], [0.6666666666666666, \"#ed7953\"], [0.7777777777777778, \"#fb9f3a\"], [0.8888888888888888, \"#fdca26\"], [1.0, \"#f0f921\"]], \"type\": \"contour\"}], \"contourcarpet\": [{\"colorbar\": {\"outlinewidth\": 0, \"ticks\": \"\"}, \"type\": \"contourcarpet\"}], \"heatmap\": [{\"colorbar\": {\"outlinewidth\": 0, \"ticks\": \"\"}, \"colorscale\": [[0.0, \"#0d0887\"], [0.1111111111111111, \"#46039f\"], [0.2222222222222222, \"#7201a8\"], [0.3333333333333333, \"#9c179e\"], [0.4444444444444444, \"#bd3786\"], [0.5555555555555556, \"#d8576b\"], [0.6666666666666666, \"#ed7953\"], [0.7777777777777778, \"#fb9f3a\"], [0.8888888888888888, \"#fdca26\"], [1.0, \"#f0f921\"]], \"type\": \"heatmap\"}], \"heatmapgl\": [{\"colorbar\": {\"outlinewidth\": 0, \"ticks\": \"\"}, \"colorscale\": [[0.0, \"#0d0887\"], [0.1111111111111111, \"#46039f\"], [0.2222222222222222, \"#7201a8\"], [0.3333333333333333, \"#9c179e\"], [0.4444444444444444, \"#bd3786\"], [0.5555555555555556, \"#d8576b\"], [0.6666666666666666, \"#ed7953\"], [0.7777777777777778, \"#fb9f3a\"], [0.8888888888888888, \"#fdca26\"], [1.0, \"#f0f921\"]], \"type\": \"heatmapgl\"}], \"histogram\": [{\"marker\": {\"colorbar\": {\"outlinewidth\": 0, \"ticks\": \"\"}}, \"type\": \"histogram\"}], \"histogram2d\": [{\"colorbar\": {\"outlinewidth\": 0, \"ticks\": \"\"}, \"colorscale\": [[0.0, \"#0d0887\"], [0.1111111111111111, \"#46039f\"], [0.2222222222222222, \"#7201a8\"], [0.3333333333333333, \"#9c179e\"], [0.4444444444444444, \"#bd3786\"], [0.5555555555555556, \"#d8576b\"], [0.6666666666666666, \"#ed7953\"], [0.7777777777777778, \"#fb9f3a\"], [0.8888888888888888, \"#fdca26\"], [1.0, \"#f0f921\"]], \"type\": \"histogram2d\"}], \"histogram2dcontour\": [{\"colorbar\": {\"outlinewidth\": 0, \"ticks\": \"\"}, \"colorscale\": [[0.0, \"#0d0887\"], [0.1111111111111111, \"#46039f\"], [0.2222222222222222, \"#7201a8\"], [0.3333333333333333, \"#9c179e\"], [0.4444444444444444, \"#bd3786\"], [0.5555555555555556, \"#d8576b\"], [0.6666666666666666, \"#ed7953\"], [0.7777777777777778, \"#fb9f3a\"], [0.8888888888888888, \"#fdca26\"], [1.0, \"#f0f921\"]], \"type\": \"histogram2dcontour\"}], \"mesh3d\": [{\"colorbar\": {\"outlinewidth\": 0, \"ticks\": \"\"}, \"type\": \"mesh3d\"}], \"parcoords\": [{\"line\": {\"colorbar\": {\"outlinewidth\": 0, \"ticks\": \"\"}}, \"type\": \"parcoords\"}], \"pie\": [{\"automargin\": true, \"type\": \"pie\"}], \"scatter\": [{\"marker\": {\"colorbar\": {\"outlinewidth\": 0, \"ticks\": \"\"}}, \"type\": \"scatter\"}], \"scatter3d\": [{\"line\": {\"colorbar\": {\"outlinewidth\": 0, \"ticks\": \"\"}}, \"marker\": {\"colorbar\": {\"outlinewidth\": 0, \"ticks\": \"\"}}, \"type\": \"scatter3d\"}], \"scattercarpet\": [{\"marker\": {\"colorbar\": {\"outlinewidth\": 0, \"ticks\": \"\"}}, \"type\": \"scattercarpet\"}], \"scattergeo\": [{\"marker\": {\"colorbar\": {\"outlinewidth\": 0, \"ticks\": \"\"}}, \"type\": \"scattergeo\"}], \"scattergl\": [{\"marker\": {\"colorbar\": {\"outlinewidth\": 0, \"ticks\": \"\"}}, \"type\": \"scattergl\"}], \"scattermapbox\": [{\"marker\": {\"colorbar\": {\"outlinewidth\": 0, \"ticks\": \"\"}}, \"type\": \"scattermapbox\"}], \"scatterpolar\": [{\"marker\": {\"colorbar\": {\"outlinewidth\": 0, \"ticks\": \"\"}}, \"type\": \"scatterpolar\"}], \"scatterpolargl\": [{\"marker\": {\"colorbar\": {\"outlinewidth\": 0, \"ticks\": \"\"}}, \"type\": \"scatterpolargl\"}], \"scatterternary\": [{\"marker\": {\"colorbar\": {\"outlinewidth\": 0, \"ticks\": \"\"}}, \"type\": \"scatterternary\"}], \"surface\": [{\"colorbar\": {\"outlinewidth\": 0, \"ticks\": \"\"}, \"colorscale\": [[0.0, \"#0d0887\"], [0.1111111111111111, \"#46039f\"], [0.2222222222222222, \"#7201a8\"], [0.3333333333333333, \"#9c179e\"], [0.4444444444444444, \"#bd3786\"], [0.5555555555555556, \"#d8576b\"], [0.6666666666666666, \"#ed7953\"], [0.7777777777777778, \"#fb9f3a\"], [0.8888888888888888, \"#fdca26\"], [1.0, \"#f0f921\"]], \"type\": \"surface\"}], \"table\": [{\"cells\": {\"fill\": {\"color\": \"#EBF0F8\"}, \"line\": {\"color\": \"white\"}}, \"header\": {\"fill\": {\"color\": \"#C8D4E3\"}, \"line\": {\"color\": \"white\"}}, \"type\": \"table\"}]}, \"layout\": {\"annotationdefaults\": {\"arrowcolor\": \"#2a3f5f\", \"arrowhead\": 0, \"arrowwidth\": 1}, \"coloraxis\": {\"colorbar\": {\"outlinewidth\": 0, \"ticks\": \"\"}}, \"colorscale\": {\"diverging\": [[0, \"#8e0152\"], [0.1, \"#c51b7d\"], [0.2, \"#de77ae\"], [0.3, \"#f1b6da\"], [0.4, \"#fde0ef\"], [0.5, \"#f7f7f7\"], [0.6, \"#e6f5d0\"], [0.7, \"#b8e186\"], [0.8, \"#7fbc41\"], [0.9, \"#4d9221\"], [1, \"#276419\"]], \"sequential\": [[0.0, \"#0d0887\"], [0.1111111111111111, \"#46039f\"], [0.2222222222222222, \"#7201a8\"], [0.3333333333333333, \"#9c179e\"], [0.4444444444444444, \"#bd3786\"], [0.5555555555555556, \"#d8576b\"], [0.6666666666666666, \"#ed7953\"], [0.7777777777777778, \"#fb9f3a\"], [0.8888888888888888, \"#fdca26\"], [1.0, \"#f0f921\"]], \"sequentialminus\": [[0.0, \"#0d0887\"], [0.1111111111111111, \"#46039f\"], [0.2222222222222222, \"#7201a8\"], [0.3333333333333333, \"#9c179e\"], [0.4444444444444444, \"#bd3786\"], [0.5555555555555556, \"#d8576b\"], [0.6666666666666666, \"#ed7953\"], [0.7777777777777778, \"#fb9f3a\"], [0.8888888888888888, \"#fdca26\"], [1.0, \"#f0f921\"]]}, \"colorway\": [\"#636efa\", \"#EF553B\", \"#00cc96\", \"#ab63fa\", \"#FFA15A\", \"#19d3f3\", \"#FF6692\", \"#B6E880\", \"#FF97FF\", \"#FECB52\"], \"font\": {\"color\": \"#2a3f5f\"}, \"geo\": {\"bgcolor\": \"white\", \"lakecolor\": \"white\", \"landcolor\": \"#E5ECF6\", \"showlakes\": true, \"showland\": true, \"subunitcolor\": \"white\"}, \"hoverlabel\": {\"align\": \"left\"}, \"hovermode\": \"closest\", \"mapbox\": {\"style\": \"light\"}, \"paper_bgcolor\": \"white\", \"plot_bgcolor\": \"#E5ECF6\", \"polar\": {\"angularaxis\": {\"gridcolor\": \"white\", \"linecolor\": \"white\", \"ticks\": \"\"}, \"bgcolor\": \"#E5ECF6\", \"radialaxis\": {\"gridcolor\": \"white\", \"linecolor\": \"white\", \"ticks\": \"\"}}, \"scene\": {\"xaxis\": {\"backgroundcolor\": \"#E5ECF6\", \"gridcolor\": \"white\", \"gridwidth\": 2, \"linecolor\": \"white\", \"showbackground\": true, \"ticks\": \"\", \"zerolinecolor\": \"white\"}, \"yaxis\": {\"backgroundcolor\": \"#E5ECF6\", \"gridcolor\": \"white\", \"gridwidth\": 2, \"linecolor\": \"white\", \"showbackground\": true, \"ticks\": \"\", \"zerolinecolor\": \"white\"}, \"zaxis\": {\"backgroundcolor\": \"#E5ECF6\", \"gridcolor\": \"white\", \"gridwidth\": 2, \"linecolor\": \"white\", \"showbackground\": true, \"ticks\": \"\", \"zerolinecolor\": \"white\"}}, \"shapedefaults\": {\"line\": {\"color\": \"#2a3f5f\"}}, \"ternary\": {\"aaxis\": {\"gridcolor\": \"white\", \"linecolor\": \"white\", \"ticks\": \"\"}, \"baxis\": {\"gridcolor\": \"white\", \"linecolor\": \"white\", \"ticks\": \"\"}, \"bgcolor\": \"#E5ECF6\", \"caxis\": {\"gridcolor\": \"white\", \"linecolor\": \"white\", \"ticks\": \"\"}}, \"title\": {\"x\": 0.05}, \"xaxis\": {\"automargin\": true, \"gridcolor\": \"white\", \"linecolor\": \"white\", \"ticks\": \"\", \"title\": {\"standoff\": 15}, \"zerolinecolor\": \"white\", \"zerolinewidth\": 2}, \"yaxis\": {\"automargin\": true, \"gridcolor\": \"white\", \"linecolor\": \"white\", \"ticks\": \"\", \"title\": {\"standoff\": 15}, \"zerolinecolor\": \"white\", \"zerolinewidth\": 2}}}, \"title\": {\"font\": {\"color\": \"#4D5663\"}}, \"xaxis\": {\"gridcolor\": \"#E1E5ED\", \"showgrid\": true, \"tickfont\": {\"color\": \"#4D5663\"}, \"title\": {\"font\": {\"color\": \"#4D5663\"}, \"text\": \"\"}, \"zerolinecolor\": \"#E1E5ED\"}, \"yaxis\": {\"gridcolor\": \"#E1E5ED\", \"showgrid\": true, \"tickfont\": {\"color\": \"#4D5663\"}, \"title\": {\"font\": {\"color\": \"#4D5663\"}, \"text\": \"\"}, \"zerolinecolor\": \"#E1E5ED\"}},\n",
       "                        {\"showLink\": true, \"linkText\": \"Export to plot.ly\", \"plotlyServerURL\": \"https://plot.ly\", \"responsive\": true}\n",
       "                    ).then(function(){\n",
       "                            \n",
       "var gd = document.getElementById('7a3055ad-3bf0-45b7-a7e5-0a28cdd2c2b6');\n",
       "var x = new MutationObserver(function (mutations, observer) {{\n",
       "        var display = window.getComputedStyle(gd).display;\n",
       "        if (!display || display === 'none') {{\n",
       "            console.log([gd, 'removed!']);\n",
       "            Plotly.purge(gd);\n",
       "            observer.disconnect();\n",
       "        }}\n",
       "}});\n",
       "\n",
       "// Listen for the removal of the full notebook cells\n",
       "var notebookContainer = gd.closest('#notebook-container');\n",
       "if (notebookContainer) {{\n",
       "    x.observe(notebookContainer, {childList: true});\n",
       "}}\n",
       "\n",
       "// Listen for the clearing of the current output cell\n",
       "var outputEl = gd.closest('.output');\n",
       "if (outputEl) {{\n",
       "    x.observe(outputEl, {childList: true});\n",
       "}}\n",
       "\n",
       "                        })\n",
       "                };\n",
       "                });\n",
       "            </script>\n",
       "        </div>"
      ]
     },
     "metadata": {},
     "output_type": "display_data"
    }
   ],
   "source": [
    "df2.iplot(kind='bar',x='Category',y='Values')"
   ]
  },
  {
   "cell_type": "code",
   "execution_count": 13,
   "metadata": {},
   "outputs": [
    {
     "data": {
      "application/vnd.plotly.v1+json": {
       "config": {
        "linkText": "Export to plot.ly",
        "plotlyServerURL": "https://plot.ly",
        "showLink": true
       },
       "data": [
        {
         "marker": {
          "color": "rgba(255, 153, 51, 0.6)",
          "line": {
           "color": "rgba(255, 153, 51, 1.0)",
           "width": 1
          }
         },
         "name": "None",
         "orientation": "v",
         "text": "",
         "type": "bar",
         "x": [
          "A",
          "B",
          "C",
          "D"
         ],
         "y": [
          100,
          100,
          100,
          100
         ]
        }
       ],
       "layout": {
        "legend": {
         "bgcolor": "#F5F6F9",
         "font": {
          "color": "#4D5663"
         }
        },
        "paper_bgcolor": "#F5F6F9",
        "plot_bgcolor": "#F5F6F9",
        "template": {
         "data": {
          "bar": [
           {
            "error_x": {
             "color": "#2a3f5f"
            },
            "error_y": {
             "color": "#2a3f5f"
            },
            "marker": {
             "line": {
              "color": "#E5ECF6",
              "width": 0.5
             }
            },
            "type": "bar"
           }
          ],
          "barpolar": [
           {
            "marker": {
             "line": {
              "color": "#E5ECF6",
              "width": 0.5
             }
            },
            "type": "barpolar"
           }
          ],
          "carpet": [
           {
            "aaxis": {
             "endlinecolor": "#2a3f5f",
             "gridcolor": "white",
             "linecolor": "white",
             "minorgridcolor": "white",
             "startlinecolor": "#2a3f5f"
            },
            "baxis": {
             "endlinecolor": "#2a3f5f",
             "gridcolor": "white",
             "linecolor": "white",
             "minorgridcolor": "white",
             "startlinecolor": "#2a3f5f"
            },
            "type": "carpet"
           }
          ],
          "choropleth": [
           {
            "colorbar": {
             "outlinewidth": 0,
             "ticks": ""
            },
            "type": "choropleth"
           }
          ],
          "contour": [
           {
            "colorbar": {
             "outlinewidth": 0,
             "ticks": ""
            },
            "colorscale": [
             [
              0,
              "#0d0887"
             ],
             [
              0.1111111111111111,
              "#46039f"
             ],
             [
              0.2222222222222222,
              "#7201a8"
             ],
             [
              0.3333333333333333,
              "#9c179e"
             ],
             [
              0.4444444444444444,
              "#bd3786"
             ],
             [
              0.5555555555555556,
              "#d8576b"
             ],
             [
              0.6666666666666666,
              "#ed7953"
             ],
             [
              0.7777777777777778,
              "#fb9f3a"
             ],
             [
              0.8888888888888888,
              "#fdca26"
             ],
             [
              1,
              "#f0f921"
             ]
            ],
            "type": "contour"
           }
          ],
          "contourcarpet": [
           {
            "colorbar": {
             "outlinewidth": 0,
             "ticks": ""
            },
            "type": "contourcarpet"
           }
          ],
          "heatmap": [
           {
            "colorbar": {
             "outlinewidth": 0,
             "ticks": ""
            },
            "colorscale": [
             [
              0,
              "#0d0887"
             ],
             [
              0.1111111111111111,
              "#46039f"
             ],
             [
              0.2222222222222222,
              "#7201a8"
             ],
             [
              0.3333333333333333,
              "#9c179e"
             ],
             [
              0.4444444444444444,
              "#bd3786"
             ],
             [
              0.5555555555555556,
              "#d8576b"
             ],
             [
              0.6666666666666666,
              "#ed7953"
             ],
             [
              0.7777777777777778,
              "#fb9f3a"
             ],
             [
              0.8888888888888888,
              "#fdca26"
             ],
             [
              1,
              "#f0f921"
             ]
            ],
            "type": "heatmap"
           }
          ],
          "heatmapgl": [
           {
            "colorbar": {
             "outlinewidth": 0,
             "ticks": ""
            },
            "colorscale": [
             [
              0,
              "#0d0887"
             ],
             [
              0.1111111111111111,
              "#46039f"
             ],
             [
              0.2222222222222222,
              "#7201a8"
             ],
             [
              0.3333333333333333,
              "#9c179e"
             ],
             [
              0.4444444444444444,
              "#bd3786"
             ],
             [
              0.5555555555555556,
              "#d8576b"
             ],
             [
              0.6666666666666666,
              "#ed7953"
             ],
             [
              0.7777777777777778,
              "#fb9f3a"
             ],
             [
              0.8888888888888888,
              "#fdca26"
             ],
             [
              1,
              "#f0f921"
             ]
            ],
            "type": "heatmapgl"
           }
          ],
          "histogram": [
           {
            "marker": {
             "colorbar": {
              "outlinewidth": 0,
              "ticks": ""
             }
            },
            "type": "histogram"
           }
          ],
          "histogram2d": [
           {
            "colorbar": {
             "outlinewidth": 0,
             "ticks": ""
            },
            "colorscale": [
             [
              0,
              "#0d0887"
             ],
             [
              0.1111111111111111,
              "#46039f"
             ],
             [
              0.2222222222222222,
              "#7201a8"
             ],
             [
              0.3333333333333333,
              "#9c179e"
             ],
             [
              0.4444444444444444,
              "#bd3786"
             ],
             [
              0.5555555555555556,
              "#d8576b"
             ],
             [
              0.6666666666666666,
              "#ed7953"
             ],
             [
              0.7777777777777778,
              "#fb9f3a"
             ],
             [
              0.8888888888888888,
              "#fdca26"
             ],
             [
              1,
              "#f0f921"
             ]
            ],
            "type": "histogram2d"
           }
          ],
          "histogram2dcontour": [
           {
            "colorbar": {
             "outlinewidth": 0,
             "ticks": ""
            },
            "colorscale": [
             [
              0,
              "#0d0887"
             ],
             [
              0.1111111111111111,
              "#46039f"
             ],
             [
              0.2222222222222222,
              "#7201a8"
             ],
             [
              0.3333333333333333,
              "#9c179e"
             ],
             [
              0.4444444444444444,
              "#bd3786"
             ],
             [
              0.5555555555555556,
              "#d8576b"
             ],
             [
              0.6666666666666666,
              "#ed7953"
             ],
             [
              0.7777777777777778,
              "#fb9f3a"
             ],
             [
              0.8888888888888888,
              "#fdca26"
             ],
             [
              1,
              "#f0f921"
             ]
            ],
            "type": "histogram2dcontour"
           }
          ],
          "mesh3d": [
           {
            "colorbar": {
             "outlinewidth": 0,
             "ticks": ""
            },
            "type": "mesh3d"
           }
          ],
          "parcoords": [
           {
            "line": {
             "colorbar": {
              "outlinewidth": 0,
              "ticks": ""
             }
            },
            "type": "parcoords"
           }
          ],
          "pie": [
           {
            "automargin": true,
            "type": "pie"
           }
          ],
          "scatter": [
           {
            "marker": {
             "colorbar": {
              "outlinewidth": 0,
              "ticks": ""
             }
            },
            "type": "scatter"
           }
          ],
          "scatter3d": [
           {
            "line": {
             "colorbar": {
              "outlinewidth": 0,
              "ticks": ""
             }
            },
            "marker": {
             "colorbar": {
              "outlinewidth": 0,
              "ticks": ""
             }
            },
            "type": "scatter3d"
           }
          ],
          "scattercarpet": [
           {
            "marker": {
             "colorbar": {
              "outlinewidth": 0,
              "ticks": ""
             }
            },
            "type": "scattercarpet"
           }
          ],
          "scattergeo": [
           {
            "marker": {
             "colorbar": {
              "outlinewidth": 0,
              "ticks": ""
             }
            },
            "type": "scattergeo"
           }
          ],
          "scattergl": [
           {
            "marker": {
             "colorbar": {
              "outlinewidth": 0,
              "ticks": ""
             }
            },
            "type": "scattergl"
           }
          ],
          "scattermapbox": [
           {
            "marker": {
             "colorbar": {
              "outlinewidth": 0,
              "ticks": ""
             }
            },
            "type": "scattermapbox"
           }
          ],
          "scatterpolar": [
           {
            "marker": {
             "colorbar": {
              "outlinewidth": 0,
              "ticks": ""
             }
            },
            "type": "scatterpolar"
           }
          ],
          "scatterpolargl": [
           {
            "marker": {
             "colorbar": {
              "outlinewidth": 0,
              "ticks": ""
             }
            },
            "type": "scatterpolargl"
           }
          ],
          "scatterternary": [
           {
            "marker": {
             "colorbar": {
              "outlinewidth": 0,
              "ticks": ""
             }
            },
            "type": "scatterternary"
           }
          ],
          "surface": [
           {
            "colorbar": {
             "outlinewidth": 0,
             "ticks": ""
            },
            "colorscale": [
             [
              0,
              "#0d0887"
             ],
             [
              0.1111111111111111,
              "#46039f"
             ],
             [
              0.2222222222222222,
              "#7201a8"
             ],
             [
              0.3333333333333333,
              "#9c179e"
             ],
             [
              0.4444444444444444,
              "#bd3786"
             ],
             [
              0.5555555555555556,
              "#d8576b"
             ],
             [
              0.6666666666666666,
              "#ed7953"
             ],
             [
              0.7777777777777778,
              "#fb9f3a"
             ],
             [
              0.8888888888888888,
              "#fdca26"
             ],
             [
              1,
              "#f0f921"
             ]
            ],
            "type": "surface"
           }
          ],
          "table": [
           {
            "cells": {
             "fill": {
              "color": "#EBF0F8"
             },
             "line": {
              "color": "white"
             }
            },
            "header": {
             "fill": {
              "color": "#C8D4E3"
             },
             "line": {
              "color": "white"
             }
            },
            "type": "table"
           }
          ]
         },
         "layout": {
          "annotationdefaults": {
           "arrowcolor": "#2a3f5f",
           "arrowhead": 0,
           "arrowwidth": 1
          },
          "coloraxis": {
           "colorbar": {
            "outlinewidth": 0,
            "ticks": ""
           }
          },
          "colorscale": {
           "diverging": [
            [
             0,
             "#8e0152"
            ],
            [
             0.1,
             "#c51b7d"
            ],
            [
             0.2,
             "#de77ae"
            ],
            [
             0.3,
             "#f1b6da"
            ],
            [
             0.4,
             "#fde0ef"
            ],
            [
             0.5,
             "#f7f7f7"
            ],
            [
             0.6,
             "#e6f5d0"
            ],
            [
             0.7,
             "#b8e186"
            ],
            [
             0.8,
             "#7fbc41"
            ],
            [
             0.9,
             "#4d9221"
            ],
            [
             1,
             "#276419"
            ]
           ],
           "sequential": [
            [
             0,
             "#0d0887"
            ],
            [
             0.1111111111111111,
             "#46039f"
            ],
            [
             0.2222222222222222,
             "#7201a8"
            ],
            [
             0.3333333333333333,
             "#9c179e"
            ],
            [
             0.4444444444444444,
             "#bd3786"
            ],
            [
             0.5555555555555556,
             "#d8576b"
            ],
            [
             0.6666666666666666,
             "#ed7953"
            ],
            [
             0.7777777777777778,
             "#fb9f3a"
            ],
            [
             0.8888888888888888,
             "#fdca26"
            ],
            [
             1,
             "#f0f921"
            ]
           ],
           "sequentialminus": [
            [
             0,
             "#0d0887"
            ],
            [
             0.1111111111111111,
             "#46039f"
            ],
            [
             0.2222222222222222,
             "#7201a8"
            ],
            [
             0.3333333333333333,
             "#9c179e"
            ],
            [
             0.4444444444444444,
             "#bd3786"
            ],
            [
             0.5555555555555556,
             "#d8576b"
            ],
            [
             0.6666666666666666,
             "#ed7953"
            ],
            [
             0.7777777777777778,
             "#fb9f3a"
            ],
            [
             0.8888888888888888,
             "#fdca26"
            ],
            [
             1,
             "#f0f921"
            ]
           ]
          },
          "colorway": [
           "#636efa",
           "#EF553B",
           "#00cc96",
           "#ab63fa",
           "#FFA15A",
           "#19d3f3",
           "#FF6692",
           "#B6E880",
           "#FF97FF",
           "#FECB52"
          ],
          "font": {
           "color": "#2a3f5f"
          },
          "geo": {
           "bgcolor": "white",
           "lakecolor": "white",
           "landcolor": "#E5ECF6",
           "showlakes": true,
           "showland": true,
           "subunitcolor": "white"
          },
          "hoverlabel": {
           "align": "left"
          },
          "hovermode": "closest",
          "mapbox": {
           "style": "light"
          },
          "paper_bgcolor": "white",
          "plot_bgcolor": "#E5ECF6",
          "polar": {
           "angularaxis": {
            "gridcolor": "white",
            "linecolor": "white",
            "ticks": ""
           },
           "bgcolor": "#E5ECF6",
           "radialaxis": {
            "gridcolor": "white",
            "linecolor": "white",
            "ticks": ""
           }
          },
          "scene": {
           "xaxis": {
            "backgroundcolor": "#E5ECF6",
            "gridcolor": "white",
            "gridwidth": 2,
            "linecolor": "white",
            "showbackground": true,
            "ticks": "",
            "zerolinecolor": "white"
           },
           "yaxis": {
            "backgroundcolor": "#E5ECF6",
            "gridcolor": "white",
            "gridwidth": 2,
            "linecolor": "white",
            "showbackground": true,
            "ticks": "",
            "zerolinecolor": "white"
           },
           "zaxis": {
            "backgroundcolor": "#E5ECF6",
            "gridcolor": "white",
            "gridwidth": 2,
            "linecolor": "white",
            "showbackground": true,
            "ticks": "",
            "zerolinecolor": "white"
           }
          },
          "shapedefaults": {
           "line": {
            "color": "#2a3f5f"
           }
          },
          "ternary": {
           "aaxis": {
            "gridcolor": "white",
            "linecolor": "white",
            "ticks": ""
           },
           "baxis": {
            "gridcolor": "white",
            "linecolor": "white",
            "ticks": ""
           },
           "bgcolor": "#E5ECF6",
           "caxis": {
            "gridcolor": "white",
            "linecolor": "white",
            "ticks": ""
           }
          },
          "title": {
           "x": 0.05
          },
          "xaxis": {
           "automargin": true,
           "gridcolor": "white",
           "linecolor": "white",
           "ticks": "",
           "title": {
            "standoff": 15
           },
           "zerolinecolor": "white",
           "zerolinewidth": 2
          },
          "yaxis": {
           "automargin": true,
           "gridcolor": "white",
           "linecolor": "white",
           "ticks": "",
           "title": {
            "standoff": 15
           },
           "zerolinecolor": "white",
           "zerolinewidth": 2
          }
         }
        },
        "title": {
         "font": {
          "color": "#4D5663"
         }
        },
        "xaxis": {
         "gridcolor": "#E1E5ED",
         "showgrid": true,
         "tickfont": {
          "color": "#4D5663"
         },
         "title": {
          "font": {
           "color": "#4D5663"
          },
          "text": ""
         },
         "zerolinecolor": "#E1E5ED"
        },
        "yaxis": {
         "gridcolor": "#E1E5ED",
         "showgrid": true,
         "tickfont": {
          "color": "#4D5663"
         },
         "title": {
          "font": {
           "color": "#4D5663"
          },
          "text": ""
         },
         "zerolinecolor": "#E1E5ED"
        }
       }
      },
      "text/html": [
       "<div>\n",
       "        \n",
       "        \n",
       "            <div id=\"d35903db-4613-48c9-9fde-c8cf27040e25\" class=\"plotly-graph-div\" style=\"height:525px; width:100%;\"></div>\n",
       "            <script type=\"text/javascript\">\n",
       "                require([\"plotly\"], function(Plotly) {\n",
       "                    window.PLOTLYENV=window.PLOTLYENV || {};\n",
       "                    window.PLOTLYENV.BASE_URL='https://plot.ly';\n",
       "                    \n",
       "                if (document.getElementById(\"d35903db-4613-48c9-9fde-c8cf27040e25\")) {\n",
       "                    Plotly.newPlot(\n",
       "                        'd35903db-4613-48c9-9fde-c8cf27040e25',\n",
       "                        [{\"marker\": {\"color\": \"rgba(255, 153, 51, 0.6)\", \"line\": {\"color\": \"rgba(255, 153, 51, 1.0)\", \"width\": 1}}, \"name\": \"None\", \"orientation\": \"v\", \"text\": \"\", \"type\": \"bar\", \"x\": [\"A\", \"B\", \"C\", \"D\"], \"y\": [100, 100, 100, 100]}],\n",
       "                        {\"legend\": {\"bgcolor\": \"#F5F6F9\", \"font\": {\"color\": \"#4D5663\"}}, \"paper_bgcolor\": \"#F5F6F9\", \"plot_bgcolor\": \"#F5F6F9\", \"template\": {\"data\": {\"bar\": [{\"error_x\": {\"color\": \"#2a3f5f\"}, \"error_y\": {\"color\": \"#2a3f5f\"}, \"marker\": {\"line\": {\"color\": \"#E5ECF6\", \"width\": 0.5}}, \"type\": \"bar\"}], \"barpolar\": [{\"marker\": {\"line\": {\"color\": \"#E5ECF6\", \"width\": 0.5}}, \"type\": \"barpolar\"}], \"carpet\": [{\"aaxis\": {\"endlinecolor\": \"#2a3f5f\", \"gridcolor\": \"white\", \"linecolor\": \"white\", \"minorgridcolor\": \"white\", \"startlinecolor\": \"#2a3f5f\"}, \"baxis\": {\"endlinecolor\": \"#2a3f5f\", \"gridcolor\": \"white\", \"linecolor\": \"white\", \"minorgridcolor\": \"white\", \"startlinecolor\": \"#2a3f5f\"}, \"type\": \"carpet\"}], \"choropleth\": [{\"colorbar\": {\"outlinewidth\": 0, \"ticks\": \"\"}, \"type\": \"choropleth\"}], \"contour\": [{\"colorbar\": {\"outlinewidth\": 0, \"ticks\": \"\"}, \"colorscale\": [[0.0, \"#0d0887\"], [0.1111111111111111, \"#46039f\"], [0.2222222222222222, \"#7201a8\"], [0.3333333333333333, \"#9c179e\"], [0.4444444444444444, \"#bd3786\"], [0.5555555555555556, \"#d8576b\"], [0.6666666666666666, \"#ed7953\"], [0.7777777777777778, \"#fb9f3a\"], [0.8888888888888888, \"#fdca26\"], [1.0, \"#f0f921\"]], \"type\": \"contour\"}], \"contourcarpet\": [{\"colorbar\": {\"outlinewidth\": 0, \"ticks\": \"\"}, \"type\": \"contourcarpet\"}], \"heatmap\": [{\"colorbar\": {\"outlinewidth\": 0, \"ticks\": \"\"}, \"colorscale\": [[0.0, \"#0d0887\"], [0.1111111111111111, \"#46039f\"], [0.2222222222222222, \"#7201a8\"], [0.3333333333333333, \"#9c179e\"], [0.4444444444444444, \"#bd3786\"], [0.5555555555555556, \"#d8576b\"], [0.6666666666666666, \"#ed7953\"], [0.7777777777777778, \"#fb9f3a\"], [0.8888888888888888, \"#fdca26\"], [1.0, \"#f0f921\"]], \"type\": \"heatmap\"}], \"heatmapgl\": [{\"colorbar\": {\"outlinewidth\": 0, \"ticks\": \"\"}, \"colorscale\": [[0.0, \"#0d0887\"], [0.1111111111111111, \"#46039f\"], [0.2222222222222222, \"#7201a8\"], [0.3333333333333333, \"#9c179e\"], [0.4444444444444444, \"#bd3786\"], [0.5555555555555556, \"#d8576b\"], [0.6666666666666666, \"#ed7953\"], [0.7777777777777778, \"#fb9f3a\"], [0.8888888888888888, \"#fdca26\"], [1.0, \"#f0f921\"]], \"type\": \"heatmapgl\"}], \"histogram\": [{\"marker\": {\"colorbar\": {\"outlinewidth\": 0, \"ticks\": \"\"}}, \"type\": \"histogram\"}], \"histogram2d\": [{\"colorbar\": {\"outlinewidth\": 0, \"ticks\": \"\"}, \"colorscale\": [[0.0, \"#0d0887\"], [0.1111111111111111, \"#46039f\"], [0.2222222222222222, \"#7201a8\"], [0.3333333333333333, \"#9c179e\"], [0.4444444444444444, \"#bd3786\"], [0.5555555555555556, \"#d8576b\"], [0.6666666666666666, \"#ed7953\"], [0.7777777777777778, \"#fb9f3a\"], [0.8888888888888888, \"#fdca26\"], [1.0, \"#f0f921\"]], \"type\": \"histogram2d\"}], \"histogram2dcontour\": [{\"colorbar\": {\"outlinewidth\": 0, \"ticks\": \"\"}, \"colorscale\": [[0.0, \"#0d0887\"], [0.1111111111111111, \"#46039f\"], [0.2222222222222222, \"#7201a8\"], [0.3333333333333333, \"#9c179e\"], [0.4444444444444444, \"#bd3786\"], [0.5555555555555556, \"#d8576b\"], [0.6666666666666666, \"#ed7953\"], [0.7777777777777778, \"#fb9f3a\"], [0.8888888888888888, \"#fdca26\"], [1.0, \"#f0f921\"]], \"type\": \"histogram2dcontour\"}], \"mesh3d\": [{\"colorbar\": {\"outlinewidth\": 0, \"ticks\": \"\"}, \"type\": \"mesh3d\"}], \"parcoords\": [{\"line\": {\"colorbar\": {\"outlinewidth\": 0, \"ticks\": \"\"}}, \"type\": \"parcoords\"}], \"pie\": [{\"automargin\": true, \"type\": \"pie\"}], \"scatter\": [{\"marker\": {\"colorbar\": {\"outlinewidth\": 0, \"ticks\": \"\"}}, \"type\": \"scatter\"}], \"scatter3d\": [{\"line\": {\"colorbar\": {\"outlinewidth\": 0, \"ticks\": \"\"}}, \"marker\": {\"colorbar\": {\"outlinewidth\": 0, \"ticks\": \"\"}}, \"type\": \"scatter3d\"}], \"scattercarpet\": [{\"marker\": {\"colorbar\": {\"outlinewidth\": 0, \"ticks\": \"\"}}, \"type\": \"scattercarpet\"}], \"scattergeo\": [{\"marker\": {\"colorbar\": {\"outlinewidth\": 0, \"ticks\": \"\"}}, \"type\": \"scattergeo\"}], \"scattergl\": [{\"marker\": {\"colorbar\": {\"outlinewidth\": 0, \"ticks\": \"\"}}, \"type\": \"scattergl\"}], \"scattermapbox\": [{\"marker\": {\"colorbar\": {\"outlinewidth\": 0, \"ticks\": \"\"}}, \"type\": \"scattermapbox\"}], \"scatterpolar\": [{\"marker\": {\"colorbar\": {\"outlinewidth\": 0, \"ticks\": \"\"}}, \"type\": \"scatterpolar\"}], \"scatterpolargl\": [{\"marker\": {\"colorbar\": {\"outlinewidth\": 0, \"ticks\": \"\"}}, \"type\": \"scatterpolargl\"}], \"scatterternary\": [{\"marker\": {\"colorbar\": {\"outlinewidth\": 0, \"ticks\": \"\"}}, \"type\": \"scatterternary\"}], \"surface\": [{\"colorbar\": {\"outlinewidth\": 0, \"ticks\": \"\"}, \"colorscale\": [[0.0, \"#0d0887\"], [0.1111111111111111, \"#46039f\"], [0.2222222222222222, \"#7201a8\"], [0.3333333333333333, \"#9c179e\"], [0.4444444444444444, \"#bd3786\"], [0.5555555555555556, \"#d8576b\"], [0.6666666666666666, \"#ed7953\"], [0.7777777777777778, \"#fb9f3a\"], [0.8888888888888888, \"#fdca26\"], [1.0, \"#f0f921\"]], \"type\": \"surface\"}], \"table\": [{\"cells\": {\"fill\": {\"color\": \"#EBF0F8\"}, \"line\": {\"color\": \"white\"}}, \"header\": {\"fill\": {\"color\": \"#C8D4E3\"}, \"line\": {\"color\": \"white\"}}, \"type\": \"table\"}]}, \"layout\": {\"annotationdefaults\": {\"arrowcolor\": \"#2a3f5f\", \"arrowhead\": 0, \"arrowwidth\": 1}, \"coloraxis\": {\"colorbar\": {\"outlinewidth\": 0, \"ticks\": \"\"}}, \"colorscale\": {\"diverging\": [[0, \"#8e0152\"], [0.1, \"#c51b7d\"], [0.2, \"#de77ae\"], [0.3, \"#f1b6da\"], [0.4, \"#fde0ef\"], [0.5, \"#f7f7f7\"], [0.6, \"#e6f5d0\"], [0.7, \"#b8e186\"], [0.8, \"#7fbc41\"], [0.9, \"#4d9221\"], [1, \"#276419\"]], \"sequential\": [[0.0, \"#0d0887\"], [0.1111111111111111, \"#46039f\"], [0.2222222222222222, \"#7201a8\"], [0.3333333333333333, \"#9c179e\"], [0.4444444444444444, \"#bd3786\"], [0.5555555555555556, \"#d8576b\"], [0.6666666666666666, \"#ed7953\"], [0.7777777777777778, \"#fb9f3a\"], [0.8888888888888888, \"#fdca26\"], [1.0, \"#f0f921\"]], \"sequentialminus\": [[0.0, \"#0d0887\"], [0.1111111111111111, \"#46039f\"], [0.2222222222222222, \"#7201a8\"], [0.3333333333333333, \"#9c179e\"], [0.4444444444444444, \"#bd3786\"], [0.5555555555555556, \"#d8576b\"], [0.6666666666666666, \"#ed7953\"], [0.7777777777777778, \"#fb9f3a\"], [0.8888888888888888, \"#fdca26\"], [1.0, \"#f0f921\"]]}, \"colorway\": [\"#636efa\", \"#EF553B\", \"#00cc96\", \"#ab63fa\", \"#FFA15A\", \"#19d3f3\", \"#FF6692\", \"#B6E880\", \"#FF97FF\", \"#FECB52\"], \"font\": {\"color\": \"#2a3f5f\"}, \"geo\": {\"bgcolor\": \"white\", \"lakecolor\": \"white\", \"landcolor\": \"#E5ECF6\", \"showlakes\": true, \"showland\": true, \"subunitcolor\": \"white\"}, \"hoverlabel\": {\"align\": \"left\"}, \"hovermode\": \"closest\", \"mapbox\": {\"style\": \"light\"}, \"paper_bgcolor\": \"white\", \"plot_bgcolor\": \"#E5ECF6\", \"polar\": {\"angularaxis\": {\"gridcolor\": \"white\", \"linecolor\": \"white\", \"ticks\": \"\"}, \"bgcolor\": \"#E5ECF6\", \"radialaxis\": {\"gridcolor\": \"white\", \"linecolor\": \"white\", \"ticks\": \"\"}}, \"scene\": {\"xaxis\": {\"backgroundcolor\": \"#E5ECF6\", \"gridcolor\": \"white\", \"gridwidth\": 2, \"linecolor\": \"white\", \"showbackground\": true, \"ticks\": \"\", \"zerolinecolor\": \"white\"}, \"yaxis\": {\"backgroundcolor\": \"#E5ECF6\", \"gridcolor\": \"white\", \"gridwidth\": 2, \"linecolor\": \"white\", \"showbackground\": true, \"ticks\": \"\", \"zerolinecolor\": \"white\"}, \"zaxis\": {\"backgroundcolor\": \"#E5ECF6\", \"gridcolor\": \"white\", \"gridwidth\": 2, \"linecolor\": \"white\", \"showbackground\": true, \"ticks\": \"\", \"zerolinecolor\": \"white\"}}, \"shapedefaults\": {\"line\": {\"color\": \"#2a3f5f\"}}, \"ternary\": {\"aaxis\": {\"gridcolor\": \"white\", \"linecolor\": \"white\", \"ticks\": \"\"}, \"baxis\": {\"gridcolor\": \"white\", \"linecolor\": \"white\", \"ticks\": \"\"}, \"bgcolor\": \"#E5ECF6\", \"caxis\": {\"gridcolor\": \"white\", \"linecolor\": \"white\", \"ticks\": \"\"}}, \"title\": {\"x\": 0.05}, \"xaxis\": {\"automargin\": true, \"gridcolor\": \"white\", \"linecolor\": \"white\", \"ticks\": \"\", \"title\": {\"standoff\": 15}, \"zerolinecolor\": \"white\", \"zerolinewidth\": 2}, \"yaxis\": {\"automargin\": true, \"gridcolor\": \"white\", \"linecolor\": \"white\", \"ticks\": \"\", \"title\": {\"standoff\": 15}, \"zerolinecolor\": \"white\", \"zerolinewidth\": 2}}}, \"title\": {\"font\": {\"color\": \"#4D5663\"}}, \"xaxis\": {\"gridcolor\": \"#E1E5ED\", \"showgrid\": true, \"tickfont\": {\"color\": \"#4D5663\"}, \"title\": {\"font\": {\"color\": \"#4D5663\"}, \"text\": \"\"}, \"zerolinecolor\": \"#E1E5ED\"}, \"yaxis\": {\"gridcolor\": \"#E1E5ED\", \"showgrid\": true, \"tickfont\": {\"color\": \"#4D5663\"}, \"title\": {\"font\": {\"color\": \"#4D5663\"}, \"text\": \"\"}, \"zerolinecolor\": \"#E1E5ED\"}},\n",
       "                        {\"showLink\": true, \"linkText\": \"Export to plot.ly\", \"plotlyServerURL\": \"https://plot.ly\", \"responsive\": true}\n",
       "                    ).then(function(){\n",
       "                            \n",
       "var gd = document.getElementById('d35903db-4613-48c9-9fde-c8cf27040e25');\n",
       "var x = new MutationObserver(function (mutations, observer) {{\n",
       "        var display = window.getComputedStyle(gd).display;\n",
       "        if (!display || display === 'none') {{\n",
       "            console.log([gd, 'removed!']);\n",
       "            Plotly.purge(gd);\n",
       "            observer.disconnect();\n",
       "        }}\n",
       "}});\n",
       "\n",
       "// Listen for the removal of the full notebook cells\n",
       "var notebookContainer = gd.closest('#notebook-container');\n",
       "if (notebookContainer) {{\n",
       "    x.observe(notebookContainer, {childList: true});\n",
       "}}\n",
       "\n",
       "// Listen for the clearing of the current output cell\n",
       "var outputEl = gd.closest('.output');\n",
       "if (outputEl) {{\n",
       "    x.observe(outputEl, {childList: true});\n",
       "}}\n",
       "\n",
       "                        })\n",
       "                };\n",
       "                });\n",
       "            </script>\n",
       "        </div>"
      ]
     },
     "metadata": {},
     "output_type": "display_data"
    }
   ],
   "source": [
    "df.count().iplot(kind='bar')"
   ]
  },
  {
   "cell_type": "markdown",
   "metadata": {},
   "source": [
    "## Boxplots"
   ]
  },
  {
   "cell_type": "code",
   "execution_count": 14,
   "metadata": {},
   "outputs": [
    {
     "data": {
      "application/vnd.plotly.v1+json": {
       "config": {
        "linkText": "Export to plot.ly",
        "plotlyServerURL": "https://plot.ly",
        "showLink": true
       },
       "data": [
        {
         "boxpoints": false,
         "line": {
          "width": 1.3
         },
         "marker": {
          "color": "rgba(255, 153, 51, 1.0)"
         },
         "name": "A",
         "orientation": "v",
         "type": "box",
         "y": [
          1.4057168758225187,
          0.09635109794516898,
          -0.8075775662482514,
          1.85671902279818,
          1.3564610889782882,
          -1.0665015699326987,
          -0.3215134793832769,
          2.2006939363165583,
          -0.0642731305817795,
          -0.06722249427021736,
          -0.7606245671921829,
          -0.011501944221071154,
          0.41632838029502583,
          0.08283379610948835,
          0.6973631246869717,
          1.3319206881954702,
          1.0618863974579766,
          -1.032164232081873,
          0.08631207258907114,
          -0.8749170327076585,
          0.9561424070698766,
          2.0812454986913953,
          0.013611597742900088,
          2.010755001659486,
          -0.3840367437614046,
          -0.48611375514496025,
          -1.0010787717614296,
          -0.7111060970108366,
          -0.88155225575621,
          -0.7912570519536614,
          -0.8482443659483541,
          0.009417046372797853,
          -0.6613874723923325,
          -0.43179805587229253,
          -1.1868260308228515,
          -1.3010165341303017,
          1.0793955367330281,
          -1.21888688132927,
          1.7860641751165047,
          0.799656633173967,
          -0.5334780327036241,
          -1.209424809475077,
          -1.1424053312617162,
          1.2579717508561836,
          -2.0605485025033214,
          0.13710078395039346,
          -0.5916349564207652,
          0.3029899541504856,
          -0.22663502770322,
          -0.5804854045400992,
          -1.9025506699911556,
          0.11876147332063057,
          0.9257965150343771,
          -0.18073318129062516,
          1.5055537662684682,
          -0.8089910678807307,
          -0.11721228265202219,
          -0.5997238871075966,
          -1.142021786149684,
          0.09936348427841284,
          1.4931562081498957,
          -1.5547024729001584,
          0.5910489953515512,
          -0.059929917251002024,
          1.0696616107968673,
          0.8021825757324219,
          1.439330784471317,
          -0.6110907124127478,
          1.0024882398083432,
          -1.7022888335987154,
          0.05188306699545878,
          1.7097829525296082,
          -1.5080847746237727,
          0.6911601517780541,
          -1.0036454775392192,
          0.8135518250358234,
          -0.9300649797636137,
          -0.21514900583841184,
          0.7078344365890838,
          0.04089091390206245,
          0.10570034421779602,
          2.615277534759449,
          -0.3407781816207968,
          -0.7062667539668542,
          0.7414974982831658,
          -0.9158253246310815,
          -0.4412896880881209,
          1.5879126191662924,
          0.0021807237198163483,
          0.4941846844869749,
          0.7951021730994977,
          -0.9137616880373952,
          -1.9780362146807235,
          -0.7076722808592804,
          -1.8884123353793303,
          0.7626559205689569,
          -1.6959998148682438,
          0.07953368201121154,
          0.7781058966122304,
          1.27600917408759
         ]
        },
        {
         "boxpoints": false,
         "line": {
          "width": 1.3
         },
         "marker": {
          "color": "rgba(55, 128, 191, 1.0)"
         },
         "name": "B",
         "orientation": "v",
         "type": "box",
         "y": [
          1.3805021359727088,
          0.6876562345194515,
          1.744426205438441,
          1.3482770883045914,
          -0.634248067300063,
          -0.034294271166742524,
          0.08697205812033731,
          0.18165054261005958,
          -0.4947130519966682,
          1.1926577197445511,
          -0.20717482602811665,
          -2.5133130507450065,
          0.5849565071647904,
          -1.1419275913432483,
          -1.0989250107348194,
          -0.7187949424743807,
          -0.4925908219897006,
          -0.8053500686902227,
          1.3214954358061495,
          0.650458182102288,
          0.7831813622092171,
          0.07498582897569142,
          0.6523450877465203,
          -0.5783833322107474,
          0.31063691916746256,
          0.5339759772715772,
          -0.9341694521216017,
          0.1636579101222258,
          0.7914756036817695,
          0.14946115975322116,
          1.655598160883892,
          0.7246961444793382,
          -1.2954830292755444,
          0.9695475826517964,
          -0.2964187051363097,
          2.7033995079178443,
          -0.38178103307087197,
          1.1295086160797756,
          1.527880017753105,
          0.905536015852373,
          0.29805175373631065,
          -0.5754351908083993,
          0.29082064681038583,
          0.7586137695438394,
          1.1349899407660182,
          0.6717992725911085,
          -0.31428779368983534,
          -0.18220919871777175,
          2.1597698090177797,
          -1.419379997025609,
          -0.8461014276372388,
          0.41864875994912204,
          0.8148702380518698,
          0.019606695965507532,
          -1.1837488988129978,
          1.1806831481053504,
          -0.6107919824591864,
          -0.23111979494516535,
          -0.9367596799948575,
          -1.6339807125647547,
          -1.8372441832889166,
          2.5168011421762055,
          -1.5382411271982206,
          0.6254374573450555,
          -0.29144223018409665,
          0.25280094962187494,
          0.9341401560731483,
          0.4593226701114746,
          0.37090012110200604,
          2.5485602361509896,
          -0.2384223669142262,
          -1.4965726279770937,
          -0.9143776712501855,
          0.6240127588983286,
          0.9349261687864068,
          1.1302133290065983,
          -1.9122547142011879,
          2.1612111542650148,
          -1.170401489694811,
          1.4844344274345278,
          0.425068571796391,
          1.0836427308909355,
          -1.2092550831621383,
          -0.05373370286349067,
          -2.329782253481326,
          0.9931882640309181,
          -0.7440493223711631,
          -0.8690298054021338,
          -1.3870236796099518,
          -0.235118566464218,
          -0.804128615713205,
          -2.091537810580936,
          0.566865783198684,
          -1.511924883938343,
          -0.9600094189448816,
          -0.382769475864104,
          -0.43678813895890783,
          1.4503730185316464,
          -1.1598452079499255,
          0.0007072242767753852
         ]
        },
        {
         "boxpoints": false,
         "line": {
          "width": 1.3
         },
         "marker": {
          "color": "rgba(50, 171, 96, 1.0)"
         },
         "name": "C",
         "orientation": "v",
         "type": "box",
         "y": [
          -1.1315887482993132,
          -1.043249659417771,
          -1.9948531746772895,
          1.795000966257885,
          -0.6439270205764843,
          -0.07599144992076311,
          -0.8620731306430194,
          0.807821347431704,
          0.1645823525494116,
          -0.49705555090732095,
          0.11277695324474271,
          0.13768702694255086,
          -0.49497335135905357,
          -0.37055686394093956,
          0.3462421356520415,
          0.19217855501706763,
          0.6995582206408196,
          -0.37267108482119066,
          1.9162749789438134,
          1.7334988933452553,
          1.251182443212679,
          -1.0327078702757677,
          -1.8831806648318619,
          -0.1731389197012337,
          1.1906164559173318,
          -1.2376436879881365,
          0.5512247370706185,
          -0.7773953390281098,
          -0.2145414159475325,
          0.08160625235528286,
          -0.8013126367632013,
          -0.5169004564348985,
          0.114578057733446,
          0.2629355821748631,
          0.1499105407004821,
          -1.2797422511235341,
          -0.2185907991829561,
          1.5876256028774887,
          1.844734348839343,
          -0.22537037743304106,
          -0.3577178964433195,
          0.2852652075753454,
          -0.7957362488414707,
          0.152228318070937,
          -0.8332063901430532,
          -0.14906978759205242,
          2.033481598612253,
          0.8060825170977222,
          1.5810291360916122,
          1.07858888313611,
          0.2319701751978771,
          -0.1867491497701328,
          -0.7945408640583943,
          -0.9095698226185984,
          0.8251905215614825,
          -0.8567655124673546,
          0.18704912987968247,
          -0.15721637891871143,
          1.2721569476374628,
          -0.19037233012862115,
          -0.96458609763036,
          1.410741547617211,
          -1.451864911072176,
          -0.9675044690625731,
          -0.7917168423644747,
          -1.072796793830219,
          -1.0900923925783632,
          0.9391138095792427,
          1.1763217705881877,
          -0.28819859093464983,
          -0.5828980206044104,
          1.4744624076749038,
          0.03650023059250771,
          0.43319878637361814,
          -0.34457754693362536,
          0.19754823018576603,
          -0.26991096377234675,
          2.6272817860367486,
          0.634965451155606,
          1.7191188241692776,
          -0.3311344208925331,
          0.7573677922867134,
          1.5592178010488686,
          -1.9237045548603335,
          0.4273812145391577,
          -0.9038966093651511,
          1.0095634019675388,
          1.233815706015572,
          -0.5267712715038746,
          -2.1175558308537017,
          -0.6526419662081552,
          -0.4670849734778064,
          -0.7368599515217935,
          -0.6893478170257809,
          -0.20668010608459114,
          -2.405150714008861,
          0.7082636710161015,
          0.4311521595364321,
          -0.07251010714992599,
          -1.7006410114857302
         ]
        },
        {
         "boxpoints": false,
         "line": {
          "width": 1.3
         },
         "marker": {
          "color": "rgba(128, 0, 128, 1.0)"
         },
         "name": "D",
         "orientation": "v",
         "type": "box",
         "y": [
          -0.07556542121134661,
          -0.8183199405961011,
          1.0334465082732396,
          -0.6227025938080888,
          1.0269451234814744,
          -1.4309440691028066,
          0.33382525333472135,
          -0.5136943526846811,
          -0.5726578044637678,
          -0.054700614757421294,
          0.39304570327098487,
          0.3450187319889111,
          0.37165748052730874,
          -1.8451143641223184,
          -0.4346916643049665,
          0.9695803086428616,
          -1.6238583650473877,
          0.2091847975870636,
          -0.8616799361749952,
          -0.10957913893920151,
          -0.12991941745315264,
          0.6850137018573873,
          1.622744931697246,
          1.5593626147438386,
          -1.723786366407721,
          0.7329715508939461,
          0.39831664748170265,
          0.6686707918578688,
          0.6765077152561568,
          -0.590645496453386,
          0.34677385573121666,
          0.4118791766192136,
          -0.918647297548565,
          -1.3039209080506904,
          0.521566084351569,
          -0.06386809916886285,
          0.1125454802321883,
          0.11329151851463924,
          1.0070843116474493,
          -0.7922136552618687,
          -1.3660056671284202,
          0.3919268139065681,
          -0.331535756662957,
          -0.8667660795218105,
          -1.0656226329031444,
          -1.1487653763192418,
          0.720370537591933,
          1.628532426776231,
          1.4659105244650705,
          0.4536789646423173,
          -0.3997028352902282,
          -0.4198680723019248,
          0.3529676122922959,
          1.3071481008776296,
          0.05960064396185711,
          0.5014756373675243,
          1.6521531412089567,
          -1.241677422272562,
          0.051155118852328846,
          0.08146363202689737,
          -0.5998295036990625,
          0.525297261397527,
          1.1376606438237558,
          0.49111046953841125,
          0.5367638826505009,
          -0.9820432115922464,
          -0.3380444743033437,
          -1.0959616364064138,
          0.14189700880993317,
          1.2256553734534632,
          -0.899445236677122,
          -0.499149874869314,
          -0.2784621153768592,
          -1.784376134711761,
          -0.4050614240095866,
          0.38175326989240105,
          0.1530187742495216,
          -1.8230955543230376,
          0.5210317367175072,
          0.33271912972225115,
          -0.6718359237286943,
          0.05927496248327188,
          -0.9979692802489852,
          -0.6366550887913068,
          -0.8977204330863173,
          -0.009478227360934864,
          1.877269962066179,
          0.10224615885828611,
          -1.10394498962729,
          0.43485342230923235,
          0.6471875563292759,
          -0.9417404984112272,
          1.0126111565103906,
          -0.5197970022115806,
          0.006351587203595149,
          -0.20772290117180742,
          0.9375634333957914,
          0.4581473343766965,
          -0.8169477360465902,
          1.408231237100532
         ]
        }
       ],
       "layout": {
        "legend": {
         "bgcolor": "#F5F6F9",
         "font": {
          "color": "#4D5663"
         }
        },
        "paper_bgcolor": "#F5F6F9",
        "plot_bgcolor": "#F5F6F9",
        "template": {
         "data": {
          "bar": [
           {
            "error_x": {
             "color": "#2a3f5f"
            },
            "error_y": {
             "color": "#2a3f5f"
            },
            "marker": {
             "line": {
              "color": "#E5ECF6",
              "width": 0.5
             }
            },
            "type": "bar"
           }
          ],
          "barpolar": [
           {
            "marker": {
             "line": {
              "color": "#E5ECF6",
              "width": 0.5
             }
            },
            "type": "barpolar"
           }
          ],
          "carpet": [
           {
            "aaxis": {
             "endlinecolor": "#2a3f5f",
             "gridcolor": "white",
             "linecolor": "white",
             "minorgridcolor": "white",
             "startlinecolor": "#2a3f5f"
            },
            "baxis": {
             "endlinecolor": "#2a3f5f",
             "gridcolor": "white",
             "linecolor": "white",
             "minorgridcolor": "white",
             "startlinecolor": "#2a3f5f"
            },
            "type": "carpet"
           }
          ],
          "choropleth": [
           {
            "colorbar": {
             "outlinewidth": 0,
             "ticks": ""
            },
            "type": "choropleth"
           }
          ],
          "contour": [
           {
            "colorbar": {
             "outlinewidth": 0,
             "ticks": ""
            },
            "colorscale": [
             [
              0,
              "#0d0887"
             ],
             [
              0.1111111111111111,
              "#46039f"
             ],
             [
              0.2222222222222222,
              "#7201a8"
             ],
             [
              0.3333333333333333,
              "#9c179e"
             ],
             [
              0.4444444444444444,
              "#bd3786"
             ],
             [
              0.5555555555555556,
              "#d8576b"
             ],
             [
              0.6666666666666666,
              "#ed7953"
             ],
             [
              0.7777777777777778,
              "#fb9f3a"
             ],
             [
              0.8888888888888888,
              "#fdca26"
             ],
             [
              1,
              "#f0f921"
             ]
            ],
            "type": "contour"
           }
          ],
          "contourcarpet": [
           {
            "colorbar": {
             "outlinewidth": 0,
             "ticks": ""
            },
            "type": "contourcarpet"
           }
          ],
          "heatmap": [
           {
            "colorbar": {
             "outlinewidth": 0,
             "ticks": ""
            },
            "colorscale": [
             [
              0,
              "#0d0887"
             ],
             [
              0.1111111111111111,
              "#46039f"
             ],
             [
              0.2222222222222222,
              "#7201a8"
             ],
             [
              0.3333333333333333,
              "#9c179e"
             ],
             [
              0.4444444444444444,
              "#bd3786"
             ],
             [
              0.5555555555555556,
              "#d8576b"
             ],
             [
              0.6666666666666666,
              "#ed7953"
             ],
             [
              0.7777777777777778,
              "#fb9f3a"
             ],
             [
              0.8888888888888888,
              "#fdca26"
             ],
             [
              1,
              "#f0f921"
             ]
            ],
            "type": "heatmap"
           }
          ],
          "heatmapgl": [
           {
            "colorbar": {
             "outlinewidth": 0,
             "ticks": ""
            },
            "colorscale": [
             [
              0,
              "#0d0887"
             ],
             [
              0.1111111111111111,
              "#46039f"
             ],
             [
              0.2222222222222222,
              "#7201a8"
             ],
             [
              0.3333333333333333,
              "#9c179e"
             ],
             [
              0.4444444444444444,
              "#bd3786"
             ],
             [
              0.5555555555555556,
              "#d8576b"
             ],
             [
              0.6666666666666666,
              "#ed7953"
             ],
             [
              0.7777777777777778,
              "#fb9f3a"
             ],
             [
              0.8888888888888888,
              "#fdca26"
             ],
             [
              1,
              "#f0f921"
             ]
            ],
            "type": "heatmapgl"
           }
          ],
          "histogram": [
           {
            "marker": {
             "colorbar": {
              "outlinewidth": 0,
              "ticks": ""
             }
            },
            "type": "histogram"
           }
          ],
          "histogram2d": [
           {
            "colorbar": {
             "outlinewidth": 0,
             "ticks": ""
            },
            "colorscale": [
             [
              0,
              "#0d0887"
             ],
             [
              0.1111111111111111,
              "#46039f"
             ],
             [
              0.2222222222222222,
              "#7201a8"
             ],
             [
              0.3333333333333333,
              "#9c179e"
             ],
             [
              0.4444444444444444,
              "#bd3786"
             ],
             [
              0.5555555555555556,
              "#d8576b"
             ],
             [
              0.6666666666666666,
              "#ed7953"
             ],
             [
              0.7777777777777778,
              "#fb9f3a"
             ],
             [
              0.8888888888888888,
              "#fdca26"
             ],
             [
              1,
              "#f0f921"
             ]
            ],
            "type": "histogram2d"
           }
          ],
          "histogram2dcontour": [
           {
            "colorbar": {
             "outlinewidth": 0,
             "ticks": ""
            },
            "colorscale": [
             [
              0,
              "#0d0887"
             ],
             [
              0.1111111111111111,
              "#46039f"
             ],
             [
              0.2222222222222222,
              "#7201a8"
             ],
             [
              0.3333333333333333,
              "#9c179e"
             ],
             [
              0.4444444444444444,
              "#bd3786"
             ],
             [
              0.5555555555555556,
              "#d8576b"
             ],
             [
              0.6666666666666666,
              "#ed7953"
             ],
             [
              0.7777777777777778,
              "#fb9f3a"
             ],
             [
              0.8888888888888888,
              "#fdca26"
             ],
             [
              1,
              "#f0f921"
             ]
            ],
            "type": "histogram2dcontour"
           }
          ],
          "mesh3d": [
           {
            "colorbar": {
             "outlinewidth": 0,
             "ticks": ""
            },
            "type": "mesh3d"
           }
          ],
          "parcoords": [
           {
            "line": {
             "colorbar": {
              "outlinewidth": 0,
              "ticks": ""
             }
            },
            "type": "parcoords"
           }
          ],
          "pie": [
           {
            "automargin": true,
            "type": "pie"
           }
          ],
          "scatter": [
           {
            "marker": {
             "colorbar": {
              "outlinewidth": 0,
              "ticks": ""
             }
            },
            "type": "scatter"
           }
          ],
          "scatter3d": [
           {
            "line": {
             "colorbar": {
              "outlinewidth": 0,
              "ticks": ""
             }
            },
            "marker": {
             "colorbar": {
              "outlinewidth": 0,
              "ticks": ""
             }
            },
            "type": "scatter3d"
           }
          ],
          "scattercarpet": [
           {
            "marker": {
             "colorbar": {
              "outlinewidth": 0,
              "ticks": ""
             }
            },
            "type": "scattercarpet"
           }
          ],
          "scattergeo": [
           {
            "marker": {
             "colorbar": {
              "outlinewidth": 0,
              "ticks": ""
             }
            },
            "type": "scattergeo"
           }
          ],
          "scattergl": [
           {
            "marker": {
             "colorbar": {
              "outlinewidth": 0,
              "ticks": ""
             }
            },
            "type": "scattergl"
           }
          ],
          "scattermapbox": [
           {
            "marker": {
             "colorbar": {
              "outlinewidth": 0,
              "ticks": ""
             }
            },
            "type": "scattermapbox"
           }
          ],
          "scatterpolar": [
           {
            "marker": {
             "colorbar": {
              "outlinewidth": 0,
              "ticks": ""
             }
            },
            "type": "scatterpolar"
           }
          ],
          "scatterpolargl": [
           {
            "marker": {
             "colorbar": {
              "outlinewidth": 0,
              "ticks": ""
             }
            },
            "type": "scatterpolargl"
           }
          ],
          "scatterternary": [
           {
            "marker": {
             "colorbar": {
              "outlinewidth": 0,
              "ticks": ""
             }
            },
            "type": "scatterternary"
           }
          ],
          "surface": [
           {
            "colorbar": {
             "outlinewidth": 0,
             "ticks": ""
            },
            "colorscale": [
             [
              0,
              "#0d0887"
             ],
             [
              0.1111111111111111,
              "#46039f"
             ],
             [
              0.2222222222222222,
              "#7201a8"
             ],
             [
              0.3333333333333333,
              "#9c179e"
             ],
             [
              0.4444444444444444,
              "#bd3786"
             ],
             [
              0.5555555555555556,
              "#d8576b"
             ],
             [
              0.6666666666666666,
              "#ed7953"
             ],
             [
              0.7777777777777778,
              "#fb9f3a"
             ],
             [
              0.8888888888888888,
              "#fdca26"
             ],
             [
              1,
              "#f0f921"
             ]
            ],
            "type": "surface"
           }
          ],
          "table": [
           {
            "cells": {
             "fill": {
              "color": "#EBF0F8"
             },
             "line": {
              "color": "white"
             }
            },
            "header": {
             "fill": {
              "color": "#C8D4E3"
             },
             "line": {
              "color": "white"
             }
            },
            "type": "table"
           }
          ]
         },
         "layout": {
          "annotationdefaults": {
           "arrowcolor": "#2a3f5f",
           "arrowhead": 0,
           "arrowwidth": 1
          },
          "coloraxis": {
           "colorbar": {
            "outlinewidth": 0,
            "ticks": ""
           }
          },
          "colorscale": {
           "diverging": [
            [
             0,
             "#8e0152"
            ],
            [
             0.1,
             "#c51b7d"
            ],
            [
             0.2,
             "#de77ae"
            ],
            [
             0.3,
             "#f1b6da"
            ],
            [
             0.4,
             "#fde0ef"
            ],
            [
             0.5,
             "#f7f7f7"
            ],
            [
             0.6,
             "#e6f5d0"
            ],
            [
             0.7,
             "#b8e186"
            ],
            [
             0.8,
             "#7fbc41"
            ],
            [
             0.9,
             "#4d9221"
            ],
            [
             1,
             "#276419"
            ]
           ],
           "sequential": [
            [
             0,
             "#0d0887"
            ],
            [
             0.1111111111111111,
             "#46039f"
            ],
            [
             0.2222222222222222,
             "#7201a8"
            ],
            [
             0.3333333333333333,
             "#9c179e"
            ],
            [
             0.4444444444444444,
             "#bd3786"
            ],
            [
             0.5555555555555556,
             "#d8576b"
            ],
            [
             0.6666666666666666,
             "#ed7953"
            ],
            [
             0.7777777777777778,
             "#fb9f3a"
            ],
            [
             0.8888888888888888,
             "#fdca26"
            ],
            [
             1,
             "#f0f921"
            ]
           ],
           "sequentialminus": [
            [
             0,
             "#0d0887"
            ],
            [
             0.1111111111111111,
             "#46039f"
            ],
            [
             0.2222222222222222,
             "#7201a8"
            ],
            [
             0.3333333333333333,
             "#9c179e"
            ],
            [
             0.4444444444444444,
             "#bd3786"
            ],
            [
             0.5555555555555556,
             "#d8576b"
            ],
            [
             0.6666666666666666,
             "#ed7953"
            ],
            [
             0.7777777777777778,
             "#fb9f3a"
            ],
            [
             0.8888888888888888,
             "#fdca26"
            ],
            [
             1,
             "#f0f921"
            ]
           ]
          },
          "colorway": [
           "#636efa",
           "#EF553B",
           "#00cc96",
           "#ab63fa",
           "#FFA15A",
           "#19d3f3",
           "#FF6692",
           "#B6E880",
           "#FF97FF",
           "#FECB52"
          ],
          "font": {
           "color": "#2a3f5f"
          },
          "geo": {
           "bgcolor": "white",
           "lakecolor": "white",
           "landcolor": "#E5ECF6",
           "showlakes": true,
           "showland": true,
           "subunitcolor": "white"
          },
          "hoverlabel": {
           "align": "left"
          },
          "hovermode": "closest",
          "mapbox": {
           "style": "light"
          },
          "paper_bgcolor": "white",
          "plot_bgcolor": "#E5ECF6",
          "polar": {
           "angularaxis": {
            "gridcolor": "white",
            "linecolor": "white",
            "ticks": ""
           },
           "bgcolor": "#E5ECF6",
           "radialaxis": {
            "gridcolor": "white",
            "linecolor": "white",
            "ticks": ""
           }
          },
          "scene": {
           "xaxis": {
            "backgroundcolor": "#E5ECF6",
            "gridcolor": "white",
            "gridwidth": 2,
            "linecolor": "white",
            "showbackground": true,
            "ticks": "",
            "zerolinecolor": "white"
           },
           "yaxis": {
            "backgroundcolor": "#E5ECF6",
            "gridcolor": "white",
            "gridwidth": 2,
            "linecolor": "white",
            "showbackground": true,
            "ticks": "",
            "zerolinecolor": "white"
           },
           "zaxis": {
            "backgroundcolor": "#E5ECF6",
            "gridcolor": "white",
            "gridwidth": 2,
            "linecolor": "white",
            "showbackground": true,
            "ticks": "",
            "zerolinecolor": "white"
           }
          },
          "shapedefaults": {
           "line": {
            "color": "#2a3f5f"
           }
          },
          "ternary": {
           "aaxis": {
            "gridcolor": "white",
            "linecolor": "white",
            "ticks": ""
           },
           "baxis": {
            "gridcolor": "white",
            "linecolor": "white",
            "ticks": ""
           },
           "bgcolor": "#E5ECF6",
           "caxis": {
            "gridcolor": "white",
            "linecolor": "white",
            "ticks": ""
           }
          },
          "title": {
           "x": 0.05
          },
          "xaxis": {
           "automargin": true,
           "gridcolor": "white",
           "linecolor": "white",
           "ticks": "",
           "title": {
            "standoff": 15
           },
           "zerolinecolor": "white",
           "zerolinewidth": 2
          },
          "yaxis": {
           "automargin": true,
           "gridcolor": "white",
           "linecolor": "white",
           "ticks": "",
           "title": {
            "standoff": 15
           },
           "zerolinecolor": "white",
           "zerolinewidth": 2
          }
         }
        },
        "title": {
         "font": {
          "color": "#4D5663"
         }
        },
        "xaxis": {
         "gridcolor": "#E1E5ED",
         "showgrid": true,
         "tickfont": {
          "color": "#4D5663"
         },
         "title": {
          "font": {
           "color": "#4D5663"
          },
          "text": ""
         },
         "zerolinecolor": "#E1E5ED"
        },
        "yaxis": {
         "gridcolor": "#E1E5ED",
         "showgrid": true,
         "tickfont": {
          "color": "#4D5663"
         },
         "title": {
          "font": {
           "color": "#4D5663"
          },
          "text": ""
         },
         "zerolinecolor": "#E1E5ED"
        }
       }
      },
      "text/html": [
       "<div>\n",
       "        \n",
       "        \n",
       "            <div id=\"4a4f52ee-279b-4dda-b61d-0fdde149602d\" class=\"plotly-graph-div\" style=\"height:525px; width:100%;\"></div>\n",
       "            <script type=\"text/javascript\">\n",
       "                require([\"plotly\"], function(Plotly) {\n",
       "                    window.PLOTLYENV=window.PLOTLYENV || {};\n",
       "                    window.PLOTLYENV.BASE_URL='https://plot.ly';\n",
       "                    \n",
       "                if (document.getElementById(\"4a4f52ee-279b-4dda-b61d-0fdde149602d\")) {\n",
       "                    Plotly.newPlot(\n",
       "                        '4a4f52ee-279b-4dda-b61d-0fdde149602d',\n",
       "                        [{\"boxpoints\": false, \"line\": {\"width\": 1.3}, \"marker\": {\"color\": \"rgba(255, 153, 51, 1.0)\"}, \"name\": \"A\", \"orientation\": \"v\", \"type\": \"box\", \"y\": [1.4057168758225187, 0.09635109794516898, -0.8075775662482514, 1.85671902279818, 1.3564610889782882, -1.0665015699326987, -0.3215134793832769, 2.2006939363165583, -0.0642731305817795, -0.06722249427021736, -0.7606245671921829, -0.011501944221071154, 0.41632838029502583, 0.08283379610948835, 0.6973631246869717, 1.3319206881954702, 1.0618863974579766, -1.032164232081873, 0.08631207258907114, -0.8749170327076585, 0.9561424070698766, 2.0812454986913953, 0.013611597742900088, 2.010755001659486, -0.3840367437614046, -0.48611375514496025, -1.0010787717614296, -0.7111060970108366, -0.88155225575621, -0.7912570519536614, -0.8482443659483541, 0.009417046372797853, -0.6613874723923325, -0.43179805587229253, -1.1868260308228515, -1.3010165341303017, 1.0793955367330281, -1.21888688132927, 1.7860641751165047, 0.799656633173967, -0.5334780327036241, -1.209424809475077, -1.1424053312617162, 1.2579717508561836, -2.0605485025033214, 0.13710078395039346, -0.5916349564207652, 0.3029899541504856, -0.22663502770322, -0.5804854045400992, -1.9025506699911556, 0.11876147332063057, 0.9257965150343771, -0.18073318129062516, 1.5055537662684682, -0.8089910678807307, -0.11721228265202219, -0.5997238871075966, -1.142021786149684, 0.09936348427841284, 1.4931562081498957, -1.5547024729001584, 0.5910489953515512, -0.059929917251002024, 1.0696616107968673, 0.8021825757324219, 1.439330784471317, -0.6110907124127478, 1.0024882398083432, -1.7022888335987154, 0.05188306699545878, 1.7097829525296082, -1.5080847746237727, 0.6911601517780541, -1.0036454775392192, 0.8135518250358234, -0.9300649797636137, -0.21514900583841184, 0.7078344365890838, 0.04089091390206245, 0.10570034421779602, 2.615277534759449, -0.3407781816207968, -0.7062667539668542, 0.7414974982831658, -0.9158253246310815, -0.4412896880881209, 1.5879126191662924, 0.0021807237198163483, 0.4941846844869749, 0.7951021730994977, -0.9137616880373952, -1.9780362146807235, -0.7076722808592804, -1.8884123353793303, 0.7626559205689569, -1.6959998148682438, 0.07953368201121154, 0.7781058966122304, 1.27600917408759]}, {\"boxpoints\": false, \"line\": {\"width\": 1.3}, \"marker\": {\"color\": \"rgba(55, 128, 191, 1.0)\"}, \"name\": \"B\", \"orientation\": \"v\", \"type\": \"box\", \"y\": [1.3805021359727088, 0.6876562345194515, 1.744426205438441, 1.3482770883045914, -0.634248067300063, -0.034294271166742524, 0.08697205812033731, 0.18165054261005958, -0.4947130519966682, 1.1926577197445511, -0.20717482602811665, -2.5133130507450065, 0.5849565071647904, -1.1419275913432483, -1.0989250107348194, -0.7187949424743807, -0.4925908219897006, -0.8053500686902227, 1.3214954358061495, 0.650458182102288, 0.7831813622092171, 0.07498582897569142, 0.6523450877465203, -0.5783833322107474, 0.31063691916746256, 0.5339759772715772, -0.9341694521216017, 0.1636579101222258, 0.7914756036817695, 0.14946115975322116, 1.655598160883892, 0.7246961444793382, -1.2954830292755444, 0.9695475826517964, -0.2964187051363097, 2.7033995079178443, -0.38178103307087197, 1.1295086160797756, 1.527880017753105, 0.905536015852373, 0.29805175373631065, -0.5754351908083993, 0.29082064681038583, 0.7586137695438394, 1.1349899407660182, 0.6717992725911085, -0.31428779368983534, -0.18220919871777175, 2.1597698090177797, -1.419379997025609, -0.8461014276372388, 0.41864875994912204, 0.8148702380518698, 0.019606695965507532, -1.1837488988129978, 1.1806831481053504, -0.6107919824591864, -0.23111979494516535, -0.9367596799948575, -1.6339807125647547, -1.8372441832889166, 2.5168011421762055, -1.5382411271982206, 0.6254374573450555, -0.29144223018409665, 0.25280094962187494, 0.9341401560731483, 0.4593226701114746, 0.37090012110200604, 2.5485602361509896, -0.2384223669142262, -1.4965726279770937, -0.9143776712501855, 0.6240127588983286, 0.9349261687864068, 1.1302133290065983, -1.9122547142011879, 2.1612111542650148, -1.170401489694811, 1.4844344274345278, 0.425068571796391, 1.0836427308909355, -1.2092550831621383, -0.05373370286349067, -2.329782253481326, 0.9931882640309181, -0.7440493223711631, -0.8690298054021338, -1.3870236796099518, -0.235118566464218, -0.804128615713205, -2.091537810580936, 0.566865783198684, -1.511924883938343, -0.9600094189448816, -0.382769475864104, -0.43678813895890783, 1.4503730185316464, -1.1598452079499255, 0.0007072242767753852]}, {\"boxpoints\": false, \"line\": {\"width\": 1.3}, \"marker\": {\"color\": \"rgba(50, 171, 96, 1.0)\"}, \"name\": \"C\", \"orientation\": \"v\", \"type\": \"box\", \"y\": [-1.1315887482993132, -1.043249659417771, -1.9948531746772895, 1.795000966257885, -0.6439270205764843, -0.07599144992076311, -0.8620731306430194, 0.807821347431704, 0.1645823525494116, -0.49705555090732095, 0.11277695324474271, 0.13768702694255086, -0.49497335135905357, -0.37055686394093956, 0.3462421356520415, 0.19217855501706763, 0.6995582206408196, -0.37267108482119066, 1.9162749789438134, 1.7334988933452553, 1.251182443212679, -1.0327078702757677, -1.8831806648318619, -0.1731389197012337, 1.1906164559173318, -1.2376436879881365, 0.5512247370706185, -0.7773953390281098, -0.2145414159475325, 0.08160625235528286, -0.8013126367632013, -0.5169004564348985, 0.114578057733446, 0.2629355821748631, 0.1499105407004821, -1.2797422511235341, -0.2185907991829561, 1.5876256028774887, 1.844734348839343, -0.22537037743304106, -0.3577178964433195, 0.2852652075753454, -0.7957362488414707, 0.152228318070937, -0.8332063901430532, -0.14906978759205242, 2.033481598612253, 0.8060825170977222, 1.5810291360916122, 1.07858888313611, 0.2319701751978771, -0.1867491497701328, -0.7945408640583943, -0.9095698226185984, 0.8251905215614825, -0.8567655124673546, 0.18704912987968247, -0.15721637891871143, 1.2721569476374628, -0.19037233012862115, -0.96458609763036, 1.410741547617211, -1.451864911072176, -0.9675044690625731, -0.7917168423644747, -1.072796793830219, -1.0900923925783632, 0.9391138095792427, 1.1763217705881877, -0.28819859093464983, -0.5828980206044104, 1.4744624076749038, 0.03650023059250771, 0.43319878637361814, -0.34457754693362536, 0.19754823018576603, -0.26991096377234675, 2.6272817860367486, 0.634965451155606, 1.7191188241692776, -0.3311344208925331, 0.7573677922867134, 1.5592178010488686, -1.9237045548603335, 0.4273812145391577, -0.9038966093651511, 1.0095634019675388, 1.233815706015572, -0.5267712715038746, -2.1175558308537017, -0.6526419662081552, -0.4670849734778064, -0.7368599515217935, -0.6893478170257809, -0.20668010608459114, -2.405150714008861, 0.7082636710161015, 0.4311521595364321, -0.07251010714992599, -1.7006410114857302]}, {\"boxpoints\": false, \"line\": {\"width\": 1.3}, \"marker\": {\"color\": \"rgba(128, 0, 128, 1.0)\"}, \"name\": \"D\", \"orientation\": \"v\", \"type\": \"box\", \"y\": [-0.07556542121134661, -0.8183199405961011, 1.0334465082732396, -0.6227025938080888, 1.0269451234814744, -1.4309440691028066, 0.33382525333472135, -0.5136943526846811, -0.5726578044637678, -0.054700614757421294, 0.39304570327098487, 0.3450187319889111, 0.37165748052730874, -1.8451143641223184, -0.4346916643049665, 0.9695803086428616, -1.6238583650473877, 0.2091847975870636, -0.8616799361749952, -0.10957913893920151, -0.12991941745315264, 0.6850137018573873, 1.622744931697246, 1.5593626147438386, -1.723786366407721, 0.7329715508939461, 0.39831664748170265, 0.6686707918578688, 0.6765077152561568, -0.590645496453386, 0.34677385573121666, 0.4118791766192136, -0.918647297548565, -1.3039209080506904, 0.521566084351569, -0.06386809916886285, 0.1125454802321883, 0.11329151851463924, 1.0070843116474493, -0.7922136552618687, -1.3660056671284202, 0.3919268139065681, -0.331535756662957, -0.8667660795218105, -1.0656226329031444, -1.1487653763192418, 0.720370537591933, 1.628532426776231, 1.4659105244650705, 0.4536789646423173, -0.3997028352902282, -0.4198680723019248, 0.3529676122922959, 1.3071481008776296, 0.05960064396185711, 0.5014756373675243, 1.6521531412089567, -1.241677422272562, 0.051155118852328846, 0.08146363202689737, -0.5998295036990625, 0.525297261397527, 1.1376606438237558, 0.49111046953841125, 0.5367638826505009, -0.9820432115922464, -0.3380444743033437, -1.0959616364064138, 0.14189700880993317, 1.2256553734534632, -0.899445236677122, -0.499149874869314, -0.2784621153768592, -1.784376134711761, -0.4050614240095866, 0.38175326989240105, 0.1530187742495216, -1.8230955543230376, 0.5210317367175072, 0.33271912972225115, -0.6718359237286943, 0.05927496248327188, -0.9979692802489852, -0.6366550887913068, -0.8977204330863173, -0.009478227360934864, 1.877269962066179, 0.10224615885828611, -1.10394498962729, 0.43485342230923235, 0.6471875563292759, -0.9417404984112272, 1.0126111565103906, -0.5197970022115806, 0.006351587203595149, -0.20772290117180742, 0.9375634333957914, 0.4581473343766965, -0.8169477360465902, 1.408231237100532]}],\n",
       "                        {\"legend\": {\"bgcolor\": \"#F5F6F9\", \"font\": {\"color\": \"#4D5663\"}}, \"paper_bgcolor\": \"#F5F6F9\", \"plot_bgcolor\": \"#F5F6F9\", \"template\": {\"data\": {\"bar\": [{\"error_x\": {\"color\": \"#2a3f5f\"}, \"error_y\": {\"color\": \"#2a3f5f\"}, \"marker\": {\"line\": {\"color\": \"#E5ECF6\", \"width\": 0.5}}, \"type\": \"bar\"}], \"barpolar\": [{\"marker\": {\"line\": {\"color\": \"#E5ECF6\", \"width\": 0.5}}, \"type\": \"barpolar\"}], \"carpet\": [{\"aaxis\": {\"endlinecolor\": \"#2a3f5f\", \"gridcolor\": \"white\", \"linecolor\": \"white\", \"minorgridcolor\": \"white\", \"startlinecolor\": \"#2a3f5f\"}, \"baxis\": {\"endlinecolor\": \"#2a3f5f\", \"gridcolor\": \"white\", \"linecolor\": \"white\", \"minorgridcolor\": \"white\", \"startlinecolor\": \"#2a3f5f\"}, \"type\": \"carpet\"}], \"choropleth\": [{\"colorbar\": {\"outlinewidth\": 0, \"ticks\": \"\"}, \"type\": \"choropleth\"}], \"contour\": [{\"colorbar\": {\"outlinewidth\": 0, \"ticks\": \"\"}, \"colorscale\": [[0.0, \"#0d0887\"], [0.1111111111111111, \"#46039f\"], [0.2222222222222222, \"#7201a8\"], [0.3333333333333333, \"#9c179e\"], [0.4444444444444444, \"#bd3786\"], [0.5555555555555556, \"#d8576b\"], [0.6666666666666666, \"#ed7953\"], [0.7777777777777778, \"#fb9f3a\"], [0.8888888888888888, \"#fdca26\"], [1.0, \"#f0f921\"]], \"type\": \"contour\"}], \"contourcarpet\": [{\"colorbar\": {\"outlinewidth\": 0, \"ticks\": \"\"}, \"type\": \"contourcarpet\"}], \"heatmap\": [{\"colorbar\": {\"outlinewidth\": 0, \"ticks\": \"\"}, \"colorscale\": [[0.0, \"#0d0887\"], [0.1111111111111111, \"#46039f\"], [0.2222222222222222, \"#7201a8\"], [0.3333333333333333, \"#9c179e\"], [0.4444444444444444, \"#bd3786\"], [0.5555555555555556, \"#d8576b\"], [0.6666666666666666, \"#ed7953\"], [0.7777777777777778, \"#fb9f3a\"], [0.8888888888888888, \"#fdca26\"], [1.0, \"#f0f921\"]], \"type\": \"heatmap\"}], \"heatmapgl\": [{\"colorbar\": {\"outlinewidth\": 0, \"ticks\": \"\"}, \"colorscale\": [[0.0, \"#0d0887\"], [0.1111111111111111, \"#46039f\"], [0.2222222222222222, \"#7201a8\"], [0.3333333333333333, \"#9c179e\"], [0.4444444444444444, \"#bd3786\"], [0.5555555555555556, \"#d8576b\"], [0.6666666666666666, \"#ed7953\"], [0.7777777777777778, \"#fb9f3a\"], [0.8888888888888888, \"#fdca26\"], [1.0, \"#f0f921\"]], \"type\": \"heatmapgl\"}], \"histogram\": [{\"marker\": {\"colorbar\": {\"outlinewidth\": 0, \"ticks\": \"\"}}, \"type\": \"histogram\"}], \"histogram2d\": [{\"colorbar\": {\"outlinewidth\": 0, \"ticks\": \"\"}, \"colorscale\": [[0.0, \"#0d0887\"], [0.1111111111111111, \"#46039f\"], [0.2222222222222222, \"#7201a8\"], [0.3333333333333333, \"#9c179e\"], [0.4444444444444444, \"#bd3786\"], [0.5555555555555556, \"#d8576b\"], [0.6666666666666666, \"#ed7953\"], [0.7777777777777778, \"#fb9f3a\"], [0.8888888888888888, \"#fdca26\"], [1.0, \"#f0f921\"]], \"type\": \"histogram2d\"}], \"histogram2dcontour\": [{\"colorbar\": {\"outlinewidth\": 0, \"ticks\": \"\"}, \"colorscale\": [[0.0, \"#0d0887\"], [0.1111111111111111, \"#46039f\"], [0.2222222222222222, \"#7201a8\"], [0.3333333333333333, \"#9c179e\"], [0.4444444444444444, \"#bd3786\"], [0.5555555555555556, \"#d8576b\"], [0.6666666666666666, \"#ed7953\"], [0.7777777777777778, \"#fb9f3a\"], [0.8888888888888888, \"#fdca26\"], [1.0, \"#f0f921\"]], \"type\": \"histogram2dcontour\"}], \"mesh3d\": [{\"colorbar\": {\"outlinewidth\": 0, \"ticks\": \"\"}, \"type\": \"mesh3d\"}], \"parcoords\": [{\"line\": {\"colorbar\": {\"outlinewidth\": 0, \"ticks\": \"\"}}, \"type\": \"parcoords\"}], \"pie\": [{\"automargin\": true, \"type\": \"pie\"}], \"scatter\": [{\"marker\": {\"colorbar\": {\"outlinewidth\": 0, \"ticks\": \"\"}}, \"type\": \"scatter\"}], \"scatter3d\": [{\"line\": {\"colorbar\": {\"outlinewidth\": 0, \"ticks\": \"\"}}, \"marker\": {\"colorbar\": {\"outlinewidth\": 0, \"ticks\": \"\"}}, \"type\": \"scatter3d\"}], \"scattercarpet\": [{\"marker\": {\"colorbar\": {\"outlinewidth\": 0, \"ticks\": \"\"}}, \"type\": \"scattercarpet\"}], \"scattergeo\": [{\"marker\": {\"colorbar\": {\"outlinewidth\": 0, \"ticks\": \"\"}}, \"type\": \"scattergeo\"}], \"scattergl\": [{\"marker\": {\"colorbar\": {\"outlinewidth\": 0, \"ticks\": \"\"}}, \"type\": \"scattergl\"}], \"scattermapbox\": [{\"marker\": {\"colorbar\": {\"outlinewidth\": 0, \"ticks\": \"\"}}, \"type\": \"scattermapbox\"}], \"scatterpolar\": [{\"marker\": {\"colorbar\": {\"outlinewidth\": 0, \"ticks\": \"\"}}, \"type\": \"scatterpolar\"}], \"scatterpolargl\": [{\"marker\": {\"colorbar\": {\"outlinewidth\": 0, \"ticks\": \"\"}}, \"type\": \"scatterpolargl\"}], \"scatterternary\": [{\"marker\": {\"colorbar\": {\"outlinewidth\": 0, \"ticks\": \"\"}}, \"type\": \"scatterternary\"}], \"surface\": [{\"colorbar\": {\"outlinewidth\": 0, \"ticks\": \"\"}, \"colorscale\": [[0.0, \"#0d0887\"], [0.1111111111111111, \"#46039f\"], [0.2222222222222222, \"#7201a8\"], [0.3333333333333333, \"#9c179e\"], [0.4444444444444444, \"#bd3786\"], [0.5555555555555556, \"#d8576b\"], [0.6666666666666666, \"#ed7953\"], [0.7777777777777778, \"#fb9f3a\"], [0.8888888888888888, \"#fdca26\"], [1.0, \"#f0f921\"]], \"type\": \"surface\"}], \"table\": [{\"cells\": {\"fill\": {\"color\": \"#EBF0F8\"}, \"line\": {\"color\": \"white\"}}, \"header\": {\"fill\": {\"color\": \"#C8D4E3\"}, \"line\": {\"color\": \"white\"}}, \"type\": \"table\"}]}, \"layout\": {\"annotationdefaults\": {\"arrowcolor\": \"#2a3f5f\", \"arrowhead\": 0, \"arrowwidth\": 1}, \"coloraxis\": {\"colorbar\": {\"outlinewidth\": 0, \"ticks\": \"\"}}, \"colorscale\": {\"diverging\": [[0, \"#8e0152\"], [0.1, \"#c51b7d\"], [0.2, \"#de77ae\"], [0.3, \"#f1b6da\"], [0.4, \"#fde0ef\"], [0.5, \"#f7f7f7\"], [0.6, \"#e6f5d0\"], [0.7, \"#b8e186\"], [0.8, \"#7fbc41\"], [0.9, \"#4d9221\"], [1, \"#276419\"]], \"sequential\": [[0.0, \"#0d0887\"], [0.1111111111111111, \"#46039f\"], [0.2222222222222222, \"#7201a8\"], [0.3333333333333333, \"#9c179e\"], [0.4444444444444444, \"#bd3786\"], [0.5555555555555556, \"#d8576b\"], [0.6666666666666666, \"#ed7953\"], [0.7777777777777778, \"#fb9f3a\"], [0.8888888888888888, \"#fdca26\"], [1.0, \"#f0f921\"]], \"sequentialminus\": [[0.0, \"#0d0887\"], [0.1111111111111111, \"#46039f\"], [0.2222222222222222, \"#7201a8\"], [0.3333333333333333, \"#9c179e\"], [0.4444444444444444, \"#bd3786\"], [0.5555555555555556, \"#d8576b\"], [0.6666666666666666, \"#ed7953\"], [0.7777777777777778, \"#fb9f3a\"], [0.8888888888888888, \"#fdca26\"], [1.0, \"#f0f921\"]]}, \"colorway\": [\"#636efa\", \"#EF553B\", \"#00cc96\", \"#ab63fa\", \"#FFA15A\", \"#19d3f3\", \"#FF6692\", \"#B6E880\", \"#FF97FF\", \"#FECB52\"], \"font\": {\"color\": \"#2a3f5f\"}, \"geo\": {\"bgcolor\": \"white\", \"lakecolor\": \"white\", \"landcolor\": \"#E5ECF6\", \"showlakes\": true, \"showland\": true, \"subunitcolor\": \"white\"}, \"hoverlabel\": {\"align\": \"left\"}, \"hovermode\": \"closest\", \"mapbox\": {\"style\": \"light\"}, \"paper_bgcolor\": \"white\", \"plot_bgcolor\": \"#E5ECF6\", \"polar\": {\"angularaxis\": {\"gridcolor\": \"white\", \"linecolor\": \"white\", \"ticks\": \"\"}, \"bgcolor\": \"#E5ECF6\", \"radialaxis\": {\"gridcolor\": \"white\", \"linecolor\": \"white\", \"ticks\": \"\"}}, \"scene\": {\"xaxis\": {\"backgroundcolor\": \"#E5ECF6\", \"gridcolor\": \"white\", \"gridwidth\": 2, \"linecolor\": \"white\", \"showbackground\": true, \"ticks\": \"\", \"zerolinecolor\": \"white\"}, \"yaxis\": {\"backgroundcolor\": \"#E5ECF6\", \"gridcolor\": \"white\", \"gridwidth\": 2, \"linecolor\": \"white\", \"showbackground\": true, \"ticks\": \"\", \"zerolinecolor\": \"white\"}, \"zaxis\": {\"backgroundcolor\": \"#E5ECF6\", \"gridcolor\": \"white\", \"gridwidth\": 2, \"linecolor\": \"white\", \"showbackground\": true, \"ticks\": \"\", \"zerolinecolor\": \"white\"}}, \"shapedefaults\": {\"line\": {\"color\": \"#2a3f5f\"}}, \"ternary\": {\"aaxis\": {\"gridcolor\": \"white\", \"linecolor\": \"white\", \"ticks\": \"\"}, \"baxis\": {\"gridcolor\": \"white\", \"linecolor\": \"white\", \"ticks\": \"\"}, \"bgcolor\": \"#E5ECF6\", \"caxis\": {\"gridcolor\": \"white\", \"linecolor\": \"white\", \"ticks\": \"\"}}, \"title\": {\"x\": 0.05}, \"xaxis\": {\"automargin\": true, \"gridcolor\": \"white\", \"linecolor\": \"white\", \"ticks\": \"\", \"title\": {\"standoff\": 15}, \"zerolinecolor\": \"white\", \"zerolinewidth\": 2}, \"yaxis\": {\"automargin\": true, \"gridcolor\": \"white\", \"linecolor\": \"white\", \"ticks\": \"\", \"title\": {\"standoff\": 15}, \"zerolinecolor\": \"white\", \"zerolinewidth\": 2}}}, \"title\": {\"font\": {\"color\": \"#4D5663\"}}, \"xaxis\": {\"gridcolor\": \"#E1E5ED\", \"showgrid\": true, \"tickfont\": {\"color\": \"#4D5663\"}, \"title\": {\"font\": {\"color\": \"#4D5663\"}, \"text\": \"\"}, \"zerolinecolor\": \"#E1E5ED\"}, \"yaxis\": {\"gridcolor\": \"#E1E5ED\", \"showgrid\": true, \"tickfont\": {\"color\": \"#4D5663\"}, \"title\": {\"font\": {\"color\": \"#4D5663\"}, \"text\": \"\"}, \"zerolinecolor\": \"#E1E5ED\"}},\n",
       "                        {\"showLink\": true, \"linkText\": \"Export to plot.ly\", \"plotlyServerURL\": \"https://plot.ly\", \"responsive\": true}\n",
       "                    ).then(function(){\n",
       "                            \n",
       "var gd = document.getElementById('4a4f52ee-279b-4dda-b61d-0fdde149602d');\n",
       "var x = new MutationObserver(function (mutations, observer) {{\n",
       "        var display = window.getComputedStyle(gd).display;\n",
       "        if (!display || display === 'none') {{\n",
       "            console.log([gd, 'removed!']);\n",
       "            Plotly.purge(gd);\n",
       "            observer.disconnect();\n",
       "        }}\n",
       "}});\n",
       "\n",
       "// Listen for the removal of the full notebook cells\n",
       "var notebookContainer = gd.closest('#notebook-container');\n",
       "if (notebookContainer) {{\n",
       "    x.observe(notebookContainer, {childList: true});\n",
       "}}\n",
       "\n",
       "// Listen for the clearing of the current output cell\n",
       "var outputEl = gd.closest('.output');\n",
       "if (outputEl) {{\n",
       "    x.observe(outputEl, {childList: true});\n",
       "}}\n",
       "\n",
       "                        })\n",
       "                };\n",
       "                });\n",
       "            </script>\n",
       "        </div>"
      ]
     },
     "metadata": {},
     "output_type": "display_data"
    }
   ],
   "source": [
    "df.iplot(kind='box')"
   ]
  },
  {
   "cell_type": "markdown",
   "metadata": {},
   "source": [
    "## 3d Surface"
   ]
  },
  {
   "cell_type": "code",
   "execution_count": 15,
   "metadata": {},
   "outputs": [
    {
     "data": {
      "application/vnd.plotly.v1+json": {
       "config": {
        "linkText": "Export to plot.ly",
        "plotlyServerURL": "https://plot.ly",
        "showLink": true
       },
       "data": [
        {
         "colorscale": [
          [
           0,
           "rgb(165,0,38)"
          ],
          [
           0.1,
           "rgb(215,48,39)"
          ],
          [
           0.2,
           "rgb(244,109,67)"
          ],
          [
           0.3,
           "rgb(253,174,97)"
          ],
          [
           0.4,
           "rgb(254,224,144)"
          ],
          [
           0.5,
           "rgb(255,255,191)"
          ],
          [
           0.6,
           "rgb(224,243,248)"
          ],
          [
           0.7,
           "rgb(171,217,233)"
          ],
          [
           0.8,
           "rgb(116,173,209)"
          ],
          [
           0.9,
           "rgb(69,117,180)"
          ],
          [
           1,
           "rgb(49,54,149)"
          ]
         ],
         "type": "surface",
         "x": [
          0,
          1,
          2,
          3,
          4
         ],
         "y": [
          "x",
          "y",
          "z"
         ],
         "z": [
          [
           1,
           2,
           3,
           4,
           5
          ],
          [
           10,
           20,
           30,
           20,
           10
          ],
          [
           5,
           4,
           3,
           2,
           1
          ]
         ]
        }
       ],
       "layout": {
        "legend": {
         "bgcolor": "#F5F6F9",
         "font": {
          "color": "#4D5663"
         }
        },
        "paper_bgcolor": "#F5F6F9",
        "plot_bgcolor": "#F5F6F9",
        "template": {
         "data": {
          "bar": [
           {
            "error_x": {
             "color": "#2a3f5f"
            },
            "error_y": {
             "color": "#2a3f5f"
            },
            "marker": {
             "line": {
              "color": "#E5ECF6",
              "width": 0.5
             }
            },
            "type": "bar"
           }
          ],
          "barpolar": [
           {
            "marker": {
             "line": {
              "color": "#E5ECF6",
              "width": 0.5
             }
            },
            "type": "barpolar"
           }
          ],
          "carpet": [
           {
            "aaxis": {
             "endlinecolor": "#2a3f5f",
             "gridcolor": "white",
             "linecolor": "white",
             "minorgridcolor": "white",
             "startlinecolor": "#2a3f5f"
            },
            "baxis": {
             "endlinecolor": "#2a3f5f",
             "gridcolor": "white",
             "linecolor": "white",
             "minorgridcolor": "white",
             "startlinecolor": "#2a3f5f"
            },
            "type": "carpet"
           }
          ],
          "choropleth": [
           {
            "colorbar": {
             "outlinewidth": 0,
             "ticks": ""
            },
            "type": "choropleth"
           }
          ],
          "contour": [
           {
            "colorbar": {
             "outlinewidth": 0,
             "ticks": ""
            },
            "colorscale": [
             [
              0,
              "#0d0887"
             ],
             [
              0.1111111111111111,
              "#46039f"
             ],
             [
              0.2222222222222222,
              "#7201a8"
             ],
             [
              0.3333333333333333,
              "#9c179e"
             ],
             [
              0.4444444444444444,
              "#bd3786"
             ],
             [
              0.5555555555555556,
              "#d8576b"
             ],
             [
              0.6666666666666666,
              "#ed7953"
             ],
             [
              0.7777777777777778,
              "#fb9f3a"
             ],
             [
              0.8888888888888888,
              "#fdca26"
             ],
             [
              1,
              "#f0f921"
             ]
            ],
            "type": "contour"
           }
          ],
          "contourcarpet": [
           {
            "colorbar": {
             "outlinewidth": 0,
             "ticks": ""
            },
            "type": "contourcarpet"
           }
          ],
          "heatmap": [
           {
            "colorbar": {
             "outlinewidth": 0,
             "ticks": ""
            },
            "colorscale": [
             [
              0,
              "#0d0887"
             ],
             [
              0.1111111111111111,
              "#46039f"
             ],
             [
              0.2222222222222222,
              "#7201a8"
             ],
             [
              0.3333333333333333,
              "#9c179e"
             ],
             [
              0.4444444444444444,
              "#bd3786"
             ],
             [
              0.5555555555555556,
              "#d8576b"
             ],
             [
              0.6666666666666666,
              "#ed7953"
             ],
             [
              0.7777777777777778,
              "#fb9f3a"
             ],
             [
              0.8888888888888888,
              "#fdca26"
             ],
             [
              1,
              "#f0f921"
             ]
            ],
            "type": "heatmap"
           }
          ],
          "heatmapgl": [
           {
            "colorbar": {
             "outlinewidth": 0,
             "ticks": ""
            },
            "colorscale": [
             [
              0,
              "#0d0887"
             ],
             [
              0.1111111111111111,
              "#46039f"
             ],
             [
              0.2222222222222222,
              "#7201a8"
             ],
             [
              0.3333333333333333,
              "#9c179e"
             ],
             [
              0.4444444444444444,
              "#bd3786"
             ],
             [
              0.5555555555555556,
              "#d8576b"
             ],
             [
              0.6666666666666666,
              "#ed7953"
             ],
             [
              0.7777777777777778,
              "#fb9f3a"
             ],
             [
              0.8888888888888888,
              "#fdca26"
             ],
             [
              1,
              "#f0f921"
             ]
            ],
            "type": "heatmapgl"
           }
          ],
          "histogram": [
           {
            "marker": {
             "colorbar": {
              "outlinewidth": 0,
              "ticks": ""
             }
            },
            "type": "histogram"
           }
          ],
          "histogram2d": [
           {
            "colorbar": {
             "outlinewidth": 0,
             "ticks": ""
            },
            "colorscale": [
             [
              0,
              "#0d0887"
             ],
             [
              0.1111111111111111,
              "#46039f"
             ],
             [
              0.2222222222222222,
              "#7201a8"
             ],
             [
              0.3333333333333333,
              "#9c179e"
             ],
             [
              0.4444444444444444,
              "#bd3786"
             ],
             [
              0.5555555555555556,
              "#d8576b"
             ],
             [
              0.6666666666666666,
              "#ed7953"
             ],
             [
              0.7777777777777778,
              "#fb9f3a"
             ],
             [
              0.8888888888888888,
              "#fdca26"
             ],
             [
              1,
              "#f0f921"
             ]
            ],
            "type": "histogram2d"
           }
          ],
          "histogram2dcontour": [
           {
            "colorbar": {
             "outlinewidth": 0,
             "ticks": ""
            },
            "colorscale": [
             [
              0,
              "#0d0887"
             ],
             [
              0.1111111111111111,
              "#46039f"
             ],
             [
              0.2222222222222222,
              "#7201a8"
             ],
             [
              0.3333333333333333,
              "#9c179e"
             ],
             [
              0.4444444444444444,
              "#bd3786"
             ],
             [
              0.5555555555555556,
              "#d8576b"
             ],
             [
              0.6666666666666666,
              "#ed7953"
             ],
             [
              0.7777777777777778,
              "#fb9f3a"
             ],
             [
              0.8888888888888888,
              "#fdca26"
             ],
             [
              1,
              "#f0f921"
             ]
            ],
            "type": "histogram2dcontour"
           }
          ],
          "mesh3d": [
           {
            "colorbar": {
             "outlinewidth": 0,
             "ticks": ""
            },
            "type": "mesh3d"
           }
          ],
          "parcoords": [
           {
            "line": {
             "colorbar": {
              "outlinewidth": 0,
              "ticks": ""
             }
            },
            "type": "parcoords"
           }
          ],
          "pie": [
           {
            "automargin": true,
            "type": "pie"
           }
          ],
          "scatter": [
           {
            "marker": {
             "colorbar": {
              "outlinewidth": 0,
              "ticks": ""
             }
            },
            "type": "scatter"
           }
          ],
          "scatter3d": [
           {
            "line": {
             "colorbar": {
              "outlinewidth": 0,
              "ticks": ""
             }
            },
            "marker": {
             "colorbar": {
              "outlinewidth": 0,
              "ticks": ""
             }
            },
            "type": "scatter3d"
           }
          ],
          "scattercarpet": [
           {
            "marker": {
             "colorbar": {
              "outlinewidth": 0,
              "ticks": ""
             }
            },
            "type": "scattercarpet"
           }
          ],
          "scattergeo": [
           {
            "marker": {
             "colorbar": {
              "outlinewidth": 0,
              "ticks": ""
             }
            },
            "type": "scattergeo"
           }
          ],
          "scattergl": [
           {
            "marker": {
             "colorbar": {
              "outlinewidth": 0,
              "ticks": ""
             }
            },
            "type": "scattergl"
           }
          ],
          "scattermapbox": [
           {
            "marker": {
             "colorbar": {
              "outlinewidth": 0,
              "ticks": ""
             }
            },
            "type": "scattermapbox"
           }
          ],
          "scatterpolar": [
           {
            "marker": {
             "colorbar": {
              "outlinewidth": 0,
              "ticks": ""
             }
            },
            "type": "scatterpolar"
           }
          ],
          "scatterpolargl": [
           {
            "marker": {
             "colorbar": {
              "outlinewidth": 0,
              "ticks": ""
             }
            },
            "type": "scatterpolargl"
           }
          ],
          "scatterternary": [
           {
            "marker": {
             "colorbar": {
              "outlinewidth": 0,
              "ticks": ""
             }
            },
            "type": "scatterternary"
           }
          ],
          "surface": [
           {
            "colorbar": {
             "outlinewidth": 0,
             "ticks": ""
            },
            "colorscale": [
             [
              0,
              "#0d0887"
             ],
             [
              0.1111111111111111,
              "#46039f"
             ],
             [
              0.2222222222222222,
              "#7201a8"
             ],
             [
              0.3333333333333333,
              "#9c179e"
             ],
             [
              0.4444444444444444,
              "#bd3786"
             ],
             [
              0.5555555555555556,
              "#d8576b"
             ],
             [
              0.6666666666666666,
              "#ed7953"
             ],
             [
              0.7777777777777778,
              "#fb9f3a"
             ],
             [
              0.8888888888888888,
              "#fdca26"
             ],
             [
              1,
              "#f0f921"
             ]
            ],
            "type": "surface"
           }
          ],
          "table": [
           {
            "cells": {
             "fill": {
              "color": "#EBF0F8"
             },
             "line": {
              "color": "white"
             }
            },
            "header": {
             "fill": {
              "color": "#C8D4E3"
             },
             "line": {
              "color": "white"
             }
            },
            "type": "table"
           }
          ]
         },
         "layout": {
          "annotationdefaults": {
           "arrowcolor": "#2a3f5f",
           "arrowhead": 0,
           "arrowwidth": 1
          },
          "coloraxis": {
           "colorbar": {
            "outlinewidth": 0,
            "ticks": ""
           }
          },
          "colorscale": {
           "diverging": [
            [
             0,
             "#8e0152"
            ],
            [
             0.1,
             "#c51b7d"
            ],
            [
             0.2,
             "#de77ae"
            ],
            [
             0.3,
             "#f1b6da"
            ],
            [
             0.4,
             "#fde0ef"
            ],
            [
             0.5,
             "#f7f7f7"
            ],
            [
             0.6,
             "#e6f5d0"
            ],
            [
             0.7,
             "#b8e186"
            ],
            [
             0.8,
             "#7fbc41"
            ],
            [
             0.9,
             "#4d9221"
            ],
            [
             1,
             "#276419"
            ]
           ],
           "sequential": [
            [
             0,
             "#0d0887"
            ],
            [
             0.1111111111111111,
             "#46039f"
            ],
            [
             0.2222222222222222,
             "#7201a8"
            ],
            [
             0.3333333333333333,
             "#9c179e"
            ],
            [
             0.4444444444444444,
             "#bd3786"
            ],
            [
             0.5555555555555556,
             "#d8576b"
            ],
            [
             0.6666666666666666,
             "#ed7953"
            ],
            [
             0.7777777777777778,
             "#fb9f3a"
            ],
            [
             0.8888888888888888,
             "#fdca26"
            ],
            [
             1,
             "#f0f921"
            ]
           ],
           "sequentialminus": [
            [
             0,
             "#0d0887"
            ],
            [
             0.1111111111111111,
             "#46039f"
            ],
            [
             0.2222222222222222,
             "#7201a8"
            ],
            [
             0.3333333333333333,
             "#9c179e"
            ],
            [
             0.4444444444444444,
             "#bd3786"
            ],
            [
             0.5555555555555556,
             "#d8576b"
            ],
            [
             0.6666666666666666,
             "#ed7953"
            ],
            [
             0.7777777777777778,
             "#fb9f3a"
            ],
            [
             0.8888888888888888,
             "#fdca26"
            ],
            [
             1,
             "#f0f921"
            ]
           ]
          },
          "colorway": [
           "#636efa",
           "#EF553B",
           "#00cc96",
           "#ab63fa",
           "#FFA15A",
           "#19d3f3",
           "#FF6692",
           "#B6E880",
           "#FF97FF",
           "#FECB52"
          ],
          "font": {
           "color": "#2a3f5f"
          },
          "geo": {
           "bgcolor": "white",
           "lakecolor": "white",
           "landcolor": "#E5ECF6",
           "showlakes": true,
           "showland": true,
           "subunitcolor": "white"
          },
          "hoverlabel": {
           "align": "left"
          },
          "hovermode": "closest",
          "mapbox": {
           "style": "light"
          },
          "paper_bgcolor": "white",
          "plot_bgcolor": "#E5ECF6",
          "polar": {
           "angularaxis": {
            "gridcolor": "white",
            "linecolor": "white",
            "ticks": ""
           },
           "bgcolor": "#E5ECF6",
           "radialaxis": {
            "gridcolor": "white",
            "linecolor": "white",
            "ticks": ""
           }
          },
          "scene": {
           "xaxis": {
            "backgroundcolor": "#E5ECF6",
            "gridcolor": "white",
            "gridwidth": 2,
            "linecolor": "white",
            "showbackground": true,
            "ticks": "",
            "zerolinecolor": "white"
           },
           "yaxis": {
            "backgroundcolor": "#E5ECF6",
            "gridcolor": "white",
            "gridwidth": 2,
            "linecolor": "white",
            "showbackground": true,
            "ticks": "",
            "zerolinecolor": "white"
           },
           "zaxis": {
            "backgroundcolor": "#E5ECF6",
            "gridcolor": "white",
            "gridwidth": 2,
            "linecolor": "white",
            "showbackground": true,
            "ticks": "",
            "zerolinecolor": "white"
           }
          },
          "shapedefaults": {
           "line": {
            "color": "#2a3f5f"
           }
          },
          "ternary": {
           "aaxis": {
            "gridcolor": "white",
            "linecolor": "white",
            "ticks": ""
           },
           "baxis": {
            "gridcolor": "white",
            "linecolor": "white",
            "ticks": ""
           },
           "bgcolor": "#E5ECF6",
           "caxis": {
            "gridcolor": "white",
            "linecolor": "white",
            "ticks": ""
           }
          },
          "title": {
           "x": 0.05
          },
          "xaxis": {
           "automargin": true,
           "gridcolor": "white",
           "linecolor": "white",
           "ticks": "",
           "title": {
            "standoff": 15
           },
           "zerolinecolor": "white",
           "zerolinewidth": 2
          },
          "yaxis": {
           "automargin": true,
           "gridcolor": "white",
           "linecolor": "white",
           "ticks": "",
           "title": {
            "standoff": 15
           },
           "zerolinecolor": "white",
           "zerolinewidth": 2
          }
         }
        },
        "title": {
         "font": {
          "color": "#4D5663"
         }
        },
        "xaxis": {
         "gridcolor": "#E1E5ED",
         "showgrid": true,
         "tickfont": {
          "color": "#4D5663"
         },
         "title": {
          "font": {
           "color": "#4D5663"
          },
          "text": ""
         },
         "zerolinecolor": "#E1E5ED"
        },
        "yaxis": {
         "gridcolor": "#E1E5ED",
         "showgrid": true,
         "tickfont": {
          "color": "#4D5663"
         },
         "title": {
          "font": {
           "color": "#4D5663"
          },
          "text": ""
         },
         "zerolinecolor": "#E1E5ED"
        }
       }
      },
      "text/html": [
       "<div>\n",
       "        \n",
       "        \n",
       "            <div id=\"13d9c1c2-3497-4d1f-8fdd-fa624f3a4868\" class=\"plotly-graph-div\" style=\"height:525px; width:100%;\"></div>\n",
       "            <script type=\"text/javascript\">\n",
       "                require([\"plotly\"], function(Plotly) {\n",
       "                    window.PLOTLYENV=window.PLOTLYENV || {};\n",
       "                    window.PLOTLYENV.BASE_URL='https://plot.ly';\n",
       "                    \n",
       "                if (document.getElementById(\"13d9c1c2-3497-4d1f-8fdd-fa624f3a4868\")) {\n",
       "                    Plotly.newPlot(\n",
       "                        '13d9c1c2-3497-4d1f-8fdd-fa624f3a4868',\n",
       "                        [{\"colorscale\": [[0.0, \"rgb(165,0,38)\"], [0.1, \"rgb(215,48,39)\"], [0.2, \"rgb(244,109,67)\"], [0.3, \"rgb(253,174,97)\"], [0.4, \"rgb(254,224,144)\"], [0.5, \"rgb(255,255,191)\"], [0.6, \"rgb(224,243,248)\"], [0.7, \"rgb(171,217,233)\"], [0.8, \"rgb(116,173,209)\"], [0.9, \"rgb(69,117,180)\"], [1.0, \"rgb(49,54,149)\"]], \"type\": \"surface\", \"x\": [0, 1, 2, 3, 4], \"y\": [\"x\", \"y\", \"z\"], \"z\": [[1, 2, 3, 4, 5], [10, 20, 30, 20, 10], [5, 4, 3, 2, 1]]}],\n",
       "                        {\"legend\": {\"bgcolor\": \"#F5F6F9\", \"font\": {\"color\": \"#4D5663\"}}, \"paper_bgcolor\": \"#F5F6F9\", \"plot_bgcolor\": \"#F5F6F9\", \"template\": {\"data\": {\"bar\": [{\"error_x\": {\"color\": \"#2a3f5f\"}, \"error_y\": {\"color\": \"#2a3f5f\"}, \"marker\": {\"line\": {\"color\": \"#E5ECF6\", \"width\": 0.5}}, \"type\": \"bar\"}], \"barpolar\": [{\"marker\": {\"line\": {\"color\": \"#E5ECF6\", \"width\": 0.5}}, \"type\": \"barpolar\"}], \"carpet\": [{\"aaxis\": {\"endlinecolor\": \"#2a3f5f\", \"gridcolor\": \"white\", \"linecolor\": \"white\", \"minorgridcolor\": \"white\", \"startlinecolor\": \"#2a3f5f\"}, \"baxis\": {\"endlinecolor\": \"#2a3f5f\", \"gridcolor\": \"white\", \"linecolor\": \"white\", \"minorgridcolor\": \"white\", \"startlinecolor\": \"#2a3f5f\"}, \"type\": \"carpet\"}], \"choropleth\": [{\"colorbar\": {\"outlinewidth\": 0, \"ticks\": \"\"}, \"type\": \"choropleth\"}], \"contour\": [{\"colorbar\": {\"outlinewidth\": 0, \"ticks\": \"\"}, \"colorscale\": [[0.0, \"#0d0887\"], [0.1111111111111111, \"#46039f\"], [0.2222222222222222, \"#7201a8\"], [0.3333333333333333, \"#9c179e\"], [0.4444444444444444, \"#bd3786\"], [0.5555555555555556, \"#d8576b\"], [0.6666666666666666, \"#ed7953\"], [0.7777777777777778, \"#fb9f3a\"], [0.8888888888888888, \"#fdca26\"], [1.0, \"#f0f921\"]], \"type\": \"contour\"}], \"contourcarpet\": [{\"colorbar\": {\"outlinewidth\": 0, \"ticks\": \"\"}, \"type\": \"contourcarpet\"}], \"heatmap\": [{\"colorbar\": {\"outlinewidth\": 0, \"ticks\": \"\"}, \"colorscale\": [[0.0, \"#0d0887\"], [0.1111111111111111, \"#46039f\"], [0.2222222222222222, \"#7201a8\"], [0.3333333333333333, \"#9c179e\"], [0.4444444444444444, \"#bd3786\"], [0.5555555555555556, \"#d8576b\"], [0.6666666666666666, \"#ed7953\"], [0.7777777777777778, \"#fb9f3a\"], [0.8888888888888888, \"#fdca26\"], [1.0, \"#f0f921\"]], \"type\": \"heatmap\"}], \"heatmapgl\": [{\"colorbar\": {\"outlinewidth\": 0, \"ticks\": \"\"}, \"colorscale\": [[0.0, \"#0d0887\"], [0.1111111111111111, \"#46039f\"], [0.2222222222222222, \"#7201a8\"], [0.3333333333333333, \"#9c179e\"], [0.4444444444444444, \"#bd3786\"], [0.5555555555555556, \"#d8576b\"], [0.6666666666666666, \"#ed7953\"], [0.7777777777777778, \"#fb9f3a\"], [0.8888888888888888, \"#fdca26\"], [1.0, \"#f0f921\"]], \"type\": \"heatmapgl\"}], \"histogram\": [{\"marker\": {\"colorbar\": {\"outlinewidth\": 0, \"ticks\": \"\"}}, \"type\": \"histogram\"}], \"histogram2d\": [{\"colorbar\": {\"outlinewidth\": 0, \"ticks\": \"\"}, \"colorscale\": [[0.0, \"#0d0887\"], [0.1111111111111111, \"#46039f\"], [0.2222222222222222, \"#7201a8\"], [0.3333333333333333, \"#9c179e\"], [0.4444444444444444, \"#bd3786\"], [0.5555555555555556, \"#d8576b\"], [0.6666666666666666, \"#ed7953\"], [0.7777777777777778, \"#fb9f3a\"], [0.8888888888888888, \"#fdca26\"], [1.0, \"#f0f921\"]], \"type\": \"histogram2d\"}], \"histogram2dcontour\": [{\"colorbar\": {\"outlinewidth\": 0, \"ticks\": \"\"}, \"colorscale\": [[0.0, \"#0d0887\"], [0.1111111111111111, \"#46039f\"], [0.2222222222222222, \"#7201a8\"], [0.3333333333333333, \"#9c179e\"], [0.4444444444444444, \"#bd3786\"], [0.5555555555555556, \"#d8576b\"], [0.6666666666666666, \"#ed7953\"], [0.7777777777777778, \"#fb9f3a\"], [0.8888888888888888, \"#fdca26\"], [1.0, \"#f0f921\"]], \"type\": \"histogram2dcontour\"}], \"mesh3d\": [{\"colorbar\": {\"outlinewidth\": 0, \"ticks\": \"\"}, \"type\": \"mesh3d\"}], \"parcoords\": [{\"line\": {\"colorbar\": {\"outlinewidth\": 0, \"ticks\": \"\"}}, \"type\": \"parcoords\"}], \"pie\": [{\"automargin\": true, \"type\": \"pie\"}], \"scatter\": [{\"marker\": {\"colorbar\": {\"outlinewidth\": 0, \"ticks\": \"\"}}, \"type\": \"scatter\"}], \"scatter3d\": [{\"line\": {\"colorbar\": {\"outlinewidth\": 0, \"ticks\": \"\"}}, \"marker\": {\"colorbar\": {\"outlinewidth\": 0, \"ticks\": \"\"}}, \"type\": \"scatter3d\"}], \"scattercarpet\": [{\"marker\": {\"colorbar\": {\"outlinewidth\": 0, \"ticks\": \"\"}}, \"type\": \"scattercarpet\"}], \"scattergeo\": [{\"marker\": {\"colorbar\": {\"outlinewidth\": 0, \"ticks\": \"\"}}, \"type\": \"scattergeo\"}], \"scattergl\": [{\"marker\": {\"colorbar\": {\"outlinewidth\": 0, \"ticks\": \"\"}}, \"type\": \"scattergl\"}], \"scattermapbox\": [{\"marker\": {\"colorbar\": {\"outlinewidth\": 0, \"ticks\": \"\"}}, \"type\": \"scattermapbox\"}], \"scatterpolar\": [{\"marker\": {\"colorbar\": {\"outlinewidth\": 0, \"ticks\": \"\"}}, \"type\": \"scatterpolar\"}], \"scatterpolargl\": [{\"marker\": {\"colorbar\": {\"outlinewidth\": 0, \"ticks\": \"\"}}, \"type\": \"scatterpolargl\"}], \"scatterternary\": [{\"marker\": {\"colorbar\": {\"outlinewidth\": 0, \"ticks\": \"\"}}, \"type\": \"scatterternary\"}], \"surface\": [{\"colorbar\": {\"outlinewidth\": 0, \"ticks\": \"\"}, \"colorscale\": [[0.0, \"#0d0887\"], [0.1111111111111111, \"#46039f\"], [0.2222222222222222, \"#7201a8\"], [0.3333333333333333, \"#9c179e\"], [0.4444444444444444, \"#bd3786\"], [0.5555555555555556, \"#d8576b\"], [0.6666666666666666, \"#ed7953\"], [0.7777777777777778, \"#fb9f3a\"], [0.8888888888888888, \"#fdca26\"], [1.0, \"#f0f921\"]], \"type\": \"surface\"}], \"table\": [{\"cells\": {\"fill\": {\"color\": \"#EBF0F8\"}, \"line\": {\"color\": \"white\"}}, \"header\": {\"fill\": {\"color\": \"#C8D4E3\"}, \"line\": {\"color\": \"white\"}}, \"type\": \"table\"}]}, \"layout\": {\"annotationdefaults\": {\"arrowcolor\": \"#2a3f5f\", \"arrowhead\": 0, \"arrowwidth\": 1}, \"coloraxis\": {\"colorbar\": {\"outlinewidth\": 0, \"ticks\": \"\"}}, \"colorscale\": {\"diverging\": [[0, \"#8e0152\"], [0.1, \"#c51b7d\"], [0.2, \"#de77ae\"], [0.3, \"#f1b6da\"], [0.4, \"#fde0ef\"], [0.5, \"#f7f7f7\"], [0.6, \"#e6f5d0\"], [0.7, \"#b8e186\"], [0.8, \"#7fbc41\"], [0.9, \"#4d9221\"], [1, \"#276419\"]], \"sequential\": [[0.0, \"#0d0887\"], [0.1111111111111111, \"#46039f\"], [0.2222222222222222, \"#7201a8\"], [0.3333333333333333, \"#9c179e\"], [0.4444444444444444, \"#bd3786\"], [0.5555555555555556, \"#d8576b\"], [0.6666666666666666, \"#ed7953\"], [0.7777777777777778, \"#fb9f3a\"], [0.8888888888888888, \"#fdca26\"], [1.0, \"#f0f921\"]], \"sequentialminus\": [[0.0, \"#0d0887\"], [0.1111111111111111, \"#46039f\"], [0.2222222222222222, \"#7201a8\"], [0.3333333333333333, \"#9c179e\"], [0.4444444444444444, \"#bd3786\"], [0.5555555555555556, \"#d8576b\"], [0.6666666666666666, \"#ed7953\"], [0.7777777777777778, \"#fb9f3a\"], [0.8888888888888888, \"#fdca26\"], [1.0, \"#f0f921\"]]}, \"colorway\": [\"#636efa\", \"#EF553B\", \"#00cc96\", \"#ab63fa\", \"#FFA15A\", \"#19d3f3\", \"#FF6692\", \"#B6E880\", \"#FF97FF\", \"#FECB52\"], \"font\": {\"color\": \"#2a3f5f\"}, \"geo\": {\"bgcolor\": \"white\", \"lakecolor\": \"white\", \"landcolor\": \"#E5ECF6\", \"showlakes\": true, \"showland\": true, \"subunitcolor\": \"white\"}, \"hoverlabel\": {\"align\": \"left\"}, \"hovermode\": \"closest\", \"mapbox\": {\"style\": \"light\"}, \"paper_bgcolor\": \"white\", \"plot_bgcolor\": \"#E5ECF6\", \"polar\": {\"angularaxis\": {\"gridcolor\": \"white\", \"linecolor\": \"white\", \"ticks\": \"\"}, \"bgcolor\": \"#E5ECF6\", \"radialaxis\": {\"gridcolor\": \"white\", \"linecolor\": \"white\", \"ticks\": \"\"}}, \"scene\": {\"xaxis\": {\"backgroundcolor\": \"#E5ECF6\", \"gridcolor\": \"white\", \"gridwidth\": 2, \"linecolor\": \"white\", \"showbackground\": true, \"ticks\": \"\", \"zerolinecolor\": \"white\"}, \"yaxis\": {\"backgroundcolor\": \"#E5ECF6\", \"gridcolor\": \"white\", \"gridwidth\": 2, \"linecolor\": \"white\", \"showbackground\": true, \"ticks\": \"\", \"zerolinecolor\": \"white\"}, \"zaxis\": {\"backgroundcolor\": \"#E5ECF6\", \"gridcolor\": \"white\", \"gridwidth\": 2, \"linecolor\": \"white\", \"showbackground\": true, \"ticks\": \"\", \"zerolinecolor\": \"white\"}}, \"shapedefaults\": {\"line\": {\"color\": \"#2a3f5f\"}}, \"ternary\": {\"aaxis\": {\"gridcolor\": \"white\", \"linecolor\": \"white\", \"ticks\": \"\"}, \"baxis\": {\"gridcolor\": \"white\", \"linecolor\": \"white\", \"ticks\": \"\"}, \"bgcolor\": \"#E5ECF6\", \"caxis\": {\"gridcolor\": \"white\", \"linecolor\": \"white\", \"ticks\": \"\"}}, \"title\": {\"x\": 0.05}, \"xaxis\": {\"automargin\": true, \"gridcolor\": \"white\", \"linecolor\": \"white\", \"ticks\": \"\", \"title\": {\"standoff\": 15}, \"zerolinecolor\": \"white\", \"zerolinewidth\": 2}, \"yaxis\": {\"automargin\": true, \"gridcolor\": \"white\", \"linecolor\": \"white\", \"ticks\": \"\", \"title\": {\"standoff\": 15}, \"zerolinecolor\": \"white\", \"zerolinewidth\": 2}}}, \"title\": {\"font\": {\"color\": \"#4D5663\"}}, \"xaxis\": {\"gridcolor\": \"#E1E5ED\", \"showgrid\": true, \"tickfont\": {\"color\": \"#4D5663\"}, \"title\": {\"font\": {\"color\": \"#4D5663\"}, \"text\": \"\"}, \"zerolinecolor\": \"#E1E5ED\"}, \"yaxis\": {\"gridcolor\": \"#E1E5ED\", \"showgrid\": true, \"tickfont\": {\"color\": \"#4D5663\"}, \"title\": {\"font\": {\"color\": \"#4D5663\"}, \"text\": \"\"}, \"zerolinecolor\": \"#E1E5ED\"}},\n",
       "                        {\"showLink\": true, \"linkText\": \"Export to plot.ly\", \"plotlyServerURL\": \"https://plot.ly\", \"responsive\": true}\n",
       "                    ).then(function(){\n",
       "                            \n",
       "var gd = document.getElementById('13d9c1c2-3497-4d1f-8fdd-fa624f3a4868');\n",
       "var x = new MutationObserver(function (mutations, observer) {{\n",
       "        var display = window.getComputedStyle(gd).display;\n",
       "        if (!display || display === 'none') {{\n",
       "            console.log([gd, 'removed!']);\n",
       "            Plotly.purge(gd);\n",
       "            observer.disconnect();\n",
       "        }}\n",
       "}});\n",
       "\n",
       "// Listen for the removal of the full notebook cells\n",
       "var notebookContainer = gd.closest('#notebook-container');\n",
       "if (notebookContainer) {{\n",
       "    x.observe(notebookContainer, {childList: true});\n",
       "}}\n",
       "\n",
       "// Listen for the clearing of the current output cell\n",
       "var outputEl = gd.closest('.output');\n",
       "if (outputEl) {{\n",
       "    x.observe(outputEl, {childList: true});\n",
       "}}\n",
       "\n",
       "                        })\n",
       "                };\n",
       "                });\n",
       "            </script>\n",
       "        </div>"
      ]
     },
     "metadata": {},
     "output_type": "display_data"
    }
   ],
   "source": [
    "df3 = pd.DataFrame({'x':[1,2,3,4,5],'y':[10,20,30,20,10],'z':[5,4,3,2,1]})\n",
    "df3.iplot(kind='surface',colorscale='rdylbu')"
   ]
  },
  {
   "cell_type": "markdown",
   "metadata": {},
   "source": [
    "## Spread"
   ]
  },
  {
   "cell_type": "code",
   "execution_count": 16,
   "metadata": {},
   "outputs": [
    {
     "data": {
      "application/vnd.plotly.v1+json": {
       "config": {
        "linkText": "Export to plot.ly",
        "plotlyServerURL": "https://plot.ly",
        "showLink": true
       },
       "data": [
        {
         "line": {
          "color": "rgba(255, 153, 51, 1.0)",
          "dash": "solid",
          "shape": "linear",
          "width": 1.3
         },
         "mode": "lines",
         "name": "A",
         "text": "",
         "type": "scatter",
         "x": [
          0,
          1,
          2,
          3,
          4,
          5,
          6,
          7,
          8,
          9,
          10,
          11,
          12,
          13,
          14,
          15,
          16,
          17,
          18,
          19,
          20,
          21,
          22,
          23,
          24,
          25,
          26,
          27,
          28,
          29,
          30,
          31,
          32,
          33,
          34,
          35,
          36,
          37,
          38,
          39,
          40,
          41,
          42,
          43,
          44,
          45,
          46,
          47,
          48,
          49,
          50,
          51,
          52,
          53,
          54,
          55,
          56,
          57,
          58,
          59,
          60,
          61,
          62,
          63,
          64,
          65,
          66,
          67,
          68,
          69,
          70,
          71,
          72,
          73,
          74,
          75,
          76,
          77,
          78,
          79,
          80,
          81,
          82,
          83,
          84,
          85,
          86,
          87,
          88,
          89,
          90,
          91,
          92,
          93,
          94,
          95,
          96,
          97,
          98,
          99
         ],
         "y": [
          1.4057168758225187,
          0.09635109794516898,
          -0.8075775662482514,
          1.85671902279818,
          1.3564610889782882,
          -1.0665015699326987,
          -0.3215134793832769,
          2.2006939363165583,
          -0.0642731305817795,
          -0.06722249427021736,
          -0.7606245671921829,
          -0.011501944221071154,
          0.41632838029502583,
          0.08283379610948835,
          0.6973631246869717,
          1.3319206881954702,
          1.0618863974579766,
          -1.032164232081873,
          0.08631207258907114,
          -0.8749170327076585,
          0.9561424070698766,
          2.0812454986913953,
          0.013611597742900088,
          2.010755001659486,
          -0.3840367437614046,
          -0.48611375514496025,
          -1.0010787717614296,
          -0.7111060970108366,
          -0.88155225575621,
          -0.7912570519536614,
          -0.8482443659483541,
          0.009417046372797853,
          -0.6613874723923325,
          -0.43179805587229253,
          -1.1868260308228515,
          -1.3010165341303017,
          1.0793955367330281,
          -1.21888688132927,
          1.7860641751165047,
          0.799656633173967,
          -0.5334780327036241,
          -1.209424809475077,
          -1.1424053312617162,
          1.2579717508561836,
          -2.0605485025033214,
          0.13710078395039346,
          -0.5916349564207652,
          0.3029899541504856,
          -0.22663502770322,
          -0.5804854045400992,
          -1.9025506699911556,
          0.11876147332063057,
          0.9257965150343771,
          -0.18073318129062516,
          1.5055537662684682,
          -0.8089910678807307,
          -0.11721228265202219,
          -0.5997238871075966,
          -1.142021786149684,
          0.09936348427841284,
          1.4931562081498957,
          -1.5547024729001584,
          0.5910489953515512,
          -0.059929917251002024,
          1.0696616107968673,
          0.8021825757324219,
          1.439330784471317,
          -0.6110907124127478,
          1.0024882398083432,
          -1.7022888335987154,
          0.05188306699545878,
          1.7097829525296082,
          -1.5080847746237727,
          0.6911601517780541,
          -1.0036454775392192,
          0.8135518250358234,
          -0.9300649797636137,
          -0.21514900583841184,
          0.7078344365890838,
          0.04089091390206245,
          0.10570034421779602,
          2.615277534759449,
          -0.3407781816207968,
          -0.7062667539668542,
          0.7414974982831658,
          -0.9158253246310815,
          -0.4412896880881209,
          1.5879126191662924,
          0.0021807237198163483,
          0.4941846844869749,
          0.7951021730994977,
          -0.9137616880373952,
          -1.9780362146807235,
          -0.7076722808592804,
          -1.8884123353793303,
          0.7626559205689569,
          -1.6959998148682438,
          0.07953368201121154,
          0.7781058966122304,
          1.27600917408759
         ]
        },
        {
         "line": {
          "color": "rgba(55, 128, 191, 1.0)",
          "dash": "solid",
          "shape": "linear",
          "width": 1.3
         },
         "mode": "lines",
         "name": "B",
         "text": "",
         "type": "scatter",
         "x": [
          0,
          1,
          2,
          3,
          4,
          5,
          6,
          7,
          8,
          9,
          10,
          11,
          12,
          13,
          14,
          15,
          16,
          17,
          18,
          19,
          20,
          21,
          22,
          23,
          24,
          25,
          26,
          27,
          28,
          29,
          30,
          31,
          32,
          33,
          34,
          35,
          36,
          37,
          38,
          39,
          40,
          41,
          42,
          43,
          44,
          45,
          46,
          47,
          48,
          49,
          50,
          51,
          52,
          53,
          54,
          55,
          56,
          57,
          58,
          59,
          60,
          61,
          62,
          63,
          64,
          65,
          66,
          67,
          68,
          69,
          70,
          71,
          72,
          73,
          74,
          75,
          76,
          77,
          78,
          79,
          80,
          81,
          82,
          83,
          84,
          85,
          86,
          87,
          88,
          89,
          90,
          91,
          92,
          93,
          94,
          95,
          96,
          97,
          98,
          99
         ],
         "y": [
          1.3805021359727088,
          0.6876562345194515,
          1.744426205438441,
          1.3482770883045914,
          -0.634248067300063,
          -0.034294271166742524,
          0.08697205812033731,
          0.18165054261005958,
          -0.4947130519966682,
          1.1926577197445511,
          -0.20717482602811665,
          -2.5133130507450065,
          0.5849565071647904,
          -1.1419275913432483,
          -1.0989250107348194,
          -0.7187949424743807,
          -0.4925908219897006,
          -0.8053500686902227,
          1.3214954358061495,
          0.650458182102288,
          0.7831813622092171,
          0.07498582897569142,
          0.6523450877465203,
          -0.5783833322107474,
          0.31063691916746256,
          0.5339759772715772,
          -0.9341694521216017,
          0.1636579101222258,
          0.7914756036817695,
          0.14946115975322116,
          1.655598160883892,
          0.7246961444793382,
          -1.2954830292755444,
          0.9695475826517964,
          -0.2964187051363097,
          2.7033995079178443,
          -0.38178103307087197,
          1.1295086160797756,
          1.527880017753105,
          0.905536015852373,
          0.29805175373631065,
          -0.5754351908083993,
          0.29082064681038583,
          0.7586137695438394,
          1.1349899407660182,
          0.6717992725911085,
          -0.31428779368983534,
          -0.18220919871777175,
          2.1597698090177797,
          -1.419379997025609,
          -0.8461014276372388,
          0.41864875994912204,
          0.8148702380518698,
          0.019606695965507532,
          -1.1837488988129978,
          1.1806831481053504,
          -0.6107919824591864,
          -0.23111979494516535,
          -0.9367596799948575,
          -1.6339807125647547,
          -1.8372441832889166,
          2.5168011421762055,
          -1.5382411271982206,
          0.6254374573450555,
          -0.29144223018409665,
          0.25280094962187494,
          0.9341401560731483,
          0.4593226701114746,
          0.37090012110200604,
          2.5485602361509896,
          -0.2384223669142262,
          -1.4965726279770937,
          -0.9143776712501855,
          0.6240127588983286,
          0.9349261687864068,
          1.1302133290065983,
          -1.9122547142011879,
          2.1612111542650148,
          -1.170401489694811,
          1.4844344274345278,
          0.425068571796391,
          1.0836427308909355,
          -1.2092550831621383,
          -0.05373370286349067,
          -2.329782253481326,
          0.9931882640309181,
          -0.7440493223711631,
          -0.8690298054021338,
          -1.3870236796099518,
          -0.235118566464218,
          -0.804128615713205,
          -2.091537810580936,
          0.566865783198684,
          -1.511924883938343,
          -0.9600094189448816,
          -0.382769475864104,
          -0.43678813895890783,
          1.4503730185316464,
          -1.1598452079499255,
          0.0007072242767753852
         ]
        },
        {
         "connectgaps": false,
         "fill": "tozeroy",
         "line": {
          "color": "green",
          "dash": "solid",
          "shape": "linear",
          "width": 0.5
         },
         "mode": "lines",
         "name": "Spread",
         "showlegend": false,
         "type": "scatter",
         "x": [
          0,
          1,
          2,
          3,
          4,
          5,
          6,
          7,
          8,
          9,
          10,
          11,
          12,
          13,
          14,
          15,
          16,
          17,
          18,
          19,
          20,
          21,
          22,
          23,
          24,
          25,
          26,
          27,
          28,
          29,
          30,
          31,
          32,
          33,
          34,
          35,
          36,
          37,
          38,
          39,
          40,
          41,
          42,
          43,
          44,
          45,
          46,
          47,
          48,
          49,
          50,
          51,
          52,
          53,
          54,
          55,
          56,
          57,
          58,
          59,
          60,
          61,
          62,
          63,
          64,
          65,
          66,
          67,
          68,
          69,
          70,
          71,
          72,
          73,
          74,
          75,
          76,
          77,
          78,
          79,
          80,
          81,
          82,
          83,
          84,
          85,
          86,
          87,
          88,
          89,
          90,
          91,
          92,
          93,
          94,
          95,
          96,
          97,
          98,
          99
         ],
         "xaxis": "x2",
         "y": [
          0.02521473984980993,
          "",
          "",
          0.5084419344935887,
          1.9907091562783512,
          "",
          "",
          2.019043393706499,
          0.43043992141488874,
          "",
          "",
          2.5018111065239355,
          "",
          1.2247613874527365,
          1.7962881354217912,
          2.050715630669851,
          1.5544772194476772,
          "",
          "",
          "",
          0.17296104486065955,
          2.006259669715704,
          "",
          2.5891383338702334,
          "",
          "",
          "",
          "",
          "",
          "",
          "",
          "",
          0.6340955568832118,
          "",
          "",
          "",
          1.4611765698039,
          "",
          0.25818415736339984,
          "",
          "",
          "",
          "",
          0.4993579813123442,
          "",
          "",
          "",
          0.4851991528682573,
          "",
          0.8388945924855097,
          "",
          "",
          0.11092627698250734,
          "",
          2.689302665081466,
          "",
          0.4935796998071642,
          "",
          "",
          1.7333441968431675,
          3.330400391438812,
          "",
          2.129290122549772,
          "",
          1.361103840980964,
          0.549381626110547,
          0.5051906283981688,
          "",
          0.6315881187063372,
          "",
          0.290305433909685,
          3.2063555805067017,
          "",
          0.06714739287972549,
          "",
          "",
          0.9821897344375742,
          "",
          1.8782359262838948,
          "",
          "",
          1.5316348038685135,
          0.8684769015413414,
          "",
          3.0712797517644916,
          "",
          0.30275963428304214,
          2.4569424245684264,
          1.3892044033297681,
          0.7293032509511929,
          1.5992307888127026,
          1.1777761225435408,
          "",
          0.8042526030790627,
          "",
          1.145425396433061,
          "",
          "",
          1.9379511045621558,
          1.2753019498108147
         ],
         "yaxis": "y2"
        },
        {
         "connectgaps": false,
         "fill": "tozeroy",
         "line": {
          "color": "red",
          "dash": "solid",
          "shape": "linear",
          "width": 0.5
         },
         "mode": "lines",
         "name": "Spread",
         "showlegend": false,
         "type": "scatter",
         "x": [
          0,
          1,
          2,
          3,
          4,
          5,
          6,
          7,
          8,
          9,
          10,
          11,
          12,
          13,
          14,
          15,
          16,
          17,
          18,
          19,
          20,
          21,
          22,
          23,
          24,
          25,
          26,
          27,
          28,
          29,
          30,
          31,
          32,
          33,
          34,
          35,
          36,
          37,
          38,
          39,
          40,
          41,
          42,
          43,
          44,
          45,
          46,
          47,
          48,
          49,
          50,
          51,
          52,
          53,
          54,
          55,
          56,
          57,
          58,
          59,
          60,
          61,
          62,
          63,
          64,
          65,
          66,
          67,
          68,
          69,
          70,
          71,
          72,
          73,
          74,
          75,
          76,
          77,
          78,
          79,
          80,
          81,
          82,
          83,
          84,
          85,
          86,
          87,
          88,
          89,
          90,
          91,
          92,
          93,
          94,
          95,
          96,
          97,
          98,
          99
         ],
         "xaxis": "x2",
         "y": [
          "",
          -0.5913051365742825,
          -2.5520037716866923,
          "",
          "",
          -1.0322072987659563,
          -0.4084855375036142,
          "",
          "",
          -1.2598802140147685,
          -0.5534497411640662,
          "",
          -0.16862812686976458,
          "",
          "",
          "",
          "",
          -0.22681416339165017,
          -1.2351833632170783,
          -1.5253752148099466,
          "",
          "",
          -0.6387334900036202,
          "",
          -0.6946736629288672,
          -1.0200897324165374,
          -0.06690931963982782,
          -0.8747640071330625,
          -1.6730278594379795,
          -0.9407182117068825,
          -2.503842526832246,
          -0.7152790981065403,
          "",
          -1.401345638524089,
          -0.8904073256865419,
          -4.004416042048146,
          "",
          -2.3483954974090455,
          "",
          -0.10587938267840602,
          -0.8315297864399348,
          -0.6339896186666777,
          -1.433225978072102,
          "",
          -3.1955384432693394,
          -0.534698488640715,
          -0.2773471627309299,
          "",
          -2.386404836721,
          "",
          -1.0564492423539167,
          -0.29988728662849146,
          "",
          -0.2003398772561327,
          "",
          -1.989674215986081,
          "",
          -0.3686040921624313,
          -0.20526210615482643,
          "",
          "",
          -4.071503615076364,
          "",
          -0.6853673745960576,
          "",
          "",
          "",
          -1.0704133825242224,
          "",
          -4.250849069749705,
          "",
          "",
          -0.5937071033735871,
          "",
          -1.938571646325626,
          -0.31666150397077497,
          "",
          -2.3763601601034265,
          "",
          -1.4435435135324655,
          -0.319368227578595,
          "",
          "",
          -0.6525330511033636,
          "",
          -1.9090135886619994,
          "",
          "",
          "",
          "",
          "",
          "",
          -2.5449019978794074,
          "",
          -0.9284029164344487,
          "",
          -1.259211675909336,
          -1.3708393365204348,
          "",
          ""
         ],
         "yaxis": "y2"
        }
       ],
       "layout": {
        "hovermode": "x",
        "legend": {
         "bgcolor": "#F5F6F9",
         "font": {
          "color": "#4D5663"
         }
        },
        "paper_bgcolor": "#F5F6F9",
        "plot_bgcolor": "#F5F6F9",
        "template": {
         "data": {
          "bar": [
           {
            "error_x": {
             "color": "#2a3f5f"
            },
            "error_y": {
             "color": "#2a3f5f"
            },
            "marker": {
             "line": {
              "color": "#E5ECF6",
              "width": 0.5
             }
            },
            "type": "bar"
           }
          ],
          "barpolar": [
           {
            "marker": {
             "line": {
              "color": "#E5ECF6",
              "width": 0.5
             }
            },
            "type": "barpolar"
           }
          ],
          "carpet": [
           {
            "aaxis": {
             "endlinecolor": "#2a3f5f",
             "gridcolor": "white",
             "linecolor": "white",
             "minorgridcolor": "white",
             "startlinecolor": "#2a3f5f"
            },
            "baxis": {
             "endlinecolor": "#2a3f5f",
             "gridcolor": "white",
             "linecolor": "white",
             "minorgridcolor": "white",
             "startlinecolor": "#2a3f5f"
            },
            "type": "carpet"
           }
          ],
          "choropleth": [
           {
            "colorbar": {
             "outlinewidth": 0,
             "ticks": ""
            },
            "type": "choropleth"
           }
          ],
          "contour": [
           {
            "colorbar": {
             "outlinewidth": 0,
             "ticks": ""
            },
            "colorscale": [
             [
              0,
              "#0d0887"
             ],
             [
              0.1111111111111111,
              "#46039f"
             ],
             [
              0.2222222222222222,
              "#7201a8"
             ],
             [
              0.3333333333333333,
              "#9c179e"
             ],
             [
              0.4444444444444444,
              "#bd3786"
             ],
             [
              0.5555555555555556,
              "#d8576b"
             ],
             [
              0.6666666666666666,
              "#ed7953"
             ],
             [
              0.7777777777777778,
              "#fb9f3a"
             ],
             [
              0.8888888888888888,
              "#fdca26"
             ],
             [
              1,
              "#f0f921"
             ]
            ],
            "type": "contour"
           }
          ],
          "contourcarpet": [
           {
            "colorbar": {
             "outlinewidth": 0,
             "ticks": ""
            },
            "type": "contourcarpet"
           }
          ],
          "heatmap": [
           {
            "colorbar": {
             "outlinewidth": 0,
             "ticks": ""
            },
            "colorscale": [
             [
              0,
              "#0d0887"
             ],
             [
              0.1111111111111111,
              "#46039f"
             ],
             [
              0.2222222222222222,
              "#7201a8"
             ],
             [
              0.3333333333333333,
              "#9c179e"
             ],
             [
              0.4444444444444444,
              "#bd3786"
             ],
             [
              0.5555555555555556,
              "#d8576b"
             ],
             [
              0.6666666666666666,
              "#ed7953"
             ],
             [
              0.7777777777777778,
              "#fb9f3a"
             ],
             [
              0.8888888888888888,
              "#fdca26"
             ],
             [
              1,
              "#f0f921"
             ]
            ],
            "type": "heatmap"
           }
          ],
          "heatmapgl": [
           {
            "colorbar": {
             "outlinewidth": 0,
             "ticks": ""
            },
            "colorscale": [
             [
              0,
              "#0d0887"
             ],
             [
              0.1111111111111111,
              "#46039f"
             ],
             [
              0.2222222222222222,
              "#7201a8"
             ],
             [
              0.3333333333333333,
              "#9c179e"
             ],
             [
              0.4444444444444444,
              "#bd3786"
             ],
             [
              0.5555555555555556,
              "#d8576b"
             ],
             [
              0.6666666666666666,
              "#ed7953"
             ],
             [
              0.7777777777777778,
              "#fb9f3a"
             ],
             [
              0.8888888888888888,
              "#fdca26"
             ],
             [
              1,
              "#f0f921"
             ]
            ],
            "type": "heatmapgl"
           }
          ],
          "histogram": [
           {
            "marker": {
             "colorbar": {
              "outlinewidth": 0,
              "ticks": ""
             }
            },
            "type": "histogram"
           }
          ],
          "histogram2d": [
           {
            "colorbar": {
             "outlinewidth": 0,
             "ticks": ""
            },
            "colorscale": [
             [
              0,
              "#0d0887"
             ],
             [
              0.1111111111111111,
              "#46039f"
             ],
             [
              0.2222222222222222,
              "#7201a8"
             ],
             [
              0.3333333333333333,
              "#9c179e"
             ],
             [
              0.4444444444444444,
              "#bd3786"
             ],
             [
              0.5555555555555556,
              "#d8576b"
             ],
             [
              0.6666666666666666,
              "#ed7953"
             ],
             [
              0.7777777777777778,
              "#fb9f3a"
             ],
             [
              0.8888888888888888,
              "#fdca26"
             ],
             [
              1,
              "#f0f921"
             ]
            ],
            "type": "histogram2d"
           }
          ],
          "histogram2dcontour": [
           {
            "colorbar": {
             "outlinewidth": 0,
             "ticks": ""
            },
            "colorscale": [
             [
              0,
              "#0d0887"
             ],
             [
              0.1111111111111111,
              "#46039f"
             ],
             [
              0.2222222222222222,
              "#7201a8"
             ],
             [
              0.3333333333333333,
              "#9c179e"
             ],
             [
              0.4444444444444444,
              "#bd3786"
             ],
             [
              0.5555555555555556,
              "#d8576b"
             ],
             [
              0.6666666666666666,
              "#ed7953"
             ],
             [
              0.7777777777777778,
              "#fb9f3a"
             ],
             [
              0.8888888888888888,
              "#fdca26"
             ],
             [
              1,
              "#f0f921"
             ]
            ],
            "type": "histogram2dcontour"
           }
          ],
          "mesh3d": [
           {
            "colorbar": {
             "outlinewidth": 0,
             "ticks": ""
            },
            "type": "mesh3d"
           }
          ],
          "parcoords": [
           {
            "line": {
             "colorbar": {
              "outlinewidth": 0,
              "ticks": ""
             }
            },
            "type": "parcoords"
           }
          ],
          "pie": [
           {
            "automargin": true,
            "type": "pie"
           }
          ],
          "scatter": [
           {
            "marker": {
             "colorbar": {
              "outlinewidth": 0,
              "ticks": ""
             }
            },
            "type": "scatter"
           }
          ],
          "scatter3d": [
           {
            "line": {
             "colorbar": {
              "outlinewidth": 0,
              "ticks": ""
             }
            },
            "marker": {
             "colorbar": {
              "outlinewidth": 0,
              "ticks": ""
             }
            },
            "type": "scatter3d"
           }
          ],
          "scattercarpet": [
           {
            "marker": {
             "colorbar": {
              "outlinewidth": 0,
              "ticks": ""
             }
            },
            "type": "scattercarpet"
           }
          ],
          "scattergeo": [
           {
            "marker": {
             "colorbar": {
              "outlinewidth": 0,
              "ticks": ""
             }
            },
            "type": "scattergeo"
           }
          ],
          "scattergl": [
           {
            "marker": {
             "colorbar": {
              "outlinewidth": 0,
              "ticks": ""
             }
            },
            "type": "scattergl"
           }
          ],
          "scattermapbox": [
           {
            "marker": {
             "colorbar": {
              "outlinewidth": 0,
              "ticks": ""
             }
            },
            "type": "scattermapbox"
           }
          ],
          "scatterpolar": [
           {
            "marker": {
             "colorbar": {
              "outlinewidth": 0,
              "ticks": ""
             }
            },
            "type": "scatterpolar"
           }
          ],
          "scatterpolargl": [
           {
            "marker": {
             "colorbar": {
              "outlinewidth": 0,
              "ticks": ""
             }
            },
            "type": "scatterpolargl"
           }
          ],
          "scatterternary": [
           {
            "marker": {
             "colorbar": {
              "outlinewidth": 0,
              "ticks": ""
             }
            },
            "type": "scatterternary"
           }
          ],
          "surface": [
           {
            "colorbar": {
             "outlinewidth": 0,
             "ticks": ""
            },
            "colorscale": [
             [
              0,
              "#0d0887"
             ],
             [
              0.1111111111111111,
              "#46039f"
             ],
             [
              0.2222222222222222,
              "#7201a8"
             ],
             [
              0.3333333333333333,
              "#9c179e"
             ],
             [
              0.4444444444444444,
              "#bd3786"
             ],
             [
              0.5555555555555556,
              "#d8576b"
             ],
             [
              0.6666666666666666,
              "#ed7953"
             ],
             [
              0.7777777777777778,
              "#fb9f3a"
             ],
             [
              0.8888888888888888,
              "#fdca26"
             ],
             [
              1,
              "#f0f921"
             ]
            ],
            "type": "surface"
           }
          ],
          "table": [
           {
            "cells": {
             "fill": {
              "color": "#EBF0F8"
             },
             "line": {
              "color": "white"
             }
            },
            "header": {
             "fill": {
              "color": "#C8D4E3"
             },
             "line": {
              "color": "white"
             }
            },
            "type": "table"
           }
          ]
         },
         "layout": {
          "annotationdefaults": {
           "arrowcolor": "#2a3f5f",
           "arrowhead": 0,
           "arrowwidth": 1
          },
          "coloraxis": {
           "colorbar": {
            "outlinewidth": 0,
            "ticks": ""
           }
          },
          "colorscale": {
           "diverging": [
            [
             0,
             "#8e0152"
            ],
            [
             0.1,
             "#c51b7d"
            ],
            [
             0.2,
             "#de77ae"
            ],
            [
             0.3,
             "#f1b6da"
            ],
            [
             0.4,
             "#fde0ef"
            ],
            [
             0.5,
             "#f7f7f7"
            ],
            [
             0.6,
             "#e6f5d0"
            ],
            [
             0.7,
             "#b8e186"
            ],
            [
             0.8,
             "#7fbc41"
            ],
            [
             0.9,
             "#4d9221"
            ],
            [
             1,
             "#276419"
            ]
           ],
           "sequential": [
            [
             0,
             "#0d0887"
            ],
            [
             0.1111111111111111,
             "#46039f"
            ],
            [
             0.2222222222222222,
             "#7201a8"
            ],
            [
             0.3333333333333333,
             "#9c179e"
            ],
            [
             0.4444444444444444,
             "#bd3786"
            ],
            [
             0.5555555555555556,
             "#d8576b"
            ],
            [
             0.6666666666666666,
             "#ed7953"
            ],
            [
             0.7777777777777778,
             "#fb9f3a"
            ],
            [
             0.8888888888888888,
             "#fdca26"
            ],
            [
             1,
             "#f0f921"
            ]
           ],
           "sequentialminus": [
            [
             0,
             "#0d0887"
            ],
            [
             0.1111111111111111,
             "#46039f"
            ],
            [
             0.2222222222222222,
             "#7201a8"
            ],
            [
             0.3333333333333333,
             "#9c179e"
            ],
            [
             0.4444444444444444,
             "#bd3786"
            ],
            [
             0.5555555555555556,
             "#d8576b"
            ],
            [
             0.6666666666666666,
             "#ed7953"
            ],
            [
             0.7777777777777778,
             "#fb9f3a"
            ],
            [
             0.8888888888888888,
             "#fdca26"
            ],
            [
             1,
             "#f0f921"
            ]
           ]
          },
          "colorway": [
           "#636efa",
           "#EF553B",
           "#00cc96",
           "#ab63fa",
           "#FFA15A",
           "#19d3f3",
           "#FF6692",
           "#B6E880",
           "#FF97FF",
           "#FECB52"
          ],
          "font": {
           "color": "#2a3f5f"
          },
          "geo": {
           "bgcolor": "white",
           "lakecolor": "white",
           "landcolor": "#E5ECF6",
           "showlakes": true,
           "showland": true,
           "subunitcolor": "white"
          },
          "hoverlabel": {
           "align": "left"
          },
          "hovermode": "closest",
          "mapbox": {
           "style": "light"
          },
          "paper_bgcolor": "white",
          "plot_bgcolor": "#E5ECF6",
          "polar": {
           "angularaxis": {
            "gridcolor": "white",
            "linecolor": "white",
            "ticks": ""
           },
           "bgcolor": "#E5ECF6",
           "radialaxis": {
            "gridcolor": "white",
            "linecolor": "white",
            "ticks": ""
           }
          },
          "scene": {
           "xaxis": {
            "backgroundcolor": "#E5ECF6",
            "gridcolor": "white",
            "gridwidth": 2,
            "linecolor": "white",
            "showbackground": true,
            "ticks": "",
            "zerolinecolor": "white"
           },
           "yaxis": {
            "backgroundcolor": "#E5ECF6",
            "gridcolor": "white",
            "gridwidth": 2,
            "linecolor": "white",
            "showbackground": true,
            "ticks": "",
            "zerolinecolor": "white"
           },
           "zaxis": {
            "backgroundcolor": "#E5ECF6",
            "gridcolor": "white",
            "gridwidth": 2,
            "linecolor": "white",
            "showbackground": true,
            "ticks": "",
            "zerolinecolor": "white"
           }
          },
          "shapedefaults": {
           "line": {
            "color": "#2a3f5f"
           }
          },
          "ternary": {
           "aaxis": {
            "gridcolor": "white",
            "linecolor": "white",
            "ticks": ""
           },
           "baxis": {
            "gridcolor": "white",
            "linecolor": "white",
            "ticks": ""
           },
           "bgcolor": "#E5ECF6",
           "caxis": {
            "gridcolor": "white",
            "linecolor": "white",
            "ticks": ""
           }
          },
          "title": {
           "x": 0.05
          },
          "xaxis": {
           "automargin": true,
           "gridcolor": "white",
           "linecolor": "white",
           "ticks": "",
           "title": {
            "standoff": 15
           },
           "zerolinecolor": "white",
           "zerolinewidth": 2
          },
          "yaxis": {
           "automargin": true,
           "gridcolor": "white",
           "linecolor": "white",
           "ticks": "",
           "title": {
            "standoff": 15
           },
           "zerolinecolor": "white",
           "zerolinewidth": 2
          }
         }
        },
        "title": {
         "font": {
          "color": "#4D5663"
         }
        },
        "xaxis": {
         "gridcolor": "#E1E5ED",
         "showgrid": true,
         "tickfont": {
          "color": "#4D5663"
         },
         "title": {
          "font": {
           "color": "#4D5663"
          },
          "text": ""
         },
         "zerolinecolor": "#E1E5ED"
        },
        "xaxis2": {
         "anchor": "y2",
         "gridcolor": "#E1E5ED",
         "showgrid": true,
         "showticklabels": false,
         "tickfont": {
          "color": "#4D5663"
         },
         "title": {
          "font": {
           "color": "#4D5663"
          },
          "text": ""
         },
         "zerolinecolor": "#E1E5ED"
        },
        "yaxis": {
         "domain": [
          0.3,
          1
         ],
         "gridcolor": "#E1E5ED",
         "showgrid": true,
         "tickfont": {
          "color": "#4D5663"
         },
         "title": {
          "font": {
           "color": "#4D5663"
          },
          "text": ""
         },
         "zerolinecolor": "#E1E5ED"
        },
        "yaxis2": {
         "domain": [
          0,
          0.25
         ],
         "gridcolor": "#E1E5ED",
         "showgrid": true,
         "tickfont": {
          "color": "#4D5663"
         },
         "title": {
          "font": {
           "color": "#4D5663"
          },
          "text": "Spread"
         },
         "zerolinecolor": "#E1E5ED"
        }
       }
      },
      "text/html": [
       "<div>\n",
       "        \n",
       "        \n",
       "            <div id=\"e16287aa-f5a8-4406-95eb-f5e4e663d2c3\" class=\"plotly-graph-div\" style=\"height:525px; width:100%;\"></div>\n",
       "            <script type=\"text/javascript\">\n",
       "                require([\"plotly\"], function(Plotly) {\n",
       "                    window.PLOTLYENV=window.PLOTLYENV || {};\n",
       "                    window.PLOTLYENV.BASE_URL='https://plot.ly';\n",
       "                    \n",
       "                if (document.getElementById(\"e16287aa-f5a8-4406-95eb-f5e4e663d2c3\")) {\n",
       "                    Plotly.newPlot(\n",
       "                        'e16287aa-f5a8-4406-95eb-f5e4e663d2c3',\n",
       "                        [{\"line\": {\"color\": \"rgba(255, 153, 51, 1.0)\", \"dash\": \"solid\", \"shape\": \"linear\", \"width\": 1.3}, \"mode\": \"lines\", \"name\": \"A\", \"text\": \"\", \"type\": \"scatter\", \"x\": [0, 1, 2, 3, 4, 5, 6, 7, 8, 9, 10, 11, 12, 13, 14, 15, 16, 17, 18, 19, 20, 21, 22, 23, 24, 25, 26, 27, 28, 29, 30, 31, 32, 33, 34, 35, 36, 37, 38, 39, 40, 41, 42, 43, 44, 45, 46, 47, 48, 49, 50, 51, 52, 53, 54, 55, 56, 57, 58, 59, 60, 61, 62, 63, 64, 65, 66, 67, 68, 69, 70, 71, 72, 73, 74, 75, 76, 77, 78, 79, 80, 81, 82, 83, 84, 85, 86, 87, 88, 89, 90, 91, 92, 93, 94, 95, 96, 97, 98, 99], \"y\": [1.4057168758225187, 0.09635109794516898, -0.8075775662482514, 1.85671902279818, 1.3564610889782882, -1.0665015699326987, -0.3215134793832769, 2.2006939363165583, -0.0642731305817795, -0.06722249427021736, -0.7606245671921829, -0.011501944221071154, 0.41632838029502583, 0.08283379610948835, 0.6973631246869717, 1.3319206881954702, 1.0618863974579766, -1.032164232081873, 0.08631207258907114, -0.8749170327076585, 0.9561424070698766, 2.0812454986913953, 0.013611597742900088, 2.010755001659486, -0.3840367437614046, -0.48611375514496025, -1.0010787717614296, -0.7111060970108366, -0.88155225575621, -0.7912570519536614, -0.8482443659483541, 0.009417046372797853, -0.6613874723923325, -0.43179805587229253, -1.1868260308228515, -1.3010165341303017, 1.0793955367330281, -1.21888688132927, 1.7860641751165047, 0.799656633173967, -0.5334780327036241, -1.209424809475077, -1.1424053312617162, 1.2579717508561836, -2.0605485025033214, 0.13710078395039346, -0.5916349564207652, 0.3029899541504856, -0.22663502770322, -0.5804854045400992, -1.9025506699911556, 0.11876147332063057, 0.9257965150343771, -0.18073318129062516, 1.5055537662684682, -0.8089910678807307, -0.11721228265202219, -0.5997238871075966, -1.142021786149684, 0.09936348427841284, 1.4931562081498957, -1.5547024729001584, 0.5910489953515512, -0.059929917251002024, 1.0696616107968673, 0.8021825757324219, 1.439330784471317, -0.6110907124127478, 1.0024882398083432, -1.7022888335987154, 0.05188306699545878, 1.7097829525296082, -1.5080847746237727, 0.6911601517780541, -1.0036454775392192, 0.8135518250358234, -0.9300649797636137, -0.21514900583841184, 0.7078344365890838, 0.04089091390206245, 0.10570034421779602, 2.615277534759449, -0.3407781816207968, -0.7062667539668542, 0.7414974982831658, -0.9158253246310815, -0.4412896880881209, 1.5879126191662924, 0.0021807237198163483, 0.4941846844869749, 0.7951021730994977, -0.9137616880373952, -1.9780362146807235, -0.7076722808592804, -1.8884123353793303, 0.7626559205689569, -1.6959998148682438, 0.07953368201121154, 0.7781058966122304, 1.27600917408759]}, {\"line\": {\"color\": \"rgba(55, 128, 191, 1.0)\", \"dash\": \"solid\", \"shape\": \"linear\", \"width\": 1.3}, \"mode\": \"lines\", \"name\": \"B\", \"text\": \"\", \"type\": \"scatter\", \"x\": [0, 1, 2, 3, 4, 5, 6, 7, 8, 9, 10, 11, 12, 13, 14, 15, 16, 17, 18, 19, 20, 21, 22, 23, 24, 25, 26, 27, 28, 29, 30, 31, 32, 33, 34, 35, 36, 37, 38, 39, 40, 41, 42, 43, 44, 45, 46, 47, 48, 49, 50, 51, 52, 53, 54, 55, 56, 57, 58, 59, 60, 61, 62, 63, 64, 65, 66, 67, 68, 69, 70, 71, 72, 73, 74, 75, 76, 77, 78, 79, 80, 81, 82, 83, 84, 85, 86, 87, 88, 89, 90, 91, 92, 93, 94, 95, 96, 97, 98, 99], \"y\": [1.3805021359727088, 0.6876562345194515, 1.744426205438441, 1.3482770883045914, -0.634248067300063, -0.034294271166742524, 0.08697205812033731, 0.18165054261005958, -0.4947130519966682, 1.1926577197445511, -0.20717482602811665, -2.5133130507450065, 0.5849565071647904, -1.1419275913432483, -1.0989250107348194, -0.7187949424743807, -0.4925908219897006, -0.8053500686902227, 1.3214954358061495, 0.650458182102288, 0.7831813622092171, 0.07498582897569142, 0.6523450877465203, -0.5783833322107474, 0.31063691916746256, 0.5339759772715772, -0.9341694521216017, 0.1636579101222258, 0.7914756036817695, 0.14946115975322116, 1.655598160883892, 0.7246961444793382, -1.2954830292755444, 0.9695475826517964, -0.2964187051363097, 2.7033995079178443, -0.38178103307087197, 1.1295086160797756, 1.527880017753105, 0.905536015852373, 0.29805175373631065, -0.5754351908083993, 0.29082064681038583, 0.7586137695438394, 1.1349899407660182, 0.6717992725911085, -0.31428779368983534, -0.18220919871777175, 2.1597698090177797, -1.419379997025609, -0.8461014276372388, 0.41864875994912204, 0.8148702380518698, 0.019606695965507532, -1.1837488988129978, 1.1806831481053504, -0.6107919824591864, -0.23111979494516535, -0.9367596799948575, -1.6339807125647547, -1.8372441832889166, 2.5168011421762055, -1.5382411271982206, 0.6254374573450555, -0.29144223018409665, 0.25280094962187494, 0.9341401560731483, 0.4593226701114746, 0.37090012110200604, 2.5485602361509896, -0.2384223669142262, -1.4965726279770937, -0.9143776712501855, 0.6240127588983286, 0.9349261687864068, 1.1302133290065983, -1.9122547142011879, 2.1612111542650148, -1.170401489694811, 1.4844344274345278, 0.425068571796391, 1.0836427308909355, -1.2092550831621383, -0.05373370286349067, -2.329782253481326, 0.9931882640309181, -0.7440493223711631, -0.8690298054021338, -1.3870236796099518, -0.235118566464218, -0.804128615713205, -2.091537810580936, 0.566865783198684, -1.511924883938343, -0.9600094189448816, -0.382769475864104, -0.43678813895890783, 1.4503730185316464, -1.1598452079499255, 0.0007072242767753852]}, {\"connectgaps\": false, \"fill\": \"tozeroy\", \"line\": {\"color\": \"green\", \"dash\": \"solid\", \"shape\": \"linear\", \"width\": 0.5}, \"mode\": \"lines\", \"name\": \"Spread\", \"showlegend\": false, \"type\": \"scatter\", \"x\": [0, 1, 2, 3, 4, 5, 6, 7, 8, 9, 10, 11, 12, 13, 14, 15, 16, 17, 18, 19, 20, 21, 22, 23, 24, 25, 26, 27, 28, 29, 30, 31, 32, 33, 34, 35, 36, 37, 38, 39, 40, 41, 42, 43, 44, 45, 46, 47, 48, 49, 50, 51, 52, 53, 54, 55, 56, 57, 58, 59, 60, 61, 62, 63, 64, 65, 66, 67, 68, 69, 70, 71, 72, 73, 74, 75, 76, 77, 78, 79, 80, 81, 82, 83, 84, 85, 86, 87, 88, 89, 90, 91, 92, 93, 94, 95, 96, 97, 98, 99], \"xaxis\": \"x2\", \"y\": [0.02521473984980993, \"\", \"\", 0.5084419344935887, 1.9907091562783512, \"\", \"\", 2.019043393706499, 0.43043992141488874, \"\", \"\", 2.5018111065239355, \"\", 1.2247613874527365, 1.7962881354217912, 2.050715630669851, 1.5544772194476772, \"\", \"\", \"\", 0.17296104486065955, 2.006259669715704, \"\", 2.5891383338702334, \"\", \"\", \"\", \"\", \"\", \"\", \"\", \"\", 0.6340955568832118, \"\", \"\", \"\", 1.4611765698039, \"\", 0.25818415736339984, \"\", \"\", \"\", \"\", 0.4993579813123442, \"\", \"\", \"\", 0.4851991528682573, \"\", 0.8388945924855097, \"\", \"\", 0.11092627698250734, \"\", 2.689302665081466, \"\", 0.4935796998071642, \"\", \"\", 1.7333441968431675, 3.330400391438812, \"\", 2.129290122549772, \"\", 1.361103840980964, 0.549381626110547, 0.5051906283981688, \"\", 0.6315881187063372, \"\", 0.290305433909685, 3.2063555805067017, \"\", 0.06714739287972549, \"\", \"\", 0.9821897344375742, \"\", 1.8782359262838948, \"\", \"\", 1.5316348038685135, 0.8684769015413414, \"\", 3.0712797517644916, \"\", 0.30275963428304214, 2.4569424245684264, 1.3892044033297681, 0.7293032509511929, 1.5992307888127026, 1.1777761225435408, \"\", 0.8042526030790627, \"\", 1.145425396433061, \"\", \"\", 1.9379511045621558, 1.2753019498108147], \"yaxis\": \"y2\"}, {\"connectgaps\": false, \"fill\": \"tozeroy\", \"line\": {\"color\": \"red\", \"dash\": \"solid\", \"shape\": \"linear\", \"width\": 0.5}, \"mode\": \"lines\", \"name\": \"Spread\", \"showlegend\": false, \"type\": \"scatter\", \"x\": [0, 1, 2, 3, 4, 5, 6, 7, 8, 9, 10, 11, 12, 13, 14, 15, 16, 17, 18, 19, 20, 21, 22, 23, 24, 25, 26, 27, 28, 29, 30, 31, 32, 33, 34, 35, 36, 37, 38, 39, 40, 41, 42, 43, 44, 45, 46, 47, 48, 49, 50, 51, 52, 53, 54, 55, 56, 57, 58, 59, 60, 61, 62, 63, 64, 65, 66, 67, 68, 69, 70, 71, 72, 73, 74, 75, 76, 77, 78, 79, 80, 81, 82, 83, 84, 85, 86, 87, 88, 89, 90, 91, 92, 93, 94, 95, 96, 97, 98, 99], \"xaxis\": \"x2\", \"y\": [\"\", -0.5913051365742825, -2.5520037716866923, \"\", \"\", -1.0322072987659563, -0.4084855375036142, \"\", \"\", -1.2598802140147685, -0.5534497411640662, \"\", -0.16862812686976458, \"\", \"\", \"\", \"\", -0.22681416339165017, -1.2351833632170783, -1.5253752148099466, \"\", \"\", -0.6387334900036202, \"\", -0.6946736629288672, -1.0200897324165374, -0.06690931963982782, -0.8747640071330625, -1.6730278594379795, -0.9407182117068825, -2.503842526832246, -0.7152790981065403, \"\", -1.401345638524089, -0.8904073256865419, -4.004416042048146, \"\", -2.3483954974090455, \"\", -0.10587938267840602, -0.8315297864399348, -0.6339896186666777, -1.433225978072102, \"\", -3.1955384432693394, -0.534698488640715, -0.2773471627309299, \"\", -2.386404836721, \"\", -1.0564492423539167, -0.29988728662849146, \"\", -0.2003398772561327, \"\", -1.989674215986081, \"\", -0.3686040921624313, -0.20526210615482643, \"\", \"\", -4.071503615076364, \"\", -0.6853673745960576, \"\", \"\", \"\", -1.0704133825242224, \"\", -4.250849069749705, \"\", \"\", -0.5937071033735871, \"\", -1.938571646325626, -0.31666150397077497, \"\", -2.3763601601034265, \"\", -1.4435435135324655, -0.319368227578595, \"\", \"\", -0.6525330511033636, \"\", -1.9090135886619994, \"\", \"\", \"\", \"\", \"\", \"\", -2.5449019978794074, \"\", -0.9284029164344487, \"\", -1.259211675909336, -1.3708393365204348, \"\", \"\"], \"yaxis\": \"y2\"}],\n",
       "                        {\"hovermode\": \"x\", \"legend\": {\"bgcolor\": \"#F5F6F9\", \"font\": {\"color\": \"#4D5663\"}}, \"paper_bgcolor\": \"#F5F6F9\", \"plot_bgcolor\": \"#F5F6F9\", \"template\": {\"data\": {\"bar\": [{\"error_x\": {\"color\": \"#2a3f5f\"}, \"error_y\": {\"color\": \"#2a3f5f\"}, \"marker\": {\"line\": {\"color\": \"#E5ECF6\", \"width\": 0.5}}, \"type\": \"bar\"}], \"barpolar\": [{\"marker\": {\"line\": {\"color\": \"#E5ECF6\", \"width\": 0.5}}, \"type\": \"barpolar\"}], \"carpet\": [{\"aaxis\": {\"endlinecolor\": \"#2a3f5f\", \"gridcolor\": \"white\", \"linecolor\": \"white\", \"minorgridcolor\": \"white\", \"startlinecolor\": \"#2a3f5f\"}, \"baxis\": {\"endlinecolor\": \"#2a3f5f\", \"gridcolor\": \"white\", \"linecolor\": \"white\", \"minorgridcolor\": \"white\", \"startlinecolor\": \"#2a3f5f\"}, \"type\": \"carpet\"}], \"choropleth\": [{\"colorbar\": {\"outlinewidth\": 0, \"ticks\": \"\"}, \"type\": \"choropleth\"}], \"contour\": [{\"colorbar\": {\"outlinewidth\": 0, \"ticks\": \"\"}, \"colorscale\": [[0.0, \"#0d0887\"], [0.1111111111111111, \"#46039f\"], [0.2222222222222222, \"#7201a8\"], [0.3333333333333333, \"#9c179e\"], [0.4444444444444444, \"#bd3786\"], [0.5555555555555556, \"#d8576b\"], [0.6666666666666666, \"#ed7953\"], [0.7777777777777778, \"#fb9f3a\"], [0.8888888888888888, \"#fdca26\"], [1.0, \"#f0f921\"]], \"type\": \"contour\"}], \"contourcarpet\": [{\"colorbar\": {\"outlinewidth\": 0, \"ticks\": \"\"}, \"type\": \"contourcarpet\"}], \"heatmap\": [{\"colorbar\": {\"outlinewidth\": 0, \"ticks\": \"\"}, \"colorscale\": [[0.0, \"#0d0887\"], [0.1111111111111111, \"#46039f\"], [0.2222222222222222, \"#7201a8\"], [0.3333333333333333, \"#9c179e\"], [0.4444444444444444, \"#bd3786\"], [0.5555555555555556, \"#d8576b\"], [0.6666666666666666, \"#ed7953\"], [0.7777777777777778, \"#fb9f3a\"], [0.8888888888888888, \"#fdca26\"], [1.0, \"#f0f921\"]], \"type\": \"heatmap\"}], \"heatmapgl\": [{\"colorbar\": {\"outlinewidth\": 0, \"ticks\": \"\"}, \"colorscale\": [[0.0, \"#0d0887\"], [0.1111111111111111, \"#46039f\"], [0.2222222222222222, \"#7201a8\"], [0.3333333333333333, \"#9c179e\"], [0.4444444444444444, \"#bd3786\"], [0.5555555555555556, \"#d8576b\"], [0.6666666666666666, \"#ed7953\"], [0.7777777777777778, \"#fb9f3a\"], [0.8888888888888888, \"#fdca26\"], [1.0, \"#f0f921\"]], \"type\": \"heatmapgl\"}], \"histogram\": [{\"marker\": {\"colorbar\": {\"outlinewidth\": 0, \"ticks\": \"\"}}, \"type\": \"histogram\"}], \"histogram2d\": [{\"colorbar\": {\"outlinewidth\": 0, \"ticks\": \"\"}, \"colorscale\": [[0.0, \"#0d0887\"], [0.1111111111111111, \"#46039f\"], [0.2222222222222222, \"#7201a8\"], [0.3333333333333333, \"#9c179e\"], [0.4444444444444444, \"#bd3786\"], [0.5555555555555556, \"#d8576b\"], [0.6666666666666666, \"#ed7953\"], [0.7777777777777778, \"#fb9f3a\"], [0.8888888888888888, \"#fdca26\"], [1.0, \"#f0f921\"]], \"type\": \"histogram2d\"}], \"histogram2dcontour\": [{\"colorbar\": {\"outlinewidth\": 0, \"ticks\": \"\"}, \"colorscale\": [[0.0, \"#0d0887\"], [0.1111111111111111, \"#46039f\"], [0.2222222222222222, \"#7201a8\"], [0.3333333333333333, \"#9c179e\"], [0.4444444444444444, \"#bd3786\"], [0.5555555555555556, \"#d8576b\"], [0.6666666666666666, \"#ed7953\"], [0.7777777777777778, \"#fb9f3a\"], [0.8888888888888888, \"#fdca26\"], [1.0, \"#f0f921\"]], \"type\": \"histogram2dcontour\"}], \"mesh3d\": [{\"colorbar\": {\"outlinewidth\": 0, \"ticks\": \"\"}, \"type\": \"mesh3d\"}], \"parcoords\": [{\"line\": {\"colorbar\": {\"outlinewidth\": 0, \"ticks\": \"\"}}, \"type\": \"parcoords\"}], \"pie\": [{\"automargin\": true, \"type\": \"pie\"}], \"scatter\": [{\"marker\": {\"colorbar\": {\"outlinewidth\": 0, \"ticks\": \"\"}}, \"type\": \"scatter\"}], \"scatter3d\": [{\"line\": {\"colorbar\": {\"outlinewidth\": 0, \"ticks\": \"\"}}, \"marker\": {\"colorbar\": {\"outlinewidth\": 0, \"ticks\": \"\"}}, \"type\": \"scatter3d\"}], \"scattercarpet\": [{\"marker\": {\"colorbar\": {\"outlinewidth\": 0, \"ticks\": \"\"}}, \"type\": \"scattercarpet\"}], \"scattergeo\": [{\"marker\": {\"colorbar\": {\"outlinewidth\": 0, \"ticks\": \"\"}}, \"type\": \"scattergeo\"}], \"scattergl\": [{\"marker\": {\"colorbar\": {\"outlinewidth\": 0, \"ticks\": \"\"}}, \"type\": \"scattergl\"}], \"scattermapbox\": [{\"marker\": {\"colorbar\": {\"outlinewidth\": 0, \"ticks\": \"\"}}, \"type\": \"scattermapbox\"}], \"scatterpolar\": [{\"marker\": {\"colorbar\": {\"outlinewidth\": 0, \"ticks\": \"\"}}, \"type\": \"scatterpolar\"}], \"scatterpolargl\": [{\"marker\": {\"colorbar\": {\"outlinewidth\": 0, \"ticks\": \"\"}}, \"type\": \"scatterpolargl\"}], \"scatterternary\": [{\"marker\": {\"colorbar\": {\"outlinewidth\": 0, \"ticks\": \"\"}}, \"type\": \"scatterternary\"}], \"surface\": [{\"colorbar\": {\"outlinewidth\": 0, \"ticks\": \"\"}, \"colorscale\": [[0.0, \"#0d0887\"], [0.1111111111111111, \"#46039f\"], [0.2222222222222222, \"#7201a8\"], [0.3333333333333333, \"#9c179e\"], [0.4444444444444444, \"#bd3786\"], [0.5555555555555556, \"#d8576b\"], [0.6666666666666666, \"#ed7953\"], [0.7777777777777778, \"#fb9f3a\"], [0.8888888888888888, \"#fdca26\"], [1.0, \"#f0f921\"]], \"type\": \"surface\"}], \"table\": [{\"cells\": {\"fill\": {\"color\": \"#EBF0F8\"}, \"line\": {\"color\": \"white\"}}, \"header\": {\"fill\": {\"color\": \"#C8D4E3\"}, \"line\": {\"color\": \"white\"}}, \"type\": \"table\"}]}, \"layout\": {\"annotationdefaults\": {\"arrowcolor\": \"#2a3f5f\", \"arrowhead\": 0, \"arrowwidth\": 1}, \"coloraxis\": {\"colorbar\": {\"outlinewidth\": 0, \"ticks\": \"\"}}, \"colorscale\": {\"diverging\": [[0, \"#8e0152\"], [0.1, \"#c51b7d\"], [0.2, \"#de77ae\"], [0.3, \"#f1b6da\"], [0.4, \"#fde0ef\"], [0.5, \"#f7f7f7\"], [0.6, \"#e6f5d0\"], [0.7, \"#b8e186\"], [0.8, \"#7fbc41\"], [0.9, \"#4d9221\"], [1, \"#276419\"]], \"sequential\": [[0.0, \"#0d0887\"], [0.1111111111111111, \"#46039f\"], [0.2222222222222222, \"#7201a8\"], [0.3333333333333333, \"#9c179e\"], [0.4444444444444444, \"#bd3786\"], [0.5555555555555556, \"#d8576b\"], [0.6666666666666666, \"#ed7953\"], [0.7777777777777778, \"#fb9f3a\"], [0.8888888888888888, \"#fdca26\"], [1.0, \"#f0f921\"]], \"sequentialminus\": [[0.0, \"#0d0887\"], [0.1111111111111111, \"#46039f\"], [0.2222222222222222, \"#7201a8\"], [0.3333333333333333, \"#9c179e\"], [0.4444444444444444, \"#bd3786\"], [0.5555555555555556, \"#d8576b\"], [0.6666666666666666, \"#ed7953\"], [0.7777777777777778, \"#fb9f3a\"], [0.8888888888888888, \"#fdca26\"], [1.0, \"#f0f921\"]]}, \"colorway\": [\"#636efa\", \"#EF553B\", \"#00cc96\", \"#ab63fa\", \"#FFA15A\", \"#19d3f3\", \"#FF6692\", \"#B6E880\", \"#FF97FF\", \"#FECB52\"], \"font\": {\"color\": \"#2a3f5f\"}, \"geo\": {\"bgcolor\": \"white\", \"lakecolor\": \"white\", \"landcolor\": \"#E5ECF6\", \"showlakes\": true, \"showland\": true, \"subunitcolor\": \"white\"}, \"hoverlabel\": {\"align\": \"left\"}, \"hovermode\": \"closest\", \"mapbox\": {\"style\": \"light\"}, \"paper_bgcolor\": \"white\", \"plot_bgcolor\": \"#E5ECF6\", \"polar\": {\"angularaxis\": {\"gridcolor\": \"white\", \"linecolor\": \"white\", \"ticks\": \"\"}, \"bgcolor\": \"#E5ECF6\", \"radialaxis\": {\"gridcolor\": \"white\", \"linecolor\": \"white\", \"ticks\": \"\"}}, \"scene\": {\"xaxis\": {\"backgroundcolor\": \"#E5ECF6\", \"gridcolor\": \"white\", \"gridwidth\": 2, \"linecolor\": \"white\", \"showbackground\": true, \"ticks\": \"\", \"zerolinecolor\": \"white\"}, \"yaxis\": {\"backgroundcolor\": \"#E5ECF6\", \"gridcolor\": \"white\", \"gridwidth\": 2, \"linecolor\": \"white\", \"showbackground\": true, \"ticks\": \"\", \"zerolinecolor\": \"white\"}, \"zaxis\": {\"backgroundcolor\": \"#E5ECF6\", \"gridcolor\": \"white\", \"gridwidth\": 2, \"linecolor\": \"white\", \"showbackground\": true, \"ticks\": \"\", \"zerolinecolor\": \"white\"}}, \"shapedefaults\": {\"line\": {\"color\": \"#2a3f5f\"}}, \"ternary\": {\"aaxis\": {\"gridcolor\": \"white\", \"linecolor\": \"white\", \"ticks\": \"\"}, \"baxis\": {\"gridcolor\": \"white\", \"linecolor\": \"white\", \"ticks\": \"\"}, \"bgcolor\": \"#E5ECF6\", \"caxis\": {\"gridcolor\": \"white\", \"linecolor\": \"white\", \"ticks\": \"\"}}, \"title\": {\"x\": 0.05}, \"xaxis\": {\"automargin\": true, \"gridcolor\": \"white\", \"linecolor\": \"white\", \"ticks\": \"\", \"title\": {\"standoff\": 15}, \"zerolinecolor\": \"white\", \"zerolinewidth\": 2}, \"yaxis\": {\"automargin\": true, \"gridcolor\": \"white\", \"linecolor\": \"white\", \"ticks\": \"\", \"title\": {\"standoff\": 15}, \"zerolinecolor\": \"white\", \"zerolinewidth\": 2}}}, \"title\": {\"font\": {\"color\": \"#4D5663\"}}, \"xaxis\": {\"gridcolor\": \"#E1E5ED\", \"showgrid\": true, \"tickfont\": {\"color\": \"#4D5663\"}, \"title\": {\"font\": {\"color\": \"#4D5663\"}, \"text\": \"\"}, \"zerolinecolor\": \"#E1E5ED\"}, \"xaxis2\": {\"anchor\": \"y2\", \"gridcolor\": \"#E1E5ED\", \"showgrid\": true, \"showticklabels\": false, \"tickfont\": {\"color\": \"#4D5663\"}, \"title\": {\"font\": {\"color\": \"#4D5663\"}, \"text\": \"\"}, \"zerolinecolor\": \"#E1E5ED\"}, \"yaxis\": {\"domain\": [0.3, 1], \"gridcolor\": \"#E1E5ED\", \"showgrid\": true, \"tickfont\": {\"color\": \"#4D5663\"}, \"title\": {\"font\": {\"color\": \"#4D5663\"}, \"text\": \"\"}, \"zerolinecolor\": \"#E1E5ED\"}, \"yaxis2\": {\"domain\": [0, 0.25], \"gridcolor\": \"#E1E5ED\", \"showgrid\": true, \"tickfont\": {\"color\": \"#4D5663\"}, \"title\": {\"font\": {\"color\": \"#4D5663\"}, \"text\": \"Spread\"}, \"zerolinecolor\": \"#E1E5ED\"}},\n",
       "                        {\"showLink\": true, \"linkText\": \"Export to plot.ly\", \"plotlyServerURL\": \"https://plot.ly\", \"responsive\": true}\n",
       "                    ).then(function(){\n",
       "                            \n",
       "var gd = document.getElementById('e16287aa-f5a8-4406-95eb-f5e4e663d2c3');\n",
       "var x = new MutationObserver(function (mutations, observer) {{\n",
       "        var display = window.getComputedStyle(gd).display;\n",
       "        if (!display || display === 'none') {{\n",
       "            console.log([gd, 'removed!']);\n",
       "            Plotly.purge(gd);\n",
       "            observer.disconnect();\n",
       "        }}\n",
       "}});\n",
       "\n",
       "// Listen for the removal of the full notebook cells\n",
       "var notebookContainer = gd.closest('#notebook-container');\n",
       "if (notebookContainer) {{\n",
       "    x.observe(notebookContainer, {childList: true});\n",
       "}}\n",
       "\n",
       "// Listen for the clearing of the current output cell\n",
       "var outputEl = gd.closest('.output');\n",
       "if (outputEl) {{\n",
       "    x.observe(outputEl, {childList: true});\n",
       "}}\n",
       "\n",
       "                        })\n",
       "                };\n",
       "                });\n",
       "            </script>\n",
       "        </div>"
      ]
     },
     "metadata": {},
     "output_type": "display_data"
    }
   ],
   "source": [
    "df[['A','B']].iplot(kind='spread')"
   ]
  },
  {
   "cell_type": "markdown",
   "metadata": {},
   "source": [
    "## histogram"
   ]
  },
  {
   "cell_type": "code",
   "execution_count": 17,
   "metadata": {},
   "outputs": [
    {
     "data": {
      "application/vnd.plotly.v1+json": {
       "config": {
        "linkText": "Export to plot.ly",
        "plotlyServerURL": "https://plot.ly",
        "showLink": true
       },
       "data": [
        {
         "histfunc": "count",
         "histnorm": "",
         "marker": {
          "color": "rgba(255, 153, 51, 1.0)",
          "line": {
           "color": "#4D5663",
           "width": 1.3
          }
         },
         "name": "A",
         "nbinsx": 25,
         "opacity": 0.8,
         "orientation": "v",
         "type": "histogram",
         "x": [
          1.4057168758225187,
          0.09635109794516898,
          -0.8075775662482514,
          1.85671902279818,
          1.3564610889782882,
          -1.0665015699326987,
          -0.3215134793832769,
          2.2006939363165583,
          -0.0642731305817795,
          -0.06722249427021736,
          -0.7606245671921829,
          -0.011501944221071154,
          0.41632838029502583,
          0.08283379610948835,
          0.6973631246869717,
          1.3319206881954702,
          1.0618863974579766,
          -1.032164232081873,
          0.08631207258907114,
          -0.8749170327076585,
          0.9561424070698766,
          2.0812454986913953,
          0.013611597742900088,
          2.010755001659486,
          -0.3840367437614046,
          -0.48611375514496025,
          -1.0010787717614296,
          -0.7111060970108366,
          -0.88155225575621,
          -0.7912570519536614,
          -0.8482443659483541,
          0.009417046372797853,
          -0.6613874723923325,
          -0.43179805587229253,
          -1.1868260308228515,
          -1.3010165341303017,
          1.0793955367330281,
          -1.21888688132927,
          1.7860641751165047,
          0.799656633173967,
          -0.5334780327036241,
          -1.209424809475077,
          -1.1424053312617162,
          1.2579717508561836,
          -2.0605485025033214,
          0.13710078395039346,
          -0.5916349564207652,
          0.3029899541504856,
          -0.22663502770322,
          -0.5804854045400992,
          -1.9025506699911556,
          0.11876147332063057,
          0.9257965150343771,
          -0.18073318129062516,
          1.5055537662684682,
          -0.8089910678807307,
          -0.11721228265202219,
          -0.5997238871075966,
          -1.142021786149684,
          0.09936348427841284,
          1.4931562081498957,
          -1.5547024729001584,
          0.5910489953515512,
          -0.059929917251002024,
          1.0696616107968673,
          0.8021825757324219,
          1.439330784471317,
          -0.6110907124127478,
          1.0024882398083432,
          -1.7022888335987154,
          0.05188306699545878,
          1.7097829525296082,
          -1.5080847746237727,
          0.6911601517780541,
          -1.0036454775392192,
          0.8135518250358234,
          -0.9300649797636137,
          -0.21514900583841184,
          0.7078344365890838,
          0.04089091390206245,
          0.10570034421779602,
          2.615277534759449,
          -0.3407781816207968,
          -0.7062667539668542,
          0.7414974982831658,
          -0.9158253246310815,
          -0.4412896880881209,
          1.5879126191662924,
          0.0021807237198163483,
          0.4941846844869749,
          0.7951021730994977,
          -0.9137616880373952,
          -1.9780362146807235,
          -0.7076722808592804,
          -1.8884123353793303,
          0.7626559205689569,
          -1.6959998148682438,
          0.07953368201121154,
          0.7781058966122304,
          1.27600917408759
         ]
        }
       ],
       "layout": {
        "barmode": "overlay",
        "legend": {
         "bgcolor": "#F5F6F9",
         "font": {
          "color": "#4D5663"
         }
        },
        "paper_bgcolor": "#F5F6F9",
        "plot_bgcolor": "#F5F6F9",
        "template": {
         "data": {
          "bar": [
           {
            "error_x": {
             "color": "#2a3f5f"
            },
            "error_y": {
             "color": "#2a3f5f"
            },
            "marker": {
             "line": {
              "color": "#E5ECF6",
              "width": 0.5
             }
            },
            "type": "bar"
           }
          ],
          "barpolar": [
           {
            "marker": {
             "line": {
              "color": "#E5ECF6",
              "width": 0.5
             }
            },
            "type": "barpolar"
           }
          ],
          "carpet": [
           {
            "aaxis": {
             "endlinecolor": "#2a3f5f",
             "gridcolor": "white",
             "linecolor": "white",
             "minorgridcolor": "white",
             "startlinecolor": "#2a3f5f"
            },
            "baxis": {
             "endlinecolor": "#2a3f5f",
             "gridcolor": "white",
             "linecolor": "white",
             "minorgridcolor": "white",
             "startlinecolor": "#2a3f5f"
            },
            "type": "carpet"
           }
          ],
          "choropleth": [
           {
            "colorbar": {
             "outlinewidth": 0,
             "ticks": ""
            },
            "type": "choropleth"
           }
          ],
          "contour": [
           {
            "colorbar": {
             "outlinewidth": 0,
             "ticks": ""
            },
            "colorscale": [
             [
              0,
              "#0d0887"
             ],
             [
              0.1111111111111111,
              "#46039f"
             ],
             [
              0.2222222222222222,
              "#7201a8"
             ],
             [
              0.3333333333333333,
              "#9c179e"
             ],
             [
              0.4444444444444444,
              "#bd3786"
             ],
             [
              0.5555555555555556,
              "#d8576b"
             ],
             [
              0.6666666666666666,
              "#ed7953"
             ],
             [
              0.7777777777777778,
              "#fb9f3a"
             ],
             [
              0.8888888888888888,
              "#fdca26"
             ],
             [
              1,
              "#f0f921"
             ]
            ],
            "type": "contour"
           }
          ],
          "contourcarpet": [
           {
            "colorbar": {
             "outlinewidth": 0,
             "ticks": ""
            },
            "type": "contourcarpet"
           }
          ],
          "heatmap": [
           {
            "colorbar": {
             "outlinewidth": 0,
             "ticks": ""
            },
            "colorscale": [
             [
              0,
              "#0d0887"
             ],
             [
              0.1111111111111111,
              "#46039f"
             ],
             [
              0.2222222222222222,
              "#7201a8"
             ],
             [
              0.3333333333333333,
              "#9c179e"
             ],
             [
              0.4444444444444444,
              "#bd3786"
             ],
             [
              0.5555555555555556,
              "#d8576b"
             ],
             [
              0.6666666666666666,
              "#ed7953"
             ],
             [
              0.7777777777777778,
              "#fb9f3a"
             ],
             [
              0.8888888888888888,
              "#fdca26"
             ],
             [
              1,
              "#f0f921"
             ]
            ],
            "type": "heatmap"
           }
          ],
          "heatmapgl": [
           {
            "colorbar": {
             "outlinewidth": 0,
             "ticks": ""
            },
            "colorscale": [
             [
              0,
              "#0d0887"
             ],
             [
              0.1111111111111111,
              "#46039f"
             ],
             [
              0.2222222222222222,
              "#7201a8"
             ],
             [
              0.3333333333333333,
              "#9c179e"
             ],
             [
              0.4444444444444444,
              "#bd3786"
             ],
             [
              0.5555555555555556,
              "#d8576b"
             ],
             [
              0.6666666666666666,
              "#ed7953"
             ],
             [
              0.7777777777777778,
              "#fb9f3a"
             ],
             [
              0.8888888888888888,
              "#fdca26"
             ],
             [
              1,
              "#f0f921"
             ]
            ],
            "type": "heatmapgl"
           }
          ],
          "histogram": [
           {
            "marker": {
             "colorbar": {
              "outlinewidth": 0,
              "ticks": ""
             }
            },
            "type": "histogram"
           }
          ],
          "histogram2d": [
           {
            "colorbar": {
             "outlinewidth": 0,
             "ticks": ""
            },
            "colorscale": [
             [
              0,
              "#0d0887"
             ],
             [
              0.1111111111111111,
              "#46039f"
             ],
             [
              0.2222222222222222,
              "#7201a8"
             ],
             [
              0.3333333333333333,
              "#9c179e"
             ],
             [
              0.4444444444444444,
              "#bd3786"
             ],
             [
              0.5555555555555556,
              "#d8576b"
             ],
             [
              0.6666666666666666,
              "#ed7953"
             ],
             [
              0.7777777777777778,
              "#fb9f3a"
             ],
             [
              0.8888888888888888,
              "#fdca26"
             ],
             [
              1,
              "#f0f921"
             ]
            ],
            "type": "histogram2d"
           }
          ],
          "histogram2dcontour": [
           {
            "colorbar": {
             "outlinewidth": 0,
             "ticks": ""
            },
            "colorscale": [
             [
              0,
              "#0d0887"
             ],
             [
              0.1111111111111111,
              "#46039f"
             ],
             [
              0.2222222222222222,
              "#7201a8"
             ],
             [
              0.3333333333333333,
              "#9c179e"
             ],
             [
              0.4444444444444444,
              "#bd3786"
             ],
             [
              0.5555555555555556,
              "#d8576b"
             ],
             [
              0.6666666666666666,
              "#ed7953"
             ],
             [
              0.7777777777777778,
              "#fb9f3a"
             ],
             [
              0.8888888888888888,
              "#fdca26"
             ],
             [
              1,
              "#f0f921"
             ]
            ],
            "type": "histogram2dcontour"
           }
          ],
          "mesh3d": [
           {
            "colorbar": {
             "outlinewidth": 0,
             "ticks": ""
            },
            "type": "mesh3d"
           }
          ],
          "parcoords": [
           {
            "line": {
             "colorbar": {
              "outlinewidth": 0,
              "ticks": ""
             }
            },
            "type": "parcoords"
           }
          ],
          "pie": [
           {
            "automargin": true,
            "type": "pie"
           }
          ],
          "scatter": [
           {
            "marker": {
             "colorbar": {
              "outlinewidth": 0,
              "ticks": ""
             }
            },
            "type": "scatter"
           }
          ],
          "scatter3d": [
           {
            "line": {
             "colorbar": {
              "outlinewidth": 0,
              "ticks": ""
             }
            },
            "marker": {
             "colorbar": {
              "outlinewidth": 0,
              "ticks": ""
             }
            },
            "type": "scatter3d"
           }
          ],
          "scattercarpet": [
           {
            "marker": {
             "colorbar": {
              "outlinewidth": 0,
              "ticks": ""
             }
            },
            "type": "scattercarpet"
           }
          ],
          "scattergeo": [
           {
            "marker": {
             "colorbar": {
              "outlinewidth": 0,
              "ticks": ""
             }
            },
            "type": "scattergeo"
           }
          ],
          "scattergl": [
           {
            "marker": {
             "colorbar": {
              "outlinewidth": 0,
              "ticks": ""
             }
            },
            "type": "scattergl"
           }
          ],
          "scattermapbox": [
           {
            "marker": {
             "colorbar": {
              "outlinewidth": 0,
              "ticks": ""
             }
            },
            "type": "scattermapbox"
           }
          ],
          "scatterpolar": [
           {
            "marker": {
             "colorbar": {
              "outlinewidth": 0,
              "ticks": ""
             }
            },
            "type": "scatterpolar"
           }
          ],
          "scatterpolargl": [
           {
            "marker": {
             "colorbar": {
              "outlinewidth": 0,
              "ticks": ""
             }
            },
            "type": "scatterpolargl"
           }
          ],
          "scatterternary": [
           {
            "marker": {
             "colorbar": {
              "outlinewidth": 0,
              "ticks": ""
             }
            },
            "type": "scatterternary"
           }
          ],
          "surface": [
           {
            "colorbar": {
             "outlinewidth": 0,
             "ticks": ""
            },
            "colorscale": [
             [
              0,
              "#0d0887"
             ],
             [
              0.1111111111111111,
              "#46039f"
             ],
             [
              0.2222222222222222,
              "#7201a8"
             ],
             [
              0.3333333333333333,
              "#9c179e"
             ],
             [
              0.4444444444444444,
              "#bd3786"
             ],
             [
              0.5555555555555556,
              "#d8576b"
             ],
             [
              0.6666666666666666,
              "#ed7953"
             ],
             [
              0.7777777777777778,
              "#fb9f3a"
             ],
             [
              0.8888888888888888,
              "#fdca26"
             ],
             [
              1,
              "#f0f921"
             ]
            ],
            "type": "surface"
           }
          ],
          "table": [
           {
            "cells": {
             "fill": {
              "color": "#EBF0F8"
             },
             "line": {
              "color": "white"
             }
            },
            "header": {
             "fill": {
              "color": "#C8D4E3"
             },
             "line": {
              "color": "white"
             }
            },
            "type": "table"
           }
          ]
         },
         "layout": {
          "annotationdefaults": {
           "arrowcolor": "#2a3f5f",
           "arrowhead": 0,
           "arrowwidth": 1
          },
          "coloraxis": {
           "colorbar": {
            "outlinewidth": 0,
            "ticks": ""
           }
          },
          "colorscale": {
           "diverging": [
            [
             0,
             "#8e0152"
            ],
            [
             0.1,
             "#c51b7d"
            ],
            [
             0.2,
             "#de77ae"
            ],
            [
             0.3,
             "#f1b6da"
            ],
            [
             0.4,
             "#fde0ef"
            ],
            [
             0.5,
             "#f7f7f7"
            ],
            [
             0.6,
             "#e6f5d0"
            ],
            [
             0.7,
             "#b8e186"
            ],
            [
             0.8,
             "#7fbc41"
            ],
            [
             0.9,
             "#4d9221"
            ],
            [
             1,
             "#276419"
            ]
           ],
           "sequential": [
            [
             0,
             "#0d0887"
            ],
            [
             0.1111111111111111,
             "#46039f"
            ],
            [
             0.2222222222222222,
             "#7201a8"
            ],
            [
             0.3333333333333333,
             "#9c179e"
            ],
            [
             0.4444444444444444,
             "#bd3786"
            ],
            [
             0.5555555555555556,
             "#d8576b"
            ],
            [
             0.6666666666666666,
             "#ed7953"
            ],
            [
             0.7777777777777778,
             "#fb9f3a"
            ],
            [
             0.8888888888888888,
             "#fdca26"
            ],
            [
             1,
             "#f0f921"
            ]
           ],
           "sequentialminus": [
            [
             0,
             "#0d0887"
            ],
            [
             0.1111111111111111,
             "#46039f"
            ],
            [
             0.2222222222222222,
             "#7201a8"
            ],
            [
             0.3333333333333333,
             "#9c179e"
            ],
            [
             0.4444444444444444,
             "#bd3786"
            ],
            [
             0.5555555555555556,
             "#d8576b"
            ],
            [
             0.6666666666666666,
             "#ed7953"
            ],
            [
             0.7777777777777778,
             "#fb9f3a"
            ],
            [
             0.8888888888888888,
             "#fdca26"
            ],
            [
             1,
             "#f0f921"
            ]
           ]
          },
          "colorway": [
           "#636efa",
           "#EF553B",
           "#00cc96",
           "#ab63fa",
           "#FFA15A",
           "#19d3f3",
           "#FF6692",
           "#B6E880",
           "#FF97FF",
           "#FECB52"
          ],
          "font": {
           "color": "#2a3f5f"
          },
          "geo": {
           "bgcolor": "white",
           "lakecolor": "white",
           "landcolor": "#E5ECF6",
           "showlakes": true,
           "showland": true,
           "subunitcolor": "white"
          },
          "hoverlabel": {
           "align": "left"
          },
          "hovermode": "closest",
          "mapbox": {
           "style": "light"
          },
          "paper_bgcolor": "white",
          "plot_bgcolor": "#E5ECF6",
          "polar": {
           "angularaxis": {
            "gridcolor": "white",
            "linecolor": "white",
            "ticks": ""
           },
           "bgcolor": "#E5ECF6",
           "radialaxis": {
            "gridcolor": "white",
            "linecolor": "white",
            "ticks": ""
           }
          },
          "scene": {
           "xaxis": {
            "backgroundcolor": "#E5ECF6",
            "gridcolor": "white",
            "gridwidth": 2,
            "linecolor": "white",
            "showbackground": true,
            "ticks": "",
            "zerolinecolor": "white"
           },
           "yaxis": {
            "backgroundcolor": "#E5ECF6",
            "gridcolor": "white",
            "gridwidth": 2,
            "linecolor": "white",
            "showbackground": true,
            "ticks": "",
            "zerolinecolor": "white"
           },
           "zaxis": {
            "backgroundcolor": "#E5ECF6",
            "gridcolor": "white",
            "gridwidth": 2,
            "linecolor": "white",
            "showbackground": true,
            "ticks": "",
            "zerolinecolor": "white"
           }
          },
          "shapedefaults": {
           "line": {
            "color": "#2a3f5f"
           }
          },
          "ternary": {
           "aaxis": {
            "gridcolor": "white",
            "linecolor": "white",
            "ticks": ""
           },
           "baxis": {
            "gridcolor": "white",
            "linecolor": "white",
            "ticks": ""
           },
           "bgcolor": "#E5ECF6",
           "caxis": {
            "gridcolor": "white",
            "linecolor": "white",
            "ticks": ""
           }
          },
          "title": {
           "x": 0.05
          },
          "xaxis": {
           "automargin": true,
           "gridcolor": "white",
           "linecolor": "white",
           "ticks": "",
           "title": {
            "standoff": 15
           },
           "zerolinecolor": "white",
           "zerolinewidth": 2
          },
          "yaxis": {
           "automargin": true,
           "gridcolor": "white",
           "linecolor": "white",
           "ticks": "",
           "title": {
            "standoff": 15
           },
           "zerolinecolor": "white",
           "zerolinewidth": 2
          }
         }
        },
        "title": {
         "font": {
          "color": "#4D5663"
         }
        },
        "xaxis": {
         "gridcolor": "#E1E5ED",
         "showgrid": true,
         "tickfont": {
          "color": "#4D5663"
         },
         "title": {
          "font": {
           "color": "#4D5663"
          },
          "text": ""
         },
         "zerolinecolor": "#E1E5ED"
        },
        "yaxis": {
         "gridcolor": "#E1E5ED",
         "showgrid": true,
         "tickfont": {
          "color": "#4D5663"
         },
         "title": {
          "font": {
           "color": "#4D5663"
          },
          "text": ""
         },
         "zerolinecolor": "#E1E5ED"
        }
       }
      },
      "text/html": [
       "<div>\n",
       "        \n",
       "        \n",
       "            <div id=\"1b31d7b1-c74d-4c11-9b2f-29cc828964e1\" class=\"plotly-graph-div\" style=\"height:525px; width:100%;\"></div>\n",
       "            <script type=\"text/javascript\">\n",
       "                require([\"plotly\"], function(Plotly) {\n",
       "                    window.PLOTLYENV=window.PLOTLYENV || {};\n",
       "                    window.PLOTLYENV.BASE_URL='https://plot.ly';\n",
       "                    \n",
       "                if (document.getElementById(\"1b31d7b1-c74d-4c11-9b2f-29cc828964e1\")) {\n",
       "                    Plotly.newPlot(\n",
       "                        '1b31d7b1-c74d-4c11-9b2f-29cc828964e1',\n",
       "                        [{\"histfunc\": \"count\", \"histnorm\": \"\", \"marker\": {\"color\": \"rgba(255, 153, 51, 1.0)\", \"line\": {\"color\": \"#4D5663\", \"width\": 1.3}}, \"name\": \"A\", \"nbinsx\": 25, \"opacity\": 0.8, \"orientation\": \"v\", \"type\": \"histogram\", \"x\": [1.4057168758225187, 0.09635109794516898, -0.8075775662482514, 1.85671902279818, 1.3564610889782882, -1.0665015699326987, -0.3215134793832769, 2.2006939363165583, -0.0642731305817795, -0.06722249427021736, -0.7606245671921829, -0.011501944221071154, 0.41632838029502583, 0.08283379610948835, 0.6973631246869717, 1.3319206881954702, 1.0618863974579766, -1.032164232081873, 0.08631207258907114, -0.8749170327076585, 0.9561424070698766, 2.0812454986913953, 0.013611597742900088, 2.010755001659486, -0.3840367437614046, -0.48611375514496025, -1.0010787717614296, -0.7111060970108366, -0.88155225575621, -0.7912570519536614, -0.8482443659483541, 0.009417046372797853, -0.6613874723923325, -0.43179805587229253, -1.1868260308228515, -1.3010165341303017, 1.0793955367330281, -1.21888688132927, 1.7860641751165047, 0.799656633173967, -0.5334780327036241, -1.209424809475077, -1.1424053312617162, 1.2579717508561836, -2.0605485025033214, 0.13710078395039346, -0.5916349564207652, 0.3029899541504856, -0.22663502770322, -0.5804854045400992, -1.9025506699911556, 0.11876147332063057, 0.9257965150343771, -0.18073318129062516, 1.5055537662684682, -0.8089910678807307, -0.11721228265202219, -0.5997238871075966, -1.142021786149684, 0.09936348427841284, 1.4931562081498957, -1.5547024729001584, 0.5910489953515512, -0.059929917251002024, 1.0696616107968673, 0.8021825757324219, 1.439330784471317, -0.6110907124127478, 1.0024882398083432, -1.7022888335987154, 0.05188306699545878, 1.7097829525296082, -1.5080847746237727, 0.6911601517780541, -1.0036454775392192, 0.8135518250358234, -0.9300649797636137, -0.21514900583841184, 0.7078344365890838, 0.04089091390206245, 0.10570034421779602, 2.615277534759449, -0.3407781816207968, -0.7062667539668542, 0.7414974982831658, -0.9158253246310815, -0.4412896880881209, 1.5879126191662924, 0.0021807237198163483, 0.4941846844869749, 0.7951021730994977, -0.9137616880373952, -1.9780362146807235, -0.7076722808592804, -1.8884123353793303, 0.7626559205689569, -1.6959998148682438, 0.07953368201121154, 0.7781058966122304, 1.27600917408759]}],\n",
       "                        {\"barmode\": \"overlay\", \"legend\": {\"bgcolor\": \"#F5F6F9\", \"font\": {\"color\": \"#4D5663\"}}, \"paper_bgcolor\": \"#F5F6F9\", \"plot_bgcolor\": \"#F5F6F9\", \"template\": {\"data\": {\"bar\": [{\"error_x\": {\"color\": \"#2a3f5f\"}, \"error_y\": {\"color\": \"#2a3f5f\"}, \"marker\": {\"line\": {\"color\": \"#E5ECF6\", \"width\": 0.5}}, \"type\": \"bar\"}], \"barpolar\": [{\"marker\": {\"line\": {\"color\": \"#E5ECF6\", \"width\": 0.5}}, \"type\": \"barpolar\"}], \"carpet\": [{\"aaxis\": {\"endlinecolor\": \"#2a3f5f\", \"gridcolor\": \"white\", \"linecolor\": \"white\", \"minorgridcolor\": \"white\", \"startlinecolor\": \"#2a3f5f\"}, \"baxis\": {\"endlinecolor\": \"#2a3f5f\", \"gridcolor\": \"white\", \"linecolor\": \"white\", \"minorgridcolor\": \"white\", \"startlinecolor\": \"#2a3f5f\"}, \"type\": \"carpet\"}], \"choropleth\": [{\"colorbar\": {\"outlinewidth\": 0, \"ticks\": \"\"}, \"type\": \"choropleth\"}], \"contour\": [{\"colorbar\": {\"outlinewidth\": 0, \"ticks\": \"\"}, \"colorscale\": [[0.0, \"#0d0887\"], [0.1111111111111111, \"#46039f\"], [0.2222222222222222, \"#7201a8\"], [0.3333333333333333, \"#9c179e\"], [0.4444444444444444, \"#bd3786\"], [0.5555555555555556, \"#d8576b\"], [0.6666666666666666, \"#ed7953\"], [0.7777777777777778, \"#fb9f3a\"], [0.8888888888888888, \"#fdca26\"], [1.0, \"#f0f921\"]], \"type\": \"contour\"}], \"contourcarpet\": [{\"colorbar\": {\"outlinewidth\": 0, \"ticks\": \"\"}, \"type\": \"contourcarpet\"}], \"heatmap\": [{\"colorbar\": {\"outlinewidth\": 0, \"ticks\": \"\"}, \"colorscale\": [[0.0, \"#0d0887\"], [0.1111111111111111, \"#46039f\"], [0.2222222222222222, \"#7201a8\"], [0.3333333333333333, \"#9c179e\"], [0.4444444444444444, \"#bd3786\"], [0.5555555555555556, \"#d8576b\"], [0.6666666666666666, \"#ed7953\"], [0.7777777777777778, \"#fb9f3a\"], [0.8888888888888888, \"#fdca26\"], [1.0, \"#f0f921\"]], \"type\": \"heatmap\"}], \"heatmapgl\": [{\"colorbar\": {\"outlinewidth\": 0, \"ticks\": \"\"}, \"colorscale\": [[0.0, \"#0d0887\"], [0.1111111111111111, \"#46039f\"], [0.2222222222222222, \"#7201a8\"], [0.3333333333333333, \"#9c179e\"], [0.4444444444444444, \"#bd3786\"], [0.5555555555555556, \"#d8576b\"], [0.6666666666666666, \"#ed7953\"], [0.7777777777777778, \"#fb9f3a\"], [0.8888888888888888, \"#fdca26\"], [1.0, \"#f0f921\"]], \"type\": \"heatmapgl\"}], \"histogram\": [{\"marker\": {\"colorbar\": {\"outlinewidth\": 0, \"ticks\": \"\"}}, \"type\": \"histogram\"}], \"histogram2d\": [{\"colorbar\": {\"outlinewidth\": 0, \"ticks\": \"\"}, \"colorscale\": [[0.0, \"#0d0887\"], [0.1111111111111111, \"#46039f\"], [0.2222222222222222, \"#7201a8\"], [0.3333333333333333, \"#9c179e\"], [0.4444444444444444, \"#bd3786\"], [0.5555555555555556, \"#d8576b\"], [0.6666666666666666, \"#ed7953\"], [0.7777777777777778, \"#fb9f3a\"], [0.8888888888888888, \"#fdca26\"], [1.0, \"#f0f921\"]], \"type\": \"histogram2d\"}], \"histogram2dcontour\": [{\"colorbar\": {\"outlinewidth\": 0, \"ticks\": \"\"}, \"colorscale\": [[0.0, \"#0d0887\"], [0.1111111111111111, \"#46039f\"], [0.2222222222222222, \"#7201a8\"], [0.3333333333333333, \"#9c179e\"], [0.4444444444444444, \"#bd3786\"], [0.5555555555555556, \"#d8576b\"], [0.6666666666666666, \"#ed7953\"], [0.7777777777777778, \"#fb9f3a\"], [0.8888888888888888, \"#fdca26\"], [1.0, \"#f0f921\"]], \"type\": \"histogram2dcontour\"}], \"mesh3d\": [{\"colorbar\": {\"outlinewidth\": 0, \"ticks\": \"\"}, \"type\": \"mesh3d\"}], \"parcoords\": [{\"line\": {\"colorbar\": {\"outlinewidth\": 0, \"ticks\": \"\"}}, \"type\": \"parcoords\"}], \"pie\": [{\"automargin\": true, \"type\": \"pie\"}], \"scatter\": [{\"marker\": {\"colorbar\": {\"outlinewidth\": 0, \"ticks\": \"\"}}, \"type\": \"scatter\"}], \"scatter3d\": [{\"line\": {\"colorbar\": {\"outlinewidth\": 0, \"ticks\": \"\"}}, \"marker\": {\"colorbar\": {\"outlinewidth\": 0, \"ticks\": \"\"}}, \"type\": \"scatter3d\"}], \"scattercarpet\": [{\"marker\": {\"colorbar\": {\"outlinewidth\": 0, \"ticks\": \"\"}}, \"type\": \"scattercarpet\"}], \"scattergeo\": [{\"marker\": {\"colorbar\": {\"outlinewidth\": 0, \"ticks\": \"\"}}, \"type\": \"scattergeo\"}], \"scattergl\": [{\"marker\": {\"colorbar\": {\"outlinewidth\": 0, \"ticks\": \"\"}}, \"type\": \"scattergl\"}], \"scattermapbox\": [{\"marker\": {\"colorbar\": {\"outlinewidth\": 0, \"ticks\": \"\"}}, \"type\": \"scattermapbox\"}], \"scatterpolar\": [{\"marker\": {\"colorbar\": {\"outlinewidth\": 0, \"ticks\": \"\"}}, \"type\": \"scatterpolar\"}], \"scatterpolargl\": [{\"marker\": {\"colorbar\": {\"outlinewidth\": 0, \"ticks\": \"\"}}, \"type\": \"scatterpolargl\"}], \"scatterternary\": [{\"marker\": {\"colorbar\": {\"outlinewidth\": 0, \"ticks\": \"\"}}, \"type\": \"scatterternary\"}], \"surface\": [{\"colorbar\": {\"outlinewidth\": 0, \"ticks\": \"\"}, \"colorscale\": [[0.0, \"#0d0887\"], [0.1111111111111111, \"#46039f\"], [0.2222222222222222, \"#7201a8\"], [0.3333333333333333, \"#9c179e\"], [0.4444444444444444, \"#bd3786\"], [0.5555555555555556, \"#d8576b\"], [0.6666666666666666, \"#ed7953\"], [0.7777777777777778, \"#fb9f3a\"], [0.8888888888888888, \"#fdca26\"], [1.0, \"#f0f921\"]], \"type\": \"surface\"}], \"table\": [{\"cells\": {\"fill\": {\"color\": \"#EBF0F8\"}, \"line\": {\"color\": \"white\"}}, \"header\": {\"fill\": {\"color\": \"#C8D4E3\"}, \"line\": {\"color\": \"white\"}}, \"type\": \"table\"}]}, \"layout\": {\"annotationdefaults\": {\"arrowcolor\": \"#2a3f5f\", \"arrowhead\": 0, \"arrowwidth\": 1}, \"coloraxis\": {\"colorbar\": {\"outlinewidth\": 0, \"ticks\": \"\"}}, \"colorscale\": {\"diverging\": [[0, \"#8e0152\"], [0.1, \"#c51b7d\"], [0.2, \"#de77ae\"], [0.3, \"#f1b6da\"], [0.4, \"#fde0ef\"], [0.5, \"#f7f7f7\"], [0.6, \"#e6f5d0\"], [0.7, \"#b8e186\"], [0.8, \"#7fbc41\"], [0.9, \"#4d9221\"], [1, \"#276419\"]], \"sequential\": [[0.0, \"#0d0887\"], [0.1111111111111111, \"#46039f\"], [0.2222222222222222, \"#7201a8\"], [0.3333333333333333, \"#9c179e\"], [0.4444444444444444, \"#bd3786\"], [0.5555555555555556, \"#d8576b\"], [0.6666666666666666, \"#ed7953\"], [0.7777777777777778, \"#fb9f3a\"], [0.8888888888888888, \"#fdca26\"], [1.0, \"#f0f921\"]], \"sequentialminus\": [[0.0, \"#0d0887\"], [0.1111111111111111, \"#46039f\"], [0.2222222222222222, \"#7201a8\"], [0.3333333333333333, \"#9c179e\"], [0.4444444444444444, \"#bd3786\"], [0.5555555555555556, \"#d8576b\"], [0.6666666666666666, \"#ed7953\"], [0.7777777777777778, \"#fb9f3a\"], [0.8888888888888888, \"#fdca26\"], [1.0, \"#f0f921\"]]}, \"colorway\": [\"#636efa\", \"#EF553B\", \"#00cc96\", \"#ab63fa\", \"#FFA15A\", \"#19d3f3\", \"#FF6692\", \"#B6E880\", \"#FF97FF\", \"#FECB52\"], \"font\": {\"color\": \"#2a3f5f\"}, \"geo\": {\"bgcolor\": \"white\", \"lakecolor\": \"white\", \"landcolor\": \"#E5ECF6\", \"showlakes\": true, \"showland\": true, \"subunitcolor\": \"white\"}, \"hoverlabel\": {\"align\": \"left\"}, \"hovermode\": \"closest\", \"mapbox\": {\"style\": \"light\"}, \"paper_bgcolor\": \"white\", \"plot_bgcolor\": \"#E5ECF6\", \"polar\": {\"angularaxis\": {\"gridcolor\": \"white\", \"linecolor\": \"white\", \"ticks\": \"\"}, \"bgcolor\": \"#E5ECF6\", \"radialaxis\": {\"gridcolor\": \"white\", \"linecolor\": \"white\", \"ticks\": \"\"}}, \"scene\": {\"xaxis\": {\"backgroundcolor\": \"#E5ECF6\", \"gridcolor\": \"white\", \"gridwidth\": 2, \"linecolor\": \"white\", \"showbackground\": true, \"ticks\": \"\", \"zerolinecolor\": \"white\"}, \"yaxis\": {\"backgroundcolor\": \"#E5ECF6\", \"gridcolor\": \"white\", \"gridwidth\": 2, \"linecolor\": \"white\", \"showbackground\": true, \"ticks\": \"\", \"zerolinecolor\": \"white\"}, \"zaxis\": {\"backgroundcolor\": \"#E5ECF6\", \"gridcolor\": \"white\", \"gridwidth\": 2, \"linecolor\": \"white\", \"showbackground\": true, \"ticks\": \"\", \"zerolinecolor\": \"white\"}}, \"shapedefaults\": {\"line\": {\"color\": \"#2a3f5f\"}}, \"ternary\": {\"aaxis\": {\"gridcolor\": \"white\", \"linecolor\": \"white\", \"ticks\": \"\"}, \"baxis\": {\"gridcolor\": \"white\", \"linecolor\": \"white\", \"ticks\": \"\"}, \"bgcolor\": \"#E5ECF6\", \"caxis\": {\"gridcolor\": \"white\", \"linecolor\": \"white\", \"ticks\": \"\"}}, \"title\": {\"x\": 0.05}, \"xaxis\": {\"automargin\": true, \"gridcolor\": \"white\", \"linecolor\": \"white\", \"ticks\": \"\", \"title\": {\"standoff\": 15}, \"zerolinecolor\": \"white\", \"zerolinewidth\": 2}, \"yaxis\": {\"automargin\": true, \"gridcolor\": \"white\", \"linecolor\": \"white\", \"ticks\": \"\", \"title\": {\"standoff\": 15}, \"zerolinecolor\": \"white\", \"zerolinewidth\": 2}}}, \"title\": {\"font\": {\"color\": \"#4D5663\"}}, \"xaxis\": {\"gridcolor\": \"#E1E5ED\", \"showgrid\": true, \"tickfont\": {\"color\": \"#4D5663\"}, \"title\": {\"font\": {\"color\": \"#4D5663\"}, \"text\": \"\"}, \"zerolinecolor\": \"#E1E5ED\"}, \"yaxis\": {\"gridcolor\": \"#E1E5ED\", \"showgrid\": true, \"tickfont\": {\"color\": \"#4D5663\"}, \"title\": {\"font\": {\"color\": \"#4D5663\"}, \"text\": \"\"}, \"zerolinecolor\": \"#E1E5ED\"}},\n",
       "                        {\"showLink\": true, \"linkText\": \"Export to plot.ly\", \"plotlyServerURL\": \"https://plot.ly\", \"responsive\": true}\n",
       "                    ).then(function(){\n",
       "                            \n",
       "var gd = document.getElementById('1b31d7b1-c74d-4c11-9b2f-29cc828964e1');\n",
       "var x = new MutationObserver(function (mutations, observer) {{\n",
       "        var display = window.getComputedStyle(gd).display;\n",
       "        if (!display || display === 'none') {{\n",
       "            console.log([gd, 'removed!']);\n",
       "            Plotly.purge(gd);\n",
       "            observer.disconnect();\n",
       "        }}\n",
       "}});\n",
       "\n",
       "// Listen for the removal of the full notebook cells\n",
       "var notebookContainer = gd.closest('#notebook-container');\n",
       "if (notebookContainer) {{\n",
       "    x.observe(notebookContainer, {childList: true});\n",
       "}}\n",
       "\n",
       "// Listen for the clearing of the current output cell\n",
       "var outputEl = gd.closest('.output');\n",
       "if (outputEl) {{\n",
       "    x.observe(outputEl, {childList: true});\n",
       "}}\n",
       "\n",
       "                        })\n",
       "                };\n",
       "                });\n",
       "            </script>\n",
       "        </div>"
      ]
     },
     "metadata": {},
     "output_type": "display_data"
    }
   ],
   "source": [
    "df['A'].iplot(kind='hist',bins=25)"
   ]
  },
  {
   "cell_type": "code",
   "execution_count": 18,
   "metadata": {},
   "outputs": [
    {
     "data": {
      "application/vnd.plotly.v1+json": {
       "config": {
        "linkText": "Export to plot.ly",
        "plotlyServerURL": "https://plot.ly",
        "showLink": true
       },
       "data": [
        {
         "marker": {
          "color": [
           "rgb(255, 153, 51)",
           "rgb(55, 128, 191)",
           "rgb(50, 171, 96)",
           "rgb(128, 0, 128)",
           "rgb(219, 64, 82)",
           "rgb(0, 128, 128)",
           "rgb(255, 255, 51)",
           "rgb(128, 128, 0)",
           "rgb(251, 128, 114)",
           "rgb(128, 177, 211)"
          ],
          "line": {
           "width": 1.3
          },
          "size": [
           37,
           39,
           20,
           95,
           46,
           58,
           42,
           75,
           63,
           49,
           62,
           62,
           49,
           52,
           66,
           63,
           73,
           52,
           97,
           94,
           84,
           39,
           22,
           56,
           83,
           35,
           70,
           44,
           55,
           61,
           43,
           49,
           62,
           65,
           62,
           34,
           55,
           91,
           96,
           55,
           52,
           65,
           43,
           62,
           43,
           56,
           100,
           75,
           91,
           81,
           64,
           56,
           44,
           41,
           76,
           42,
           63,
           56,
           85,
           56,
           40,
           87,
           30,
           40,
           44,
           38,
           38,
           78,
           83,
           54,
           48,
           89,
           60,
           68,
           52,
           63,
           54,
           112,
           72,
           93,
           53,
           74,
           90,
           21,
           68,
           41,
           79,
           84,
           49,
           17,
           46,
           50,
           45,
           46,
           55,
           12,
           73,
           68,
           58,
           25
          ],
          "symbol": "circle"
         },
         "mode": "markers",
         "text": "",
         "type": "scatter",
         "x": [
          1.4057168758225187,
          0.09635109794516898,
          -0.8075775662482514,
          1.85671902279818,
          1.3564610889782882,
          -1.0665015699326987,
          -0.3215134793832769,
          2.2006939363165583,
          -0.0642731305817795,
          -0.06722249427021736,
          -0.7606245671921829,
          -0.011501944221071154,
          0.41632838029502583,
          0.08283379610948835,
          0.6973631246869717,
          1.3319206881954702,
          1.0618863974579766,
          -1.032164232081873,
          0.08631207258907114,
          -0.8749170327076585,
          0.9561424070698766,
          2.0812454986913953,
          0.013611597742900088,
          2.010755001659486,
          -0.3840367437614046,
          -0.48611375514496025,
          -1.0010787717614296,
          -0.7111060970108366,
          -0.88155225575621,
          -0.7912570519536614,
          -0.8482443659483541,
          0.009417046372797853,
          -0.6613874723923325,
          -0.43179805587229253,
          -1.1868260308228515,
          -1.3010165341303017,
          1.0793955367330281,
          -1.21888688132927,
          1.7860641751165047,
          0.799656633173967,
          -0.5334780327036241,
          -1.209424809475077,
          -1.1424053312617162,
          1.2579717508561836,
          -2.0605485025033214,
          0.13710078395039346,
          -0.5916349564207652,
          0.3029899541504856,
          -0.22663502770322,
          -0.5804854045400992,
          -1.9025506699911556,
          0.11876147332063057,
          0.9257965150343771,
          -0.18073318129062516,
          1.5055537662684682,
          -0.8089910678807307,
          -0.11721228265202219,
          -0.5997238871075966,
          -1.142021786149684,
          0.09936348427841284,
          1.4931562081498957,
          -1.5547024729001584,
          0.5910489953515512,
          -0.059929917251002024,
          1.0696616107968673,
          0.8021825757324219,
          1.439330784471317,
          -0.6110907124127478,
          1.0024882398083432,
          -1.7022888335987154,
          0.05188306699545878,
          1.7097829525296082,
          -1.5080847746237727,
          0.6911601517780541,
          -1.0036454775392192,
          0.8135518250358234,
          -0.9300649797636137,
          -0.21514900583841184,
          0.7078344365890838,
          0.04089091390206245,
          0.10570034421779602,
          2.615277534759449,
          -0.3407781816207968,
          -0.7062667539668542,
          0.7414974982831658,
          -0.9158253246310815,
          -0.4412896880881209,
          1.5879126191662924,
          0.0021807237198163483,
          0.4941846844869749,
          0.7951021730994977,
          -0.9137616880373952,
          -1.9780362146807235,
          -0.7076722808592804,
          -1.8884123353793303,
          0.7626559205689569,
          -1.6959998148682438,
          0.07953368201121154,
          0.7781058966122304,
          1.27600917408759
         ],
         "y": [
          1.3805021359727088,
          0.6876562345194515,
          1.744426205438441,
          1.3482770883045914,
          -0.634248067300063,
          -0.034294271166742524,
          0.08697205812033731,
          0.18165054261005958,
          -0.4947130519966682,
          1.1926577197445511,
          -0.20717482602811665,
          -2.5133130507450065,
          0.5849565071647904,
          -1.1419275913432483,
          -1.0989250107348194,
          -0.7187949424743807,
          -0.4925908219897006,
          -0.8053500686902227,
          1.3214954358061495,
          0.650458182102288,
          0.7831813622092171,
          0.07498582897569142,
          0.6523450877465203,
          -0.5783833322107474,
          0.31063691916746256,
          0.5339759772715772,
          -0.9341694521216017,
          0.1636579101222258,
          0.7914756036817695,
          0.14946115975322116,
          1.655598160883892,
          0.7246961444793382,
          -1.2954830292755444,
          0.9695475826517964,
          -0.2964187051363097,
          2.7033995079178443,
          -0.38178103307087197,
          1.1295086160797756,
          1.527880017753105,
          0.905536015852373,
          0.29805175373631065,
          -0.5754351908083993,
          0.29082064681038583,
          0.7586137695438394,
          1.1349899407660182,
          0.6717992725911085,
          -0.31428779368983534,
          -0.18220919871777175,
          2.1597698090177797,
          -1.419379997025609,
          -0.8461014276372388,
          0.41864875994912204,
          0.8148702380518698,
          0.019606695965507532,
          -1.1837488988129978,
          1.1806831481053504,
          -0.6107919824591864,
          -0.23111979494516535,
          -0.9367596799948575,
          -1.6339807125647547,
          -1.8372441832889166,
          2.5168011421762055,
          -1.5382411271982206,
          0.6254374573450555,
          -0.29144223018409665,
          0.25280094962187494,
          0.9341401560731483,
          0.4593226701114746,
          0.37090012110200604,
          2.5485602361509896,
          -0.2384223669142262,
          -1.4965726279770937,
          -0.9143776712501855,
          0.6240127588983286,
          0.9349261687864068,
          1.1302133290065983,
          -1.9122547142011879,
          2.1612111542650148,
          -1.170401489694811,
          1.4844344274345278,
          0.425068571796391,
          1.0836427308909355,
          -1.2092550831621383,
          -0.05373370286349067,
          -2.329782253481326,
          0.9931882640309181,
          -0.7440493223711631,
          -0.8690298054021338,
          -1.3870236796099518,
          -0.235118566464218,
          -0.804128615713205,
          -2.091537810580936,
          0.566865783198684,
          -1.511924883938343,
          -0.9600094189448816,
          -0.382769475864104,
          -0.43678813895890783,
          1.4503730185316464,
          -1.1598452079499255,
          0.0007072242767753852
         ]
        }
       ],
       "layout": {
        "legend": {
         "bgcolor": "#F5F6F9",
         "font": {
          "color": "#4D5663"
         }
        },
        "paper_bgcolor": "#F5F6F9",
        "plot_bgcolor": "#F5F6F9",
        "template": {
         "data": {
          "bar": [
           {
            "error_x": {
             "color": "#2a3f5f"
            },
            "error_y": {
             "color": "#2a3f5f"
            },
            "marker": {
             "line": {
              "color": "#E5ECF6",
              "width": 0.5
             }
            },
            "type": "bar"
           }
          ],
          "barpolar": [
           {
            "marker": {
             "line": {
              "color": "#E5ECF6",
              "width": 0.5
             }
            },
            "type": "barpolar"
           }
          ],
          "carpet": [
           {
            "aaxis": {
             "endlinecolor": "#2a3f5f",
             "gridcolor": "white",
             "linecolor": "white",
             "minorgridcolor": "white",
             "startlinecolor": "#2a3f5f"
            },
            "baxis": {
             "endlinecolor": "#2a3f5f",
             "gridcolor": "white",
             "linecolor": "white",
             "minorgridcolor": "white",
             "startlinecolor": "#2a3f5f"
            },
            "type": "carpet"
           }
          ],
          "choropleth": [
           {
            "colorbar": {
             "outlinewidth": 0,
             "ticks": ""
            },
            "type": "choropleth"
           }
          ],
          "contour": [
           {
            "colorbar": {
             "outlinewidth": 0,
             "ticks": ""
            },
            "colorscale": [
             [
              0,
              "#0d0887"
             ],
             [
              0.1111111111111111,
              "#46039f"
             ],
             [
              0.2222222222222222,
              "#7201a8"
             ],
             [
              0.3333333333333333,
              "#9c179e"
             ],
             [
              0.4444444444444444,
              "#bd3786"
             ],
             [
              0.5555555555555556,
              "#d8576b"
             ],
             [
              0.6666666666666666,
              "#ed7953"
             ],
             [
              0.7777777777777778,
              "#fb9f3a"
             ],
             [
              0.8888888888888888,
              "#fdca26"
             ],
             [
              1,
              "#f0f921"
             ]
            ],
            "type": "contour"
           }
          ],
          "contourcarpet": [
           {
            "colorbar": {
             "outlinewidth": 0,
             "ticks": ""
            },
            "type": "contourcarpet"
           }
          ],
          "heatmap": [
           {
            "colorbar": {
             "outlinewidth": 0,
             "ticks": ""
            },
            "colorscale": [
             [
              0,
              "#0d0887"
             ],
             [
              0.1111111111111111,
              "#46039f"
             ],
             [
              0.2222222222222222,
              "#7201a8"
             ],
             [
              0.3333333333333333,
              "#9c179e"
             ],
             [
              0.4444444444444444,
              "#bd3786"
             ],
             [
              0.5555555555555556,
              "#d8576b"
             ],
             [
              0.6666666666666666,
              "#ed7953"
             ],
             [
              0.7777777777777778,
              "#fb9f3a"
             ],
             [
              0.8888888888888888,
              "#fdca26"
             ],
             [
              1,
              "#f0f921"
             ]
            ],
            "type": "heatmap"
           }
          ],
          "heatmapgl": [
           {
            "colorbar": {
             "outlinewidth": 0,
             "ticks": ""
            },
            "colorscale": [
             [
              0,
              "#0d0887"
             ],
             [
              0.1111111111111111,
              "#46039f"
             ],
             [
              0.2222222222222222,
              "#7201a8"
             ],
             [
              0.3333333333333333,
              "#9c179e"
             ],
             [
              0.4444444444444444,
              "#bd3786"
             ],
             [
              0.5555555555555556,
              "#d8576b"
             ],
             [
              0.6666666666666666,
              "#ed7953"
             ],
             [
              0.7777777777777778,
              "#fb9f3a"
             ],
             [
              0.8888888888888888,
              "#fdca26"
             ],
             [
              1,
              "#f0f921"
             ]
            ],
            "type": "heatmapgl"
           }
          ],
          "histogram": [
           {
            "marker": {
             "colorbar": {
              "outlinewidth": 0,
              "ticks": ""
             }
            },
            "type": "histogram"
           }
          ],
          "histogram2d": [
           {
            "colorbar": {
             "outlinewidth": 0,
             "ticks": ""
            },
            "colorscale": [
             [
              0,
              "#0d0887"
             ],
             [
              0.1111111111111111,
              "#46039f"
             ],
             [
              0.2222222222222222,
              "#7201a8"
             ],
             [
              0.3333333333333333,
              "#9c179e"
             ],
             [
              0.4444444444444444,
              "#bd3786"
             ],
             [
              0.5555555555555556,
              "#d8576b"
             ],
             [
              0.6666666666666666,
              "#ed7953"
             ],
             [
              0.7777777777777778,
              "#fb9f3a"
             ],
             [
              0.8888888888888888,
              "#fdca26"
             ],
             [
              1,
              "#f0f921"
             ]
            ],
            "type": "histogram2d"
           }
          ],
          "histogram2dcontour": [
           {
            "colorbar": {
             "outlinewidth": 0,
             "ticks": ""
            },
            "colorscale": [
             [
              0,
              "#0d0887"
             ],
             [
              0.1111111111111111,
              "#46039f"
             ],
             [
              0.2222222222222222,
              "#7201a8"
             ],
             [
              0.3333333333333333,
              "#9c179e"
             ],
             [
              0.4444444444444444,
              "#bd3786"
             ],
             [
              0.5555555555555556,
              "#d8576b"
             ],
             [
              0.6666666666666666,
              "#ed7953"
             ],
             [
              0.7777777777777778,
              "#fb9f3a"
             ],
             [
              0.8888888888888888,
              "#fdca26"
             ],
             [
              1,
              "#f0f921"
             ]
            ],
            "type": "histogram2dcontour"
           }
          ],
          "mesh3d": [
           {
            "colorbar": {
             "outlinewidth": 0,
             "ticks": ""
            },
            "type": "mesh3d"
           }
          ],
          "parcoords": [
           {
            "line": {
             "colorbar": {
              "outlinewidth": 0,
              "ticks": ""
             }
            },
            "type": "parcoords"
           }
          ],
          "pie": [
           {
            "automargin": true,
            "type": "pie"
           }
          ],
          "scatter": [
           {
            "marker": {
             "colorbar": {
              "outlinewidth": 0,
              "ticks": ""
             }
            },
            "type": "scatter"
           }
          ],
          "scatter3d": [
           {
            "line": {
             "colorbar": {
              "outlinewidth": 0,
              "ticks": ""
             }
            },
            "marker": {
             "colorbar": {
              "outlinewidth": 0,
              "ticks": ""
             }
            },
            "type": "scatter3d"
           }
          ],
          "scattercarpet": [
           {
            "marker": {
             "colorbar": {
              "outlinewidth": 0,
              "ticks": ""
             }
            },
            "type": "scattercarpet"
           }
          ],
          "scattergeo": [
           {
            "marker": {
             "colorbar": {
              "outlinewidth": 0,
              "ticks": ""
             }
            },
            "type": "scattergeo"
           }
          ],
          "scattergl": [
           {
            "marker": {
             "colorbar": {
              "outlinewidth": 0,
              "ticks": ""
             }
            },
            "type": "scattergl"
           }
          ],
          "scattermapbox": [
           {
            "marker": {
             "colorbar": {
              "outlinewidth": 0,
              "ticks": ""
             }
            },
            "type": "scattermapbox"
           }
          ],
          "scatterpolar": [
           {
            "marker": {
             "colorbar": {
              "outlinewidth": 0,
              "ticks": ""
             }
            },
            "type": "scatterpolar"
           }
          ],
          "scatterpolargl": [
           {
            "marker": {
             "colorbar": {
              "outlinewidth": 0,
              "ticks": ""
             }
            },
            "type": "scatterpolargl"
           }
          ],
          "scatterternary": [
           {
            "marker": {
             "colorbar": {
              "outlinewidth": 0,
              "ticks": ""
             }
            },
            "type": "scatterternary"
           }
          ],
          "surface": [
           {
            "colorbar": {
             "outlinewidth": 0,
             "ticks": ""
            },
            "colorscale": [
             [
              0,
              "#0d0887"
             ],
             [
              0.1111111111111111,
              "#46039f"
             ],
             [
              0.2222222222222222,
              "#7201a8"
             ],
             [
              0.3333333333333333,
              "#9c179e"
             ],
             [
              0.4444444444444444,
              "#bd3786"
             ],
             [
              0.5555555555555556,
              "#d8576b"
             ],
             [
              0.6666666666666666,
              "#ed7953"
             ],
             [
              0.7777777777777778,
              "#fb9f3a"
             ],
             [
              0.8888888888888888,
              "#fdca26"
             ],
             [
              1,
              "#f0f921"
             ]
            ],
            "type": "surface"
           }
          ],
          "table": [
           {
            "cells": {
             "fill": {
              "color": "#EBF0F8"
             },
             "line": {
              "color": "white"
             }
            },
            "header": {
             "fill": {
              "color": "#C8D4E3"
             },
             "line": {
              "color": "white"
             }
            },
            "type": "table"
           }
          ]
         },
         "layout": {
          "annotationdefaults": {
           "arrowcolor": "#2a3f5f",
           "arrowhead": 0,
           "arrowwidth": 1
          },
          "coloraxis": {
           "colorbar": {
            "outlinewidth": 0,
            "ticks": ""
           }
          },
          "colorscale": {
           "diverging": [
            [
             0,
             "#8e0152"
            ],
            [
             0.1,
             "#c51b7d"
            ],
            [
             0.2,
             "#de77ae"
            ],
            [
             0.3,
             "#f1b6da"
            ],
            [
             0.4,
             "#fde0ef"
            ],
            [
             0.5,
             "#f7f7f7"
            ],
            [
             0.6,
             "#e6f5d0"
            ],
            [
             0.7,
             "#b8e186"
            ],
            [
             0.8,
             "#7fbc41"
            ],
            [
             0.9,
             "#4d9221"
            ],
            [
             1,
             "#276419"
            ]
           ],
           "sequential": [
            [
             0,
             "#0d0887"
            ],
            [
             0.1111111111111111,
             "#46039f"
            ],
            [
             0.2222222222222222,
             "#7201a8"
            ],
            [
             0.3333333333333333,
             "#9c179e"
            ],
            [
             0.4444444444444444,
             "#bd3786"
            ],
            [
             0.5555555555555556,
             "#d8576b"
            ],
            [
             0.6666666666666666,
             "#ed7953"
            ],
            [
             0.7777777777777778,
             "#fb9f3a"
            ],
            [
             0.8888888888888888,
             "#fdca26"
            ],
            [
             1,
             "#f0f921"
            ]
           ],
           "sequentialminus": [
            [
             0,
             "#0d0887"
            ],
            [
             0.1111111111111111,
             "#46039f"
            ],
            [
             0.2222222222222222,
             "#7201a8"
            ],
            [
             0.3333333333333333,
             "#9c179e"
            ],
            [
             0.4444444444444444,
             "#bd3786"
            ],
            [
             0.5555555555555556,
             "#d8576b"
            ],
            [
             0.6666666666666666,
             "#ed7953"
            ],
            [
             0.7777777777777778,
             "#fb9f3a"
            ],
            [
             0.8888888888888888,
             "#fdca26"
            ],
            [
             1,
             "#f0f921"
            ]
           ]
          },
          "colorway": [
           "#636efa",
           "#EF553B",
           "#00cc96",
           "#ab63fa",
           "#FFA15A",
           "#19d3f3",
           "#FF6692",
           "#B6E880",
           "#FF97FF",
           "#FECB52"
          ],
          "font": {
           "color": "#2a3f5f"
          },
          "geo": {
           "bgcolor": "white",
           "lakecolor": "white",
           "landcolor": "#E5ECF6",
           "showlakes": true,
           "showland": true,
           "subunitcolor": "white"
          },
          "hoverlabel": {
           "align": "left"
          },
          "hovermode": "closest",
          "mapbox": {
           "style": "light"
          },
          "paper_bgcolor": "white",
          "plot_bgcolor": "#E5ECF6",
          "polar": {
           "angularaxis": {
            "gridcolor": "white",
            "linecolor": "white",
            "ticks": ""
           },
           "bgcolor": "#E5ECF6",
           "radialaxis": {
            "gridcolor": "white",
            "linecolor": "white",
            "ticks": ""
           }
          },
          "scene": {
           "xaxis": {
            "backgroundcolor": "#E5ECF6",
            "gridcolor": "white",
            "gridwidth": 2,
            "linecolor": "white",
            "showbackground": true,
            "ticks": "",
            "zerolinecolor": "white"
           },
           "yaxis": {
            "backgroundcolor": "#E5ECF6",
            "gridcolor": "white",
            "gridwidth": 2,
            "linecolor": "white",
            "showbackground": true,
            "ticks": "",
            "zerolinecolor": "white"
           },
           "zaxis": {
            "backgroundcolor": "#E5ECF6",
            "gridcolor": "white",
            "gridwidth": 2,
            "linecolor": "white",
            "showbackground": true,
            "ticks": "",
            "zerolinecolor": "white"
           }
          },
          "shapedefaults": {
           "line": {
            "color": "#2a3f5f"
           }
          },
          "ternary": {
           "aaxis": {
            "gridcolor": "white",
            "linecolor": "white",
            "ticks": ""
           },
           "baxis": {
            "gridcolor": "white",
            "linecolor": "white",
            "ticks": ""
           },
           "bgcolor": "#E5ECF6",
           "caxis": {
            "gridcolor": "white",
            "linecolor": "white",
            "ticks": ""
           }
          },
          "title": {
           "x": 0.05
          },
          "xaxis": {
           "automargin": true,
           "gridcolor": "white",
           "linecolor": "white",
           "ticks": "",
           "title": {
            "standoff": 15
           },
           "zerolinecolor": "white",
           "zerolinewidth": 2
          },
          "yaxis": {
           "automargin": true,
           "gridcolor": "white",
           "linecolor": "white",
           "ticks": "",
           "title": {
            "standoff": 15
           },
           "zerolinecolor": "white",
           "zerolinewidth": 2
          }
         }
        },
        "title": {
         "font": {
          "color": "#4D5663"
         }
        },
        "xaxis": {
         "gridcolor": "#E1E5ED",
         "showgrid": true,
         "tickfont": {
          "color": "#4D5663"
         },
         "title": {
          "font": {
           "color": "#4D5663"
          },
          "text": ""
         },
         "zerolinecolor": "#E1E5ED"
        },
        "yaxis": {
         "gridcolor": "#E1E5ED",
         "showgrid": true,
         "tickfont": {
          "color": "#4D5663"
         },
         "title": {
          "font": {
           "color": "#4D5663"
          },
          "text": ""
         },
         "zerolinecolor": "#E1E5ED"
        }
       }
      },
      "text/html": [
       "<div>\n",
       "        \n",
       "        \n",
       "            <div id=\"e639f027-3db2-4494-bb7c-4b80bbb18519\" class=\"plotly-graph-div\" style=\"height:525px; width:100%;\"></div>\n",
       "            <script type=\"text/javascript\">\n",
       "                require([\"plotly\"], function(Plotly) {\n",
       "                    window.PLOTLYENV=window.PLOTLYENV || {};\n",
       "                    window.PLOTLYENV.BASE_URL='https://plot.ly';\n",
       "                    \n",
       "                if (document.getElementById(\"e639f027-3db2-4494-bb7c-4b80bbb18519\")) {\n",
       "                    Plotly.newPlot(\n",
       "                        'e639f027-3db2-4494-bb7c-4b80bbb18519',\n",
       "                        [{\"marker\": {\"color\": [\"rgb(255, 153, 51)\", \"rgb(55, 128, 191)\", \"rgb(50, 171, 96)\", \"rgb(128, 0, 128)\", \"rgb(219, 64, 82)\", \"rgb(0, 128, 128)\", \"rgb(255, 255, 51)\", \"rgb(128, 128, 0)\", \"rgb(251, 128, 114)\", \"rgb(128, 177, 211)\"], \"line\": {\"width\": 1.3}, \"size\": [37, 39, 20, 95, 46, 58, 42, 75, 63, 49, 62, 62, 49, 52, 66, 63, 73, 52, 97, 94, 84, 39, 22, 56, 83, 35, 70, 44, 55, 61, 43, 49, 62, 65, 62, 34, 55, 91, 96, 55, 52, 65, 43, 62, 43, 56, 100, 75, 91, 81, 64, 56, 44, 41, 76, 42, 63, 56, 85, 56, 40, 87, 30, 40, 44, 38, 38, 78, 83, 54, 48, 89, 60, 68, 52, 63, 54, 112, 72, 93, 53, 74, 90, 21, 68, 41, 79, 84, 49, 17, 46, 50, 45, 46, 55, 12, 73, 68, 58, 25], \"symbol\": \"circle\"}, \"mode\": \"markers\", \"text\": \"\", \"type\": \"scatter\", \"x\": [1.4057168758225187, 0.09635109794516898, -0.8075775662482514, 1.85671902279818, 1.3564610889782882, -1.0665015699326987, -0.3215134793832769, 2.2006939363165583, -0.0642731305817795, -0.06722249427021736, -0.7606245671921829, -0.011501944221071154, 0.41632838029502583, 0.08283379610948835, 0.6973631246869717, 1.3319206881954702, 1.0618863974579766, -1.032164232081873, 0.08631207258907114, -0.8749170327076585, 0.9561424070698766, 2.0812454986913953, 0.013611597742900088, 2.010755001659486, -0.3840367437614046, -0.48611375514496025, -1.0010787717614296, -0.7111060970108366, -0.88155225575621, -0.7912570519536614, -0.8482443659483541, 0.009417046372797853, -0.6613874723923325, -0.43179805587229253, -1.1868260308228515, -1.3010165341303017, 1.0793955367330281, -1.21888688132927, 1.7860641751165047, 0.799656633173967, -0.5334780327036241, -1.209424809475077, -1.1424053312617162, 1.2579717508561836, -2.0605485025033214, 0.13710078395039346, -0.5916349564207652, 0.3029899541504856, -0.22663502770322, -0.5804854045400992, -1.9025506699911556, 0.11876147332063057, 0.9257965150343771, -0.18073318129062516, 1.5055537662684682, -0.8089910678807307, -0.11721228265202219, -0.5997238871075966, -1.142021786149684, 0.09936348427841284, 1.4931562081498957, -1.5547024729001584, 0.5910489953515512, -0.059929917251002024, 1.0696616107968673, 0.8021825757324219, 1.439330784471317, -0.6110907124127478, 1.0024882398083432, -1.7022888335987154, 0.05188306699545878, 1.7097829525296082, -1.5080847746237727, 0.6911601517780541, -1.0036454775392192, 0.8135518250358234, -0.9300649797636137, -0.21514900583841184, 0.7078344365890838, 0.04089091390206245, 0.10570034421779602, 2.615277534759449, -0.3407781816207968, -0.7062667539668542, 0.7414974982831658, -0.9158253246310815, -0.4412896880881209, 1.5879126191662924, 0.0021807237198163483, 0.4941846844869749, 0.7951021730994977, -0.9137616880373952, -1.9780362146807235, -0.7076722808592804, -1.8884123353793303, 0.7626559205689569, -1.6959998148682438, 0.07953368201121154, 0.7781058966122304, 1.27600917408759], \"y\": [1.3805021359727088, 0.6876562345194515, 1.744426205438441, 1.3482770883045914, -0.634248067300063, -0.034294271166742524, 0.08697205812033731, 0.18165054261005958, -0.4947130519966682, 1.1926577197445511, -0.20717482602811665, -2.5133130507450065, 0.5849565071647904, -1.1419275913432483, -1.0989250107348194, -0.7187949424743807, -0.4925908219897006, -0.8053500686902227, 1.3214954358061495, 0.650458182102288, 0.7831813622092171, 0.07498582897569142, 0.6523450877465203, -0.5783833322107474, 0.31063691916746256, 0.5339759772715772, -0.9341694521216017, 0.1636579101222258, 0.7914756036817695, 0.14946115975322116, 1.655598160883892, 0.7246961444793382, -1.2954830292755444, 0.9695475826517964, -0.2964187051363097, 2.7033995079178443, -0.38178103307087197, 1.1295086160797756, 1.527880017753105, 0.905536015852373, 0.29805175373631065, -0.5754351908083993, 0.29082064681038583, 0.7586137695438394, 1.1349899407660182, 0.6717992725911085, -0.31428779368983534, -0.18220919871777175, 2.1597698090177797, -1.419379997025609, -0.8461014276372388, 0.41864875994912204, 0.8148702380518698, 0.019606695965507532, -1.1837488988129978, 1.1806831481053504, -0.6107919824591864, -0.23111979494516535, -0.9367596799948575, -1.6339807125647547, -1.8372441832889166, 2.5168011421762055, -1.5382411271982206, 0.6254374573450555, -0.29144223018409665, 0.25280094962187494, 0.9341401560731483, 0.4593226701114746, 0.37090012110200604, 2.5485602361509896, -0.2384223669142262, -1.4965726279770937, -0.9143776712501855, 0.6240127588983286, 0.9349261687864068, 1.1302133290065983, -1.9122547142011879, 2.1612111542650148, -1.170401489694811, 1.4844344274345278, 0.425068571796391, 1.0836427308909355, -1.2092550831621383, -0.05373370286349067, -2.329782253481326, 0.9931882640309181, -0.7440493223711631, -0.8690298054021338, -1.3870236796099518, -0.235118566464218, -0.804128615713205, -2.091537810580936, 0.566865783198684, -1.511924883938343, -0.9600094189448816, -0.382769475864104, -0.43678813895890783, 1.4503730185316464, -1.1598452079499255, 0.0007072242767753852]}],\n",
       "                        {\"legend\": {\"bgcolor\": \"#F5F6F9\", \"font\": {\"color\": \"#4D5663\"}}, \"paper_bgcolor\": \"#F5F6F9\", \"plot_bgcolor\": \"#F5F6F9\", \"template\": {\"data\": {\"bar\": [{\"error_x\": {\"color\": \"#2a3f5f\"}, \"error_y\": {\"color\": \"#2a3f5f\"}, \"marker\": {\"line\": {\"color\": \"#E5ECF6\", \"width\": 0.5}}, \"type\": \"bar\"}], \"barpolar\": [{\"marker\": {\"line\": {\"color\": \"#E5ECF6\", \"width\": 0.5}}, \"type\": \"barpolar\"}], \"carpet\": [{\"aaxis\": {\"endlinecolor\": \"#2a3f5f\", \"gridcolor\": \"white\", \"linecolor\": \"white\", \"minorgridcolor\": \"white\", \"startlinecolor\": \"#2a3f5f\"}, \"baxis\": {\"endlinecolor\": \"#2a3f5f\", \"gridcolor\": \"white\", \"linecolor\": \"white\", \"minorgridcolor\": \"white\", \"startlinecolor\": \"#2a3f5f\"}, \"type\": \"carpet\"}], \"choropleth\": [{\"colorbar\": {\"outlinewidth\": 0, \"ticks\": \"\"}, \"type\": \"choropleth\"}], \"contour\": [{\"colorbar\": {\"outlinewidth\": 0, \"ticks\": \"\"}, \"colorscale\": [[0.0, \"#0d0887\"], [0.1111111111111111, \"#46039f\"], [0.2222222222222222, \"#7201a8\"], [0.3333333333333333, \"#9c179e\"], [0.4444444444444444, \"#bd3786\"], [0.5555555555555556, \"#d8576b\"], [0.6666666666666666, \"#ed7953\"], [0.7777777777777778, \"#fb9f3a\"], [0.8888888888888888, \"#fdca26\"], [1.0, \"#f0f921\"]], \"type\": \"contour\"}], \"contourcarpet\": [{\"colorbar\": {\"outlinewidth\": 0, \"ticks\": \"\"}, \"type\": \"contourcarpet\"}], \"heatmap\": [{\"colorbar\": {\"outlinewidth\": 0, \"ticks\": \"\"}, \"colorscale\": [[0.0, \"#0d0887\"], [0.1111111111111111, \"#46039f\"], [0.2222222222222222, \"#7201a8\"], [0.3333333333333333, \"#9c179e\"], [0.4444444444444444, \"#bd3786\"], [0.5555555555555556, \"#d8576b\"], [0.6666666666666666, \"#ed7953\"], [0.7777777777777778, \"#fb9f3a\"], [0.8888888888888888, \"#fdca26\"], [1.0, \"#f0f921\"]], \"type\": \"heatmap\"}], \"heatmapgl\": [{\"colorbar\": {\"outlinewidth\": 0, \"ticks\": \"\"}, \"colorscale\": [[0.0, \"#0d0887\"], [0.1111111111111111, \"#46039f\"], [0.2222222222222222, \"#7201a8\"], [0.3333333333333333, \"#9c179e\"], [0.4444444444444444, \"#bd3786\"], [0.5555555555555556, \"#d8576b\"], [0.6666666666666666, \"#ed7953\"], [0.7777777777777778, \"#fb9f3a\"], [0.8888888888888888, \"#fdca26\"], [1.0, \"#f0f921\"]], \"type\": \"heatmapgl\"}], \"histogram\": [{\"marker\": {\"colorbar\": {\"outlinewidth\": 0, \"ticks\": \"\"}}, \"type\": \"histogram\"}], \"histogram2d\": [{\"colorbar\": {\"outlinewidth\": 0, \"ticks\": \"\"}, \"colorscale\": [[0.0, \"#0d0887\"], [0.1111111111111111, \"#46039f\"], [0.2222222222222222, \"#7201a8\"], [0.3333333333333333, \"#9c179e\"], [0.4444444444444444, \"#bd3786\"], [0.5555555555555556, \"#d8576b\"], [0.6666666666666666, \"#ed7953\"], [0.7777777777777778, \"#fb9f3a\"], [0.8888888888888888, \"#fdca26\"], [1.0, \"#f0f921\"]], \"type\": \"histogram2d\"}], \"histogram2dcontour\": [{\"colorbar\": {\"outlinewidth\": 0, \"ticks\": \"\"}, \"colorscale\": [[0.0, \"#0d0887\"], [0.1111111111111111, \"#46039f\"], [0.2222222222222222, \"#7201a8\"], [0.3333333333333333, \"#9c179e\"], [0.4444444444444444, \"#bd3786\"], [0.5555555555555556, \"#d8576b\"], [0.6666666666666666, \"#ed7953\"], [0.7777777777777778, \"#fb9f3a\"], [0.8888888888888888, \"#fdca26\"], [1.0, \"#f0f921\"]], \"type\": \"histogram2dcontour\"}], \"mesh3d\": [{\"colorbar\": {\"outlinewidth\": 0, \"ticks\": \"\"}, \"type\": \"mesh3d\"}], \"parcoords\": [{\"line\": {\"colorbar\": {\"outlinewidth\": 0, \"ticks\": \"\"}}, \"type\": \"parcoords\"}], \"pie\": [{\"automargin\": true, \"type\": \"pie\"}], \"scatter\": [{\"marker\": {\"colorbar\": {\"outlinewidth\": 0, \"ticks\": \"\"}}, \"type\": \"scatter\"}], \"scatter3d\": [{\"line\": {\"colorbar\": {\"outlinewidth\": 0, \"ticks\": \"\"}}, \"marker\": {\"colorbar\": {\"outlinewidth\": 0, \"ticks\": \"\"}}, \"type\": \"scatter3d\"}], \"scattercarpet\": [{\"marker\": {\"colorbar\": {\"outlinewidth\": 0, \"ticks\": \"\"}}, \"type\": \"scattercarpet\"}], \"scattergeo\": [{\"marker\": {\"colorbar\": {\"outlinewidth\": 0, \"ticks\": \"\"}}, \"type\": \"scattergeo\"}], \"scattergl\": [{\"marker\": {\"colorbar\": {\"outlinewidth\": 0, \"ticks\": \"\"}}, \"type\": \"scattergl\"}], \"scattermapbox\": [{\"marker\": {\"colorbar\": {\"outlinewidth\": 0, \"ticks\": \"\"}}, \"type\": \"scattermapbox\"}], \"scatterpolar\": [{\"marker\": {\"colorbar\": {\"outlinewidth\": 0, \"ticks\": \"\"}}, \"type\": \"scatterpolar\"}], \"scatterpolargl\": [{\"marker\": {\"colorbar\": {\"outlinewidth\": 0, \"ticks\": \"\"}}, \"type\": \"scatterpolargl\"}], \"scatterternary\": [{\"marker\": {\"colorbar\": {\"outlinewidth\": 0, \"ticks\": \"\"}}, \"type\": \"scatterternary\"}], \"surface\": [{\"colorbar\": {\"outlinewidth\": 0, \"ticks\": \"\"}, \"colorscale\": [[0.0, \"#0d0887\"], [0.1111111111111111, \"#46039f\"], [0.2222222222222222, \"#7201a8\"], [0.3333333333333333, \"#9c179e\"], [0.4444444444444444, \"#bd3786\"], [0.5555555555555556, \"#d8576b\"], [0.6666666666666666, \"#ed7953\"], [0.7777777777777778, \"#fb9f3a\"], [0.8888888888888888, \"#fdca26\"], [1.0, \"#f0f921\"]], \"type\": \"surface\"}], \"table\": [{\"cells\": {\"fill\": {\"color\": \"#EBF0F8\"}, \"line\": {\"color\": \"white\"}}, \"header\": {\"fill\": {\"color\": \"#C8D4E3\"}, \"line\": {\"color\": \"white\"}}, \"type\": \"table\"}]}, \"layout\": {\"annotationdefaults\": {\"arrowcolor\": \"#2a3f5f\", \"arrowhead\": 0, \"arrowwidth\": 1}, \"coloraxis\": {\"colorbar\": {\"outlinewidth\": 0, \"ticks\": \"\"}}, \"colorscale\": {\"diverging\": [[0, \"#8e0152\"], [0.1, \"#c51b7d\"], [0.2, \"#de77ae\"], [0.3, \"#f1b6da\"], [0.4, \"#fde0ef\"], [0.5, \"#f7f7f7\"], [0.6, \"#e6f5d0\"], [0.7, \"#b8e186\"], [0.8, \"#7fbc41\"], [0.9, \"#4d9221\"], [1, \"#276419\"]], \"sequential\": [[0.0, \"#0d0887\"], [0.1111111111111111, \"#46039f\"], [0.2222222222222222, \"#7201a8\"], [0.3333333333333333, \"#9c179e\"], [0.4444444444444444, \"#bd3786\"], [0.5555555555555556, \"#d8576b\"], [0.6666666666666666, \"#ed7953\"], [0.7777777777777778, \"#fb9f3a\"], [0.8888888888888888, \"#fdca26\"], [1.0, \"#f0f921\"]], \"sequentialminus\": [[0.0, \"#0d0887\"], [0.1111111111111111, \"#46039f\"], [0.2222222222222222, \"#7201a8\"], [0.3333333333333333, \"#9c179e\"], [0.4444444444444444, \"#bd3786\"], [0.5555555555555556, \"#d8576b\"], [0.6666666666666666, \"#ed7953\"], [0.7777777777777778, \"#fb9f3a\"], [0.8888888888888888, \"#fdca26\"], [1.0, \"#f0f921\"]]}, \"colorway\": [\"#636efa\", \"#EF553B\", \"#00cc96\", \"#ab63fa\", \"#FFA15A\", \"#19d3f3\", \"#FF6692\", \"#B6E880\", \"#FF97FF\", \"#FECB52\"], \"font\": {\"color\": \"#2a3f5f\"}, \"geo\": {\"bgcolor\": \"white\", \"lakecolor\": \"white\", \"landcolor\": \"#E5ECF6\", \"showlakes\": true, \"showland\": true, \"subunitcolor\": \"white\"}, \"hoverlabel\": {\"align\": \"left\"}, \"hovermode\": \"closest\", \"mapbox\": {\"style\": \"light\"}, \"paper_bgcolor\": \"white\", \"plot_bgcolor\": \"#E5ECF6\", \"polar\": {\"angularaxis\": {\"gridcolor\": \"white\", \"linecolor\": \"white\", \"ticks\": \"\"}, \"bgcolor\": \"#E5ECF6\", \"radialaxis\": {\"gridcolor\": \"white\", \"linecolor\": \"white\", \"ticks\": \"\"}}, \"scene\": {\"xaxis\": {\"backgroundcolor\": \"#E5ECF6\", \"gridcolor\": \"white\", \"gridwidth\": 2, \"linecolor\": \"white\", \"showbackground\": true, \"ticks\": \"\", \"zerolinecolor\": \"white\"}, \"yaxis\": {\"backgroundcolor\": \"#E5ECF6\", \"gridcolor\": \"white\", \"gridwidth\": 2, \"linecolor\": \"white\", \"showbackground\": true, \"ticks\": \"\", \"zerolinecolor\": \"white\"}, \"zaxis\": {\"backgroundcolor\": \"#E5ECF6\", \"gridcolor\": \"white\", \"gridwidth\": 2, \"linecolor\": \"white\", \"showbackground\": true, \"ticks\": \"\", \"zerolinecolor\": \"white\"}}, \"shapedefaults\": {\"line\": {\"color\": \"#2a3f5f\"}}, \"ternary\": {\"aaxis\": {\"gridcolor\": \"white\", \"linecolor\": \"white\", \"ticks\": \"\"}, \"baxis\": {\"gridcolor\": \"white\", \"linecolor\": \"white\", \"ticks\": \"\"}, \"bgcolor\": \"#E5ECF6\", \"caxis\": {\"gridcolor\": \"white\", \"linecolor\": \"white\", \"ticks\": \"\"}}, \"title\": {\"x\": 0.05}, \"xaxis\": {\"automargin\": true, \"gridcolor\": \"white\", \"linecolor\": \"white\", \"ticks\": \"\", \"title\": {\"standoff\": 15}, \"zerolinecolor\": \"white\", \"zerolinewidth\": 2}, \"yaxis\": {\"automargin\": true, \"gridcolor\": \"white\", \"linecolor\": \"white\", \"ticks\": \"\", \"title\": {\"standoff\": 15}, \"zerolinecolor\": \"white\", \"zerolinewidth\": 2}}}, \"title\": {\"font\": {\"color\": \"#4D5663\"}}, \"xaxis\": {\"gridcolor\": \"#E1E5ED\", \"showgrid\": true, \"tickfont\": {\"color\": \"#4D5663\"}, \"title\": {\"font\": {\"color\": \"#4D5663\"}, \"text\": \"\"}, \"zerolinecolor\": \"#E1E5ED\"}, \"yaxis\": {\"gridcolor\": \"#E1E5ED\", \"showgrid\": true, \"tickfont\": {\"color\": \"#4D5663\"}, \"title\": {\"font\": {\"color\": \"#4D5663\"}, \"text\": \"\"}, \"zerolinecolor\": \"#E1E5ED\"}},\n",
       "                        {\"showLink\": true, \"linkText\": \"Export to plot.ly\", \"plotlyServerURL\": \"https://plot.ly\", \"responsive\": true}\n",
       "                    ).then(function(){\n",
       "                            \n",
       "var gd = document.getElementById('e639f027-3db2-4494-bb7c-4b80bbb18519');\n",
       "var x = new MutationObserver(function (mutations, observer) {{\n",
       "        var display = window.getComputedStyle(gd).display;\n",
       "        if (!display || display === 'none') {{\n",
       "            console.log([gd, 'removed!']);\n",
       "            Plotly.purge(gd);\n",
       "            observer.disconnect();\n",
       "        }}\n",
       "}});\n",
       "\n",
       "// Listen for the removal of the full notebook cells\n",
       "var notebookContainer = gd.closest('#notebook-container');\n",
       "if (notebookContainer) {{\n",
       "    x.observe(notebookContainer, {childList: true});\n",
       "}}\n",
       "\n",
       "// Listen for the clearing of the current output cell\n",
       "var outputEl = gd.closest('.output');\n",
       "if (outputEl) {{\n",
       "    x.observe(outputEl, {childList: true});\n",
       "}}\n",
       "\n",
       "                        })\n",
       "                };\n",
       "                });\n",
       "            </script>\n",
       "        </div>"
      ]
     },
     "metadata": {},
     "output_type": "display_data"
    }
   ],
   "source": [
    "df.iplot(kind='bubble',x='A',y='B',size='C')"
   ]
  },
  {
   "cell_type": "markdown",
   "metadata": {},
   "source": [
    "## scatter_matrix()\n",
    "\n",
    "Similar to sns.pairplot()"
   ]
  },
  {
   "cell_type": "code",
   "execution_count": 19,
   "metadata": {},
   "outputs": [
    {
     "data": {
      "application/vnd.plotly.v1+json": {
       "config": {
        "linkText": "Export to plot.ly",
        "plotlyServerURL": "https://plot.ly",
        "showLink": true
       },
       "data": [
        {
         "histfunc": "count",
         "histnorm": "",
         "marker": {
          "color": "rgba(255, 153, 51, 1.0)",
          "line": {
           "color": "#4D5663",
           "width": 1.3
          }
         },
         "name": "A",
         "nbinsx": 10,
         "opacity": 0.8,
         "orientation": "v",
         "type": "histogram",
         "x": [
          1.4057168758225187,
          0.09635109794516898,
          -0.8075775662482514,
          1.85671902279818,
          1.3564610889782882,
          -1.0665015699326987,
          -0.3215134793832769,
          2.2006939363165583,
          -0.0642731305817795,
          -0.06722249427021736,
          -0.7606245671921829,
          -0.011501944221071154,
          0.41632838029502583,
          0.08283379610948835,
          0.6973631246869717,
          1.3319206881954702,
          1.0618863974579766,
          -1.032164232081873,
          0.08631207258907114,
          -0.8749170327076585,
          0.9561424070698766,
          2.0812454986913953,
          0.013611597742900088,
          2.010755001659486,
          -0.3840367437614046,
          -0.48611375514496025,
          -1.0010787717614296,
          -0.7111060970108366,
          -0.88155225575621,
          -0.7912570519536614,
          -0.8482443659483541,
          0.009417046372797853,
          -0.6613874723923325,
          -0.43179805587229253,
          -1.1868260308228515,
          -1.3010165341303017,
          1.0793955367330281,
          -1.21888688132927,
          1.7860641751165047,
          0.799656633173967,
          -0.5334780327036241,
          -1.209424809475077,
          -1.1424053312617162,
          1.2579717508561836,
          -2.0605485025033214,
          0.13710078395039346,
          -0.5916349564207652,
          0.3029899541504856,
          -0.22663502770322,
          -0.5804854045400992,
          -1.9025506699911556,
          0.11876147332063057,
          0.9257965150343771,
          -0.18073318129062516,
          1.5055537662684682,
          -0.8089910678807307,
          -0.11721228265202219,
          -0.5997238871075966,
          -1.142021786149684,
          0.09936348427841284,
          1.4931562081498957,
          -1.5547024729001584,
          0.5910489953515512,
          -0.059929917251002024,
          1.0696616107968673,
          0.8021825757324219,
          1.439330784471317,
          -0.6110907124127478,
          1.0024882398083432,
          -1.7022888335987154,
          0.05188306699545878,
          1.7097829525296082,
          -1.5080847746237727,
          0.6911601517780541,
          -1.0036454775392192,
          0.8135518250358234,
          -0.9300649797636137,
          -0.21514900583841184,
          0.7078344365890838,
          0.04089091390206245,
          0.10570034421779602,
          2.615277534759449,
          -0.3407781816207968,
          -0.7062667539668542,
          0.7414974982831658,
          -0.9158253246310815,
          -0.4412896880881209,
          1.5879126191662924,
          0.0021807237198163483,
          0.4941846844869749,
          0.7951021730994977,
          -0.9137616880373952,
          -1.9780362146807235,
          -0.7076722808592804,
          -1.8884123353793303,
          0.7626559205689569,
          -1.6959998148682438,
          0.07953368201121154,
          0.7781058966122304,
          1.27600917408759
         ],
         "xaxis": "x",
         "yaxis": "y"
        },
        {
         "line": {
          "color": "rgba(128, 128, 128, 1.0)",
          "dash": "solid",
          "shape": "linear",
          "width": 1.3
         },
         "marker": {
          "size": 2,
          "symbol": "circle"
         },
         "mode": "markers",
         "name": "A",
         "text": "",
         "type": "scatter",
         "x": [
          1.3805021359727088,
          0.6876562345194515,
          1.744426205438441,
          1.3482770883045914,
          -0.634248067300063,
          -0.034294271166742524,
          0.08697205812033731,
          0.18165054261005958,
          -0.4947130519966682,
          1.1926577197445511,
          -0.20717482602811665,
          -2.5133130507450065,
          0.5849565071647904,
          -1.1419275913432483,
          -1.0989250107348194,
          -0.7187949424743807,
          -0.4925908219897006,
          -0.8053500686902227,
          1.3214954358061495,
          0.650458182102288,
          0.7831813622092171,
          0.07498582897569142,
          0.6523450877465203,
          -0.5783833322107474,
          0.31063691916746256,
          0.5339759772715772,
          -0.9341694521216017,
          0.1636579101222258,
          0.7914756036817695,
          0.14946115975322116,
          1.655598160883892,
          0.7246961444793382,
          -1.2954830292755444,
          0.9695475826517964,
          -0.2964187051363097,
          2.7033995079178443,
          -0.38178103307087197,
          1.1295086160797756,
          1.527880017753105,
          0.905536015852373,
          0.29805175373631065,
          -0.5754351908083993,
          0.29082064681038583,
          0.7586137695438394,
          1.1349899407660182,
          0.6717992725911085,
          -0.31428779368983534,
          -0.18220919871777175,
          2.1597698090177797,
          -1.419379997025609,
          -0.8461014276372388,
          0.41864875994912204,
          0.8148702380518698,
          0.019606695965507532,
          -1.1837488988129978,
          1.1806831481053504,
          -0.6107919824591864,
          -0.23111979494516535,
          -0.9367596799948575,
          -1.6339807125647547,
          -1.8372441832889166,
          2.5168011421762055,
          -1.5382411271982206,
          0.6254374573450555,
          -0.29144223018409665,
          0.25280094962187494,
          0.9341401560731483,
          0.4593226701114746,
          0.37090012110200604,
          2.5485602361509896,
          -0.2384223669142262,
          -1.4965726279770937,
          -0.9143776712501855,
          0.6240127588983286,
          0.9349261687864068,
          1.1302133290065983,
          -1.9122547142011879,
          2.1612111542650148,
          -1.170401489694811,
          1.4844344274345278,
          0.425068571796391,
          1.0836427308909355,
          -1.2092550831621383,
          -0.05373370286349067,
          -2.329782253481326,
          0.9931882640309181,
          -0.7440493223711631,
          -0.8690298054021338,
          -1.3870236796099518,
          -0.235118566464218,
          -0.804128615713205,
          -2.091537810580936,
          0.566865783198684,
          -1.511924883938343,
          -0.9600094189448816,
          -0.382769475864104,
          -0.43678813895890783,
          1.4503730185316464,
          -1.1598452079499255,
          0.0007072242767753852
         ],
         "xaxis": "x2",
         "y": [
          1.4057168758225187,
          0.09635109794516898,
          -0.8075775662482514,
          1.85671902279818,
          1.3564610889782882,
          -1.0665015699326987,
          -0.3215134793832769,
          2.2006939363165583,
          -0.0642731305817795,
          -0.06722249427021736,
          -0.7606245671921829,
          -0.011501944221071154,
          0.41632838029502583,
          0.08283379610948835,
          0.6973631246869717,
          1.3319206881954702,
          1.0618863974579766,
          -1.032164232081873,
          0.08631207258907114,
          -0.8749170327076585,
          0.9561424070698766,
          2.0812454986913953,
          0.013611597742900088,
          2.010755001659486,
          -0.3840367437614046,
          -0.48611375514496025,
          -1.0010787717614296,
          -0.7111060970108366,
          -0.88155225575621,
          -0.7912570519536614,
          -0.8482443659483541,
          0.009417046372797853,
          -0.6613874723923325,
          -0.43179805587229253,
          -1.1868260308228515,
          -1.3010165341303017,
          1.0793955367330281,
          -1.21888688132927,
          1.7860641751165047,
          0.799656633173967,
          -0.5334780327036241,
          -1.209424809475077,
          -1.1424053312617162,
          1.2579717508561836,
          -2.0605485025033214,
          0.13710078395039346,
          -0.5916349564207652,
          0.3029899541504856,
          -0.22663502770322,
          -0.5804854045400992,
          -1.9025506699911556,
          0.11876147332063057,
          0.9257965150343771,
          -0.18073318129062516,
          1.5055537662684682,
          -0.8089910678807307,
          -0.11721228265202219,
          -0.5997238871075966,
          -1.142021786149684,
          0.09936348427841284,
          1.4931562081498957,
          -1.5547024729001584,
          0.5910489953515512,
          -0.059929917251002024,
          1.0696616107968673,
          0.8021825757324219,
          1.439330784471317,
          -0.6110907124127478,
          1.0024882398083432,
          -1.7022888335987154,
          0.05188306699545878,
          1.7097829525296082,
          -1.5080847746237727,
          0.6911601517780541,
          -1.0036454775392192,
          0.8135518250358234,
          -0.9300649797636137,
          -0.21514900583841184,
          0.7078344365890838,
          0.04089091390206245,
          0.10570034421779602,
          2.615277534759449,
          -0.3407781816207968,
          -0.7062667539668542,
          0.7414974982831658,
          -0.9158253246310815,
          -0.4412896880881209,
          1.5879126191662924,
          0.0021807237198163483,
          0.4941846844869749,
          0.7951021730994977,
          -0.9137616880373952,
          -1.9780362146807235,
          -0.7076722808592804,
          -1.8884123353793303,
          0.7626559205689569,
          -1.6959998148682438,
          0.07953368201121154,
          0.7781058966122304,
          1.27600917408759
         ],
         "yaxis": "y2"
        },
        {
         "line": {
          "color": "rgba(128, 128, 128, 1.0)",
          "dash": "solid",
          "shape": "linear",
          "width": 1.3
         },
         "marker": {
          "size": 2,
          "symbol": "circle"
         },
         "mode": "markers",
         "name": "A",
         "text": "",
         "type": "scatter",
         "x": [
          -1.1315887482993132,
          -1.043249659417771,
          -1.9948531746772895,
          1.795000966257885,
          -0.6439270205764843,
          -0.07599144992076311,
          -0.8620731306430194,
          0.807821347431704,
          0.1645823525494116,
          -0.49705555090732095,
          0.11277695324474271,
          0.13768702694255086,
          -0.49497335135905357,
          -0.37055686394093956,
          0.3462421356520415,
          0.19217855501706763,
          0.6995582206408196,
          -0.37267108482119066,
          1.9162749789438134,
          1.7334988933452553,
          1.251182443212679,
          -1.0327078702757677,
          -1.8831806648318619,
          -0.1731389197012337,
          1.1906164559173318,
          -1.2376436879881365,
          0.5512247370706185,
          -0.7773953390281098,
          -0.2145414159475325,
          0.08160625235528286,
          -0.8013126367632013,
          -0.5169004564348985,
          0.114578057733446,
          0.2629355821748631,
          0.1499105407004821,
          -1.2797422511235341,
          -0.2185907991829561,
          1.5876256028774887,
          1.844734348839343,
          -0.22537037743304106,
          -0.3577178964433195,
          0.2852652075753454,
          -0.7957362488414707,
          0.152228318070937,
          -0.8332063901430532,
          -0.14906978759205242,
          2.033481598612253,
          0.8060825170977222,
          1.5810291360916122,
          1.07858888313611,
          0.2319701751978771,
          -0.1867491497701328,
          -0.7945408640583943,
          -0.9095698226185984,
          0.8251905215614825,
          -0.8567655124673546,
          0.18704912987968247,
          -0.15721637891871143,
          1.2721569476374628,
          -0.19037233012862115,
          -0.96458609763036,
          1.410741547617211,
          -1.451864911072176,
          -0.9675044690625731,
          -0.7917168423644747,
          -1.072796793830219,
          -1.0900923925783632,
          0.9391138095792427,
          1.1763217705881877,
          -0.28819859093464983,
          -0.5828980206044104,
          1.4744624076749038,
          0.03650023059250771,
          0.43319878637361814,
          -0.34457754693362536,
          0.19754823018576603,
          -0.26991096377234675,
          2.6272817860367486,
          0.634965451155606,
          1.7191188241692776,
          -0.3311344208925331,
          0.7573677922867134,
          1.5592178010488686,
          -1.9237045548603335,
          0.4273812145391577,
          -0.9038966093651511,
          1.0095634019675388,
          1.233815706015572,
          -0.5267712715038746,
          -2.1175558308537017,
          -0.6526419662081552,
          -0.4670849734778064,
          -0.7368599515217935,
          -0.6893478170257809,
          -0.20668010608459114,
          -2.405150714008861,
          0.7082636710161015,
          0.4311521595364321,
          -0.07251010714992599,
          -1.7006410114857302
         ],
         "xaxis": "x3",
         "y": [
          1.4057168758225187,
          0.09635109794516898,
          -0.8075775662482514,
          1.85671902279818,
          1.3564610889782882,
          -1.0665015699326987,
          -0.3215134793832769,
          2.2006939363165583,
          -0.0642731305817795,
          -0.06722249427021736,
          -0.7606245671921829,
          -0.011501944221071154,
          0.41632838029502583,
          0.08283379610948835,
          0.6973631246869717,
          1.3319206881954702,
          1.0618863974579766,
          -1.032164232081873,
          0.08631207258907114,
          -0.8749170327076585,
          0.9561424070698766,
          2.0812454986913953,
          0.013611597742900088,
          2.010755001659486,
          -0.3840367437614046,
          -0.48611375514496025,
          -1.0010787717614296,
          -0.7111060970108366,
          -0.88155225575621,
          -0.7912570519536614,
          -0.8482443659483541,
          0.009417046372797853,
          -0.6613874723923325,
          -0.43179805587229253,
          -1.1868260308228515,
          -1.3010165341303017,
          1.0793955367330281,
          -1.21888688132927,
          1.7860641751165047,
          0.799656633173967,
          -0.5334780327036241,
          -1.209424809475077,
          -1.1424053312617162,
          1.2579717508561836,
          -2.0605485025033214,
          0.13710078395039346,
          -0.5916349564207652,
          0.3029899541504856,
          -0.22663502770322,
          -0.5804854045400992,
          -1.9025506699911556,
          0.11876147332063057,
          0.9257965150343771,
          -0.18073318129062516,
          1.5055537662684682,
          -0.8089910678807307,
          -0.11721228265202219,
          -0.5997238871075966,
          -1.142021786149684,
          0.09936348427841284,
          1.4931562081498957,
          -1.5547024729001584,
          0.5910489953515512,
          -0.059929917251002024,
          1.0696616107968673,
          0.8021825757324219,
          1.439330784471317,
          -0.6110907124127478,
          1.0024882398083432,
          -1.7022888335987154,
          0.05188306699545878,
          1.7097829525296082,
          -1.5080847746237727,
          0.6911601517780541,
          -1.0036454775392192,
          0.8135518250358234,
          -0.9300649797636137,
          -0.21514900583841184,
          0.7078344365890838,
          0.04089091390206245,
          0.10570034421779602,
          2.615277534759449,
          -0.3407781816207968,
          -0.7062667539668542,
          0.7414974982831658,
          -0.9158253246310815,
          -0.4412896880881209,
          1.5879126191662924,
          0.0021807237198163483,
          0.4941846844869749,
          0.7951021730994977,
          -0.9137616880373952,
          -1.9780362146807235,
          -0.7076722808592804,
          -1.8884123353793303,
          0.7626559205689569,
          -1.6959998148682438,
          0.07953368201121154,
          0.7781058966122304,
          1.27600917408759
         ],
         "yaxis": "y3"
        },
        {
         "line": {
          "color": "rgba(128, 128, 128, 1.0)",
          "dash": "solid",
          "shape": "linear",
          "width": 1.3
         },
         "marker": {
          "size": 2,
          "symbol": "circle"
         },
         "mode": "markers",
         "name": "A",
         "text": "",
         "type": "scatter",
         "x": [
          -0.07556542121134661,
          -0.8183199405961011,
          1.0334465082732396,
          -0.6227025938080888,
          1.0269451234814744,
          -1.4309440691028066,
          0.33382525333472135,
          -0.5136943526846811,
          -0.5726578044637678,
          -0.054700614757421294,
          0.39304570327098487,
          0.3450187319889111,
          0.37165748052730874,
          -1.8451143641223184,
          -0.4346916643049665,
          0.9695803086428616,
          -1.6238583650473877,
          0.2091847975870636,
          -0.8616799361749952,
          -0.10957913893920151,
          -0.12991941745315264,
          0.6850137018573873,
          1.622744931697246,
          1.5593626147438386,
          -1.723786366407721,
          0.7329715508939461,
          0.39831664748170265,
          0.6686707918578688,
          0.6765077152561568,
          -0.590645496453386,
          0.34677385573121666,
          0.4118791766192136,
          -0.918647297548565,
          -1.3039209080506904,
          0.521566084351569,
          -0.06386809916886285,
          0.1125454802321883,
          0.11329151851463924,
          1.0070843116474493,
          -0.7922136552618687,
          -1.3660056671284202,
          0.3919268139065681,
          -0.331535756662957,
          -0.8667660795218105,
          -1.0656226329031444,
          -1.1487653763192418,
          0.720370537591933,
          1.628532426776231,
          1.4659105244650705,
          0.4536789646423173,
          -0.3997028352902282,
          -0.4198680723019248,
          0.3529676122922959,
          1.3071481008776296,
          0.05960064396185711,
          0.5014756373675243,
          1.6521531412089567,
          -1.241677422272562,
          0.051155118852328846,
          0.08146363202689737,
          -0.5998295036990625,
          0.525297261397527,
          1.1376606438237558,
          0.49111046953841125,
          0.5367638826505009,
          -0.9820432115922464,
          -0.3380444743033437,
          -1.0959616364064138,
          0.14189700880993317,
          1.2256553734534632,
          -0.899445236677122,
          -0.499149874869314,
          -0.2784621153768592,
          -1.784376134711761,
          -0.4050614240095866,
          0.38175326989240105,
          0.1530187742495216,
          -1.8230955543230376,
          0.5210317367175072,
          0.33271912972225115,
          -0.6718359237286943,
          0.05927496248327188,
          -0.9979692802489852,
          -0.6366550887913068,
          -0.8977204330863173,
          -0.009478227360934864,
          1.877269962066179,
          0.10224615885828611,
          -1.10394498962729,
          0.43485342230923235,
          0.6471875563292759,
          -0.9417404984112272,
          1.0126111565103906,
          -0.5197970022115806,
          0.006351587203595149,
          -0.20772290117180742,
          0.9375634333957914,
          0.4581473343766965,
          -0.8169477360465902,
          1.408231237100532
         ],
         "xaxis": "x4",
         "y": [
          1.4057168758225187,
          0.09635109794516898,
          -0.8075775662482514,
          1.85671902279818,
          1.3564610889782882,
          -1.0665015699326987,
          -0.3215134793832769,
          2.2006939363165583,
          -0.0642731305817795,
          -0.06722249427021736,
          -0.7606245671921829,
          -0.011501944221071154,
          0.41632838029502583,
          0.08283379610948835,
          0.6973631246869717,
          1.3319206881954702,
          1.0618863974579766,
          -1.032164232081873,
          0.08631207258907114,
          -0.8749170327076585,
          0.9561424070698766,
          2.0812454986913953,
          0.013611597742900088,
          2.010755001659486,
          -0.3840367437614046,
          -0.48611375514496025,
          -1.0010787717614296,
          -0.7111060970108366,
          -0.88155225575621,
          -0.7912570519536614,
          -0.8482443659483541,
          0.009417046372797853,
          -0.6613874723923325,
          -0.43179805587229253,
          -1.1868260308228515,
          -1.3010165341303017,
          1.0793955367330281,
          -1.21888688132927,
          1.7860641751165047,
          0.799656633173967,
          -0.5334780327036241,
          -1.209424809475077,
          -1.1424053312617162,
          1.2579717508561836,
          -2.0605485025033214,
          0.13710078395039346,
          -0.5916349564207652,
          0.3029899541504856,
          -0.22663502770322,
          -0.5804854045400992,
          -1.9025506699911556,
          0.11876147332063057,
          0.9257965150343771,
          -0.18073318129062516,
          1.5055537662684682,
          -0.8089910678807307,
          -0.11721228265202219,
          -0.5997238871075966,
          -1.142021786149684,
          0.09936348427841284,
          1.4931562081498957,
          -1.5547024729001584,
          0.5910489953515512,
          -0.059929917251002024,
          1.0696616107968673,
          0.8021825757324219,
          1.439330784471317,
          -0.6110907124127478,
          1.0024882398083432,
          -1.7022888335987154,
          0.05188306699545878,
          1.7097829525296082,
          -1.5080847746237727,
          0.6911601517780541,
          -1.0036454775392192,
          0.8135518250358234,
          -0.9300649797636137,
          -0.21514900583841184,
          0.7078344365890838,
          0.04089091390206245,
          0.10570034421779602,
          2.615277534759449,
          -0.3407781816207968,
          -0.7062667539668542,
          0.7414974982831658,
          -0.9158253246310815,
          -0.4412896880881209,
          1.5879126191662924,
          0.0021807237198163483,
          0.4941846844869749,
          0.7951021730994977,
          -0.9137616880373952,
          -1.9780362146807235,
          -0.7076722808592804,
          -1.8884123353793303,
          0.7626559205689569,
          -1.6959998148682438,
          0.07953368201121154,
          0.7781058966122304,
          1.27600917408759
         ],
         "yaxis": "y4"
        },
        {
         "line": {
          "color": "rgba(128, 128, 128, 1.0)",
          "dash": "solid",
          "shape": "linear",
          "width": 1.3
         },
         "marker": {
          "size": 2,
          "symbol": "circle"
         },
         "mode": "markers",
         "name": "B",
         "text": "",
         "type": "scatter",
         "x": [
          1.4057168758225187,
          0.09635109794516898,
          -0.8075775662482514,
          1.85671902279818,
          1.3564610889782882,
          -1.0665015699326987,
          -0.3215134793832769,
          2.2006939363165583,
          -0.0642731305817795,
          -0.06722249427021736,
          -0.7606245671921829,
          -0.011501944221071154,
          0.41632838029502583,
          0.08283379610948835,
          0.6973631246869717,
          1.3319206881954702,
          1.0618863974579766,
          -1.032164232081873,
          0.08631207258907114,
          -0.8749170327076585,
          0.9561424070698766,
          2.0812454986913953,
          0.013611597742900088,
          2.010755001659486,
          -0.3840367437614046,
          -0.48611375514496025,
          -1.0010787717614296,
          -0.7111060970108366,
          -0.88155225575621,
          -0.7912570519536614,
          -0.8482443659483541,
          0.009417046372797853,
          -0.6613874723923325,
          -0.43179805587229253,
          -1.1868260308228515,
          -1.3010165341303017,
          1.0793955367330281,
          -1.21888688132927,
          1.7860641751165047,
          0.799656633173967,
          -0.5334780327036241,
          -1.209424809475077,
          -1.1424053312617162,
          1.2579717508561836,
          -2.0605485025033214,
          0.13710078395039346,
          -0.5916349564207652,
          0.3029899541504856,
          -0.22663502770322,
          -0.5804854045400992,
          -1.9025506699911556,
          0.11876147332063057,
          0.9257965150343771,
          -0.18073318129062516,
          1.5055537662684682,
          -0.8089910678807307,
          -0.11721228265202219,
          -0.5997238871075966,
          -1.142021786149684,
          0.09936348427841284,
          1.4931562081498957,
          -1.5547024729001584,
          0.5910489953515512,
          -0.059929917251002024,
          1.0696616107968673,
          0.8021825757324219,
          1.439330784471317,
          -0.6110907124127478,
          1.0024882398083432,
          -1.7022888335987154,
          0.05188306699545878,
          1.7097829525296082,
          -1.5080847746237727,
          0.6911601517780541,
          -1.0036454775392192,
          0.8135518250358234,
          -0.9300649797636137,
          -0.21514900583841184,
          0.7078344365890838,
          0.04089091390206245,
          0.10570034421779602,
          2.615277534759449,
          -0.3407781816207968,
          -0.7062667539668542,
          0.7414974982831658,
          -0.9158253246310815,
          -0.4412896880881209,
          1.5879126191662924,
          0.0021807237198163483,
          0.4941846844869749,
          0.7951021730994977,
          -0.9137616880373952,
          -1.9780362146807235,
          -0.7076722808592804,
          -1.8884123353793303,
          0.7626559205689569,
          -1.6959998148682438,
          0.07953368201121154,
          0.7781058966122304,
          1.27600917408759
         ],
         "xaxis": "x5",
         "y": [
          1.3805021359727088,
          0.6876562345194515,
          1.744426205438441,
          1.3482770883045914,
          -0.634248067300063,
          -0.034294271166742524,
          0.08697205812033731,
          0.18165054261005958,
          -0.4947130519966682,
          1.1926577197445511,
          -0.20717482602811665,
          -2.5133130507450065,
          0.5849565071647904,
          -1.1419275913432483,
          -1.0989250107348194,
          -0.7187949424743807,
          -0.4925908219897006,
          -0.8053500686902227,
          1.3214954358061495,
          0.650458182102288,
          0.7831813622092171,
          0.07498582897569142,
          0.6523450877465203,
          -0.5783833322107474,
          0.31063691916746256,
          0.5339759772715772,
          -0.9341694521216017,
          0.1636579101222258,
          0.7914756036817695,
          0.14946115975322116,
          1.655598160883892,
          0.7246961444793382,
          -1.2954830292755444,
          0.9695475826517964,
          -0.2964187051363097,
          2.7033995079178443,
          -0.38178103307087197,
          1.1295086160797756,
          1.527880017753105,
          0.905536015852373,
          0.29805175373631065,
          -0.5754351908083993,
          0.29082064681038583,
          0.7586137695438394,
          1.1349899407660182,
          0.6717992725911085,
          -0.31428779368983534,
          -0.18220919871777175,
          2.1597698090177797,
          -1.419379997025609,
          -0.8461014276372388,
          0.41864875994912204,
          0.8148702380518698,
          0.019606695965507532,
          -1.1837488988129978,
          1.1806831481053504,
          -0.6107919824591864,
          -0.23111979494516535,
          -0.9367596799948575,
          -1.6339807125647547,
          -1.8372441832889166,
          2.5168011421762055,
          -1.5382411271982206,
          0.6254374573450555,
          -0.29144223018409665,
          0.25280094962187494,
          0.9341401560731483,
          0.4593226701114746,
          0.37090012110200604,
          2.5485602361509896,
          -0.2384223669142262,
          -1.4965726279770937,
          -0.9143776712501855,
          0.6240127588983286,
          0.9349261687864068,
          1.1302133290065983,
          -1.9122547142011879,
          2.1612111542650148,
          -1.170401489694811,
          1.4844344274345278,
          0.425068571796391,
          1.0836427308909355,
          -1.2092550831621383,
          -0.05373370286349067,
          -2.329782253481326,
          0.9931882640309181,
          -0.7440493223711631,
          -0.8690298054021338,
          -1.3870236796099518,
          -0.235118566464218,
          -0.804128615713205,
          -2.091537810580936,
          0.566865783198684,
          -1.511924883938343,
          -0.9600094189448816,
          -0.382769475864104,
          -0.43678813895890783,
          1.4503730185316464,
          -1.1598452079499255,
          0.0007072242767753852
         ],
         "yaxis": "y5"
        },
        {
         "histfunc": "count",
         "histnorm": "",
         "marker": {
          "color": "rgba(55, 128, 191, 1.0)",
          "line": {
           "color": "#4D5663",
           "width": 1.3
          }
         },
         "name": "B",
         "nbinsx": 10,
         "opacity": 0.8,
         "orientation": "v",
         "type": "histogram",
         "x": [
          1.3805021359727088,
          0.6876562345194515,
          1.744426205438441,
          1.3482770883045914,
          -0.634248067300063,
          -0.034294271166742524,
          0.08697205812033731,
          0.18165054261005958,
          -0.4947130519966682,
          1.1926577197445511,
          -0.20717482602811665,
          -2.5133130507450065,
          0.5849565071647904,
          -1.1419275913432483,
          -1.0989250107348194,
          -0.7187949424743807,
          -0.4925908219897006,
          -0.8053500686902227,
          1.3214954358061495,
          0.650458182102288,
          0.7831813622092171,
          0.07498582897569142,
          0.6523450877465203,
          -0.5783833322107474,
          0.31063691916746256,
          0.5339759772715772,
          -0.9341694521216017,
          0.1636579101222258,
          0.7914756036817695,
          0.14946115975322116,
          1.655598160883892,
          0.7246961444793382,
          -1.2954830292755444,
          0.9695475826517964,
          -0.2964187051363097,
          2.7033995079178443,
          -0.38178103307087197,
          1.1295086160797756,
          1.527880017753105,
          0.905536015852373,
          0.29805175373631065,
          -0.5754351908083993,
          0.29082064681038583,
          0.7586137695438394,
          1.1349899407660182,
          0.6717992725911085,
          -0.31428779368983534,
          -0.18220919871777175,
          2.1597698090177797,
          -1.419379997025609,
          -0.8461014276372388,
          0.41864875994912204,
          0.8148702380518698,
          0.019606695965507532,
          -1.1837488988129978,
          1.1806831481053504,
          -0.6107919824591864,
          -0.23111979494516535,
          -0.9367596799948575,
          -1.6339807125647547,
          -1.8372441832889166,
          2.5168011421762055,
          -1.5382411271982206,
          0.6254374573450555,
          -0.29144223018409665,
          0.25280094962187494,
          0.9341401560731483,
          0.4593226701114746,
          0.37090012110200604,
          2.5485602361509896,
          -0.2384223669142262,
          -1.4965726279770937,
          -0.9143776712501855,
          0.6240127588983286,
          0.9349261687864068,
          1.1302133290065983,
          -1.9122547142011879,
          2.1612111542650148,
          -1.170401489694811,
          1.4844344274345278,
          0.425068571796391,
          1.0836427308909355,
          -1.2092550831621383,
          -0.05373370286349067,
          -2.329782253481326,
          0.9931882640309181,
          -0.7440493223711631,
          -0.8690298054021338,
          -1.3870236796099518,
          -0.235118566464218,
          -0.804128615713205,
          -2.091537810580936,
          0.566865783198684,
          -1.511924883938343,
          -0.9600094189448816,
          -0.382769475864104,
          -0.43678813895890783,
          1.4503730185316464,
          -1.1598452079499255,
          0.0007072242767753852
         ],
         "xaxis": "x6",
         "yaxis": "y6"
        },
        {
         "line": {
          "color": "rgba(128, 128, 128, 1.0)",
          "dash": "solid",
          "shape": "linear",
          "width": 1.3
         },
         "marker": {
          "size": 2,
          "symbol": "circle"
         },
         "mode": "markers",
         "name": "B",
         "text": "",
         "type": "scatter",
         "x": [
          -1.1315887482993132,
          -1.043249659417771,
          -1.9948531746772895,
          1.795000966257885,
          -0.6439270205764843,
          -0.07599144992076311,
          -0.8620731306430194,
          0.807821347431704,
          0.1645823525494116,
          -0.49705555090732095,
          0.11277695324474271,
          0.13768702694255086,
          -0.49497335135905357,
          -0.37055686394093956,
          0.3462421356520415,
          0.19217855501706763,
          0.6995582206408196,
          -0.37267108482119066,
          1.9162749789438134,
          1.7334988933452553,
          1.251182443212679,
          -1.0327078702757677,
          -1.8831806648318619,
          -0.1731389197012337,
          1.1906164559173318,
          -1.2376436879881365,
          0.5512247370706185,
          -0.7773953390281098,
          -0.2145414159475325,
          0.08160625235528286,
          -0.8013126367632013,
          -0.5169004564348985,
          0.114578057733446,
          0.2629355821748631,
          0.1499105407004821,
          -1.2797422511235341,
          -0.2185907991829561,
          1.5876256028774887,
          1.844734348839343,
          -0.22537037743304106,
          -0.3577178964433195,
          0.2852652075753454,
          -0.7957362488414707,
          0.152228318070937,
          -0.8332063901430532,
          -0.14906978759205242,
          2.033481598612253,
          0.8060825170977222,
          1.5810291360916122,
          1.07858888313611,
          0.2319701751978771,
          -0.1867491497701328,
          -0.7945408640583943,
          -0.9095698226185984,
          0.8251905215614825,
          -0.8567655124673546,
          0.18704912987968247,
          -0.15721637891871143,
          1.2721569476374628,
          -0.19037233012862115,
          -0.96458609763036,
          1.410741547617211,
          -1.451864911072176,
          -0.9675044690625731,
          -0.7917168423644747,
          -1.072796793830219,
          -1.0900923925783632,
          0.9391138095792427,
          1.1763217705881877,
          -0.28819859093464983,
          -0.5828980206044104,
          1.4744624076749038,
          0.03650023059250771,
          0.43319878637361814,
          -0.34457754693362536,
          0.19754823018576603,
          -0.26991096377234675,
          2.6272817860367486,
          0.634965451155606,
          1.7191188241692776,
          -0.3311344208925331,
          0.7573677922867134,
          1.5592178010488686,
          -1.9237045548603335,
          0.4273812145391577,
          -0.9038966093651511,
          1.0095634019675388,
          1.233815706015572,
          -0.5267712715038746,
          -2.1175558308537017,
          -0.6526419662081552,
          -0.4670849734778064,
          -0.7368599515217935,
          -0.6893478170257809,
          -0.20668010608459114,
          -2.405150714008861,
          0.7082636710161015,
          0.4311521595364321,
          -0.07251010714992599,
          -1.7006410114857302
         ],
         "xaxis": "x7",
         "y": [
          1.3805021359727088,
          0.6876562345194515,
          1.744426205438441,
          1.3482770883045914,
          -0.634248067300063,
          -0.034294271166742524,
          0.08697205812033731,
          0.18165054261005958,
          -0.4947130519966682,
          1.1926577197445511,
          -0.20717482602811665,
          -2.5133130507450065,
          0.5849565071647904,
          -1.1419275913432483,
          -1.0989250107348194,
          -0.7187949424743807,
          -0.4925908219897006,
          -0.8053500686902227,
          1.3214954358061495,
          0.650458182102288,
          0.7831813622092171,
          0.07498582897569142,
          0.6523450877465203,
          -0.5783833322107474,
          0.31063691916746256,
          0.5339759772715772,
          -0.9341694521216017,
          0.1636579101222258,
          0.7914756036817695,
          0.14946115975322116,
          1.655598160883892,
          0.7246961444793382,
          -1.2954830292755444,
          0.9695475826517964,
          -0.2964187051363097,
          2.7033995079178443,
          -0.38178103307087197,
          1.1295086160797756,
          1.527880017753105,
          0.905536015852373,
          0.29805175373631065,
          -0.5754351908083993,
          0.29082064681038583,
          0.7586137695438394,
          1.1349899407660182,
          0.6717992725911085,
          -0.31428779368983534,
          -0.18220919871777175,
          2.1597698090177797,
          -1.419379997025609,
          -0.8461014276372388,
          0.41864875994912204,
          0.8148702380518698,
          0.019606695965507532,
          -1.1837488988129978,
          1.1806831481053504,
          -0.6107919824591864,
          -0.23111979494516535,
          -0.9367596799948575,
          -1.6339807125647547,
          -1.8372441832889166,
          2.5168011421762055,
          -1.5382411271982206,
          0.6254374573450555,
          -0.29144223018409665,
          0.25280094962187494,
          0.9341401560731483,
          0.4593226701114746,
          0.37090012110200604,
          2.5485602361509896,
          -0.2384223669142262,
          -1.4965726279770937,
          -0.9143776712501855,
          0.6240127588983286,
          0.9349261687864068,
          1.1302133290065983,
          -1.9122547142011879,
          2.1612111542650148,
          -1.170401489694811,
          1.4844344274345278,
          0.425068571796391,
          1.0836427308909355,
          -1.2092550831621383,
          -0.05373370286349067,
          -2.329782253481326,
          0.9931882640309181,
          -0.7440493223711631,
          -0.8690298054021338,
          -1.3870236796099518,
          -0.235118566464218,
          -0.804128615713205,
          -2.091537810580936,
          0.566865783198684,
          -1.511924883938343,
          -0.9600094189448816,
          -0.382769475864104,
          -0.43678813895890783,
          1.4503730185316464,
          -1.1598452079499255,
          0.0007072242767753852
         ],
         "yaxis": "y7"
        },
        {
         "line": {
          "color": "rgba(128, 128, 128, 1.0)",
          "dash": "solid",
          "shape": "linear",
          "width": 1.3
         },
         "marker": {
          "size": 2,
          "symbol": "circle"
         },
         "mode": "markers",
         "name": "B",
         "text": "",
         "type": "scatter",
         "x": [
          -0.07556542121134661,
          -0.8183199405961011,
          1.0334465082732396,
          -0.6227025938080888,
          1.0269451234814744,
          -1.4309440691028066,
          0.33382525333472135,
          -0.5136943526846811,
          -0.5726578044637678,
          -0.054700614757421294,
          0.39304570327098487,
          0.3450187319889111,
          0.37165748052730874,
          -1.8451143641223184,
          -0.4346916643049665,
          0.9695803086428616,
          -1.6238583650473877,
          0.2091847975870636,
          -0.8616799361749952,
          -0.10957913893920151,
          -0.12991941745315264,
          0.6850137018573873,
          1.622744931697246,
          1.5593626147438386,
          -1.723786366407721,
          0.7329715508939461,
          0.39831664748170265,
          0.6686707918578688,
          0.6765077152561568,
          -0.590645496453386,
          0.34677385573121666,
          0.4118791766192136,
          -0.918647297548565,
          -1.3039209080506904,
          0.521566084351569,
          -0.06386809916886285,
          0.1125454802321883,
          0.11329151851463924,
          1.0070843116474493,
          -0.7922136552618687,
          -1.3660056671284202,
          0.3919268139065681,
          -0.331535756662957,
          -0.8667660795218105,
          -1.0656226329031444,
          -1.1487653763192418,
          0.720370537591933,
          1.628532426776231,
          1.4659105244650705,
          0.4536789646423173,
          -0.3997028352902282,
          -0.4198680723019248,
          0.3529676122922959,
          1.3071481008776296,
          0.05960064396185711,
          0.5014756373675243,
          1.6521531412089567,
          -1.241677422272562,
          0.051155118852328846,
          0.08146363202689737,
          -0.5998295036990625,
          0.525297261397527,
          1.1376606438237558,
          0.49111046953841125,
          0.5367638826505009,
          -0.9820432115922464,
          -0.3380444743033437,
          -1.0959616364064138,
          0.14189700880993317,
          1.2256553734534632,
          -0.899445236677122,
          -0.499149874869314,
          -0.2784621153768592,
          -1.784376134711761,
          -0.4050614240095866,
          0.38175326989240105,
          0.1530187742495216,
          -1.8230955543230376,
          0.5210317367175072,
          0.33271912972225115,
          -0.6718359237286943,
          0.05927496248327188,
          -0.9979692802489852,
          -0.6366550887913068,
          -0.8977204330863173,
          -0.009478227360934864,
          1.877269962066179,
          0.10224615885828611,
          -1.10394498962729,
          0.43485342230923235,
          0.6471875563292759,
          -0.9417404984112272,
          1.0126111565103906,
          -0.5197970022115806,
          0.006351587203595149,
          -0.20772290117180742,
          0.9375634333957914,
          0.4581473343766965,
          -0.8169477360465902,
          1.408231237100532
         ],
         "xaxis": "x8",
         "y": [
          1.3805021359727088,
          0.6876562345194515,
          1.744426205438441,
          1.3482770883045914,
          -0.634248067300063,
          -0.034294271166742524,
          0.08697205812033731,
          0.18165054261005958,
          -0.4947130519966682,
          1.1926577197445511,
          -0.20717482602811665,
          -2.5133130507450065,
          0.5849565071647904,
          -1.1419275913432483,
          -1.0989250107348194,
          -0.7187949424743807,
          -0.4925908219897006,
          -0.8053500686902227,
          1.3214954358061495,
          0.650458182102288,
          0.7831813622092171,
          0.07498582897569142,
          0.6523450877465203,
          -0.5783833322107474,
          0.31063691916746256,
          0.5339759772715772,
          -0.9341694521216017,
          0.1636579101222258,
          0.7914756036817695,
          0.14946115975322116,
          1.655598160883892,
          0.7246961444793382,
          -1.2954830292755444,
          0.9695475826517964,
          -0.2964187051363097,
          2.7033995079178443,
          -0.38178103307087197,
          1.1295086160797756,
          1.527880017753105,
          0.905536015852373,
          0.29805175373631065,
          -0.5754351908083993,
          0.29082064681038583,
          0.7586137695438394,
          1.1349899407660182,
          0.6717992725911085,
          -0.31428779368983534,
          -0.18220919871777175,
          2.1597698090177797,
          -1.419379997025609,
          -0.8461014276372388,
          0.41864875994912204,
          0.8148702380518698,
          0.019606695965507532,
          -1.1837488988129978,
          1.1806831481053504,
          -0.6107919824591864,
          -0.23111979494516535,
          -0.9367596799948575,
          -1.6339807125647547,
          -1.8372441832889166,
          2.5168011421762055,
          -1.5382411271982206,
          0.6254374573450555,
          -0.29144223018409665,
          0.25280094962187494,
          0.9341401560731483,
          0.4593226701114746,
          0.37090012110200604,
          2.5485602361509896,
          -0.2384223669142262,
          -1.4965726279770937,
          -0.9143776712501855,
          0.6240127588983286,
          0.9349261687864068,
          1.1302133290065983,
          -1.9122547142011879,
          2.1612111542650148,
          -1.170401489694811,
          1.4844344274345278,
          0.425068571796391,
          1.0836427308909355,
          -1.2092550831621383,
          -0.05373370286349067,
          -2.329782253481326,
          0.9931882640309181,
          -0.7440493223711631,
          -0.8690298054021338,
          -1.3870236796099518,
          -0.235118566464218,
          -0.804128615713205,
          -2.091537810580936,
          0.566865783198684,
          -1.511924883938343,
          -0.9600094189448816,
          -0.382769475864104,
          -0.43678813895890783,
          1.4503730185316464,
          -1.1598452079499255,
          0.0007072242767753852
         ],
         "yaxis": "y8"
        },
        {
         "line": {
          "color": "rgba(128, 128, 128, 1.0)",
          "dash": "solid",
          "shape": "linear",
          "width": 1.3
         },
         "marker": {
          "size": 2,
          "symbol": "circle"
         },
         "mode": "markers",
         "name": "C",
         "text": "",
         "type": "scatter",
         "x": [
          1.4057168758225187,
          0.09635109794516898,
          -0.8075775662482514,
          1.85671902279818,
          1.3564610889782882,
          -1.0665015699326987,
          -0.3215134793832769,
          2.2006939363165583,
          -0.0642731305817795,
          -0.06722249427021736,
          -0.7606245671921829,
          -0.011501944221071154,
          0.41632838029502583,
          0.08283379610948835,
          0.6973631246869717,
          1.3319206881954702,
          1.0618863974579766,
          -1.032164232081873,
          0.08631207258907114,
          -0.8749170327076585,
          0.9561424070698766,
          2.0812454986913953,
          0.013611597742900088,
          2.010755001659486,
          -0.3840367437614046,
          -0.48611375514496025,
          -1.0010787717614296,
          -0.7111060970108366,
          -0.88155225575621,
          -0.7912570519536614,
          -0.8482443659483541,
          0.009417046372797853,
          -0.6613874723923325,
          -0.43179805587229253,
          -1.1868260308228515,
          -1.3010165341303017,
          1.0793955367330281,
          -1.21888688132927,
          1.7860641751165047,
          0.799656633173967,
          -0.5334780327036241,
          -1.209424809475077,
          -1.1424053312617162,
          1.2579717508561836,
          -2.0605485025033214,
          0.13710078395039346,
          -0.5916349564207652,
          0.3029899541504856,
          -0.22663502770322,
          -0.5804854045400992,
          -1.9025506699911556,
          0.11876147332063057,
          0.9257965150343771,
          -0.18073318129062516,
          1.5055537662684682,
          -0.8089910678807307,
          -0.11721228265202219,
          -0.5997238871075966,
          -1.142021786149684,
          0.09936348427841284,
          1.4931562081498957,
          -1.5547024729001584,
          0.5910489953515512,
          -0.059929917251002024,
          1.0696616107968673,
          0.8021825757324219,
          1.439330784471317,
          -0.6110907124127478,
          1.0024882398083432,
          -1.7022888335987154,
          0.05188306699545878,
          1.7097829525296082,
          -1.5080847746237727,
          0.6911601517780541,
          -1.0036454775392192,
          0.8135518250358234,
          -0.9300649797636137,
          -0.21514900583841184,
          0.7078344365890838,
          0.04089091390206245,
          0.10570034421779602,
          2.615277534759449,
          -0.3407781816207968,
          -0.7062667539668542,
          0.7414974982831658,
          -0.9158253246310815,
          -0.4412896880881209,
          1.5879126191662924,
          0.0021807237198163483,
          0.4941846844869749,
          0.7951021730994977,
          -0.9137616880373952,
          -1.9780362146807235,
          -0.7076722808592804,
          -1.8884123353793303,
          0.7626559205689569,
          -1.6959998148682438,
          0.07953368201121154,
          0.7781058966122304,
          1.27600917408759
         ],
         "xaxis": "x9",
         "y": [
          -1.1315887482993132,
          -1.043249659417771,
          -1.9948531746772895,
          1.795000966257885,
          -0.6439270205764843,
          -0.07599144992076311,
          -0.8620731306430194,
          0.807821347431704,
          0.1645823525494116,
          -0.49705555090732095,
          0.11277695324474271,
          0.13768702694255086,
          -0.49497335135905357,
          -0.37055686394093956,
          0.3462421356520415,
          0.19217855501706763,
          0.6995582206408196,
          -0.37267108482119066,
          1.9162749789438134,
          1.7334988933452553,
          1.251182443212679,
          -1.0327078702757677,
          -1.8831806648318619,
          -0.1731389197012337,
          1.1906164559173318,
          -1.2376436879881365,
          0.5512247370706185,
          -0.7773953390281098,
          -0.2145414159475325,
          0.08160625235528286,
          -0.8013126367632013,
          -0.5169004564348985,
          0.114578057733446,
          0.2629355821748631,
          0.1499105407004821,
          -1.2797422511235341,
          -0.2185907991829561,
          1.5876256028774887,
          1.844734348839343,
          -0.22537037743304106,
          -0.3577178964433195,
          0.2852652075753454,
          -0.7957362488414707,
          0.152228318070937,
          -0.8332063901430532,
          -0.14906978759205242,
          2.033481598612253,
          0.8060825170977222,
          1.5810291360916122,
          1.07858888313611,
          0.2319701751978771,
          -0.1867491497701328,
          -0.7945408640583943,
          -0.9095698226185984,
          0.8251905215614825,
          -0.8567655124673546,
          0.18704912987968247,
          -0.15721637891871143,
          1.2721569476374628,
          -0.19037233012862115,
          -0.96458609763036,
          1.410741547617211,
          -1.451864911072176,
          -0.9675044690625731,
          -0.7917168423644747,
          -1.072796793830219,
          -1.0900923925783632,
          0.9391138095792427,
          1.1763217705881877,
          -0.28819859093464983,
          -0.5828980206044104,
          1.4744624076749038,
          0.03650023059250771,
          0.43319878637361814,
          -0.34457754693362536,
          0.19754823018576603,
          -0.26991096377234675,
          2.6272817860367486,
          0.634965451155606,
          1.7191188241692776,
          -0.3311344208925331,
          0.7573677922867134,
          1.5592178010488686,
          -1.9237045548603335,
          0.4273812145391577,
          -0.9038966093651511,
          1.0095634019675388,
          1.233815706015572,
          -0.5267712715038746,
          -2.1175558308537017,
          -0.6526419662081552,
          -0.4670849734778064,
          -0.7368599515217935,
          -0.6893478170257809,
          -0.20668010608459114,
          -2.405150714008861,
          0.7082636710161015,
          0.4311521595364321,
          -0.07251010714992599,
          -1.7006410114857302
         ],
         "yaxis": "y9"
        },
        {
         "line": {
          "color": "rgba(128, 128, 128, 1.0)",
          "dash": "solid",
          "shape": "linear",
          "width": 1.3
         },
         "marker": {
          "size": 2,
          "symbol": "circle"
         },
         "mode": "markers",
         "name": "C",
         "text": "",
         "type": "scatter",
         "x": [
          1.3805021359727088,
          0.6876562345194515,
          1.744426205438441,
          1.3482770883045914,
          -0.634248067300063,
          -0.034294271166742524,
          0.08697205812033731,
          0.18165054261005958,
          -0.4947130519966682,
          1.1926577197445511,
          -0.20717482602811665,
          -2.5133130507450065,
          0.5849565071647904,
          -1.1419275913432483,
          -1.0989250107348194,
          -0.7187949424743807,
          -0.4925908219897006,
          -0.8053500686902227,
          1.3214954358061495,
          0.650458182102288,
          0.7831813622092171,
          0.07498582897569142,
          0.6523450877465203,
          -0.5783833322107474,
          0.31063691916746256,
          0.5339759772715772,
          -0.9341694521216017,
          0.1636579101222258,
          0.7914756036817695,
          0.14946115975322116,
          1.655598160883892,
          0.7246961444793382,
          -1.2954830292755444,
          0.9695475826517964,
          -0.2964187051363097,
          2.7033995079178443,
          -0.38178103307087197,
          1.1295086160797756,
          1.527880017753105,
          0.905536015852373,
          0.29805175373631065,
          -0.5754351908083993,
          0.29082064681038583,
          0.7586137695438394,
          1.1349899407660182,
          0.6717992725911085,
          -0.31428779368983534,
          -0.18220919871777175,
          2.1597698090177797,
          -1.419379997025609,
          -0.8461014276372388,
          0.41864875994912204,
          0.8148702380518698,
          0.019606695965507532,
          -1.1837488988129978,
          1.1806831481053504,
          -0.6107919824591864,
          -0.23111979494516535,
          -0.9367596799948575,
          -1.6339807125647547,
          -1.8372441832889166,
          2.5168011421762055,
          -1.5382411271982206,
          0.6254374573450555,
          -0.29144223018409665,
          0.25280094962187494,
          0.9341401560731483,
          0.4593226701114746,
          0.37090012110200604,
          2.5485602361509896,
          -0.2384223669142262,
          -1.4965726279770937,
          -0.9143776712501855,
          0.6240127588983286,
          0.9349261687864068,
          1.1302133290065983,
          -1.9122547142011879,
          2.1612111542650148,
          -1.170401489694811,
          1.4844344274345278,
          0.425068571796391,
          1.0836427308909355,
          -1.2092550831621383,
          -0.05373370286349067,
          -2.329782253481326,
          0.9931882640309181,
          -0.7440493223711631,
          -0.8690298054021338,
          -1.3870236796099518,
          -0.235118566464218,
          -0.804128615713205,
          -2.091537810580936,
          0.566865783198684,
          -1.511924883938343,
          -0.9600094189448816,
          -0.382769475864104,
          -0.43678813895890783,
          1.4503730185316464,
          -1.1598452079499255,
          0.0007072242767753852
         ],
         "xaxis": "x10",
         "y": [
          -1.1315887482993132,
          -1.043249659417771,
          -1.9948531746772895,
          1.795000966257885,
          -0.6439270205764843,
          -0.07599144992076311,
          -0.8620731306430194,
          0.807821347431704,
          0.1645823525494116,
          -0.49705555090732095,
          0.11277695324474271,
          0.13768702694255086,
          -0.49497335135905357,
          -0.37055686394093956,
          0.3462421356520415,
          0.19217855501706763,
          0.6995582206408196,
          -0.37267108482119066,
          1.9162749789438134,
          1.7334988933452553,
          1.251182443212679,
          -1.0327078702757677,
          -1.8831806648318619,
          -0.1731389197012337,
          1.1906164559173318,
          -1.2376436879881365,
          0.5512247370706185,
          -0.7773953390281098,
          -0.2145414159475325,
          0.08160625235528286,
          -0.8013126367632013,
          -0.5169004564348985,
          0.114578057733446,
          0.2629355821748631,
          0.1499105407004821,
          -1.2797422511235341,
          -0.2185907991829561,
          1.5876256028774887,
          1.844734348839343,
          -0.22537037743304106,
          -0.3577178964433195,
          0.2852652075753454,
          -0.7957362488414707,
          0.152228318070937,
          -0.8332063901430532,
          -0.14906978759205242,
          2.033481598612253,
          0.8060825170977222,
          1.5810291360916122,
          1.07858888313611,
          0.2319701751978771,
          -0.1867491497701328,
          -0.7945408640583943,
          -0.9095698226185984,
          0.8251905215614825,
          -0.8567655124673546,
          0.18704912987968247,
          -0.15721637891871143,
          1.2721569476374628,
          -0.19037233012862115,
          -0.96458609763036,
          1.410741547617211,
          -1.451864911072176,
          -0.9675044690625731,
          -0.7917168423644747,
          -1.072796793830219,
          -1.0900923925783632,
          0.9391138095792427,
          1.1763217705881877,
          -0.28819859093464983,
          -0.5828980206044104,
          1.4744624076749038,
          0.03650023059250771,
          0.43319878637361814,
          -0.34457754693362536,
          0.19754823018576603,
          -0.26991096377234675,
          2.6272817860367486,
          0.634965451155606,
          1.7191188241692776,
          -0.3311344208925331,
          0.7573677922867134,
          1.5592178010488686,
          -1.9237045548603335,
          0.4273812145391577,
          -0.9038966093651511,
          1.0095634019675388,
          1.233815706015572,
          -0.5267712715038746,
          -2.1175558308537017,
          -0.6526419662081552,
          -0.4670849734778064,
          -0.7368599515217935,
          -0.6893478170257809,
          -0.20668010608459114,
          -2.405150714008861,
          0.7082636710161015,
          0.4311521595364321,
          -0.07251010714992599,
          -1.7006410114857302
         ],
         "yaxis": "y10"
        },
        {
         "histfunc": "count",
         "histnorm": "",
         "marker": {
          "color": "rgba(50, 171, 96, 1.0)",
          "line": {
           "color": "#4D5663",
           "width": 1.3
          }
         },
         "name": "C",
         "nbinsx": 10,
         "opacity": 0.8,
         "orientation": "v",
         "type": "histogram",
         "x": [
          -1.1315887482993132,
          -1.043249659417771,
          -1.9948531746772895,
          1.795000966257885,
          -0.6439270205764843,
          -0.07599144992076311,
          -0.8620731306430194,
          0.807821347431704,
          0.1645823525494116,
          -0.49705555090732095,
          0.11277695324474271,
          0.13768702694255086,
          -0.49497335135905357,
          -0.37055686394093956,
          0.3462421356520415,
          0.19217855501706763,
          0.6995582206408196,
          -0.37267108482119066,
          1.9162749789438134,
          1.7334988933452553,
          1.251182443212679,
          -1.0327078702757677,
          -1.8831806648318619,
          -0.1731389197012337,
          1.1906164559173318,
          -1.2376436879881365,
          0.5512247370706185,
          -0.7773953390281098,
          -0.2145414159475325,
          0.08160625235528286,
          -0.8013126367632013,
          -0.5169004564348985,
          0.114578057733446,
          0.2629355821748631,
          0.1499105407004821,
          -1.2797422511235341,
          -0.2185907991829561,
          1.5876256028774887,
          1.844734348839343,
          -0.22537037743304106,
          -0.3577178964433195,
          0.2852652075753454,
          -0.7957362488414707,
          0.152228318070937,
          -0.8332063901430532,
          -0.14906978759205242,
          2.033481598612253,
          0.8060825170977222,
          1.5810291360916122,
          1.07858888313611,
          0.2319701751978771,
          -0.1867491497701328,
          -0.7945408640583943,
          -0.9095698226185984,
          0.8251905215614825,
          -0.8567655124673546,
          0.18704912987968247,
          -0.15721637891871143,
          1.2721569476374628,
          -0.19037233012862115,
          -0.96458609763036,
          1.410741547617211,
          -1.451864911072176,
          -0.9675044690625731,
          -0.7917168423644747,
          -1.072796793830219,
          -1.0900923925783632,
          0.9391138095792427,
          1.1763217705881877,
          -0.28819859093464983,
          -0.5828980206044104,
          1.4744624076749038,
          0.03650023059250771,
          0.43319878637361814,
          -0.34457754693362536,
          0.19754823018576603,
          -0.26991096377234675,
          2.6272817860367486,
          0.634965451155606,
          1.7191188241692776,
          -0.3311344208925331,
          0.7573677922867134,
          1.5592178010488686,
          -1.9237045548603335,
          0.4273812145391577,
          -0.9038966093651511,
          1.0095634019675388,
          1.233815706015572,
          -0.5267712715038746,
          -2.1175558308537017,
          -0.6526419662081552,
          -0.4670849734778064,
          -0.7368599515217935,
          -0.6893478170257809,
          -0.20668010608459114,
          -2.405150714008861,
          0.7082636710161015,
          0.4311521595364321,
          -0.07251010714992599,
          -1.7006410114857302
         ],
         "xaxis": "x11",
         "yaxis": "y11"
        },
        {
         "line": {
          "color": "rgba(128, 128, 128, 1.0)",
          "dash": "solid",
          "shape": "linear",
          "width": 1.3
         },
         "marker": {
          "size": 2,
          "symbol": "circle"
         },
         "mode": "markers",
         "name": "C",
         "text": "",
         "type": "scatter",
         "x": [
          -0.07556542121134661,
          -0.8183199405961011,
          1.0334465082732396,
          -0.6227025938080888,
          1.0269451234814744,
          -1.4309440691028066,
          0.33382525333472135,
          -0.5136943526846811,
          -0.5726578044637678,
          -0.054700614757421294,
          0.39304570327098487,
          0.3450187319889111,
          0.37165748052730874,
          -1.8451143641223184,
          -0.4346916643049665,
          0.9695803086428616,
          -1.6238583650473877,
          0.2091847975870636,
          -0.8616799361749952,
          -0.10957913893920151,
          -0.12991941745315264,
          0.6850137018573873,
          1.622744931697246,
          1.5593626147438386,
          -1.723786366407721,
          0.7329715508939461,
          0.39831664748170265,
          0.6686707918578688,
          0.6765077152561568,
          -0.590645496453386,
          0.34677385573121666,
          0.4118791766192136,
          -0.918647297548565,
          -1.3039209080506904,
          0.521566084351569,
          -0.06386809916886285,
          0.1125454802321883,
          0.11329151851463924,
          1.0070843116474493,
          -0.7922136552618687,
          -1.3660056671284202,
          0.3919268139065681,
          -0.331535756662957,
          -0.8667660795218105,
          -1.0656226329031444,
          -1.1487653763192418,
          0.720370537591933,
          1.628532426776231,
          1.4659105244650705,
          0.4536789646423173,
          -0.3997028352902282,
          -0.4198680723019248,
          0.3529676122922959,
          1.3071481008776296,
          0.05960064396185711,
          0.5014756373675243,
          1.6521531412089567,
          -1.241677422272562,
          0.051155118852328846,
          0.08146363202689737,
          -0.5998295036990625,
          0.525297261397527,
          1.1376606438237558,
          0.49111046953841125,
          0.5367638826505009,
          -0.9820432115922464,
          -0.3380444743033437,
          -1.0959616364064138,
          0.14189700880993317,
          1.2256553734534632,
          -0.899445236677122,
          -0.499149874869314,
          -0.2784621153768592,
          -1.784376134711761,
          -0.4050614240095866,
          0.38175326989240105,
          0.1530187742495216,
          -1.8230955543230376,
          0.5210317367175072,
          0.33271912972225115,
          -0.6718359237286943,
          0.05927496248327188,
          -0.9979692802489852,
          -0.6366550887913068,
          -0.8977204330863173,
          -0.009478227360934864,
          1.877269962066179,
          0.10224615885828611,
          -1.10394498962729,
          0.43485342230923235,
          0.6471875563292759,
          -0.9417404984112272,
          1.0126111565103906,
          -0.5197970022115806,
          0.006351587203595149,
          -0.20772290117180742,
          0.9375634333957914,
          0.4581473343766965,
          -0.8169477360465902,
          1.408231237100532
         ],
         "xaxis": "x12",
         "y": [
          -1.1315887482993132,
          -1.043249659417771,
          -1.9948531746772895,
          1.795000966257885,
          -0.6439270205764843,
          -0.07599144992076311,
          -0.8620731306430194,
          0.807821347431704,
          0.1645823525494116,
          -0.49705555090732095,
          0.11277695324474271,
          0.13768702694255086,
          -0.49497335135905357,
          -0.37055686394093956,
          0.3462421356520415,
          0.19217855501706763,
          0.6995582206408196,
          -0.37267108482119066,
          1.9162749789438134,
          1.7334988933452553,
          1.251182443212679,
          -1.0327078702757677,
          -1.8831806648318619,
          -0.1731389197012337,
          1.1906164559173318,
          -1.2376436879881365,
          0.5512247370706185,
          -0.7773953390281098,
          -0.2145414159475325,
          0.08160625235528286,
          -0.8013126367632013,
          -0.5169004564348985,
          0.114578057733446,
          0.2629355821748631,
          0.1499105407004821,
          -1.2797422511235341,
          -0.2185907991829561,
          1.5876256028774887,
          1.844734348839343,
          -0.22537037743304106,
          -0.3577178964433195,
          0.2852652075753454,
          -0.7957362488414707,
          0.152228318070937,
          -0.8332063901430532,
          -0.14906978759205242,
          2.033481598612253,
          0.8060825170977222,
          1.5810291360916122,
          1.07858888313611,
          0.2319701751978771,
          -0.1867491497701328,
          -0.7945408640583943,
          -0.9095698226185984,
          0.8251905215614825,
          -0.8567655124673546,
          0.18704912987968247,
          -0.15721637891871143,
          1.2721569476374628,
          -0.19037233012862115,
          -0.96458609763036,
          1.410741547617211,
          -1.451864911072176,
          -0.9675044690625731,
          -0.7917168423644747,
          -1.072796793830219,
          -1.0900923925783632,
          0.9391138095792427,
          1.1763217705881877,
          -0.28819859093464983,
          -0.5828980206044104,
          1.4744624076749038,
          0.03650023059250771,
          0.43319878637361814,
          -0.34457754693362536,
          0.19754823018576603,
          -0.26991096377234675,
          2.6272817860367486,
          0.634965451155606,
          1.7191188241692776,
          -0.3311344208925331,
          0.7573677922867134,
          1.5592178010488686,
          -1.9237045548603335,
          0.4273812145391577,
          -0.9038966093651511,
          1.0095634019675388,
          1.233815706015572,
          -0.5267712715038746,
          -2.1175558308537017,
          -0.6526419662081552,
          -0.4670849734778064,
          -0.7368599515217935,
          -0.6893478170257809,
          -0.20668010608459114,
          -2.405150714008861,
          0.7082636710161015,
          0.4311521595364321,
          -0.07251010714992599,
          -1.7006410114857302
         ],
         "yaxis": "y12"
        },
        {
         "line": {
          "color": "rgba(128, 128, 128, 1.0)",
          "dash": "solid",
          "shape": "linear",
          "width": 1.3
         },
         "marker": {
          "size": 2,
          "symbol": "circle"
         },
         "mode": "markers",
         "name": "D",
         "text": "",
         "type": "scatter",
         "x": [
          1.4057168758225187,
          0.09635109794516898,
          -0.8075775662482514,
          1.85671902279818,
          1.3564610889782882,
          -1.0665015699326987,
          -0.3215134793832769,
          2.2006939363165583,
          -0.0642731305817795,
          -0.06722249427021736,
          -0.7606245671921829,
          -0.011501944221071154,
          0.41632838029502583,
          0.08283379610948835,
          0.6973631246869717,
          1.3319206881954702,
          1.0618863974579766,
          -1.032164232081873,
          0.08631207258907114,
          -0.8749170327076585,
          0.9561424070698766,
          2.0812454986913953,
          0.013611597742900088,
          2.010755001659486,
          -0.3840367437614046,
          -0.48611375514496025,
          -1.0010787717614296,
          -0.7111060970108366,
          -0.88155225575621,
          -0.7912570519536614,
          -0.8482443659483541,
          0.009417046372797853,
          -0.6613874723923325,
          -0.43179805587229253,
          -1.1868260308228515,
          -1.3010165341303017,
          1.0793955367330281,
          -1.21888688132927,
          1.7860641751165047,
          0.799656633173967,
          -0.5334780327036241,
          -1.209424809475077,
          -1.1424053312617162,
          1.2579717508561836,
          -2.0605485025033214,
          0.13710078395039346,
          -0.5916349564207652,
          0.3029899541504856,
          -0.22663502770322,
          -0.5804854045400992,
          -1.9025506699911556,
          0.11876147332063057,
          0.9257965150343771,
          -0.18073318129062516,
          1.5055537662684682,
          -0.8089910678807307,
          -0.11721228265202219,
          -0.5997238871075966,
          -1.142021786149684,
          0.09936348427841284,
          1.4931562081498957,
          -1.5547024729001584,
          0.5910489953515512,
          -0.059929917251002024,
          1.0696616107968673,
          0.8021825757324219,
          1.439330784471317,
          -0.6110907124127478,
          1.0024882398083432,
          -1.7022888335987154,
          0.05188306699545878,
          1.7097829525296082,
          -1.5080847746237727,
          0.6911601517780541,
          -1.0036454775392192,
          0.8135518250358234,
          -0.9300649797636137,
          -0.21514900583841184,
          0.7078344365890838,
          0.04089091390206245,
          0.10570034421779602,
          2.615277534759449,
          -0.3407781816207968,
          -0.7062667539668542,
          0.7414974982831658,
          -0.9158253246310815,
          -0.4412896880881209,
          1.5879126191662924,
          0.0021807237198163483,
          0.4941846844869749,
          0.7951021730994977,
          -0.9137616880373952,
          -1.9780362146807235,
          -0.7076722808592804,
          -1.8884123353793303,
          0.7626559205689569,
          -1.6959998148682438,
          0.07953368201121154,
          0.7781058966122304,
          1.27600917408759
         ],
         "xaxis": "x13",
         "y": [
          -0.07556542121134661,
          -0.8183199405961011,
          1.0334465082732396,
          -0.6227025938080888,
          1.0269451234814744,
          -1.4309440691028066,
          0.33382525333472135,
          -0.5136943526846811,
          -0.5726578044637678,
          -0.054700614757421294,
          0.39304570327098487,
          0.3450187319889111,
          0.37165748052730874,
          -1.8451143641223184,
          -0.4346916643049665,
          0.9695803086428616,
          -1.6238583650473877,
          0.2091847975870636,
          -0.8616799361749952,
          -0.10957913893920151,
          -0.12991941745315264,
          0.6850137018573873,
          1.622744931697246,
          1.5593626147438386,
          -1.723786366407721,
          0.7329715508939461,
          0.39831664748170265,
          0.6686707918578688,
          0.6765077152561568,
          -0.590645496453386,
          0.34677385573121666,
          0.4118791766192136,
          -0.918647297548565,
          -1.3039209080506904,
          0.521566084351569,
          -0.06386809916886285,
          0.1125454802321883,
          0.11329151851463924,
          1.0070843116474493,
          -0.7922136552618687,
          -1.3660056671284202,
          0.3919268139065681,
          -0.331535756662957,
          -0.8667660795218105,
          -1.0656226329031444,
          -1.1487653763192418,
          0.720370537591933,
          1.628532426776231,
          1.4659105244650705,
          0.4536789646423173,
          -0.3997028352902282,
          -0.4198680723019248,
          0.3529676122922959,
          1.3071481008776296,
          0.05960064396185711,
          0.5014756373675243,
          1.6521531412089567,
          -1.241677422272562,
          0.051155118852328846,
          0.08146363202689737,
          -0.5998295036990625,
          0.525297261397527,
          1.1376606438237558,
          0.49111046953841125,
          0.5367638826505009,
          -0.9820432115922464,
          -0.3380444743033437,
          -1.0959616364064138,
          0.14189700880993317,
          1.2256553734534632,
          -0.899445236677122,
          -0.499149874869314,
          -0.2784621153768592,
          -1.784376134711761,
          -0.4050614240095866,
          0.38175326989240105,
          0.1530187742495216,
          -1.8230955543230376,
          0.5210317367175072,
          0.33271912972225115,
          -0.6718359237286943,
          0.05927496248327188,
          -0.9979692802489852,
          -0.6366550887913068,
          -0.8977204330863173,
          -0.009478227360934864,
          1.877269962066179,
          0.10224615885828611,
          -1.10394498962729,
          0.43485342230923235,
          0.6471875563292759,
          -0.9417404984112272,
          1.0126111565103906,
          -0.5197970022115806,
          0.006351587203595149,
          -0.20772290117180742,
          0.9375634333957914,
          0.4581473343766965,
          -0.8169477360465902,
          1.408231237100532
         ],
         "yaxis": "y13"
        },
        {
         "line": {
          "color": "rgba(128, 128, 128, 1.0)",
          "dash": "solid",
          "shape": "linear",
          "width": 1.3
         },
         "marker": {
          "size": 2,
          "symbol": "circle"
         },
         "mode": "markers",
         "name": "D",
         "text": "",
         "type": "scatter",
         "x": [
          1.3805021359727088,
          0.6876562345194515,
          1.744426205438441,
          1.3482770883045914,
          -0.634248067300063,
          -0.034294271166742524,
          0.08697205812033731,
          0.18165054261005958,
          -0.4947130519966682,
          1.1926577197445511,
          -0.20717482602811665,
          -2.5133130507450065,
          0.5849565071647904,
          -1.1419275913432483,
          -1.0989250107348194,
          -0.7187949424743807,
          -0.4925908219897006,
          -0.8053500686902227,
          1.3214954358061495,
          0.650458182102288,
          0.7831813622092171,
          0.07498582897569142,
          0.6523450877465203,
          -0.5783833322107474,
          0.31063691916746256,
          0.5339759772715772,
          -0.9341694521216017,
          0.1636579101222258,
          0.7914756036817695,
          0.14946115975322116,
          1.655598160883892,
          0.7246961444793382,
          -1.2954830292755444,
          0.9695475826517964,
          -0.2964187051363097,
          2.7033995079178443,
          -0.38178103307087197,
          1.1295086160797756,
          1.527880017753105,
          0.905536015852373,
          0.29805175373631065,
          -0.5754351908083993,
          0.29082064681038583,
          0.7586137695438394,
          1.1349899407660182,
          0.6717992725911085,
          -0.31428779368983534,
          -0.18220919871777175,
          2.1597698090177797,
          -1.419379997025609,
          -0.8461014276372388,
          0.41864875994912204,
          0.8148702380518698,
          0.019606695965507532,
          -1.1837488988129978,
          1.1806831481053504,
          -0.6107919824591864,
          -0.23111979494516535,
          -0.9367596799948575,
          -1.6339807125647547,
          -1.8372441832889166,
          2.5168011421762055,
          -1.5382411271982206,
          0.6254374573450555,
          -0.29144223018409665,
          0.25280094962187494,
          0.9341401560731483,
          0.4593226701114746,
          0.37090012110200604,
          2.5485602361509896,
          -0.2384223669142262,
          -1.4965726279770937,
          -0.9143776712501855,
          0.6240127588983286,
          0.9349261687864068,
          1.1302133290065983,
          -1.9122547142011879,
          2.1612111542650148,
          -1.170401489694811,
          1.4844344274345278,
          0.425068571796391,
          1.0836427308909355,
          -1.2092550831621383,
          -0.05373370286349067,
          -2.329782253481326,
          0.9931882640309181,
          -0.7440493223711631,
          -0.8690298054021338,
          -1.3870236796099518,
          -0.235118566464218,
          -0.804128615713205,
          -2.091537810580936,
          0.566865783198684,
          -1.511924883938343,
          -0.9600094189448816,
          -0.382769475864104,
          -0.43678813895890783,
          1.4503730185316464,
          -1.1598452079499255,
          0.0007072242767753852
         ],
         "xaxis": "x14",
         "y": [
          -0.07556542121134661,
          -0.8183199405961011,
          1.0334465082732396,
          -0.6227025938080888,
          1.0269451234814744,
          -1.4309440691028066,
          0.33382525333472135,
          -0.5136943526846811,
          -0.5726578044637678,
          -0.054700614757421294,
          0.39304570327098487,
          0.3450187319889111,
          0.37165748052730874,
          -1.8451143641223184,
          -0.4346916643049665,
          0.9695803086428616,
          -1.6238583650473877,
          0.2091847975870636,
          -0.8616799361749952,
          -0.10957913893920151,
          -0.12991941745315264,
          0.6850137018573873,
          1.622744931697246,
          1.5593626147438386,
          -1.723786366407721,
          0.7329715508939461,
          0.39831664748170265,
          0.6686707918578688,
          0.6765077152561568,
          -0.590645496453386,
          0.34677385573121666,
          0.4118791766192136,
          -0.918647297548565,
          -1.3039209080506904,
          0.521566084351569,
          -0.06386809916886285,
          0.1125454802321883,
          0.11329151851463924,
          1.0070843116474493,
          -0.7922136552618687,
          -1.3660056671284202,
          0.3919268139065681,
          -0.331535756662957,
          -0.8667660795218105,
          -1.0656226329031444,
          -1.1487653763192418,
          0.720370537591933,
          1.628532426776231,
          1.4659105244650705,
          0.4536789646423173,
          -0.3997028352902282,
          -0.4198680723019248,
          0.3529676122922959,
          1.3071481008776296,
          0.05960064396185711,
          0.5014756373675243,
          1.6521531412089567,
          -1.241677422272562,
          0.051155118852328846,
          0.08146363202689737,
          -0.5998295036990625,
          0.525297261397527,
          1.1376606438237558,
          0.49111046953841125,
          0.5367638826505009,
          -0.9820432115922464,
          -0.3380444743033437,
          -1.0959616364064138,
          0.14189700880993317,
          1.2256553734534632,
          -0.899445236677122,
          -0.499149874869314,
          -0.2784621153768592,
          -1.784376134711761,
          -0.4050614240095866,
          0.38175326989240105,
          0.1530187742495216,
          -1.8230955543230376,
          0.5210317367175072,
          0.33271912972225115,
          -0.6718359237286943,
          0.05927496248327188,
          -0.9979692802489852,
          -0.6366550887913068,
          -0.8977204330863173,
          -0.009478227360934864,
          1.877269962066179,
          0.10224615885828611,
          -1.10394498962729,
          0.43485342230923235,
          0.6471875563292759,
          -0.9417404984112272,
          1.0126111565103906,
          -0.5197970022115806,
          0.006351587203595149,
          -0.20772290117180742,
          0.9375634333957914,
          0.4581473343766965,
          -0.8169477360465902,
          1.408231237100532
         ],
         "yaxis": "y14"
        },
        {
         "line": {
          "color": "rgba(128, 128, 128, 1.0)",
          "dash": "solid",
          "shape": "linear",
          "width": 1.3
         },
         "marker": {
          "size": 2,
          "symbol": "circle"
         },
         "mode": "markers",
         "name": "D",
         "text": "",
         "type": "scatter",
         "x": [
          -1.1315887482993132,
          -1.043249659417771,
          -1.9948531746772895,
          1.795000966257885,
          -0.6439270205764843,
          -0.07599144992076311,
          -0.8620731306430194,
          0.807821347431704,
          0.1645823525494116,
          -0.49705555090732095,
          0.11277695324474271,
          0.13768702694255086,
          -0.49497335135905357,
          -0.37055686394093956,
          0.3462421356520415,
          0.19217855501706763,
          0.6995582206408196,
          -0.37267108482119066,
          1.9162749789438134,
          1.7334988933452553,
          1.251182443212679,
          -1.0327078702757677,
          -1.8831806648318619,
          -0.1731389197012337,
          1.1906164559173318,
          -1.2376436879881365,
          0.5512247370706185,
          -0.7773953390281098,
          -0.2145414159475325,
          0.08160625235528286,
          -0.8013126367632013,
          -0.5169004564348985,
          0.114578057733446,
          0.2629355821748631,
          0.1499105407004821,
          -1.2797422511235341,
          -0.2185907991829561,
          1.5876256028774887,
          1.844734348839343,
          -0.22537037743304106,
          -0.3577178964433195,
          0.2852652075753454,
          -0.7957362488414707,
          0.152228318070937,
          -0.8332063901430532,
          -0.14906978759205242,
          2.033481598612253,
          0.8060825170977222,
          1.5810291360916122,
          1.07858888313611,
          0.2319701751978771,
          -0.1867491497701328,
          -0.7945408640583943,
          -0.9095698226185984,
          0.8251905215614825,
          -0.8567655124673546,
          0.18704912987968247,
          -0.15721637891871143,
          1.2721569476374628,
          -0.19037233012862115,
          -0.96458609763036,
          1.410741547617211,
          -1.451864911072176,
          -0.9675044690625731,
          -0.7917168423644747,
          -1.072796793830219,
          -1.0900923925783632,
          0.9391138095792427,
          1.1763217705881877,
          -0.28819859093464983,
          -0.5828980206044104,
          1.4744624076749038,
          0.03650023059250771,
          0.43319878637361814,
          -0.34457754693362536,
          0.19754823018576603,
          -0.26991096377234675,
          2.6272817860367486,
          0.634965451155606,
          1.7191188241692776,
          -0.3311344208925331,
          0.7573677922867134,
          1.5592178010488686,
          -1.9237045548603335,
          0.4273812145391577,
          -0.9038966093651511,
          1.0095634019675388,
          1.233815706015572,
          -0.5267712715038746,
          -2.1175558308537017,
          -0.6526419662081552,
          -0.4670849734778064,
          -0.7368599515217935,
          -0.6893478170257809,
          -0.20668010608459114,
          -2.405150714008861,
          0.7082636710161015,
          0.4311521595364321,
          -0.07251010714992599,
          -1.7006410114857302
         ],
         "xaxis": "x15",
         "y": [
          -0.07556542121134661,
          -0.8183199405961011,
          1.0334465082732396,
          -0.6227025938080888,
          1.0269451234814744,
          -1.4309440691028066,
          0.33382525333472135,
          -0.5136943526846811,
          -0.5726578044637678,
          -0.054700614757421294,
          0.39304570327098487,
          0.3450187319889111,
          0.37165748052730874,
          -1.8451143641223184,
          -0.4346916643049665,
          0.9695803086428616,
          -1.6238583650473877,
          0.2091847975870636,
          -0.8616799361749952,
          -0.10957913893920151,
          -0.12991941745315264,
          0.6850137018573873,
          1.622744931697246,
          1.5593626147438386,
          -1.723786366407721,
          0.7329715508939461,
          0.39831664748170265,
          0.6686707918578688,
          0.6765077152561568,
          -0.590645496453386,
          0.34677385573121666,
          0.4118791766192136,
          -0.918647297548565,
          -1.3039209080506904,
          0.521566084351569,
          -0.06386809916886285,
          0.1125454802321883,
          0.11329151851463924,
          1.0070843116474493,
          -0.7922136552618687,
          -1.3660056671284202,
          0.3919268139065681,
          -0.331535756662957,
          -0.8667660795218105,
          -1.0656226329031444,
          -1.1487653763192418,
          0.720370537591933,
          1.628532426776231,
          1.4659105244650705,
          0.4536789646423173,
          -0.3997028352902282,
          -0.4198680723019248,
          0.3529676122922959,
          1.3071481008776296,
          0.05960064396185711,
          0.5014756373675243,
          1.6521531412089567,
          -1.241677422272562,
          0.051155118852328846,
          0.08146363202689737,
          -0.5998295036990625,
          0.525297261397527,
          1.1376606438237558,
          0.49111046953841125,
          0.5367638826505009,
          -0.9820432115922464,
          -0.3380444743033437,
          -1.0959616364064138,
          0.14189700880993317,
          1.2256553734534632,
          -0.899445236677122,
          -0.499149874869314,
          -0.2784621153768592,
          -1.784376134711761,
          -0.4050614240095866,
          0.38175326989240105,
          0.1530187742495216,
          -1.8230955543230376,
          0.5210317367175072,
          0.33271912972225115,
          -0.6718359237286943,
          0.05927496248327188,
          -0.9979692802489852,
          -0.6366550887913068,
          -0.8977204330863173,
          -0.009478227360934864,
          1.877269962066179,
          0.10224615885828611,
          -1.10394498962729,
          0.43485342230923235,
          0.6471875563292759,
          -0.9417404984112272,
          1.0126111565103906,
          -0.5197970022115806,
          0.006351587203595149,
          -0.20772290117180742,
          0.9375634333957914,
          0.4581473343766965,
          -0.8169477360465902,
          1.408231237100532
         ],
         "yaxis": "y15"
        },
        {
         "histfunc": "count",
         "histnorm": "",
         "marker": {
          "color": "rgba(128, 0, 128, 1.0)",
          "line": {
           "color": "#4D5663",
           "width": 1.3
          }
         },
         "name": "D",
         "nbinsx": 10,
         "opacity": 0.8,
         "orientation": "v",
         "type": "histogram",
         "x": [
          -0.07556542121134661,
          -0.8183199405961011,
          1.0334465082732396,
          -0.6227025938080888,
          1.0269451234814744,
          -1.4309440691028066,
          0.33382525333472135,
          -0.5136943526846811,
          -0.5726578044637678,
          -0.054700614757421294,
          0.39304570327098487,
          0.3450187319889111,
          0.37165748052730874,
          -1.8451143641223184,
          -0.4346916643049665,
          0.9695803086428616,
          -1.6238583650473877,
          0.2091847975870636,
          -0.8616799361749952,
          -0.10957913893920151,
          -0.12991941745315264,
          0.6850137018573873,
          1.622744931697246,
          1.5593626147438386,
          -1.723786366407721,
          0.7329715508939461,
          0.39831664748170265,
          0.6686707918578688,
          0.6765077152561568,
          -0.590645496453386,
          0.34677385573121666,
          0.4118791766192136,
          -0.918647297548565,
          -1.3039209080506904,
          0.521566084351569,
          -0.06386809916886285,
          0.1125454802321883,
          0.11329151851463924,
          1.0070843116474493,
          -0.7922136552618687,
          -1.3660056671284202,
          0.3919268139065681,
          -0.331535756662957,
          -0.8667660795218105,
          -1.0656226329031444,
          -1.1487653763192418,
          0.720370537591933,
          1.628532426776231,
          1.4659105244650705,
          0.4536789646423173,
          -0.3997028352902282,
          -0.4198680723019248,
          0.3529676122922959,
          1.3071481008776296,
          0.05960064396185711,
          0.5014756373675243,
          1.6521531412089567,
          -1.241677422272562,
          0.051155118852328846,
          0.08146363202689737,
          -0.5998295036990625,
          0.525297261397527,
          1.1376606438237558,
          0.49111046953841125,
          0.5367638826505009,
          -0.9820432115922464,
          -0.3380444743033437,
          -1.0959616364064138,
          0.14189700880993317,
          1.2256553734534632,
          -0.899445236677122,
          -0.499149874869314,
          -0.2784621153768592,
          -1.784376134711761,
          -0.4050614240095866,
          0.38175326989240105,
          0.1530187742495216,
          -1.8230955543230376,
          0.5210317367175072,
          0.33271912972225115,
          -0.6718359237286943,
          0.05927496248327188,
          -0.9979692802489852,
          -0.6366550887913068,
          -0.8977204330863173,
          -0.009478227360934864,
          1.877269962066179,
          0.10224615885828611,
          -1.10394498962729,
          0.43485342230923235,
          0.6471875563292759,
          -0.9417404984112272,
          1.0126111565103906,
          -0.5197970022115806,
          0.006351587203595149,
          -0.20772290117180742,
          0.9375634333957914,
          0.4581473343766965,
          -0.8169477360465902,
          1.408231237100532
         ],
         "xaxis": "x16",
         "yaxis": "y16"
        }
       ],
       "layout": {
        "bargap": 0.02,
        "legend": {
         "bgcolor": "#F5F6F9",
         "font": {
          "color": "#4D5663"
         }
        },
        "paper_bgcolor": "#F5F6F9",
        "plot_bgcolor": "#F5F6F9",
        "showlegend": false,
        "template": {
         "data": {
          "bar": [
           {
            "error_x": {
             "color": "#2a3f5f"
            },
            "error_y": {
             "color": "#2a3f5f"
            },
            "marker": {
             "line": {
              "color": "#E5ECF6",
              "width": 0.5
             }
            },
            "type": "bar"
           }
          ],
          "barpolar": [
           {
            "marker": {
             "line": {
              "color": "#E5ECF6",
              "width": 0.5
             }
            },
            "type": "barpolar"
           }
          ],
          "carpet": [
           {
            "aaxis": {
             "endlinecolor": "#2a3f5f",
             "gridcolor": "white",
             "linecolor": "white",
             "minorgridcolor": "white",
             "startlinecolor": "#2a3f5f"
            },
            "baxis": {
             "endlinecolor": "#2a3f5f",
             "gridcolor": "white",
             "linecolor": "white",
             "minorgridcolor": "white",
             "startlinecolor": "#2a3f5f"
            },
            "type": "carpet"
           }
          ],
          "choropleth": [
           {
            "colorbar": {
             "outlinewidth": 0,
             "ticks": ""
            },
            "type": "choropleth"
           }
          ],
          "contour": [
           {
            "colorbar": {
             "outlinewidth": 0,
             "ticks": ""
            },
            "colorscale": [
             [
              0,
              "#0d0887"
             ],
             [
              0.1111111111111111,
              "#46039f"
             ],
             [
              0.2222222222222222,
              "#7201a8"
             ],
             [
              0.3333333333333333,
              "#9c179e"
             ],
             [
              0.4444444444444444,
              "#bd3786"
             ],
             [
              0.5555555555555556,
              "#d8576b"
             ],
             [
              0.6666666666666666,
              "#ed7953"
             ],
             [
              0.7777777777777778,
              "#fb9f3a"
             ],
             [
              0.8888888888888888,
              "#fdca26"
             ],
             [
              1,
              "#f0f921"
             ]
            ],
            "type": "contour"
           }
          ],
          "contourcarpet": [
           {
            "colorbar": {
             "outlinewidth": 0,
             "ticks": ""
            },
            "type": "contourcarpet"
           }
          ],
          "heatmap": [
           {
            "colorbar": {
             "outlinewidth": 0,
             "ticks": ""
            },
            "colorscale": [
             [
              0,
              "#0d0887"
             ],
             [
              0.1111111111111111,
              "#46039f"
             ],
             [
              0.2222222222222222,
              "#7201a8"
             ],
             [
              0.3333333333333333,
              "#9c179e"
             ],
             [
              0.4444444444444444,
              "#bd3786"
             ],
             [
              0.5555555555555556,
              "#d8576b"
             ],
             [
              0.6666666666666666,
              "#ed7953"
             ],
             [
              0.7777777777777778,
              "#fb9f3a"
             ],
             [
              0.8888888888888888,
              "#fdca26"
             ],
             [
              1,
              "#f0f921"
             ]
            ],
            "type": "heatmap"
           }
          ],
          "heatmapgl": [
           {
            "colorbar": {
             "outlinewidth": 0,
             "ticks": ""
            },
            "colorscale": [
             [
              0,
              "#0d0887"
             ],
             [
              0.1111111111111111,
              "#46039f"
             ],
             [
              0.2222222222222222,
              "#7201a8"
             ],
             [
              0.3333333333333333,
              "#9c179e"
             ],
             [
              0.4444444444444444,
              "#bd3786"
             ],
             [
              0.5555555555555556,
              "#d8576b"
             ],
             [
              0.6666666666666666,
              "#ed7953"
             ],
             [
              0.7777777777777778,
              "#fb9f3a"
             ],
             [
              0.8888888888888888,
              "#fdca26"
             ],
             [
              1,
              "#f0f921"
             ]
            ],
            "type": "heatmapgl"
           }
          ],
          "histogram": [
           {
            "marker": {
             "colorbar": {
              "outlinewidth": 0,
              "ticks": ""
             }
            },
            "type": "histogram"
           }
          ],
          "histogram2d": [
           {
            "colorbar": {
             "outlinewidth": 0,
             "ticks": ""
            },
            "colorscale": [
             [
              0,
              "#0d0887"
             ],
             [
              0.1111111111111111,
              "#46039f"
             ],
             [
              0.2222222222222222,
              "#7201a8"
             ],
             [
              0.3333333333333333,
              "#9c179e"
             ],
             [
              0.4444444444444444,
              "#bd3786"
             ],
             [
              0.5555555555555556,
              "#d8576b"
             ],
             [
              0.6666666666666666,
              "#ed7953"
             ],
             [
              0.7777777777777778,
              "#fb9f3a"
             ],
             [
              0.8888888888888888,
              "#fdca26"
             ],
             [
              1,
              "#f0f921"
             ]
            ],
            "type": "histogram2d"
           }
          ],
          "histogram2dcontour": [
           {
            "colorbar": {
             "outlinewidth": 0,
             "ticks": ""
            },
            "colorscale": [
             [
              0,
              "#0d0887"
             ],
             [
              0.1111111111111111,
              "#46039f"
             ],
             [
              0.2222222222222222,
              "#7201a8"
             ],
             [
              0.3333333333333333,
              "#9c179e"
             ],
             [
              0.4444444444444444,
              "#bd3786"
             ],
             [
              0.5555555555555556,
              "#d8576b"
             ],
             [
              0.6666666666666666,
              "#ed7953"
             ],
             [
              0.7777777777777778,
              "#fb9f3a"
             ],
             [
              0.8888888888888888,
              "#fdca26"
             ],
             [
              1,
              "#f0f921"
             ]
            ],
            "type": "histogram2dcontour"
           }
          ],
          "mesh3d": [
           {
            "colorbar": {
             "outlinewidth": 0,
             "ticks": ""
            },
            "type": "mesh3d"
           }
          ],
          "parcoords": [
           {
            "line": {
             "colorbar": {
              "outlinewidth": 0,
              "ticks": ""
             }
            },
            "type": "parcoords"
           }
          ],
          "pie": [
           {
            "automargin": true,
            "type": "pie"
           }
          ],
          "scatter": [
           {
            "marker": {
             "colorbar": {
              "outlinewidth": 0,
              "ticks": ""
             }
            },
            "type": "scatter"
           }
          ],
          "scatter3d": [
           {
            "line": {
             "colorbar": {
              "outlinewidth": 0,
              "ticks": ""
             }
            },
            "marker": {
             "colorbar": {
              "outlinewidth": 0,
              "ticks": ""
             }
            },
            "type": "scatter3d"
           }
          ],
          "scattercarpet": [
           {
            "marker": {
             "colorbar": {
              "outlinewidth": 0,
              "ticks": ""
             }
            },
            "type": "scattercarpet"
           }
          ],
          "scattergeo": [
           {
            "marker": {
             "colorbar": {
              "outlinewidth": 0,
              "ticks": ""
             }
            },
            "type": "scattergeo"
           }
          ],
          "scattergl": [
           {
            "marker": {
             "colorbar": {
              "outlinewidth": 0,
              "ticks": ""
             }
            },
            "type": "scattergl"
           }
          ],
          "scattermapbox": [
           {
            "marker": {
             "colorbar": {
              "outlinewidth": 0,
              "ticks": ""
             }
            },
            "type": "scattermapbox"
           }
          ],
          "scatterpolar": [
           {
            "marker": {
             "colorbar": {
              "outlinewidth": 0,
              "ticks": ""
             }
            },
            "type": "scatterpolar"
           }
          ],
          "scatterpolargl": [
           {
            "marker": {
             "colorbar": {
              "outlinewidth": 0,
              "ticks": ""
             }
            },
            "type": "scatterpolargl"
           }
          ],
          "scatterternary": [
           {
            "marker": {
             "colorbar": {
              "outlinewidth": 0,
              "ticks": ""
             }
            },
            "type": "scatterternary"
           }
          ],
          "surface": [
           {
            "colorbar": {
             "outlinewidth": 0,
             "ticks": ""
            },
            "colorscale": [
             [
              0,
              "#0d0887"
             ],
             [
              0.1111111111111111,
              "#46039f"
             ],
             [
              0.2222222222222222,
              "#7201a8"
             ],
             [
              0.3333333333333333,
              "#9c179e"
             ],
             [
              0.4444444444444444,
              "#bd3786"
             ],
             [
              0.5555555555555556,
              "#d8576b"
             ],
             [
              0.6666666666666666,
              "#ed7953"
             ],
             [
              0.7777777777777778,
              "#fb9f3a"
             ],
             [
              0.8888888888888888,
              "#fdca26"
             ],
             [
              1,
              "#f0f921"
             ]
            ],
            "type": "surface"
           }
          ],
          "table": [
           {
            "cells": {
             "fill": {
              "color": "#EBF0F8"
             },
             "line": {
              "color": "white"
             }
            },
            "header": {
             "fill": {
              "color": "#C8D4E3"
             },
             "line": {
              "color": "white"
             }
            },
            "type": "table"
           }
          ]
         },
         "layout": {
          "annotationdefaults": {
           "arrowcolor": "#2a3f5f",
           "arrowhead": 0,
           "arrowwidth": 1
          },
          "coloraxis": {
           "colorbar": {
            "outlinewidth": 0,
            "ticks": ""
           }
          },
          "colorscale": {
           "diverging": [
            [
             0,
             "#8e0152"
            ],
            [
             0.1,
             "#c51b7d"
            ],
            [
             0.2,
             "#de77ae"
            ],
            [
             0.3,
             "#f1b6da"
            ],
            [
             0.4,
             "#fde0ef"
            ],
            [
             0.5,
             "#f7f7f7"
            ],
            [
             0.6,
             "#e6f5d0"
            ],
            [
             0.7,
             "#b8e186"
            ],
            [
             0.8,
             "#7fbc41"
            ],
            [
             0.9,
             "#4d9221"
            ],
            [
             1,
             "#276419"
            ]
           ],
           "sequential": [
            [
             0,
             "#0d0887"
            ],
            [
             0.1111111111111111,
             "#46039f"
            ],
            [
             0.2222222222222222,
             "#7201a8"
            ],
            [
             0.3333333333333333,
             "#9c179e"
            ],
            [
             0.4444444444444444,
             "#bd3786"
            ],
            [
             0.5555555555555556,
             "#d8576b"
            ],
            [
             0.6666666666666666,
             "#ed7953"
            ],
            [
             0.7777777777777778,
             "#fb9f3a"
            ],
            [
             0.8888888888888888,
             "#fdca26"
            ],
            [
             1,
             "#f0f921"
            ]
           ],
           "sequentialminus": [
            [
             0,
             "#0d0887"
            ],
            [
             0.1111111111111111,
             "#46039f"
            ],
            [
             0.2222222222222222,
             "#7201a8"
            ],
            [
             0.3333333333333333,
             "#9c179e"
            ],
            [
             0.4444444444444444,
             "#bd3786"
            ],
            [
             0.5555555555555556,
             "#d8576b"
            ],
            [
             0.6666666666666666,
             "#ed7953"
            ],
            [
             0.7777777777777778,
             "#fb9f3a"
            ],
            [
             0.8888888888888888,
             "#fdca26"
            ],
            [
             1,
             "#f0f921"
            ]
           ]
          },
          "colorway": [
           "#636efa",
           "#EF553B",
           "#00cc96",
           "#ab63fa",
           "#FFA15A",
           "#19d3f3",
           "#FF6692",
           "#B6E880",
           "#FF97FF",
           "#FECB52"
          ],
          "font": {
           "color": "#2a3f5f"
          },
          "geo": {
           "bgcolor": "white",
           "lakecolor": "white",
           "landcolor": "#E5ECF6",
           "showlakes": true,
           "showland": true,
           "subunitcolor": "white"
          },
          "hoverlabel": {
           "align": "left"
          },
          "hovermode": "closest",
          "mapbox": {
           "style": "light"
          },
          "paper_bgcolor": "white",
          "plot_bgcolor": "#E5ECF6",
          "polar": {
           "angularaxis": {
            "gridcolor": "white",
            "linecolor": "white",
            "ticks": ""
           },
           "bgcolor": "#E5ECF6",
           "radialaxis": {
            "gridcolor": "white",
            "linecolor": "white",
            "ticks": ""
           }
          },
          "scene": {
           "xaxis": {
            "backgroundcolor": "#E5ECF6",
            "gridcolor": "white",
            "gridwidth": 2,
            "linecolor": "white",
            "showbackground": true,
            "ticks": "",
            "zerolinecolor": "white"
           },
           "yaxis": {
            "backgroundcolor": "#E5ECF6",
            "gridcolor": "white",
            "gridwidth": 2,
            "linecolor": "white",
            "showbackground": true,
            "ticks": "",
            "zerolinecolor": "white"
           },
           "zaxis": {
            "backgroundcolor": "#E5ECF6",
            "gridcolor": "white",
            "gridwidth": 2,
            "linecolor": "white",
            "showbackground": true,
            "ticks": "",
            "zerolinecolor": "white"
           }
          },
          "shapedefaults": {
           "line": {
            "color": "#2a3f5f"
           }
          },
          "ternary": {
           "aaxis": {
            "gridcolor": "white",
            "linecolor": "white",
            "ticks": ""
           },
           "baxis": {
            "gridcolor": "white",
            "linecolor": "white",
            "ticks": ""
           },
           "bgcolor": "#E5ECF6",
           "caxis": {
            "gridcolor": "white",
            "linecolor": "white",
            "ticks": ""
           }
          },
          "title": {
           "x": 0.05
          },
          "xaxis": {
           "automargin": true,
           "gridcolor": "white",
           "linecolor": "white",
           "ticks": "",
           "title": {
            "standoff": 15
           },
           "zerolinecolor": "white",
           "zerolinewidth": 2
          },
          "yaxis": {
           "automargin": true,
           "gridcolor": "white",
           "linecolor": "white",
           "ticks": "",
           "title": {
            "standoff": 15
           },
           "zerolinecolor": "white",
           "zerolinewidth": 2
          }
         }
        },
        "title": {
         "font": {
          "color": "#4D5663"
         }
        },
        "xaxis": {
         "anchor": "y",
         "domain": [
          0,
          0.2125
         ],
         "gridcolor": "#E1E5ED",
         "showgrid": false,
         "tickfont": {
          "color": "#4D5663"
         },
         "title": {
          "font": {
           "color": "#4D5663"
          },
          "text": ""
         },
         "zerolinecolor": "#E1E5ED"
        },
        "xaxis10": {
         "anchor": "y10",
         "domain": [
          0.2625,
          0.475
         ],
         "gridcolor": "#E1E5ED",
         "showgrid": false,
         "tickfont": {
          "color": "#4D5663"
         },
         "title": {
          "font": {
           "color": "#4D5663"
          },
          "text": ""
         },
         "zerolinecolor": "#E1E5ED"
        },
        "xaxis11": {
         "anchor": "y11",
         "domain": [
          0.525,
          0.7375
         ],
         "gridcolor": "#E1E5ED",
         "showgrid": false,
         "tickfont": {
          "color": "#4D5663"
         },
         "title": {
          "font": {
           "color": "#4D5663"
          },
          "text": ""
         },
         "zerolinecolor": "#E1E5ED"
        },
        "xaxis12": {
         "anchor": "y12",
         "domain": [
          0.7875,
          1
         ],
         "gridcolor": "#E1E5ED",
         "showgrid": false,
         "tickfont": {
          "color": "#4D5663"
         },
         "title": {
          "font": {
           "color": "#4D5663"
          },
          "text": ""
         },
         "zerolinecolor": "#E1E5ED"
        },
        "xaxis13": {
         "anchor": "y13",
         "domain": [
          0,
          0.2125
         ],
         "gridcolor": "#E1E5ED",
         "showgrid": false,
         "tickfont": {
          "color": "#4D5663"
         },
         "title": {
          "font": {
           "color": "#4D5663"
          },
          "text": ""
         },
         "zerolinecolor": "#E1E5ED"
        },
        "xaxis14": {
         "anchor": "y14",
         "domain": [
          0.2625,
          0.475
         ],
         "gridcolor": "#E1E5ED",
         "showgrid": false,
         "tickfont": {
          "color": "#4D5663"
         },
         "title": {
          "font": {
           "color": "#4D5663"
          },
          "text": ""
         },
         "zerolinecolor": "#E1E5ED"
        },
        "xaxis15": {
         "anchor": "y15",
         "domain": [
          0.525,
          0.7375
         ],
         "gridcolor": "#E1E5ED",
         "showgrid": false,
         "tickfont": {
          "color": "#4D5663"
         },
         "title": {
          "font": {
           "color": "#4D5663"
          },
          "text": ""
         },
         "zerolinecolor": "#E1E5ED"
        },
        "xaxis16": {
         "anchor": "y16",
         "domain": [
          0.7875,
          1
         ],
         "gridcolor": "#E1E5ED",
         "showgrid": false,
         "tickfont": {
          "color": "#4D5663"
         },
         "title": {
          "font": {
           "color": "#4D5663"
          },
          "text": ""
         },
         "zerolinecolor": "#E1E5ED"
        },
        "xaxis2": {
         "anchor": "y2",
         "domain": [
          0.2625,
          0.475
         ],
         "gridcolor": "#E1E5ED",
         "showgrid": false,
         "tickfont": {
          "color": "#4D5663"
         },
         "title": {
          "font": {
           "color": "#4D5663"
          },
          "text": ""
         },
         "zerolinecolor": "#E1E5ED"
        },
        "xaxis3": {
         "anchor": "y3",
         "domain": [
          0.525,
          0.7375
         ],
         "gridcolor": "#E1E5ED",
         "showgrid": false,
         "tickfont": {
          "color": "#4D5663"
         },
         "title": {
          "font": {
           "color": "#4D5663"
          },
          "text": ""
         },
         "zerolinecolor": "#E1E5ED"
        },
        "xaxis4": {
         "anchor": "y4",
         "domain": [
          0.7875,
          1
         ],
         "gridcolor": "#E1E5ED",
         "showgrid": false,
         "tickfont": {
          "color": "#4D5663"
         },
         "title": {
          "font": {
           "color": "#4D5663"
          },
          "text": ""
         },
         "zerolinecolor": "#E1E5ED"
        },
        "xaxis5": {
         "anchor": "y5",
         "domain": [
          0,
          0.2125
         ],
         "gridcolor": "#E1E5ED",
         "showgrid": false,
         "tickfont": {
          "color": "#4D5663"
         },
         "title": {
          "font": {
           "color": "#4D5663"
          },
          "text": ""
         },
         "zerolinecolor": "#E1E5ED"
        },
        "xaxis6": {
         "anchor": "y6",
         "domain": [
          0.2625,
          0.475
         ],
         "gridcolor": "#E1E5ED",
         "showgrid": false,
         "tickfont": {
          "color": "#4D5663"
         },
         "title": {
          "font": {
           "color": "#4D5663"
          },
          "text": ""
         },
         "zerolinecolor": "#E1E5ED"
        },
        "xaxis7": {
         "anchor": "y7",
         "domain": [
          0.525,
          0.7375
         ],
         "gridcolor": "#E1E5ED",
         "showgrid": false,
         "tickfont": {
          "color": "#4D5663"
         },
         "title": {
          "font": {
           "color": "#4D5663"
          },
          "text": ""
         },
         "zerolinecolor": "#E1E5ED"
        },
        "xaxis8": {
         "anchor": "y8",
         "domain": [
          0.7875,
          1
         ],
         "gridcolor": "#E1E5ED",
         "showgrid": false,
         "tickfont": {
          "color": "#4D5663"
         },
         "title": {
          "font": {
           "color": "#4D5663"
          },
          "text": ""
         },
         "zerolinecolor": "#E1E5ED"
        },
        "xaxis9": {
         "anchor": "y9",
         "domain": [
          0,
          0.2125
         ],
         "gridcolor": "#E1E5ED",
         "showgrid": false,
         "tickfont": {
          "color": "#4D5663"
         },
         "title": {
          "font": {
           "color": "#4D5663"
          },
          "text": ""
         },
         "zerolinecolor": "#E1E5ED"
        },
        "yaxis": {
         "anchor": "x",
         "domain": [
          0.8025,
          1
         ],
         "gridcolor": "#E1E5ED",
         "showgrid": false,
         "tickfont": {
          "color": "#4D5663"
         },
         "title": {
          "font": {
           "color": "#4D5663"
          },
          "text": ""
         },
         "zerolinecolor": "#E1E5ED"
        },
        "yaxis10": {
         "anchor": "x10",
         "domain": [
          0.2675,
          0.465
         ],
         "gridcolor": "#E1E5ED",
         "showgrid": false,
         "tickfont": {
          "color": "#4D5663"
         },
         "title": {
          "font": {
           "color": "#4D5663"
          },
          "text": ""
         },
         "zerolinecolor": "#E1E5ED"
        },
        "yaxis11": {
         "anchor": "x11",
         "domain": [
          0.2675,
          0.465
         ],
         "gridcolor": "#E1E5ED",
         "showgrid": false,
         "tickfont": {
          "color": "#4D5663"
         },
         "title": {
          "font": {
           "color": "#4D5663"
          },
          "text": ""
         },
         "zerolinecolor": "#E1E5ED"
        },
        "yaxis12": {
         "anchor": "x12",
         "domain": [
          0.2675,
          0.465
         ],
         "gridcolor": "#E1E5ED",
         "showgrid": false,
         "tickfont": {
          "color": "#4D5663"
         },
         "title": {
          "font": {
           "color": "#4D5663"
          },
          "text": ""
         },
         "zerolinecolor": "#E1E5ED"
        },
        "yaxis13": {
         "anchor": "x13",
         "domain": [
          0,
          0.1975
         ],
         "gridcolor": "#E1E5ED",
         "showgrid": false,
         "tickfont": {
          "color": "#4D5663"
         },
         "title": {
          "font": {
           "color": "#4D5663"
          },
          "text": ""
         },
         "zerolinecolor": "#E1E5ED"
        },
        "yaxis14": {
         "anchor": "x14",
         "domain": [
          0,
          0.1975
         ],
         "gridcolor": "#E1E5ED",
         "showgrid": false,
         "tickfont": {
          "color": "#4D5663"
         },
         "title": {
          "font": {
           "color": "#4D5663"
          },
          "text": ""
         },
         "zerolinecolor": "#E1E5ED"
        },
        "yaxis15": {
         "anchor": "x15",
         "domain": [
          0,
          0.1975
         ],
         "gridcolor": "#E1E5ED",
         "showgrid": false,
         "tickfont": {
          "color": "#4D5663"
         },
         "title": {
          "font": {
           "color": "#4D5663"
          },
          "text": ""
         },
         "zerolinecolor": "#E1E5ED"
        },
        "yaxis16": {
         "anchor": "x16",
         "domain": [
          0,
          0.1975
         ],
         "gridcolor": "#E1E5ED",
         "showgrid": false,
         "tickfont": {
          "color": "#4D5663"
         },
         "title": {
          "font": {
           "color": "#4D5663"
          },
          "text": ""
         },
         "zerolinecolor": "#E1E5ED"
        },
        "yaxis2": {
         "anchor": "x2",
         "domain": [
          0.8025,
          1
         ],
         "gridcolor": "#E1E5ED",
         "showgrid": false,
         "tickfont": {
          "color": "#4D5663"
         },
         "title": {
          "font": {
           "color": "#4D5663"
          },
          "text": ""
         },
         "zerolinecolor": "#E1E5ED"
        },
        "yaxis3": {
         "anchor": "x3",
         "domain": [
          0.8025,
          1
         ],
         "gridcolor": "#E1E5ED",
         "showgrid": false,
         "tickfont": {
          "color": "#4D5663"
         },
         "title": {
          "font": {
           "color": "#4D5663"
          },
          "text": ""
         },
         "zerolinecolor": "#E1E5ED"
        },
        "yaxis4": {
         "anchor": "x4",
         "domain": [
          0.8025,
          1
         ],
         "gridcolor": "#E1E5ED",
         "showgrid": false,
         "tickfont": {
          "color": "#4D5663"
         },
         "title": {
          "font": {
           "color": "#4D5663"
          },
          "text": ""
         },
         "zerolinecolor": "#E1E5ED"
        },
        "yaxis5": {
         "anchor": "x5",
         "domain": [
          0.535,
          0.7325
         ],
         "gridcolor": "#E1E5ED",
         "showgrid": false,
         "tickfont": {
          "color": "#4D5663"
         },
         "title": {
          "font": {
           "color": "#4D5663"
          },
          "text": ""
         },
         "zerolinecolor": "#E1E5ED"
        },
        "yaxis6": {
         "anchor": "x6",
         "domain": [
          0.535,
          0.7325
         ],
         "gridcolor": "#E1E5ED",
         "showgrid": false,
         "tickfont": {
          "color": "#4D5663"
         },
         "title": {
          "font": {
           "color": "#4D5663"
          },
          "text": ""
         },
         "zerolinecolor": "#E1E5ED"
        },
        "yaxis7": {
         "anchor": "x7",
         "domain": [
          0.535,
          0.7325
         ],
         "gridcolor": "#E1E5ED",
         "showgrid": false,
         "tickfont": {
          "color": "#4D5663"
         },
         "title": {
          "font": {
           "color": "#4D5663"
          },
          "text": ""
         },
         "zerolinecolor": "#E1E5ED"
        },
        "yaxis8": {
         "anchor": "x8",
         "domain": [
          0.535,
          0.7325
         ],
         "gridcolor": "#E1E5ED",
         "showgrid": false,
         "tickfont": {
          "color": "#4D5663"
         },
         "title": {
          "font": {
           "color": "#4D5663"
          },
          "text": ""
         },
         "zerolinecolor": "#E1E5ED"
        },
        "yaxis9": {
         "anchor": "x9",
         "domain": [
          0.2675,
          0.465
         ],
         "gridcolor": "#E1E5ED",
         "showgrid": false,
         "tickfont": {
          "color": "#4D5663"
         },
         "title": {
          "font": {
           "color": "#4D5663"
          },
          "text": ""
         },
         "zerolinecolor": "#E1E5ED"
        }
       }
      },
      "text/html": [
       "<div>\n",
       "        \n",
       "        \n",
       "            <div id=\"d5b1c23a-7362-4e2d-bbf4-6b8821856004\" class=\"plotly-graph-div\" style=\"height:525px; width:100%;\"></div>\n",
       "            <script type=\"text/javascript\">\n",
       "                require([\"plotly\"], function(Plotly) {\n",
       "                    window.PLOTLYENV=window.PLOTLYENV || {};\n",
       "                    window.PLOTLYENV.BASE_URL='https://plot.ly';\n",
       "                    \n",
       "                if (document.getElementById(\"d5b1c23a-7362-4e2d-bbf4-6b8821856004\")) {\n",
       "                    Plotly.newPlot(\n",
       "                        'd5b1c23a-7362-4e2d-bbf4-6b8821856004',\n",
       "                        [{\"histfunc\": \"count\", \"histnorm\": \"\", \"marker\": {\"color\": \"rgba(255, 153, 51, 1.0)\", \"line\": {\"color\": \"#4D5663\", \"width\": 1.3}}, \"name\": \"A\", \"nbinsx\": 10, \"opacity\": 0.8, \"orientation\": \"v\", \"type\": \"histogram\", \"x\": [1.4057168758225187, 0.09635109794516898, -0.8075775662482514, 1.85671902279818, 1.3564610889782882, -1.0665015699326987, -0.3215134793832769, 2.2006939363165583, -0.0642731305817795, -0.06722249427021736, -0.7606245671921829, -0.011501944221071154, 0.41632838029502583, 0.08283379610948835, 0.6973631246869717, 1.3319206881954702, 1.0618863974579766, -1.032164232081873, 0.08631207258907114, -0.8749170327076585, 0.9561424070698766, 2.0812454986913953, 0.013611597742900088, 2.010755001659486, -0.3840367437614046, -0.48611375514496025, -1.0010787717614296, -0.7111060970108366, -0.88155225575621, -0.7912570519536614, -0.8482443659483541, 0.009417046372797853, -0.6613874723923325, -0.43179805587229253, -1.1868260308228515, -1.3010165341303017, 1.0793955367330281, -1.21888688132927, 1.7860641751165047, 0.799656633173967, -0.5334780327036241, -1.209424809475077, -1.1424053312617162, 1.2579717508561836, -2.0605485025033214, 0.13710078395039346, -0.5916349564207652, 0.3029899541504856, -0.22663502770322, -0.5804854045400992, -1.9025506699911556, 0.11876147332063057, 0.9257965150343771, -0.18073318129062516, 1.5055537662684682, -0.8089910678807307, -0.11721228265202219, -0.5997238871075966, -1.142021786149684, 0.09936348427841284, 1.4931562081498957, -1.5547024729001584, 0.5910489953515512, -0.059929917251002024, 1.0696616107968673, 0.8021825757324219, 1.439330784471317, -0.6110907124127478, 1.0024882398083432, -1.7022888335987154, 0.05188306699545878, 1.7097829525296082, -1.5080847746237727, 0.6911601517780541, -1.0036454775392192, 0.8135518250358234, -0.9300649797636137, -0.21514900583841184, 0.7078344365890838, 0.04089091390206245, 0.10570034421779602, 2.615277534759449, -0.3407781816207968, -0.7062667539668542, 0.7414974982831658, -0.9158253246310815, -0.4412896880881209, 1.5879126191662924, 0.0021807237198163483, 0.4941846844869749, 0.7951021730994977, -0.9137616880373952, -1.9780362146807235, -0.7076722808592804, -1.8884123353793303, 0.7626559205689569, -1.6959998148682438, 0.07953368201121154, 0.7781058966122304, 1.27600917408759], \"xaxis\": \"x\", \"yaxis\": \"y\"}, {\"line\": {\"color\": \"rgba(128, 128, 128, 1.0)\", \"dash\": \"solid\", \"shape\": \"linear\", \"width\": 1.3}, \"marker\": {\"size\": 2, \"symbol\": \"circle\"}, \"mode\": \"markers\", \"name\": \"A\", \"text\": \"\", \"type\": \"scatter\", \"x\": [1.3805021359727088, 0.6876562345194515, 1.744426205438441, 1.3482770883045914, -0.634248067300063, -0.034294271166742524, 0.08697205812033731, 0.18165054261005958, -0.4947130519966682, 1.1926577197445511, -0.20717482602811665, -2.5133130507450065, 0.5849565071647904, -1.1419275913432483, -1.0989250107348194, -0.7187949424743807, -0.4925908219897006, -0.8053500686902227, 1.3214954358061495, 0.650458182102288, 0.7831813622092171, 0.07498582897569142, 0.6523450877465203, -0.5783833322107474, 0.31063691916746256, 0.5339759772715772, -0.9341694521216017, 0.1636579101222258, 0.7914756036817695, 0.14946115975322116, 1.655598160883892, 0.7246961444793382, -1.2954830292755444, 0.9695475826517964, -0.2964187051363097, 2.7033995079178443, -0.38178103307087197, 1.1295086160797756, 1.527880017753105, 0.905536015852373, 0.29805175373631065, -0.5754351908083993, 0.29082064681038583, 0.7586137695438394, 1.1349899407660182, 0.6717992725911085, -0.31428779368983534, -0.18220919871777175, 2.1597698090177797, -1.419379997025609, -0.8461014276372388, 0.41864875994912204, 0.8148702380518698, 0.019606695965507532, -1.1837488988129978, 1.1806831481053504, -0.6107919824591864, -0.23111979494516535, -0.9367596799948575, -1.6339807125647547, -1.8372441832889166, 2.5168011421762055, -1.5382411271982206, 0.6254374573450555, -0.29144223018409665, 0.25280094962187494, 0.9341401560731483, 0.4593226701114746, 0.37090012110200604, 2.5485602361509896, -0.2384223669142262, -1.4965726279770937, -0.9143776712501855, 0.6240127588983286, 0.9349261687864068, 1.1302133290065983, -1.9122547142011879, 2.1612111542650148, -1.170401489694811, 1.4844344274345278, 0.425068571796391, 1.0836427308909355, -1.2092550831621383, -0.05373370286349067, -2.329782253481326, 0.9931882640309181, -0.7440493223711631, -0.8690298054021338, -1.3870236796099518, -0.235118566464218, -0.804128615713205, -2.091537810580936, 0.566865783198684, -1.511924883938343, -0.9600094189448816, -0.382769475864104, -0.43678813895890783, 1.4503730185316464, -1.1598452079499255, 0.0007072242767753852], \"xaxis\": \"x2\", \"y\": [1.4057168758225187, 0.09635109794516898, -0.8075775662482514, 1.85671902279818, 1.3564610889782882, -1.0665015699326987, -0.3215134793832769, 2.2006939363165583, -0.0642731305817795, -0.06722249427021736, -0.7606245671921829, -0.011501944221071154, 0.41632838029502583, 0.08283379610948835, 0.6973631246869717, 1.3319206881954702, 1.0618863974579766, -1.032164232081873, 0.08631207258907114, -0.8749170327076585, 0.9561424070698766, 2.0812454986913953, 0.013611597742900088, 2.010755001659486, -0.3840367437614046, -0.48611375514496025, -1.0010787717614296, -0.7111060970108366, -0.88155225575621, -0.7912570519536614, -0.8482443659483541, 0.009417046372797853, -0.6613874723923325, -0.43179805587229253, -1.1868260308228515, -1.3010165341303017, 1.0793955367330281, -1.21888688132927, 1.7860641751165047, 0.799656633173967, -0.5334780327036241, -1.209424809475077, -1.1424053312617162, 1.2579717508561836, -2.0605485025033214, 0.13710078395039346, -0.5916349564207652, 0.3029899541504856, -0.22663502770322, -0.5804854045400992, -1.9025506699911556, 0.11876147332063057, 0.9257965150343771, -0.18073318129062516, 1.5055537662684682, -0.8089910678807307, -0.11721228265202219, -0.5997238871075966, -1.142021786149684, 0.09936348427841284, 1.4931562081498957, -1.5547024729001584, 0.5910489953515512, -0.059929917251002024, 1.0696616107968673, 0.8021825757324219, 1.439330784471317, -0.6110907124127478, 1.0024882398083432, -1.7022888335987154, 0.05188306699545878, 1.7097829525296082, -1.5080847746237727, 0.6911601517780541, -1.0036454775392192, 0.8135518250358234, -0.9300649797636137, -0.21514900583841184, 0.7078344365890838, 0.04089091390206245, 0.10570034421779602, 2.615277534759449, -0.3407781816207968, -0.7062667539668542, 0.7414974982831658, -0.9158253246310815, -0.4412896880881209, 1.5879126191662924, 0.0021807237198163483, 0.4941846844869749, 0.7951021730994977, -0.9137616880373952, -1.9780362146807235, -0.7076722808592804, -1.8884123353793303, 0.7626559205689569, -1.6959998148682438, 0.07953368201121154, 0.7781058966122304, 1.27600917408759], \"yaxis\": \"y2\"}, {\"line\": {\"color\": \"rgba(128, 128, 128, 1.0)\", \"dash\": \"solid\", \"shape\": \"linear\", \"width\": 1.3}, \"marker\": {\"size\": 2, \"symbol\": \"circle\"}, \"mode\": \"markers\", \"name\": \"A\", \"text\": \"\", \"type\": \"scatter\", \"x\": [-1.1315887482993132, -1.043249659417771, -1.9948531746772895, 1.795000966257885, -0.6439270205764843, -0.07599144992076311, -0.8620731306430194, 0.807821347431704, 0.1645823525494116, -0.49705555090732095, 0.11277695324474271, 0.13768702694255086, -0.49497335135905357, -0.37055686394093956, 0.3462421356520415, 0.19217855501706763, 0.6995582206408196, -0.37267108482119066, 1.9162749789438134, 1.7334988933452553, 1.251182443212679, -1.0327078702757677, -1.8831806648318619, -0.1731389197012337, 1.1906164559173318, -1.2376436879881365, 0.5512247370706185, -0.7773953390281098, -0.2145414159475325, 0.08160625235528286, -0.8013126367632013, -0.5169004564348985, 0.114578057733446, 0.2629355821748631, 0.1499105407004821, -1.2797422511235341, -0.2185907991829561, 1.5876256028774887, 1.844734348839343, -0.22537037743304106, -0.3577178964433195, 0.2852652075753454, -0.7957362488414707, 0.152228318070937, -0.8332063901430532, -0.14906978759205242, 2.033481598612253, 0.8060825170977222, 1.5810291360916122, 1.07858888313611, 0.2319701751978771, -0.1867491497701328, -0.7945408640583943, -0.9095698226185984, 0.8251905215614825, -0.8567655124673546, 0.18704912987968247, -0.15721637891871143, 1.2721569476374628, -0.19037233012862115, -0.96458609763036, 1.410741547617211, -1.451864911072176, -0.9675044690625731, -0.7917168423644747, -1.072796793830219, -1.0900923925783632, 0.9391138095792427, 1.1763217705881877, -0.28819859093464983, -0.5828980206044104, 1.4744624076749038, 0.03650023059250771, 0.43319878637361814, -0.34457754693362536, 0.19754823018576603, -0.26991096377234675, 2.6272817860367486, 0.634965451155606, 1.7191188241692776, -0.3311344208925331, 0.7573677922867134, 1.5592178010488686, -1.9237045548603335, 0.4273812145391577, -0.9038966093651511, 1.0095634019675388, 1.233815706015572, -0.5267712715038746, -2.1175558308537017, -0.6526419662081552, -0.4670849734778064, -0.7368599515217935, -0.6893478170257809, -0.20668010608459114, -2.405150714008861, 0.7082636710161015, 0.4311521595364321, -0.07251010714992599, -1.7006410114857302], \"xaxis\": \"x3\", \"y\": [1.4057168758225187, 0.09635109794516898, -0.8075775662482514, 1.85671902279818, 1.3564610889782882, -1.0665015699326987, -0.3215134793832769, 2.2006939363165583, -0.0642731305817795, -0.06722249427021736, -0.7606245671921829, -0.011501944221071154, 0.41632838029502583, 0.08283379610948835, 0.6973631246869717, 1.3319206881954702, 1.0618863974579766, -1.032164232081873, 0.08631207258907114, -0.8749170327076585, 0.9561424070698766, 2.0812454986913953, 0.013611597742900088, 2.010755001659486, -0.3840367437614046, -0.48611375514496025, -1.0010787717614296, -0.7111060970108366, -0.88155225575621, -0.7912570519536614, -0.8482443659483541, 0.009417046372797853, -0.6613874723923325, -0.43179805587229253, -1.1868260308228515, -1.3010165341303017, 1.0793955367330281, -1.21888688132927, 1.7860641751165047, 0.799656633173967, -0.5334780327036241, -1.209424809475077, -1.1424053312617162, 1.2579717508561836, -2.0605485025033214, 0.13710078395039346, -0.5916349564207652, 0.3029899541504856, -0.22663502770322, -0.5804854045400992, -1.9025506699911556, 0.11876147332063057, 0.9257965150343771, -0.18073318129062516, 1.5055537662684682, -0.8089910678807307, -0.11721228265202219, -0.5997238871075966, -1.142021786149684, 0.09936348427841284, 1.4931562081498957, -1.5547024729001584, 0.5910489953515512, -0.059929917251002024, 1.0696616107968673, 0.8021825757324219, 1.439330784471317, -0.6110907124127478, 1.0024882398083432, -1.7022888335987154, 0.05188306699545878, 1.7097829525296082, -1.5080847746237727, 0.6911601517780541, -1.0036454775392192, 0.8135518250358234, -0.9300649797636137, -0.21514900583841184, 0.7078344365890838, 0.04089091390206245, 0.10570034421779602, 2.615277534759449, -0.3407781816207968, -0.7062667539668542, 0.7414974982831658, -0.9158253246310815, -0.4412896880881209, 1.5879126191662924, 0.0021807237198163483, 0.4941846844869749, 0.7951021730994977, -0.9137616880373952, -1.9780362146807235, -0.7076722808592804, -1.8884123353793303, 0.7626559205689569, -1.6959998148682438, 0.07953368201121154, 0.7781058966122304, 1.27600917408759], \"yaxis\": \"y3\"}, {\"line\": {\"color\": \"rgba(128, 128, 128, 1.0)\", \"dash\": \"solid\", \"shape\": \"linear\", \"width\": 1.3}, \"marker\": {\"size\": 2, \"symbol\": \"circle\"}, \"mode\": \"markers\", \"name\": \"A\", \"text\": \"\", \"type\": \"scatter\", \"x\": [-0.07556542121134661, -0.8183199405961011, 1.0334465082732396, -0.6227025938080888, 1.0269451234814744, -1.4309440691028066, 0.33382525333472135, -0.5136943526846811, -0.5726578044637678, -0.054700614757421294, 0.39304570327098487, 0.3450187319889111, 0.37165748052730874, -1.8451143641223184, -0.4346916643049665, 0.9695803086428616, -1.6238583650473877, 0.2091847975870636, -0.8616799361749952, -0.10957913893920151, -0.12991941745315264, 0.6850137018573873, 1.622744931697246, 1.5593626147438386, -1.723786366407721, 0.7329715508939461, 0.39831664748170265, 0.6686707918578688, 0.6765077152561568, -0.590645496453386, 0.34677385573121666, 0.4118791766192136, -0.918647297548565, -1.3039209080506904, 0.521566084351569, -0.06386809916886285, 0.1125454802321883, 0.11329151851463924, 1.0070843116474493, -0.7922136552618687, -1.3660056671284202, 0.3919268139065681, -0.331535756662957, -0.8667660795218105, -1.0656226329031444, -1.1487653763192418, 0.720370537591933, 1.628532426776231, 1.4659105244650705, 0.4536789646423173, -0.3997028352902282, -0.4198680723019248, 0.3529676122922959, 1.3071481008776296, 0.05960064396185711, 0.5014756373675243, 1.6521531412089567, -1.241677422272562, 0.051155118852328846, 0.08146363202689737, -0.5998295036990625, 0.525297261397527, 1.1376606438237558, 0.49111046953841125, 0.5367638826505009, -0.9820432115922464, -0.3380444743033437, -1.0959616364064138, 0.14189700880993317, 1.2256553734534632, -0.899445236677122, -0.499149874869314, -0.2784621153768592, -1.784376134711761, -0.4050614240095866, 0.38175326989240105, 0.1530187742495216, -1.8230955543230376, 0.5210317367175072, 0.33271912972225115, -0.6718359237286943, 0.05927496248327188, -0.9979692802489852, -0.6366550887913068, -0.8977204330863173, -0.009478227360934864, 1.877269962066179, 0.10224615885828611, -1.10394498962729, 0.43485342230923235, 0.6471875563292759, -0.9417404984112272, 1.0126111565103906, -0.5197970022115806, 0.006351587203595149, -0.20772290117180742, 0.9375634333957914, 0.4581473343766965, -0.8169477360465902, 1.408231237100532], \"xaxis\": \"x4\", \"y\": [1.4057168758225187, 0.09635109794516898, -0.8075775662482514, 1.85671902279818, 1.3564610889782882, -1.0665015699326987, -0.3215134793832769, 2.2006939363165583, -0.0642731305817795, -0.06722249427021736, -0.7606245671921829, -0.011501944221071154, 0.41632838029502583, 0.08283379610948835, 0.6973631246869717, 1.3319206881954702, 1.0618863974579766, -1.032164232081873, 0.08631207258907114, -0.8749170327076585, 0.9561424070698766, 2.0812454986913953, 0.013611597742900088, 2.010755001659486, -0.3840367437614046, -0.48611375514496025, -1.0010787717614296, -0.7111060970108366, -0.88155225575621, -0.7912570519536614, -0.8482443659483541, 0.009417046372797853, -0.6613874723923325, -0.43179805587229253, -1.1868260308228515, -1.3010165341303017, 1.0793955367330281, -1.21888688132927, 1.7860641751165047, 0.799656633173967, -0.5334780327036241, -1.209424809475077, -1.1424053312617162, 1.2579717508561836, -2.0605485025033214, 0.13710078395039346, -0.5916349564207652, 0.3029899541504856, -0.22663502770322, -0.5804854045400992, -1.9025506699911556, 0.11876147332063057, 0.9257965150343771, -0.18073318129062516, 1.5055537662684682, -0.8089910678807307, -0.11721228265202219, -0.5997238871075966, -1.142021786149684, 0.09936348427841284, 1.4931562081498957, -1.5547024729001584, 0.5910489953515512, -0.059929917251002024, 1.0696616107968673, 0.8021825757324219, 1.439330784471317, -0.6110907124127478, 1.0024882398083432, -1.7022888335987154, 0.05188306699545878, 1.7097829525296082, -1.5080847746237727, 0.6911601517780541, -1.0036454775392192, 0.8135518250358234, -0.9300649797636137, -0.21514900583841184, 0.7078344365890838, 0.04089091390206245, 0.10570034421779602, 2.615277534759449, -0.3407781816207968, -0.7062667539668542, 0.7414974982831658, -0.9158253246310815, -0.4412896880881209, 1.5879126191662924, 0.0021807237198163483, 0.4941846844869749, 0.7951021730994977, -0.9137616880373952, -1.9780362146807235, -0.7076722808592804, -1.8884123353793303, 0.7626559205689569, -1.6959998148682438, 0.07953368201121154, 0.7781058966122304, 1.27600917408759], \"yaxis\": \"y4\"}, {\"line\": {\"color\": \"rgba(128, 128, 128, 1.0)\", \"dash\": \"solid\", \"shape\": \"linear\", \"width\": 1.3}, \"marker\": {\"size\": 2, \"symbol\": \"circle\"}, \"mode\": \"markers\", \"name\": \"B\", \"text\": \"\", \"type\": \"scatter\", \"x\": [1.4057168758225187, 0.09635109794516898, -0.8075775662482514, 1.85671902279818, 1.3564610889782882, -1.0665015699326987, -0.3215134793832769, 2.2006939363165583, -0.0642731305817795, -0.06722249427021736, -0.7606245671921829, -0.011501944221071154, 0.41632838029502583, 0.08283379610948835, 0.6973631246869717, 1.3319206881954702, 1.0618863974579766, -1.032164232081873, 0.08631207258907114, -0.8749170327076585, 0.9561424070698766, 2.0812454986913953, 0.013611597742900088, 2.010755001659486, -0.3840367437614046, -0.48611375514496025, -1.0010787717614296, -0.7111060970108366, -0.88155225575621, -0.7912570519536614, -0.8482443659483541, 0.009417046372797853, -0.6613874723923325, -0.43179805587229253, -1.1868260308228515, -1.3010165341303017, 1.0793955367330281, -1.21888688132927, 1.7860641751165047, 0.799656633173967, -0.5334780327036241, -1.209424809475077, -1.1424053312617162, 1.2579717508561836, -2.0605485025033214, 0.13710078395039346, -0.5916349564207652, 0.3029899541504856, -0.22663502770322, -0.5804854045400992, -1.9025506699911556, 0.11876147332063057, 0.9257965150343771, -0.18073318129062516, 1.5055537662684682, -0.8089910678807307, -0.11721228265202219, -0.5997238871075966, -1.142021786149684, 0.09936348427841284, 1.4931562081498957, -1.5547024729001584, 0.5910489953515512, -0.059929917251002024, 1.0696616107968673, 0.8021825757324219, 1.439330784471317, -0.6110907124127478, 1.0024882398083432, -1.7022888335987154, 0.05188306699545878, 1.7097829525296082, -1.5080847746237727, 0.6911601517780541, -1.0036454775392192, 0.8135518250358234, -0.9300649797636137, -0.21514900583841184, 0.7078344365890838, 0.04089091390206245, 0.10570034421779602, 2.615277534759449, -0.3407781816207968, -0.7062667539668542, 0.7414974982831658, -0.9158253246310815, -0.4412896880881209, 1.5879126191662924, 0.0021807237198163483, 0.4941846844869749, 0.7951021730994977, -0.9137616880373952, -1.9780362146807235, -0.7076722808592804, -1.8884123353793303, 0.7626559205689569, -1.6959998148682438, 0.07953368201121154, 0.7781058966122304, 1.27600917408759], \"xaxis\": \"x5\", \"y\": [1.3805021359727088, 0.6876562345194515, 1.744426205438441, 1.3482770883045914, -0.634248067300063, -0.034294271166742524, 0.08697205812033731, 0.18165054261005958, -0.4947130519966682, 1.1926577197445511, -0.20717482602811665, -2.5133130507450065, 0.5849565071647904, -1.1419275913432483, -1.0989250107348194, -0.7187949424743807, -0.4925908219897006, -0.8053500686902227, 1.3214954358061495, 0.650458182102288, 0.7831813622092171, 0.07498582897569142, 0.6523450877465203, -0.5783833322107474, 0.31063691916746256, 0.5339759772715772, -0.9341694521216017, 0.1636579101222258, 0.7914756036817695, 0.14946115975322116, 1.655598160883892, 0.7246961444793382, -1.2954830292755444, 0.9695475826517964, -0.2964187051363097, 2.7033995079178443, -0.38178103307087197, 1.1295086160797756, 1.527880017753105, 0.905536015852373, 0.29805175373631065, -0.5754351908083993, 0.29082064681038583, 0.7586137695438394, 1.1349899407660182, 0.6717992725911085, -0.31428779368983534, -0.18220919871777175, 2.1597698090177797, -1.419379997025609, -0.8461014276372388, 0.41864875994912204, 0.8148702380518698, 0.019606695965507532, -1.1837488988129978, 1.1806831481053504, -0.6107919824591864, -0.23111979494516535, -0.9367596799948575, -1.6339807125647547, -1.8372441832889166, 2.5168011421762055, -1.5382411271982206, 0.6254374573450555, -0.29144223018409665, 0.25280094962187494, 0.9341401560731483, 0.4593226701114746, 0.37090012110200604, 2.5485602361509896, -0.2384223669142262, -1.4965726279770937, -0.9143776712501855, 0.6240127588983286, 0.9349261687864068, 1.1302133290065983, -1.9122547142011879, 2.1612111542650148, -1.170401489694811, 1.4844344274345278, 0.425068571796391, 1.0836427308909355, -1.2092550831621383, -0.05373370286349067, -2.329782253481326, 0.9931882640309181, -0.7440493223711631, -0.8690298054021338, -1.3870236796099518, -0.235118566464218, -0.804128615713205, -2.091537810580936, 0.566865783198684, -1.511924883938343, -0.9600094189448816, -0.382769475864104, -0.43678813895890783, 1.4503730185316464, -1.1598452079499255, 0.0007072242767753852], \"yaxis\": \"y5\"}, {\"histfunc\": \"count\", \"histnorm\": \"\", \"marker\": {\"color\": \"rgba(55, 128, 191, 1.0)\", \"line\": {\"color\": \"#4D5663\", \"width\": 1.3}}, \"name\": \"B\", \"nbinsx\": 10, \"opacity\": 0.8, \"orientation\": \"v\", \"type\": \"histogram\", \"x\": [1.3805021359727088, 0.6876562345194515, 1.744426205438441, 1.3482770883045914, -0.634248067300063, -0.034294271166742524, 0.08697205812033731, 0.18165054261005958, -0.4947130519966682, 1.1926577197445511, -0.20717482602811665, -2.5133130507450065, 0.5849565071647904, -1.1419275913432483, -1.0989250107348194, -0.7187949424743807, -0.4925908219897006, -0.8053500686902227, 1.3214954358061495, 0.650458182102288, 0.7831813622092171, 0.07498582897569142, 0.6523450877465203, -0.5783833322107474, 0.31063691916746256, 0.5339759772715772, -0.9341694521216017, 0.1636579101222258, 0.7914756036817695, 0.14946115975322116, 1.655598160883892, 0.7246961444793382, -1.2954830292755444, 0.9695475826517964, -0.2964187051363097, 2.7033995079178443, -0.38178103307087197, 1.1295086160797756, 1.527880017753105, 0.905536015852373, 0.29805175373631065, -0.5754351908083993, 0.29082064681038583, 0.7586137695438394, 1.1349899407660182, 0.6717992725911085, -0.31428779368983534, -0.18220919871777175, 2.1597698090177797, -1.419379997025609, -0.8461014276372388, 0.41864875994912204, 0.8148702380518698, 0.019606695965507532, -1.1837488988129978, 1.1806831481053504, -0.6107919824591864, -0.23111979494516535, -0.9367596799948575, -1.6339807125647547, -1.8372441832889166, 2.5168011421762055, -1.5382411271982206, 0.6254374573450555, -0.29144223018409665, 0.25280094962187494, 0.9341401560731483, 0.4593226701114746, 0.37090012110200604, 2.5485602361509896, -0.2384223669142262, -1.4965726279770937, -0.9143776712501855, 0.6240127588983286, 0.9349261687864068, 1.1302133290065983, -1.9122547142011879, 2.1612111542650148, -1.170401489694811, 1.4844344274345278, 0.425068571796391, 1.0836427308909355, -1.2092550831621383, -0.05373370286349067, -2.329782253481326, 0.9931882640309181, -0.7440493223711631, -0.8690298054021338, -1.3870236796099518, -0.235118566464218, -0.804128615713205, -2.091537810580936, 0.566865783198684, -1.511924883938343, -0.9600094189448816, -0.382769475864104, -0.43678813895890783, 1.4503730185316464, -1.1598452079499255, 0.0007072242767753852], \"xaxis\": \"x6\", \"yaxis\": \"y6\"}, {\"line\": {\"color\": \"rgba(128, 128, 128, 1.0)\", \"dash\": \"solid\", \"shape\": \"linear\", \"width\": 1.3}, \"marker\": {\"size\": 2, \"symbol\": \"circle\"}, \"mode\": \"markers\", \"name\": \"B\", \"text\": \"\", \"type\": \"scatter\", \"x\": [-1.1315887482993132, -1.043249659417771, -1.9948531746772895, 1.795000966257885, -0.6439270205764843, -0.07599144992076311, -0.8620731306430194, 0.807821347431704, 0.1645823525494116, -0.49705555090732095, 0.11277695324474271, 0.13768702694255086, -0.49497335135905357, -0.37055686394093956, 0.3462421356520415, 0.19217855501706763, 0.6995582206408196, -0.37267108482119066, 1.9162749789438134, 1.7334988933452553, 1.251182443212679, -1.0327078702757677, -1.8831806648318619, -0.1731389197012337, 1.1906164559173318, -1.2376436879881365, 0.5512247370706185, -0.7773953390281098, -0.2145414159475325, 0.08160625235528286, -0.8013126367632013, -0.5169004564348985, 0.114578057733446, 0.2629355821748631, 0.1499105407004821, -1.2797422511235341, -0.2185907991829561, 1.5876256028774887, 1.844734348839343, -0.22537037743304106, -0.3577178964433195, 0.2852652075753454, -0.7957362488414707, 0.152228318070937, -0.8332063901430532, -0.14906978759205242, 2.033481598612253, 0.8060825170977222, 1.5810291360916122, 1.07858888313611, 0.2319701751978771, -0.1867491497701328, -0.7945408640583943, -0.9095698226185984, 0.8251905215614825, -0.8567655124673546, 0.18704912987968247, -0.15721637891871143, 1.2721569476374628, -0.19037233012862115, -0.96458609763036, 1.410741547617211, -1.451864911072176, -0.9675044690625731, -0.7917168423644747, -1.072796793830219, -1.0900923925783632, 0.9391138095792427, 1.1763217705881877, -0.28819859093464983, -0.5828980206044104, 1.4744624076749038, 0.03650023059250771, 0.43319878637361814, -0.34457754693362536, 0.19754823018576603, -0.26991096377234675, 2.6272817860367486, 0.634965451155606, 1.7191188241692776, -0.3311344208925331, 0.7573677922867134, 1.5592178010488686, -1.9237045548603335, 0.4273812145391577, -0.9038966093651511, 1.0095634019675388, 1.233815706015572, -0.5267712715038746, -2.1175558308537017, -0.6526419662081552, -0.4670849734778064, -0.7368599515217935, -0.6893478170257809, -0.20668010608459114, -2.405150714008861, 0.7082636710161015, 0.4311521595364321, -0.07251010714992599, -1.7006410114857302], \"xaxis\": \"x7\", \"y\": [1.3805021359727088, 0.6876562345194515, 1.744426205438441, 1.3482770883045914, -0.634248067300063, -0.034294271166742524, 0.08697205812033731, 0.18165054261005958, -0.4947130519966682, 1.1926577197445511, -0.20717482602811665, -2.5133130507450065, 0.5849565071647904, -1.1419275913432483, -1.0989250107348194, -0.7187949424743807, -0.4925908219897006, -0.8053500686902227, 1.3214954358061495, 0.650458182102288, 0.7831813622092171, 0.07498582897569142, 0.6523450877465203, -0.5783833322107474, 0.31063691916746256, 0.5339759772715772, -0.9341694521216017, 0.1636579101222258, 0.7914756036817695, 0.14946115975322116, 1.655598160883892, 0.7246961444793382, -1.2954830292755444, 0.9695475826517964, -0.2964187051363097, 2.7033995079178443, -0.38178103307087197, 1.1295086160797756, 1.527880017753105, 0.905536015852373, 0.29805175373631065, -0.5754351908083993, 0.29082064681038583, 0.7586137695438394, 1.1349899407660182, 0.6717992725911085, -0.31428779368983534, -0.18220919871777175, 2.1597698090177797, -1.419379997025609, -0.8461014276372388, 0.41864875994912204, 0.8148702380518698, 0.019606695965507532, -1.1837488988129978, 1.1806831481053504, -0.6107919824591864, -0.23111979494516535, -0.9367596799948575, -1.6339807125647547, -1.8372441832889166, 2.5168011421762055, -1.5382411271982206, 0.6254374573450555, -0.29144223018409665, 0.25280094962187494, 0.9341401560731483, 0.4593226701114746, 0.37090012110200604, 2.5485602361509896, -0.2384223669142262, -1.4965726279770937, -0.9143776712501855, 0.6240127588983286, 0.9349261687864068, 1.1302133290065983, -1.9122547142011879, 2.1612111542650148, -1.170401489694811, 1.4844344274345278, 0.425068571796391, 1.0836427308909355, -1.2092550831621383, -0.05373370286349067, -2.329782253481326, 0.9931882640309181, -0.7440493223711631, -0.8690298054021338, -1.3870236796099518, -0.235118566464218, -0.804128615713205, -2.091537810580936, 0.566865783198684, -1.511924883938343, -0.9600094189448816, -0.382769475864104, -0.43678813895890783, 1.4503730185316464, -1.1598452079499255, 0.0007072242767753852], \"yaxis\": \"y7\"}, {\"line\": {\"color\": \"rgba(128, 128, 128, 1.0)\", \"dash\": \"solid\", \"shape\": \"linear\", \"width\": 1.3}, \"marker\": {\"size\": 2, \"symbol\": \"circle\"}, \"mode\": \"markers\", \"name\": \"B\", \"text\": \"\", \"type\": \"scatter\", \"x\": [-0.07556542121134661, -0.8183199405961011, 1.0334465082732396, -0.6227025938080888, 1.0269451234814744, -1.4309440691028066, 0.33382525333472135, -0.5136943526846811, -0.5726578044637678, -0.054700614757421294, 0.39304570327098487, 0.3450187319889111, 0.37165748052730874, -1.8451143641223184, -0.4346916643049665, 0.9695803086428616, -1.6238583650473877, 0.2091847975870636, -0.8616799361749952, -0.10957913893920151, -0.12991941745315264, 0.6850137018573873, 1.622744931697246, 1.5593626147438386, -1.723786366407721, 0.7329715508939461, 0.39831664748170265, 0.6686707918578688, 0.6765077152561568, -0.590645496453386, 0.34677385573121666, 0.4118791766192136, -0.918647297548565, -1.3039209080506904, 0.521566084351569, -0.06386809916886285, 0.1125454802321883, 0.11329151851463924, 1.0070843116474493, -0.7922136552618687, -1.3660056671284202, 0.3919268139065681, -0.331535756662957, -0.8667660795218105, -1.0656226329031444, -1.1487653763192418, 0.720370537591933, 1.628532426776231, 1.4659105244650705, 0.4536789646423173, -0.3997028352902282, -0.4198680723019248, 0.3529676122922959, 1.3071481008776296, 0.05960064396185711, 0.5014756373675243, 1.6521531412089567, -1.241677422272562, 0.051155118852328846, 0.08146363202689737, -0.5998295036990625, 0.525297261397527, 1.1376606438237558, 0.49111046953841125, 0.5367638826505009, -0.9820432115922464, -0.3380444743033437, -1.0959616364064138, 0.14189700880993317, 1.2256553734534632, -0.899445236677122, -0.499149874869314, -0.2784621153768592, -1.784376134711761, -0.4050614240095866, 0.38175326989240105, 0.1530187742495216, -1.8230955543230376, 0.5210317367175072, 0.33271912972225115, -0.6718359237286943, 0.05927496248327188, -0.9979692802489852, -0.6366550887913068, -0.8977204330863173, -0.009478227360934864, 1.877269962066179, 0.10224615885828611, -1.10394498962729, 0.43485342230923235, 0.6471875563292759, -0.9417404984112272, 1.0126111565103906, -0.5197970022115806, 0.006351587203595149, -0.20772290117180742, 0.9375634333957914, 0.4581473343766965, -0.8169477360465902, 1.408231237100532], \"xaxis\": \"x8\", \"y\": [1.3805021359727088, 0.6876562345194515, 1.744426205438441, 1.3482770883045914, -0.634248067300063, -0.034294271166742524, 0.08697205812033731, 0.18165054261005958, -0.4947130519966682, 1.1926577197445511, -0.20717482602811665, -2.5133130507450065, 0.5849565071647904, -1.1419275913432483, -1.0989250107348194, -0.7187949424743807, -0.4925908219897006, -0.8053500686902227, 1.3214954358061495, 0.650458182102288, 0.7831813622092171, 0.07498582897569142, 0.6523450877465203, -0.5783833322107474, 0.31063691916746256, 0.5339759772715772, -0.9341694521216017, 0.1636579101222258, 0.7914756036817695, 0.14946115975322116, 1.655598160883892, 0.7246961444793382, -1.2954830292755444, 0.9695475826517964, -0.2964187051363097, 2.7033995079178443, -0.38178103307087197, 1.1295086160797756, 1.527880017753105, 0.905536015852373, 0.29805175373631065, -0.5754351908083993, 0.29082064681038583, 0.7586137695438394, 1.1349899407660182, 0.6717992725911085, -0.31428779368983534, -0.18220919871777175, 2.1597698090177797, -1.419379997025609, -0.8461014276372388, 0.41864875994912204, 0.8148702380518698, 0.019606695965507532, -1.1837488988129978, 1.1806831481053504, -0.6107919824591864, -0.23111979494516535, -0.9367596799948575, -1.6339807125647547, -1.8372441832889166, 2.5168011421762055, -1.5382411271982206, 0.6254374573450555, -0.29144223018409665, 0.25280094962187494, 0.9341401560731483, 0.4593226701114746, 0.37090012110200604, 2.5485602361509896, -0.2384223669142262, -1.4965726279770937, -0.9143776712501855, 0.6240127588983286, 0.9349261687864068, 1.1302133290065983, -1.9122547142011879, 2.1612111542650148, -1.170401489694811, 1.4844344274345278, 0.425068571796391, 1.0836427308909355, -1.2092550831621383, -0.05373370286349067, -2.329782253481326, 0.9931882640309181, -0.7440493223711631, -0.8690298054021338, -1.3870236796099518, -0.235118566464218, -0.804128615713205, -2.091537810580936, 0.566865783198684, -1.511924883938343, -0.9600094189448816, -0.382769475864104, -0.43678813895890783, 1.4503730185316464, -1.1598452079499255, 0.0007072242767753852], \"yaxis\": \"y8\"}, {\"line\": {\"color\": \"rgba(128, 128, 128, 1.0)\", \"dash\": \"solid\", \"shape\": \"linear\", \"width\": 1.3}, \"marker\": {\"size\": 2, \"symbol\": \"circle\"}, \"mode\": \"markers\", \"name\": \"C\", \"text\": \"\", \"type\": \"scatter\", \"x\": [1.4057168758225187, 0.09635109794516898, -0.8075775662482514, 1.85671902279818, 1.3564610889782882, -1.0665015699326987, -0.3215134793832769, 2.2006939363165583, -0.0642731305817795, -0.06722249427021736, -0.7606245671921829, -0.011501944221071154, 0.41632838029502583, 0.08283379610948835, 0.6973631246869717, 1.3319206881954702, 1.0618863974579766, -1.032164232081873, 0.08631207258907114, -0.8749170327076585, 0.9561424070698766, 2.0812454986913953, 0.013611597742900088, 2.010755001659486, -0.3840367437614046, -0.48611375514496025, -1.0010787717614296, -0.7111060970108366, -0.88155225575621, -0.7912570519536614, -0.8482443659483541, 0.009417046372797853, -0.6613874723923325, -0.43179805587229253, -1.1868260308228515, -1.3010165341303017, 1.0793955367330281, -1.21888688132927, 1.7860641751165047, 0.799656633173967, -0.5334780327036241, -1.209424809475077, -1.1424053312617162, 1.2579717508561836, -2.0605485025033214, 0.13710078395039346, -0.5916349564207652, 0.3029899541504856, -0.22663502770322, -0.5804854045400992, -1.9025506699911556, 0.11876147332063057, 0.9257965150343771, -0.18073318129062516, 1.5055537662684682, -0.8089910678807307, -0.11721228265202219, -0.5997238871075966, -1.142021786149684, 0.09936348427841284, 1.4931562081498957, -1.5547024729001584, 0.5910489953515512, -0.059929917251002024, 1.0696616107968673, 0.8021825757324219, 1.439330784471317, -0.6110907124127478, 1.0024882398083432, -1.7022888335987154, 0.05188306699545878, 1.7097829525296082, -1.5080847746237727, 0.6911601517780541, -1.0036454775392192, 0.8135518250358234, -0.9300649797636137, -0.21514900583841184, 0.7078344365890838, 0.04089091390206245, 0.10570034421779602, 2.615277534759449, -0.3407781816207968, -0.7062667539668542, 0.7414974982831658, -0.9158253246310815, -0.4412896880881209, 1.5879126191662924, 0.0021807237198163483, 0.4941846844869749, 0.7951021730994977, -0.9137616880373952, -1.9780362146807235, -0.7076722808592804, -1.8884123353793303, 0.7626559205689569, -1.6959998148682438, 0.07953368201121154, 0.7781058966122304, 1.27600917408759], \"xaxis\": \"x9\", \"y\": [-1.1315887482993132, -1.043249659417771, -1.9948531746772895, 1.795000966257885, -0.6439270205764843, -0.07599144992076311, -0.8620731306430194, 0.807821347431704, 0.1645823525494116, -0.49705555090732095, 0.11277695324474271, 0.13768702694255086, -0.49497335135905357, -0.37055686394093956, 0.3462421356520415, 0.19217855501706763, 0.6995582206408196, -0.37267108482119066, 1.9162749789438134, 1.7334988933452553, 1.251182443212679, -1.0327078702757677, -1.8831806648318619, -0.1731389197012337, 1.1906164559173318, -1.2376436879881365, 0.5512247370706185, -0.7773953390281098, -0.2145414159475325, 0.08160625235528286, -0.8013126367632013, -0.5169004564348985, 0.114578057733446, 0.2629355821748631, 0.1499105407004821, -1.2797422511235341, -0.2185907991829561, 1.5876256028774887, 1.844734348839343, -0.22537037743304106, -0.3577178964433195, 0.2852652075753454, -0.7957362488414707, 0.152228318070937, -0.8332063901430532, -0.14906978759205242, 2.033481598612253, 0.8060825170977222, 1.5810291360916122, 1.07858888313611, 0.2319701751978771, -0.1867491497701328, -0.7945408640583943, -0.9095698226185984, 0.8251905215614825, -0.8567655124673546, 0.18704912987968247, -0.15721637891871143, 1.2721569476374628, -0.19037233012862115, -0.96458609763036, 1.410741547617211, -1.451864911072176, -0.9675044690625731, -0.7917168423644747, -1.072796793830219, -1.0900923925783632, 0.9391138095792427, 1.1763217705881877, -0.28819859093464983, -0.5828980206044104, 1.4744624076749038, 0.03650023059250771, 0.43319878637361814, -0.34457754693362536, 0.19754823018576603, -0.26991096377234675, 2.6272817860367486, 0.634965451155606, 1.7191188241692776, -0.3311344208925331, 0.7573677922867134, 1.5592178010488686, -1.9237045548603335, 0.4273812145391577, -0.9038966093651511, 1.0095634019675388, 1.233815706015572, -0.5267712715038746, -2.1175558308537017, -0.6526419662081552, -0.4670849734778064, -0.7368599515217935, -0.6893478170257809, -0.20668010608459114, -2.405150714008861, 0.7082636710161015, 0.4311521595364321, -0.07251010714992599, -1.7006410114857302], \"yaxis\": \"y9\"}, {\"line\": {\"color\": \"rgba(128, 128, 128, 1.0)\", \"dash\": \"solid\", \"shape\": \"linear\", \"width\": 1.3}, \"marker\": {\"size\": 2, \"symbol\": \"circle\"}, \"mode\": \"markers\", \"name\": \"C\", \"text\": \"\", \"type\": \"scatter\", \"x\": [1.3805021359727088, 0.6876562345194515, 1.744426205438441, 1.3482770883045914, -0.634248067300063, -0.034294271166742524, 0.08697205812033731, 0.18165054261005958, -0.4947130519966682, 1.1926577197445511, -0.20717482602811665, -2.5133130507450065, 0.5849565071647904, -1.1419275913432483, -1.0989250107348194, -0.7187949424743807, -0.4925908219897006, -0.8053500686902227, 1.3214954358061495, 0.650458182102288, 0.7831813622092171, 0.07498582897569142, 0.6523450877465203, -0.5783833322107474, 0.31063691916746256, 0.5339759772715772, -0.9341694521216017, 0.1636579101222258, 0.7914756036817695, 0.14946115975322116, 1.655598160883892, 0.7246961444793382, -1.2954830292755444, 0.9695475826517964, -0.2964187051363097, 2.7033995079178443, -0.38178103307087197, 1.1295086160797756, 1.527880017753105, 0.905536015852373, 0.29805175373631065, -0.5754351908083993, 0.29082064681038583, 0.7586137695438394, 1.1349899407660182, 0.6717992725911085, -0.31428779368983534, -0.18220919871777175, 2.1597698090177797, -1.419379997025609, -0.8461014276372388, 0.41864875994912204, 0.8148702380518698, 0.019606695965507532, -1.1837488988129978, 1.1806831481053504, -0.6107919824591864, -0.23111979494516535, -0.9367596799948575, -1.6339807125647547, -1.8372441832889166, 2.5168011421762055, -1.5382411271982206, 0.6254374573450555, -0.29144223018409665, 0.25280094962187494, 0.9341401560731483, 0.4593226701114746, 0.37090012110200604, 2.5485602361509896, -0.2384223669142262, -1.4965726279770937, -0.9143776712501855, 0.6240127588983286, 0.9349261687864068, 1.1302133290065983, -1.9122547142011879, 2.1612111542650148, -1.170401489694811, 1.4844344274345278, 0.425068571796391, 1.0836427308909355, -1.2092550831621383, -0.05373370286349067, -2.329782253481326, 0.9931882640309181, -0.7440493223711631, -0.8690298054021338, -1.3870236796099518, -0.235118566464218, -0.804128615713205, -2.091537810580936, 0.566865783198684, -1.511924883938343, -0.9600094189448816, -0.382769475864104, -0.43678813895890783, 1.4503730185316464, -1.1598452079499255, 0.0007072242767753852], \"xaxis\": \"x10\", \"y\": [-1.1315887482993132, -1.043249659417771, -1.9948531746772895, 1.795000966257885, -0.6439270205764843, -0.07599144992076311, -0.8620731306430194, 0.807821347431704, 0.1645823525494116, -0.49705555090732095, 0.11277695324474271, 0.13768702694255086, -0.49497335135905357, -0.37055686394093956, 0.3462421356520415, 0.19217855501706763, 0.6995582206408196, -0.37267108482119066, 1.9162749789438134, 1.7334988933452553, 1.251182443212679, -1.0327078702757677, -1.8831806648318619, -0.1731389197012337, 1.1906164559173318, -1.2376436879881365, 0.5512247370706185, -0.7773953390281098, -0.2145414159475325, 0.08160625235528286, -0.8013126367632013, -0.5169004564348985, 0.114578057733446, 0.2629355821748631, 0.1499105407004821, -1.2797422511235341, -0.2185907991829561, 1.5876256028774887, 1.844734348839343, -0.22537037743304106, -0.3577178964433195, 0.2852652075753454, -0.7957362488414707, 0.152228318070937, -0.8332063901430532, -0.14906978759205242, 2.033481598612253, 0.8060825170977222, 1.5810291360916122, 1.07858888313611, 0.2319701751978771, -0.1867491497701328, -0.7945408640583943, -0.9095698226185984, 0.8251905215614825, -0.8567655124673546, 0.18704912987968247, -0.15721637891871143, 1.2721569476374628, -0.19037233012862115, -0.96458609763036, 1.410741547617211, -1.451864911072176, -0.9675044690625731, -0.7917168423644747, -1.072796793830219, -1.0900923925783632, 0.9391138095792427, 1.1763217705881877, -0.28819859093464983, -0.5828980206044104, 1.4744624076749038, 0.03650023059250771, 0.43319878637361814, -0.34457754693362536, 0.19754823018576603, -0.26991096377234675, 2.6272817860367486, 0.634965451155606, 1.7191188241692776, -0.3311344208925331, 0.7573677922867134, 1.5592178010488686, -1.9237045548603335, 0.4273812145391577, -0.9038966093651511, 1.0095634019675388, 1.233815706015572, -0.5267712715038746, -2.1175558308537017, -0.6526419662081552, -0.4670849734778064, -0.7368599515217935, -0.6893478170257809, -0.20668010608459114, -2.405150714008861, 0.7082636710161015, 0.4311521595364321, -0.07251010714992599, -1.7006410114857302], \"yaxis\": \"y10\"}, {\"histfunc\": \"count\", \"histnorm\": \"\", \"marker\": {\"color\": \"rgba(50, 171, 96, 1.0)\", \"line\": {\"color\": \"#4D5663\", \"width\": 1.3}}, \"name\": \"C\", \"nbinsx\": 10, \"opacity\": 0.8, \"orientation\": \"v\", \"type\": \"histogram\", \"x\": [-1.1315887482993132, -1.043249659417771, -1.9948531746772895, 1.795000966257885, -0.6439270205764843, -0.07599144992076311, -0.8620731306430194, 0.807821347431704, 0.1645823525494116, -0.49705555090732095, 0.11277695324474271, 0.13768702694255086, -0.49497335135905357, -0.37055686394093956, 0.3462421356520415, 0.19217855501706763, 0.6995582206408196, -0.37267108482119066, 1.9162749789438134, 1.7334988933452553, 1.251182443212679, -1.0327078702757677, -1.8831806648318619, -0.1731389197012337, 1.1906164559173318, -1.2376436879881365, 0.5512247370706185, -0.7773953390281098, -0.2145414159475325, 0.08160625235528286, -0.8013126367632013, -0.5169004564348985, 0.114578057733446, 0.2629355821748631, 0.1499105407004821, -1.2797422511235341, -0.2185907991829561, 1.5876256028774887, 1.844734348839343, -0.22537037743304106, -0.3577178964433195, 0.2852652075753454, -0.7957362488414707, 0.152228318070937, -0.8332063901430532, -0.14906978759205242, 2.033481598612253, 0.8060825170977222, 1.5810291360916122, 1.07858888313611, 0.2319701751978771, -0.1867491497701328, -0.7945408640583943, -0.9095698226185984, 0.8251905215614825, -0.8567655124673546, 0.18704912987968247, -0.15721637891871143, 1.2721569476374628, -0.19037233012862115, -0.96458609763036, 1.410741547617211, -1.451864911072176, -0.9675044690625731, -0.7917168423644747, -1.072796793830219, -1.0900923925783632, 0.9391138095792427, 1.1763217705881877, -0.28819859093464983, -0.5828980206044104, 1.4744624076749038, 0.03650023059250771, 0.43319878637361814, -0.34457754693362536, 0.19754823018576603, -0.26991096377234675, 2.6272817860367486, 0.634965451155606, 1.7191188241692776, -0.3311344208925331, 0.7573677922867134, 1.5592178010488686, -1.9237045548603335, 0.4273812145391577, -0.9038966093651511, 1.0095634019675388, 1.233815706015572, -0.5267712715038746, -2.1175558308537017, -0.6526419662081552, -0.4670849734778064, -0.7368599515217935, -0.6893478170257809, -0.20668010608459114, -2.405150714008861, 0.7082636710161015, 0.4311521595364321, -0.07251010714992599, -1.7006410114857302], \"xaxis\": \"x11\", \"yaxis\": \"y11\"}, {\"line\": {\"color\": \"rgba(128, 128, 128, 1.0)\", \"dash\": \"solid\", \"shape\": \"linear\", \"width\": 1.3}, \"marker\": {\"size\": 2, \"symbol\": \"circle\"}, \"mode\": \"markers\", \"name\": \"C\", \"text\": \"\", \"type\": \"scatter\", \"x\": [-0.07556542121134661, -0.8183199405961011, 1.0334465082732396, -0.6227025938080888, 1.0269451234814744, -1.4309440691028066, 0.33382525333472135, -0.5136943526846811, -0.5726578044637678, -0.054700614757421294, 0.39304570327098487, 0.3450187319889111, 0.37165748052730874, -1.8451143641223184, -0.4346916643049665, 0.9695803086428616, -1.6238583650473877, 0.2091847975870636, -0.8616799361749952, -0.10957913893920151, -0.12991941745315264, 0.6850137018573873, 1.622744931697246, 1.5593626147438386, -1.723786366407721, 0.7329715508939461, 0.39831664748170265, 0.6686707918578688, 0.6765077152561568, -0.590645496453386, 0.34677385573121666, 0.4118791766192136, -0.918647297548565, -1.3039209080506904, 0.521566084351569, -0.06386809916886285, 0.1125454802321883, 0.11329151851463924, 1.0070843116474493, -0.7922136552618687, -1.3660056671284202, 0.3919268139065681, -0.331535756662957, -0.8667660795218105, -1.0656226329031444, -1.1487653763192418, 0.720370537591933, 1.628532426776231, 1.4659105244650705, 0.4536789646423173, -0.3997028352902282, -0.4198680723019248, 0.3529676122922959, 1.3071481008776296, 0.05960064396185711, 0.5014756373675243, 1.6521531412089567, -1.241677422272562, 0.051155118852328846, 0.08146363202689737, -0.5998295036990625, 0.525297261397527, 1.1376606438237558, 0.49111046953841125, 0.5367638826505009, -0.9820432115922464, -0.3380444743033437, -1.0959616364064138, 0.14189700880993317, 1.2256553734534632, -0.899445236677122, -0.499149874869314, -0.2784621153768592, -1.784376134711761, -0.4050614240095866, 0.38175326989240105, 0.1530187742495216, -1.8230955543230376, 0.5210317367175072, 0.33271912972225115, -0.6718359237286943, 0.05927496248327188, -0.9979692802489852, -0.6366550887913068, -0.8977204330863173, -0.009478227360934864, 1.877269962066179, 0.10224615885828611, -1.10394498962729, 0.43485342230923235, 0.6471875563292759, -0.9417404984112272, 1.0126111565103906, -0.5197970022115806, 0.006351587203595149, -0.20772290117180742, 0.9375634333957914, 0.4581473343766965, -0.8169477360465902, 1.408231237100532], \"xaxis\": \"x12\", \"y\": [-1.1315887482993132, -1.043249659417771, -1.9948531746772895, 1.795000966257885, -0.6439270205764843, -0.07599144992076311, -0.8620731306430194, 0.807821347431704, 0.1645823525494116, -0.49705555090732095, 0.11277695324474271, 0.13768702694255086, -0.49497335135905357, -0.37055686394093956, 0.3462421356520415, 0.19217855501706763, 0.6995582206408196, -0.37267108482119066, 1.9162749789438134, 1.7334988933452553, 1.251182443212679, -1.0327078702757677, -1.8831806648318619, -0.1731389197012337, 1.1906164559173318, -1.2376436879881365, 0.5512247370706185, -0.7773953390281098, -0.2145414159475325, 0.08160625235528286, -0.8013126367632013, -0.5169004564348985, 0.114578057733446, 0.2629355821748631, 0.1499105407004821, -1.2797422511235341, -0.2185907991829561, 1.5876256028774887, 1.844734348839343, -0.22537037743304106, -0.3577178964433195, 0.2852652075753454, -0.7957362488414707, 0.152228318070937, -0.8332063901430532, -0.14906978759205242, 2.033481598612253, 0.8060825170977222, 1.5810291360916122, 1.07858888313611, 0.2319701751978771, -0.1867491497701328, -0.7945408640583943, -0.9095698226185984, 0.8251905215614825, -0.8567655124673546, 0.18704912987968247, -0.15721637891871143, 1.2721569476374628, -0.19037233012862115, -0.96458609763036, 1.410741547617211, -1.451864911072176, -0.9675044690625731, -0.7917168423644747, -1.072796793830219, -1.0900923925783632, 0.9391138095792427, 1.1763217705881877, -0.28819859093464983, -0.5828980206044104, 1.4744624076749038, 0.03650023059250771, 0.43319878637361814, -0.34457754693362536, 0.19754823018576603, -0.26991096377234675, 2.6272817860367486, 0.634965451155606, 1.7191188241692776, -0.3311344208925331, 0.7573677922867134, 1.5592178010488686, -1.9237045548603335, 0.4273812145391577, -0.9038966093651511, 1.0095634019675388, 1.233815706015572, -0.5267712715038746, -2.1175558308537017, -0.6526419662081552, -0.4670849734778064, -0.7368599515217935, -0.6893478170257809, -0.20668010608459114, -2.405150714008861, 0.7082636710161015, 0.4311521595364321, -0.07251010714992599, -1.7006410114857302], \"yaxis\": \"y12\"}, {\"line\": {\"color\": \"rgba(128, 128, 128, 1.0)\", \"dash\": \"solid\", \"shape\": \"linear\", \"width\": 1.3}, \"marker\": {\"size\": 2, \"symbol\": \"circle\"}, \"mode\": \"markers\", \"name\": \"D\", \"text\": \"\", \"type\": \"scatter\", \"x\": [1.4057168758225187, 0.09635109794516898, -0.8075775662482514, 1.85671902279818, 1.3564610889782882, -1.0665015699326987, -0.3215134793832769, 2.2006939363165583, -0.0642731305817795, -0.06722249427021736, -0.7606245671921829, -0.011501944221071154, 0.41632838029502583, 0.08283379610948835, 0.6973631246869717, 1.3319206881954702, 1.0618863974579766, -1.032164232081873, 0.08631207258907114, -0.8749170327076585, 0.9561424070698766, 2.0812454986913953, 0.013611597742900088, 2.010755001659486, -0.3840367437614046, -0.48611375514496025, -1.0010787717614296, -0.7111060970108366, -0.88155225575621, -0.7912570519536614, -0.8482443659483541, 0.009417046372797853, -0.6613874723923325, -0.43179805587229253, -1.1868260308228515, -1.3010165341303017, 1.0793955367330281, -1.21888688132927, 1.7860641751165047, 0.799656633173967, -0.5334780327036241, -1.209424809475077, -1.1424053312617162, 1.2579717508561836, -2.0605485025033214, 0.13710078395039346, -0.5916349564207652, 0.3029899541504856, -0.22663502770322, -0.5804854045400992, -1.9025506699911556, 0.11876147332063057, 0.9257965150343771, -0.18073318129062516, 1.5055537662684682, -0.8089910678807307, -0.11721228265202219, -0.5997238871075966, -1.142021786149684, 0.09936348427841284, 1.4931562081498957, -1.5547024729001584, 0.5910489953515512, -0.059929917251002024, 1.0696616107968673, 0.8021825757324219, 1.439330784471317, -0.6110907124127478, 1.0024882398083432, -1.7022888335987154, 0.05188306699545878, 1.7097829525296082, -1.5080847746237727, 0.6911601517780541, -1.0036454775392192, 0.8135518250358234, -0.9300649797636137, -0.21514900583841184, 0.7078344365890838, 0.04089091390206245, 0.10570034421779602, 2.615277534759449, -0.3407781816207968, -0.7062667539668542, 0.7414974982831658, -0.9158253246310815, -0.4412896880881209, 1.5879126191662924, 0.0021807237198163483, 0.4941846844869749, 0.7951021730994977, -0.9137616880373952, -1.9780362146807235, -0.7076722808592804, -1.8884123353793303, 0.7626559205689569, -1.6959998148682438, 0.07953368201121154, 0.7781058966122304, 1.27600917408759], \"xaxis\": \"x13\", \"y\": [-0.07556542121134661, -0.8183199405961011, 1.0334465082732396, -0.6227025938080888, 1.0269451234814744, -1.4309440691028066, 0.33382525333472135, -0.5136943526846811, -0.5726578044637678, -0.054700614757421294, 0.39304570327098487, 0.3450187319889111, 0.37165748052730874, -1.8451143641223184, -0.4346916643049665, 0.9695803086428616, -1.6238583650473877, 0.2091847975870636, -0.8616799361749952, -0.10957913893920151, -0.12991941745315264, 0.6850137018573873, 1.622744931697246, 1.5593626147438386, -1.723786366407721, 0.7329715508939461, 0.39831664748170265, 0.6686707918578688, 0.6765077152561568, -0.590645496453386, 0.34677385573121666, 0.4118791766192136, -0.918647297548565, -1.3039209080506904, 0.521566084351569, -0.06386809916886285, 0.1125454802321883, 0.11329151851463924, 1.0070843116474493, -0.7922136552618687, -1.3660056671284202, 0.3919268139065681, -0.331535756662957, -0.8667660795218105, -1.0656226329031444, -1.1487653763192418, 0.720370537591933, 1.628532426776231, 1.4659105244650705, 0.4536789646423173, -0.3997028352902282, -0.4198680723019248, 0.3529676122922959, 1.3071481008776296, 0.05960064396185711, 0.5014756373675243, 1.6521531412089567, -1.241677422272562, 0.051155118852328846, 0.08146363202689737, -0.5998295036990625, 0.525297261397527, 1.1376606438237558, 0.49111046953841125, 0.5367638826505009, -0.9820432115922464, -0.3380444743033437, -1.0959616364064138, 0.14189700880993317, 1.2256553734534632, -0.899445236677122, -0.499149874869314, -0.2784621153768592, -1.784376134711761, -0.4050614240095866, 0.38175326989240105, 0.1530187742495216, -1.8230955543230376, 0.5210317367175072, 0.33271912972225115, -0.6718359237286943, 0.05927496248327188, -0.9979692802489852, -0.6366550887913068, -0.8977204330863173, -0.009478227360934864, 1.877269962066179, 0.10224615885828611, -1.10394498962729, 0.43485342230923235, 0.6471875563292759, -0.9417404984112272, 1.0126111565103906, -0.5197970022115806, 0.006351587203595149, -0.20772290117180742, 0.9375634333957914, 0.4581473343766965, -0.8169477360465902, 1.408231237100532], \"yaxis\": \"y13\"}, {\"line\": {\"color\": \"rgba(128, 128, 128, 1.0)\", \"dash\": \"solid\", \"shape\": \"linear\", \"width\": 1.3}, \"marker\": {\"size\": 2, \"symbol\": \"circle\"}, \"mode\": \"markers\", \"name\": \"D\", \"text\": \"\", \"type\": \"scatter\", \"x\": [1.3805021359727088, 0.6876562345194515, 1.744426205438441, 1.3482770883045914, -0.634248067300063, -0.034294271166742524, 0.08697205812033731, 0.18165054261005958, -0.4947130519966682, 1.1926577197445511, -0.20717482602811665, -2.5133130507450065, 0.5849565071647904, -1.1419275913432483, -1.0989250107348194, -0.7187949424743807, -0.4925908219897006, -0.8053500686902227, 1.3214954358061495, 0.650458182102288, 0.7831813622092171, 0.07498582897569142, 0.6523450877465203, -0.5783833322107474, 0.31063691916746256, 0.5339759772715772, -0.9341694521216017, 0.1636579101222258, 0.7914756036817695, 0.14946115975322116, 1.655598160883892, 0.7246961444793382, -1.2954830292755444, 0.9695475826517964, -0.2964187051363097, 2.7033995079178443, -0.38178103307087197, 1.1295086160797756, 1.527880017753105, 0.905536015852373, 0.29805175373631065, -0.5754351908083993, 0.29082064681038583, 0.7586137695438394, 1.1349899407660182, 0.6717992725911085, -0.31428779368983534, -0.18220919871777175, 2.1597698090177797, -1.419379997025609, -0.8461014276372388, 0.41864875994912204, 0.8148702380518698, 0.019606695965507532, -1.1837488988129978, 1.1806831481053504, -0.6107919824591864, -0.23111979494516535, -0.9367596799948575, -1.6339807125647547, -1.8372441832889166, 2.5168011421762055, -1.5382411271982206, 0.6254374573450555, -0.29144223018409665, 0.25280094962187494, 0.9341401560731483, 0.4593226701114746, 0.37090012110200604, 2.5485602361509896, -0.2384223669142262, -1.4965726279770937, -0.9143776712501855, 0.6240127588983286, 0.9349261687864068, 1.1302133290065983, -1.9122547142011879, 2.1612111542650148, -1.170401489694811, 1.4844344274345278, 0.425068571796391, 1.0836427308909355, -1.2092550831621383, -0.05373370286349067, -2.329782253481326, 0.9931882640309181, -0.7440493223711631, -0.8690298054021338, -1.3870236796099518, -0.235118566464218, -0.804128615713205, -2.091537810580936, 0.566865783198684, -1.511924883938343, -0.9600094189448816, -0.382769475864104, -0.43678813895890783, 1.4503730185316464, -1.1598452079499255, 0.0007072242767753852], \"xaxis\": \"x14\", \"y\": [-0.07556542121134661, -0.8183199405961011, 1.0334465082732396, -0.6227025938080888, 1.0269451234814744, -1.4309440691028066, 0.33382525333472135, -0.5136943526846811, -0.5726578044637678, -0.054700614757421294, 0.39304570327098487, 0.3450187319889111, 0.37165748052730874, -1.8451143641223184, -0.4346916643049665, 0.9695803086428616, -1.6238583650473877, 0.2091847975870636, -0.8616799361749952, -0.10957913893920151, -0.12991941745315264, 0.6850137018573873, 1.622744931697246, 1.5593626147438386, -1.723786366407721, 0.7329715508939461, 0.39831664748170265, 0.6686707918578688, 0.6765077152561568, -0.590645496453386, 0.34677385573121666, 0.4118791766192136, -0.918647297548565, -1.3039209080506904, 0.521566084351569, -0.06386809916886285, 0.1125454802321883, 0.11329151851463924, 1.0070843116474493, -0.7922136552618687, -1.3660056671284202, 0.3919268139065681, -0.331535756662957, -0.8667660795218105, -1.0656226329031444, -1.1487653763192418, 0.720370537591933, 1.628532426776231, 1.4659105244650705, 0.4536789646423173, -0.3997028352902282, -0.4198680723019248, 0.3529676122922959, 1.3071481008776296, 0.05960064396185711, 0.5014756373675243, 1.6521531412089567, -1.241677422272562, 0.051155118852328846, 0.08146363202689737, -0.5998295036990625, 0.525297261397527, 1.1376606438237558, 0.49111046953841125, 0.5367638826505009, -0.9820432115922464, -0.3380444743033437, -1.0959616364064138, 0.14189700880993317, 1.2256553734534632, -0.899445236677122, -0.499149874869314, -0.2784621153768592, -1.784376134711761, -0.4050614240095866, 0.38175326989240105, 0.1530187742495216, -1.8230955543230376, 0.5210317367175072, 0.33271912972225115, -0.6718359237286943, 0.05927496248327188, -0.9979692802489852, -0.6366550887913068, -0.8977204330863173, -0.009478227360934864, 1.877269962066179, 0.10224615885828611, -1.10394498962729, 0.43485342230923235, 0.6471875563292759, -0.9417404984112272, 1.0126111565103906, -0.5197970022115806, 0.006351587203595149, -0.20772290117180742, 0.9375634333957914, 0.4581473343766965, -0.8169477360465902, 1.408231237100532], \"yaxis\": \"y14\"}, {\"line\": {\"color\": \"rgba(128, 128, 128, 1.0)\", \"dash\": \"solid\", \"shape\": \"linear\", \"width\": 1.3}, \"marker\": {\"size\": 2, \"symbol\": \"circle\"}, \"mode\": \"markers\", \"name\": \"D\", \"text\": \"\", \"type\": \"scatter\", \"x\": [-1.1315887482993132, -1.043249659417771, -1.9948531746772895, 1.795000966257885, -0.6439270205764843, -0.07599144992076311, -0.8620731306430194, 0.807821347431704, 0.1645823525494116, -0.49705555090732095, 0.11277695324474271, 0.13768702694255086, -0.49497335135905357, -0.37055686394093956, 0.3462421356520415, 0.19217855501706763, 0.6995582206408196, -0.37267108482119066, 1.9162749789438134, 1.7334988933452553, 1.251182443212679, -1.0327078702757677, -1.8831806648318619, -0.1731389197012337, 1.1906164559173318, -1.2376436879881365, 0.5512247370706185, -0.7773953390281098, -0.2145414159475325, 0.08160625235528286, -0.8013126367632013, -0.5169004564348985, 0.114578057733446, 0.2629355821748631, 0.1499105407004821, -1.2797422511235341, -0.2185907991829561, 1.5876256028774887, 1.844734348839343, -0.22537037743304106, -0.3577178964433195, 0.2852652075753454, -0.7957362488414707, 0.152228318070937, -0.8332063901430532, -0.14906978759205242, 2.033481598612253, 0.8060825170977222, 1.5810291360916122, 1.07858888313611, 0.2319701751978771, -0.1867491497701328, -0.7945408640583943, -0.9095698226185984, 0.8251905215614825, -0.8567655124673546, 0.18704912987968247, -0.15721637891871143, 1.2721569476374628, -0.19037233012862115, -0.96458609763036, 1.410741547617211, -1.451864911072176, -0.9675044690625731, -0.7917168423644747, -1.072796793830219, -1.0900923925783632, 0.9391138095792427, 1.1763217705881877, -0.28819859093464983, -0.5828980206044104, 1.4744624076749038, 0.03650023059250771, 0.43319878637361814, -0.34457754693362536, 0.19754823018576603, -0.26991096377234675, 2.6272817860367486, 0.634965451155606, 1.7191188241692776, -0.3311344208925331, 0.7573677922867134, 1.5592178010488686, -1.9237045548603335, 0.4273812145391577, -0.9038966093651511, 1.0095634019675388, 1.233815706015572, -0.5267712715038746, -2.1175558308537017, -0.6526419662081552, -0.4670849734778064, -0.7368599515217935, -0.6893478170257809, -0.20668010608459114, -2.405150714008861, 0.7082636710161015, 0.4311521595364321, -0.07251010714992599, -1.7006410114857302], \"xaxis\": \"x15\", \"y\": [-0.07556542121134661, -0.8183199405961011, 1.0334465082732396, -0.6227025938080888, 1.0269451234814744, -1.4309440691028066, 0.33382525333472135, -0.5136943526846811, -0.5726578044637678, -0.054700614757421294, 0.39304570327098487, 0.3450187319889111, 0.37165748052730874, -1.8451143641223184, -0.4346916643049665, 0.9695803086428616, -1.6238583650473877, 0.2091847975870636, -0.8616799361749952, -0.10957913893920151, -0.12991941745315264, 0.6850137018573873, 1.622744931697246, 1.5593626147438386, -1.723786366407721, 0.7329715508939461, 0.39831664748170265, 0.6686707918578688, 0.6765077152561568, -0.590645496453386, 0.34677385573121666, 0.4118791766192136, -0.918647297548565, -1.3039209080506904, 0.521566084351569, -0.06386809916886285, 0.1125454802321883, 0.11329151851463924, 1.0070843116474493, -0.7922136552618687, -1.3660056671284202, 0.3919268139065681, -0.331535756662957, -0.8667660795218105, -1.0656226329031444, -1.1487653763192418, 0.720370537591933, 1.628532426776231, 1.4659105244650705, 0.4536789646423173, -0.3997028352902282, -0.4198680723019248, 0.3529676122922959, 1.3071481008776296, 0.05960064396185711, 0.5014756373675243, 1.6521531412089567, -1.241677422272562, 0.051155118852328846, 0.08146363202689737, -0.5998295036990625, 0.525297261397527, 1.1376606438237558, 0.49111046953841125, 0.5367638826505009, -0.9820432115922464, -0.3380444743033437, -1.0959616364064138, 0.14189700880993317, 1.2256553734534632, -0.899445236677122, -0.499149874869314, -0.2784621153768592, -1.784376134711761, -0.4050614240095866, 0.38175326989240105, 0.1530187742495216, -1.8230955543230376, 0.5210317367175072, 0.33271912972225115, -0.6718359237286943, 0.05927496248327188, -0.9979692802489852, -0.6366550887913068, -0.8977204330863173, -0.009478227360934864, 1.877269962066179, 0.10224615885828611, -1.10394498962729, 0.43485342230923235, 0.6471875563292759, -0.9417404984112272, 1.0126111565103906, -0.5197970022115806, 0.006351587203595149, -0.20772290117180742, 0.9375634333957914, 0.4581473343766965, -0.8169477360465902, 1.408231237100532], \"yaxis\": \"y15\"}, {\"histfunc\": \"count\", \"histnorm\": \"\", \"marker\": {\"color\": \"rgba(128, 0, 128, 1.0)\", \"line\": {\"color\": \"#4D5663\", \"width\": 1.3}}, \"name\": \"D\", \"nbinsx\": 10, \"opacity\": 0.8, \"orientation\": \"v\", \"type\": \"histogram\", \"x\": [-0.07556542121134661, -0.8183199405961011, 1.0334465082732396, -0.6227025938080888, 1.0269451234814744, -1.4309440691028066, 0.33382525333472135, -0.5136943526846811, -0.5726578044637678, -0.054700614757421294, 0.39304570327098487, 0.3450187319889111, 0.37165748052730874, -1.8451143641223184, -0.4346916643049665, 0.9695803086428616, -1.6238583650473877, 0.2091847975870636, -0.8616799361749952, -0.10957913893920151, -0.12991941745315264, 0.6850137018573873, 1.622744931697246, 1.5593626147438386, -1.723786366407721, 0.7329715508939461, 0.39831664748170265, 0.6686707918578688, 0.6765077152561568, -0.590645496453386, 0.34677385573121666, 0.4118791766192136, -0.918647297548565, -1.3039209080506904, 0.521566084351569, -0.06386809916886285, 0.1125454802321883, 0.11329151851463924, 1.0070843116474493, -0.7922136552618687, -1.3660056671284202, 0.3919268139065681, -0.331535756662957, -0.8667660795218105, -1.0656226329031444, -1.1487653763192418, 0.720370537591933, 1.628532426776231, 1.4659105244650705, 0.4536789646423173, -0.3997028352902282, -0.4198680723019248, 0.3529676122922959, 1.3071481008776296, 0.05960064396185711, 0.5014756373675243, 1.6521531412089567, -1.241677422272562, 0.051155118852328846, 0.08146363202689737, -0.5998295036990625, 0.525297261397527, 1.1376606438237558, 0.49111046953841125, 0.5367638826505009, -0.9820432115922464, -0.3380444743033437, -1.0959616364064138, 0.14189700880993317, 1.2256553734534632, -0.899445236677122, -0.499149874869314, -0.2784621153768592, -1.784376134711761, -0.4050614240095866, 0.38175326989240105, 0.1530187742495216, -1.8230955543230376, 0.5210317367175072, 0.33271912972225115, -0.6718359237286943, 0.05927496248327188, -0.9979692802489852, -0.6366550887913068, -0.8977204330863173, -0.009478227360934864, 1.877269962066179, 0.10224615885828611, -1.10394498962729, 0.43485342230923235, 0.6471875563292759, -0.9417404984112272, 1.0126111565103906, -0.5197970022115806, 0.006351587203595149, -0.20772290117180742, 0.9375634333957914, 0.4581473343766965, -0.8169477360465902, 1.408231237100532], \"xaxis\": \"x16\", \"yaxis\": \"y16\"}],\n",
       "                        {\"bargap\": 0.02, \"legend\": {\"bgcolor\": \"#F5F6F9\", \"font\": {\"color\": \"#4D5663\"}}, \"paper_bgcolor\": \"#F5F6F9\", \"plot_bgcolor\": \"#F5F6F9\", \"showlegend\": false, \"template\": {\"data\": {\"bar\": [{\"error_x\": {\"color\": \"#2a3f5f\"}, \"error_y\": {\"color\": \"#2a3f5f\"}, \"marker\": {\"line\": {\"color\": \"#E5ECF6\", \"width\": 0.5}}, \"type\": \"bar\"}], \"barpolar\": [{\"marker\": {\"line\": {\"color\": \"#E5ECF6\", \"width\": 0.5}}, \"type\": \"barpolar\"}], \"carpet\": [{\"aaxis\": {\"endlinecolor\": \"#2a3f5f\", \"gridcolor\": \"white\", \"linecolor\": \"white\", \"minorgridcolor\": \"white\", \"startlinecolor\": \"#2a3f5f\"}, \"baxis\": {\"endlinecolor\": \"#2a3f5f\", \"gridcolor\": \"white\", \"linecolor\": \"white\", \"minorgridcolor\": \"white\", \"startlinecolor\": \"#2a3f5f\"}, \"type\": \"carpet\"}], \"choropleth\": [{\"colorbar\": {\"outlinewidth\": 0, \"ticks\": \"\"}, \"type\": \"choropleth\"}], \"contour\": [{\"colorbar\": {\"outlinewidth\": 0, \"ticks\": \"\"}, \"colorscale\": [[0.0, \"#0d0887\"], [0.1111111111111111, \"#46039f\"], [0.2222222222222222, \"#7201a8\"], [0.3333333333333333, \"#9c179e\"], [0.4444444444444444, \"#bd3786\"], [0.5555555555555556, \"#d8576b\"], [0.6666666666666666, \"#ed7953\"], [0.7777777777777778, \"#fb9f3a\"], [0.8888888888888888, \"#fdca26\"], [1.0, \"#f0f921\"]], \"type\": \"contour\"}], \"contourcarpet\": [{\"colorbar\": {\"outlinewidth\": 0, \"ticks\": \"\"}, \"type\": \"contourcarpet\"}], \"heatmap\": [{\"colorbar\": {\"outlinewidth\": 0, \"ticks\": \"\"}, \"colorscale\": [[0.0, \"#0d0887\"], [0.1111111111111111, \"#46039f\"], [0.2222222222222222, \"#7201a8\"], [0.3333333333333333, \"#9c179e\"], [0.4444444444444444, \"#bd3786\"], [0.5555555555555556, \"#d8576b\"], [0.6666666666666666, \"#ed7953\"], [0.7777777777777778, \"#fb9f3a\"], [0.8888888888888888, \"#fdca26\"], [1.0, \"#f0f921\"]], \"type\": \"heatmap\"}], \"heatmapgl\": [{\"colorbar\": {\"outlinewidth\": 0, \"ticks\": \"\"}, \"colorscale\": [[0.0, \"#0d0887\"], [0.1111111111111111, \"#46039f\"], [0.2222222222222222, \"#7201a8\"], [0.3333333333333333, \"#9c179e\"], [0.4444444444444444, \"#bd3786\"], [0.5555555555555556, \"#d8576b\"], [0.6666666666666666, \"#ed7953\"], [0.7777777777777778, \"#fb9f3a\"], [0.8888888888888888, \"#fdca26\"], [1.0, \"#f0f921\"]], \"type\": \"heatmapgl\"}], \"histogram\": [{\"marker\": {\"colorbar\": {\"outlinewidth\": 0, \"ticks\": \"\"}}, \"type\": \"histogram\"}], \"histogram2d\": [{\"colorbar\": {\"outlinewidth\": 0, \"ticks\": \"\"}, \"colorscale\": [[0.0, \"#0d0887\"], [0.1111111111111111, \"#46039f\"], [0.2222222222222222, \"#7201a8\"], [0.3333333333333333, \"#9c179e\"], [0.4444444444444444, \"#bd3786\"], [0.5555555555555556, \"#d8576b\"], [0.6666666666666666, \"#ed7953\"], [0.7777777777777778, \"#fb9f3a\"], [0.8888888888888888, \"#fdca26\"], [1.0, \"#f0f921\"]], \"type\": \"histogram2d\"}], \"histogram2dcontour\": [{\"colorbar\": {\"outlinewidth\": 0, \"ticks\": \"\"}, \"colorscale\": [[0.0, \"#0d0887\"], [0.1111111111111111, \"#46039f\"], [0.2222222222222222, \"#7201a8\"], [0.3333333333333333, \"#9c179e\"], [0.4444444444444444, \"#bd3786\"], [0.5555555555555556, \"#d8576b\"], [0.6666666666666666, \"#ed7953\"], [0.7777777777777778, \"#fb9f3a\"], [0.8888888888888888, \"#fdca26\"], [1.0, \"#f0f921\"]], \"type\": \"histogram2dcontour\"}], \"mesh3d\": [{\"colorbar\": {\"outlinewidth\": 0, \"ticks\": \"\"}, \"type\": \"mesh3d\"}], \"parcoords\": [{\"line\": {\"colorbar\": {\"outlinewidth\": 0, \"ticks\": \"\"}}, \"type\": \"parcoords\"}], \"pie\": [{\"automargin\": true, \"type\": \"pie\"}], \"scatter\": [{\"marker\": {\"colorbar\": {\"outlinewidth\": 0, \"ticks\": \"\"}}, \"type\": \"scatter\"}], \"scatter3d\": [{\"line\": {\"colorbar\": {\"outlinewidth\": 0, \"ticks\": \"\"}}, \"marker\": {\"colorbar\": {\"outlinewidth\": 0, \"ticks\": \"\"}}, \"type\": \"scatter3d\"}], \"scattercarpet\": [{\"marker\": {\"colorbar\": {\"outlinewidth\": 0, \"ticks\": \"\"}}, \"type\": \"scattercarpet\"}], \"scattergeo\": [{\"marker\": {\"colorbar\": {\"outlinewidth\": 0, \"ticks\": \"\"}}, \"type\": \"scattergeo\"}], \"scattergl\": [{\"marker\": {\"colorbar\": {\"outlinewidth\": 0, \"ticks\": \"\"}}, \"type\": \"scattergl\"}], \"scattermapbox\": [{\"marker\": {\"colorbar\": {\"outlinewidth\": 0, \"ticks\": \"\"}}, \"type\": \"scattermapbox\"}], \"scatterpolar\": [{\"marker\": {\"colorbar\": {\"outlinewidth\": 0, \"ticks\": \"\"}}, \"type\": \"scatterpolar\"}], \"scatterpolargl\": [{\"marker\": {\"colorbar\": {\"outlinewidth\": 0, \"ticks\": \"\"}}, \"type\": \"scatterpolargl\"}], \"scatterternary\": [{\"marker\": {\"colorbar\": {\"outlinewidth\": 0, \"ticks\": \"\"}}, \"type\": \"scatterternary\"}], \"surface\": [{\"colorbar\": {\"outlinewidth\": 0, \"ticks\": \"\"}, \"colorscale\": [[0.0, \"#0d0887\"], [0.1111111111111111, \"#46039f\"], [0.2222222222222222, \"#7201a8\"], [0.3333333333333333, \"#9c179e\"], [0.4444444444444444, \"#bd3786\"], [0.5555555555555556, \"#d8576b\"], [0.6666666666666666, \"#ed7953\"], [0.7777777777777778, \"#fb9f3a\"], [0.8888888888888888, \"#fdca26\"], [1.0, \"#f0f921\"]], \"type\": \"surface\"}], \"table\": [{\"cells\": {\"fill\": {\"color\": \"#EBF0F8\"}, \"line\": {\"color\": \"white\"}}, \"header\": {\"fill\": {\"color\": \"#C8D4E3\"}, \"line\": {\"color\": \"white\"}}, \"type\": \"table\"}]}, \"layout\": {\"annotationdefaults\": {\"arrowcolor\": \"#2a3f5f\", \"arrowhead\": 0, \"arrowwidth\": 1}, \"coloraxis\": {\"colorbar\": {\"outlinewidth\": 0, \"ticks\": \"\"}}, \"colorscale\": {\"diverging\": [[0, \"#8e0152\"], [0.1, \"#c51b7d\"], [0.2, \"#de77ae\"], [0.3, \"#f1b6da\"], [0.4, \"#fde0ef\"], [0.5, \"#f7f7f7\"], [0.6, \"#e6f5d0\"], [0.7, \"#b8e186\"], [0.8, \"#7fbc41\"], [0.9, \"#4d9221\"], [1, \"#276419\"]], \"sequential\": [[0.0, \"#0d0887\"], [0.1111111111111111, \"#46039f\"], [0.2222222222222222, \"#7201a8\"], [0.3333333333333333, \"#9c179e\"], [0.4444444444444444, \"#bd3786\"], [0.5555555555555556, \"#d8576b\"], [0.6666666666666666, \"#ed7953\"], [0.7777777777777778, \"#fb9f3a\"], [0.8888888888888888, \"#fdca26\"], [1.0, \"#f0f921\"]], \"sequentialminus\": [[0.0, \"#0d0887\"], [0.1111111111111111, \"#46039f\"], [0.2222222222222222, \"#7201a8\"], [0.3333333333333333, \"#9c179e\"], [0.4444444444444444, \"#bd3786\"], [0.5555555555555556, \"#d8576b\"], [0.6666666666666666, \"#ed7953\"], [0.7777777777777778, \"#fb9f3a\"], [0.8888888888888888, \"#fdca26\"], [1.0, \"#f0f921\"]]}, \"colorway\": [\"#636efa\", \"#EF553B\", \"#00cc96\", \"#ab63fa\", \"#FFA15A\", \"#19d3f3\", \"#FF6692\", \"#B6E880\", \"#FF97FF\", \"#FECB52\"], \"font\": {\"color\": \"#2a3f5f\"}, \"geo\": {\"bgcolor\": \"white\", \"lakecolor\": \"white\", \"landcolor\": \"#E5ECF6\", \"showlakes\": true, \"showland\": true, \"subunitcolor\": \"white\"}, \"hoverlabel\": {\"align\": \"left\"}, \"hovermode\": \"closest\", \"mapbox\": {\"style\": \"light\"}, \"paper_bgcolor\": \"white\", \"plot_bgcolor\": \"#E5ECF6\", \"polar\": {\"angularaxis\": {\"gridcolor\": \"white\", \"linecolor\": \"white\", \"ticks\": \"\"}, \"bgcolor\": \"#E5ECF6\", \"radialaxis\": {\"gridcolor\": \"white\", \"linecolor\": \"white\", \"ticks\": \"\"}}, \"scene\": {\"xaxis\": {\"backgroundcolor\": \"#E5ECF6\", \"gridcolor\": \"white\", \"gridwidth\": 2, \"linecolor\": \"white\", \"showbackground\": true, \"ticks\": \"\", \"zerolinecolor\": \"white\"}, \"yaxis\": {\"backgroundcolor\": \"#E5ECF6\", \"gridcolor\": \"white\", \"gridwidth\": 2, \"linecolor\": \"white\", \"showbackground\": true, \"ticks\": \"\", \"zerolinecolor\": \"white\"}, \"zaxis\": {\"backgroundcolor\": \"#E5ECF6\", \"gridcolor\": \"white\", \"gridwidth\": 2, \"linecolor\": \"white\", \"showbackground\": true, \"ticks\": \"\", \"zerolinecolor\": \"white\"}}, \"shapedefaults\": {\"line\": {\"color\": \"#2a3f5f\"}}, \"ternary\": {\"aaxis\": {\"gridcolor\": \"white\", \"linecolor\": \"white\", \"ticks\": \"\"}, \"baxis\": {\"gridcolor\": \"white\", \"linecolor\": \"white\", \"ticks\": \"\"}, \"bgcolor\": \"#E5ECF6\", \"caxis\": {\"gridcolor\": \"white\", \"linecolor\": \"white\", \"ticks\": \"\"}}, \"title\": {\"x\": 0.05}, \"xaxis\": {\"automargin\": true, \"gridcolor\": \"white\", \"linecolor\": \"white\", \"ticks\": \"\", \"title\": {\"standoff\": 15}, \"zerolinecolor\": \"white\", \"zerolinewidth\": 2}, \"yaxis\": {\"automargin\": true, \"gridcolor\": \"white\", \"linecolor\": \"white\", \"ticks\": \"\", \"title\": {\"standoff\": 15}, \"zerolinecolor\": \"white\", \"zerolinewidth\": 2}}}, \"title\": {\"font\": {\"color\": \"#4D5663\"}}, \"xaxis\": {\"anchor\": \"y\", \"domain\": [0.0, 0.2125], \"gridcolor\": \"#E1E5ED\", \"showgrid\": false, \"tickfont\": {\"color\": \"#4D5663\"}, \"title\": {\"font\": {\"color\": \"#4D5663\"}, \"text\": \"\"}, \"zerolinecolor\": \"#E1E5ED\"}, \"xaxis10\": {\"anchor\": \"y10\", \"domain\": [0.2625, 0.475], \"gridcolor\": \"#E1E5ED\", \"showgrid\": false, \"tickfont\": {\"color\": \"#4D5663\"}, \"title\": {\"font\": {\"color\": \"#4D5663\"}, \"text\": \"\"}, \"zerolinecolor\": \"#E1E5ED\"}, \"xaxis11\": {\"anchor\": \"y11\", \"domain\": [0.525, 0.7375], \"gridcolor\": \"#E1E5ED\", \"showgrid\": false, \"tickfont\": {\"color\": \"#4D5663\"}, \"title\": {\"font\": {\"color\": \"#4D5663\"}, \"text\": \"\"}, \"zerolinecolor\": \"#E1E5ED\"}, \"xaxis12\": {\"anchor\": \"y12\", \"domain\": [0.7875, 1.0], \"gridcolor\": \"#E1E5ED\", \"showgrid\": false, \"tickfont\": {\"color\": \"#4D5663\"}, \"title\": {\"font\": {\"color\": \"#4D5663\"}, \"text\": \"\"}, \"zerolinecolor\": \"#E1E5ED\"}, \"xaxis13\": {\"anchor\": \"y13\", \"domain\": [0.0, 0.2125], \"gridcolor\": \"#E1E5ED\", \"showgrid\": false, \"tickfont\": {\"color\": \"#4D5663\"}, \"title\": {\"font\": {\"color\": \"#4D5663\"}, \"text\": \"\"}, \"zerolinecolor\": \"#E1E5ED\"}, \"xaxis14\": {\"anchor\": \"y14\", \"domain\": [0.2625, 0.475], \"gridcolor\": \"#E1E5ED\", \"showgrid\": false, \"tickfont\": {\"color\": \"#4D5663\"}, \"title\": {\"font\": {\"color\": \"#4D5663\"}, \"text\": \"\"}, \"zerolinecolor\": \"#E1E5ED\"}, \"xaxis15\": {\"anchor\": \"y15\", \"domain\": [0.525, 0.7375], \"gridcolor\": \"#E1E5ED\", \"showgrid\": false, \"tickfont\": {\"color\": \"#4D5663\"}, \"title\": {\"font\": {\"color\": \"#4D5663\"}, \"text\": \"\"}, \"zerolinecolor\": \"#E1E5ED\"}, \"xaxis16\": {\"anchor\": \"y16\", \"domain\": [0.7875, 1.0], \"gridcolor\": \"#E1E5ED\", \"showgrid\": false, \"tickfont\": {\"color\": \"#4D5663\"}, \"title\": {\"font\": {\"color\": \"#4D5663\"}, \"text\": \"\"}, \"zerolinecolor\": \"#E1E5ED\"}, \"xaxis2\": {\"anchor\": \"y2\", \"domain\": [0.2625, 0.475], \"gridcolor\": \"#E1E5ED\", \"showgrid\": false, \"tickfont\": {\"color\": \"#4D5663\"}, \"title\": {\"font\": {\"color\": \"#4D5663\"}, \"text\": \"\"}, \"zerolinecolor\": \"#E1E5ED\"}, \"xaxis3\": {\"anchor\": \"y3\", \"domain\": [0.525, 0.7375], \"gridcolor\": \"#E1E5ED\", \"showgrid\": false, \"tickfont\": {\"color\": \"#4D5663\"}, \"title\": {\"font\": {\"color\": \"#4D5663\"}, \"text\": \"\"}, \"zerolinecolor\": \"#E1E5ED\"}, \"xaxis4\": {\"anchor\": \"y4\", \"domain\": [0.7875, 1.0], \"gridcolor\": \"#E1E5ED\", \"showgrid\": false, \"tickfont\": {\"color\": \"#4D5663\"}, \"title\": {\"font\": {\"color\": \"#4D5663\"}, \"text\": \"\"}, \"zerolinecolor\": \"#E1E5ED\"}, \"xaxis5\": {\"anchor\": \"y5\", \"domain\": [0.0, 0.2125], \"gridcolor\": \"#E1E5ED\", \"showgrid\": false, \"tickfont\": {\"color\": \"#4D5663\"}, \"title\": {\"font\": {\"color\": \"#4D5663\"}, \"text\": \"\"}, \"zerolinecolor\": \"#E1E5ED\"}, \"xaxis6\": {\"anchor\": \"y6\", \"domain\": [0.2625, 0.475], \"gridcolor\": \"#E1E5ED\", \"showgrid\": false, \"tickfont\": {\"color\": \"#4D5663\"}, \"title\": {\"font\": {\"color\": \"#4D5663\"}, \"text\": \"\"}, \"zerolinecolor\": \"#E1E5ED\"}, \"xaxis7\": {\"anchor\": \"y7\", \"domain\": [0.525, 0.7375], \"gridcolor\": \"#E1E5ED\", \"showgrid\": false, \"tickfont\": {\"color\": \"#4D5663\"}, \"title\": {\"font\": {\"color\": \"#4D5663\"}, \"text\": \"\"}, \"zerolinecolor\": \"#E1E5ED\"}, \"xaxis8\": {\"anchor\": \"y8\", \"domain\": [0.7875, 1.0], \"gridcolor\": \"#E1E5ED\", \"showgrid\": false, \"tickfont\": {\"color\": \"#4D5663\"}, \"title\": {\"font\": {\"color\": \"#4D5663\"}, \"text\": \"\"}, \"zerolinecolor\": \"#E1E5ED\"}, \"xaxis9\": {\"anchor\": \"y9\", \"domain\": [0.0, 0.2125], \"gridcolor\": \"#E1E5ED\", \"showgrid\": false, \"tickfont\": {\"color\": \"#4D5663\"}, \"title\": {\"font\": {\"color\": \"#4D5663\"}, \"text\": \"\"}, \"zerolinecolor\": \"#E1E5ED\"}, \"yaxis\": {\"anchor\": \"x\", \"domain\": [0.8025, 1.0], \"gridcolor\": \"#E1E5ED\", \"showgrid\": false, \"tickfont\": {\"color\": \"#4D5663\"}, \"title\": {\"font\": {\"color\": \"#4D5663\"}, \"text\": \"\"}, \"zerolinecolor\": \"#E1E5ED\"}, \"yaxis10\": {\"anchor\": \"x10\", \"domain\": [0.2675, 0.465], \"gridcolor\": \"#E1E5ED\", \"showgrid\": false, \"tickfont\": {\"color\": \"#4D5663\"}, \"title\": {\"font\": {\"color\": \"#4D5663\"}, \"text\": \"\"}, \"zerolinecolor\": \"#E1E5ED\"}, \"yaxis11\": {\"anchor\": \"x11\", \"domain\": [0.2675, 0.465], \"gridcolor\": \"#E1E5ED\", \"showgrid\": false, \"tickfont\": {\"color\": \"#4D5663\"}, \"title\": {\"font\": {\"color\": \"#4D5663\"}, \"text\": \"\"}, \"zerolinecolor\": \"#E1E5ED\"}, \"yaxis12\": {\"anchor\": \"x12\", \"domain\": [0.2675, 0.465], \"gridcolor\": \"#E1E5ED\", \"showgrid\": false, \"tickfont\": {\"color\": \"#4D5663\"}, \"title\": {\"font\": {\"color\": \"#4D5663\"}, \"text\": \"\"}, \"zerolinecolor\": \"#E1E5ED\"}, \"yaxis13\": {\"anchor\": \"x13\", \"domain\": [0.0, 0.1975], \"gridcolor\": \"#E1E5ED\", \"showgrid\": false, \"tickfont\": {\"color\": \"#4D5663\"}, \"title\": {\"font\": {\"color\": \"#4D5663\"}, \"text\": \"\"}, \"zerolinecolor\": \"#E1E5ED\"}, \"yaxis14\": {\"anchor\": \"x14\", \"domain\": [0.0, 0.1975], \"gridcolor\": \"#E1E5ED\", \"showgrid\": false, \"tickfont\": {\"color\": \"#4D5663\"}, \"title\": {\"font\": {\"color\": \"#4D5663\"}, \"text\": \"\"}, \"zerolinecolor\": \"#E1E5ED\"}, \"yaxis15\": {\"anchor\": \"x15\", \"domain\": [0.0, 0.1975], \"gridcolor\": \"#E1E5ED\", \"showgrid\": false, \"tickfont\": {\"color\": \"#4D5663\"}, \"title\": {\"font\": {\"color\": \"#4D5663\"}, \"text\": \"\"}, \"zerolinecolor\": \"#E1E5ED\"}, \"yaxis16\": {\"anchor\": \"x16\", \"domain\": [0.0, 0.1975], \"gridcolor\": \"#E1E5ED\", \"showgrid\": false, \"tickfont\": {\"color\": \"#4D5663\"}, \"title\": {\"font\": {\"color\": \"#4D5663\"}, \"text\": \"\"}, \"zerolinecolor\": \"#E1E5ED\"}, \"yaxis2\": {\"anchor\": \"x2\", \"domain\": [0.8025, 1.0], \"gridcolor\": \"#E1E5ED\", \"showgrid\": false, \"tickfont\": {\"color\": \"#4D5663\"}, \"title\": {\"font\": {\"color\": \"#4D5663\"}, \"text\": \"\"}, \"zerolinecolor\": \"#E1E5ED\"}, \"yaxis3\": {\"anchor\": \"x3\", \"domain\": [0.8025, 1.0], \"gridcolor\": \"#E1E5ED\", \"showgrid\": false, \"tickfont\": {\"color\": \"#4D5663\"}, \"title\": {\"font\": {\"color\": \"#4D5663\"}, \"text\": \"\"}, \"zerolinecolor\": \"#E1E5ED\"}, \"yaxis4\": {\"anchor\": \"x4\", \"domain\": [0.8025, 1.0], \"gridcolor\": \"#E1E5ED\", \"showgrid\": false, \"tickfont\": {\"color\": \"#4D5663\"}, \"title\": {\"font\": {\"color\": \"#4D5663\"}, \"text\": \"\"}, \"zerolinecolor\": \"#E1E5ED\"}, \"yaxis5\": {\"anchor\": \"x5\", \"domain\": [0.535, 0.7325], \"gridcolor\": \"#E1E5ED\", \"showgrid\": false, \"tickfont\": {\"color\": \"#4D5663\"}, \"title\": {\"font\": {\"color\": \"#4D5663\"}, \"text\": \"\"}, \"zerolinecolor\": \"#E1E5ED\"}, \"yaxis6\": {\"anchor\": \"x6\", \"domain\": [0.535, 0.7325], \"gridcolor\": \"#E1E5ED\", \"showgrid\": false, \"tickfont\": {\"color\": \"#4D5663\"}, \"title\": {\"font\": {\"color\": \"#4D5663\"}, \"text\": \"\"}, \"zerolinecolor\": \"#E1E5ED\"}, \"yaxis7\": {\"anchor\": \"x7\", \"domain\": [0.535, 0.7325], \"gridcolor\": \"#E1E5ED\", \"showgrid\": false, \"tickfont\": {\"color\": \"#4D5663\"}, \"title\": {\"font\": {\"color\": \"#4D5663\"}, \"text\": \"\"}, \"zerolinecolor\": \"#E1E5ED\"}, \"yaxis8\": {\"anchor\": \"x8\", \"domain\": [0.535, 0.7325], \"gridcolor\": \"#E1E5ED\", \"showgrid\": false, \"tickfont\": {\"color\": \"#4D5663\"}, \"title\": {\"font\": {\"color\": \"#4D5663\"}, \"text\": \"\"}, \"zerolinecolor\": \"#E1E5ED\"}, \"yaxis9\": {\"anchor\": \"x9\", \"domain\": [0.2675, 0.465], \"gridcolor\": \"#E1E5ED\", \"showgrid\": false, \"tickfont\": {\"color\": \"#4D5663\"}, \"title\": {\"font\": {\"color\": \"#4D5663\"}, \"text\": \"\"}, \"zerolinecolor\": \"#E1E5ED\"}},\n",
       "                        {\"showLink\": true, \"linkText\": \"Export to plot.ly\", \"plotlyServerURL\": \"https://plot.ly\", \"responsive\": true}\n",
       "                    ).then(function(){\n",
       "                            \n",
       "var gd = document.getElementById('d5b1c23a-7362-4e2d-bbf4-6b8821856004');\n",
       "var x = new MutationObserver(function (mutations, observer) {{\n",
       "        var display = window.getComputedStyle(gd).display;\n",
       "        if (!display || display === 'none') {{\n",
       "            console.log([gd, 'removed!']);\n",
       "            Plotly.purge(gd);\n",
       "            observer.disconnect();\n",
       "        }}\n",
       "}});\n",
       "\n",
       "// Listen for the removal of the full notebook cells\n",
       "var notebookContainer = gd.closest('#notebook-container');\n",
       "if (notebookContainer) {{\n",
       "    x.observe(notebookContainer, {childList: true});\n",
       "}}\n",
       "\n",
       "// Listen for the clearing of the current output cell\n",
       "var outputEl = gd.closest('.output');\n",
       "if (outputEl) {{\n",
       "    x.observe(outputEl, {childList: true});\n",
       "}}\n",
       "\n",
       "                        })\n",
       "                };\n",
       "                });\n",
       "            </script>\n",
       "        </div>"
      ]
     },
     "metadata": {},
     "output_type": "display_data"
    }
   ],
   "source": [
    "df.scatter_matrix()"
   ]
  },
  {
   "cell_type": "markdown",
   "metadata": {
    "collapsed": true
   },
   "source": [
    "# Great Job!"
   ]
  }
 ],
 "metadata": {
  "kernelspec": {
   "display_name": "Python 3",
   "language": "python",
   "name": "python3"
  },
  "language_info": {
   "codemirror_mode": {
    "name": "ipython",
    "version": 3
   },
   "file_extension": ".py",
   "mimetype": "text/x-python",
   "name": "python",
   "nbconvert_exporter": "python",
   "pygments_lexer": "ipython3",
   "version": "3.7.4"
  }
 },
 "nbformat": 4,
 "nbformat_minor": 1
}
